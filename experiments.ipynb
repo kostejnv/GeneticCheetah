{
 "cells": [
  {
   "attachments": {},
   "cell_type": "markdown",
   "metadata": {
    "collapsed": false
   },
   "source": [
    "# Experiments\n",
    "\n",
    "In this notebook, we will experiment with different settings of GA and different approaches how to simulate chetah's movement."
   ]
  },
  {
   "attachments": {},
   "cell_type": "markdown",
   "metadata": {
    "collapsed": false
   },
   "source": [
    "## Imports"
   ]
  },
  {
   "cell_type": "code",
   "execution_count": null,
   "metadata": {
    "collapsed": false
   },
   "outputs": [],
   "source": [
    "from evolution import Evolution\n",
    "from cheetah_laboratory import ClassicNNCheetahLab\n",
    "from arena import Arena\n",
    "import gymnasium as gym\n",
    "\n",
    "import plotly.express as px\n",
    "import numpy as np\n",
    "import pandas as pd\n",
    "import logging\n",
    "\n",
    "import pickle\n",
    "import os"
   ]
  },
  {
   "attachments": {},
   "cell_type": "markdown",
   "metadata": {
    "collapsed": false
   },
   "source": [
    "## Experiment 1 (Test implementation of GA)"
   ]
  },
  {
   "cell_type": "code",
   "execution_count": null,
   "metadata": {
    "collapsed": true
   },
   "outputs": [],
   "source": [
    "arena = Arena()\n",
    "cheetah_lab = ClassicNNCheetahLab([17, 10, 6])\n",
    "evolution = Evolution(cheetah_lab, arena)\n",
    "\n",
    "parameters = {\n",
    "    'num_generations': 50, # 10\n",
    "    'sol_per_pop': 10,\n",
    "    'num_parents_mating': 4,\n",
    "    'init_range_low': -2,\n",
    "    'init_range_high': 5,\n",
    "    'parent_selection_type': 'sss',\n",
    "    'keep_parents': 1,\n",
    "    'crossover_type': 'single_point',\n",
    "    'mutation_type': 'random',\n",
    "    'mutation_percent_genes': 10,\n",
    "}\n",
    "\n",
    "default_parameters = parameters.copy()\n",
    "\n",
    "evolution.run_evolution(parameters)\n",
    "evolution.plot_fitness()"
   ]
  },
  {
   "cell_type": "code",
   "execution_count": null,
   "metadata": {},
   "outputs": [],
   "source": [
    "# evolution.simulate_best()"
   ]
  },
  {
   "attachments": {},
   "cell_type": "markdown",
   "metadata": {},
   "source": [
    "## List of tests:\n",
    "- Depth/Width comparison - Max Fitness heatmap\n",
    "    - X-axis - width (number of neurons in one layer)\n",
    "    - Y-axis - depth (number of layers)\n",
    "    - *NOTE:* total number of neurons should be aproximately the same.\n",
    "- Activation function (final activation function is always tahn)\n",
    "    - logsig\n",
    "    - tanh\n",
    "    - relu\n",
    "- Pickup the best choices altogether and compare if more generations are better or bigger population in each generation. (*NOTE:* number of individuals should stay the same)"
   ]
  },
  {
   "attachments": {},
   "cell_type": "markdown",
   "metadata": {},
   "source": [
    "# Tests"
   ]
  },
  {
   "cell_type": "code",
   "execution_count": null,
   "metadata": {},
   "outputs": [],
   "source": [
    "arena = Arena()\n",
    "logger = logging.basicConfig(filename='log.log', encoding='utf-8', level=logging.DEBUG) # None\n",
    "# use logger = None for printing info into terminal \n",
    "\n",
    "default_parameters = {\n",
    "    'num_generations': 10,\n",
    "    'sol_per_pop': 10,\n",
    "    'num_parents_mating': 4,\n",
    "    'init_range_low': -2,\n",
    "    'init_range_high': 5,\n",
    "    'parent_selection_type': 'sss',\n",
    "    'keep_parents': 1,\n",
    "    'crossover_type': 'single_point',\n",
    "    'mutation_type': 'random',\n",
    "    'mutation_percent_genes': 10,\n",
    "    \"logger\": logger,\n",
    "}"
   ]
  },
  {
   "attachments": {},
   "cell_type": "markdown",
   "metadata": {},
   "source": [
    "### Depth/Width comparison"
   ]
  },
  {
   "cell_type": "code",
   "execution_count": null,
   "metadata": {},
   "outputs": [],
   "source": [
    "def evolution_heatmap(x_axis, y_axis, parameters=default_parameters, iterations=5, actv_func=None, steps=100):\n",
    "    width, depth = x_axis, y_axis\n",
    "\n",
    "    best_solutions = [([None] * len(depth)) for _ in range(len(width))]\n",
    "    best_solution_fitness = [([None] * len(depth)) for _ in range(len(width))] # copy empty list with correct shape\n",
    "\n",
    "    try:\n",
    "        for x, w in enumerate(width):\n",
    "            for y, d in enumerate(depth):\n",
    "                hidden = [w]*d\n",
    "                cheetah_lab = ClassicNNCheetahLab([17, *hidden, 6], actv_func)\n",
    "                solution = list()\n",
    "                fitness = list()\n",
    "\n",
    "                for _ in range(iterations):\n",
    "                    evolution = Evolution(cheetah_lab, arena, steps)\n",
    "                    _ = evolution.run_evolution(parameters)\n",
    "\n",
    "                    s, f, _ = evolution.get_best_solutions()\n",
    "                    solution.append(s)\n",
    "                    fitness.append(f)\n",
    "                    \n",
    "                best_solutions[x][y] = solution\n",
    "                best_solution_fitness[x][y] = fitness\n",
    "    finally:\n",
    "        return best_solutions, best_solution_fitness\n"
   ]
  },
  {
   "cell_type": "code",
   "execution_count": null,
   "metadata": {},
   "outputs": [],
   "source": [
    "file_name = \"solutions_and_fitness_w2_15_3__d1_6_iter5.pkl\"\n",
    "width = list(range(2, 15, 3)) # list((5,10,15))\n",
    "depth = list(range(1,6)) # list((1,2,3))\n",
    "parameters = default_parameters.copy() # not necessary - used only for heatmap title\n",
    "\n",
    "if os.path.isfile(file_name):\n",
    "    with open('solutions_and_fitness_w2_15_3__d1_6_iter5.pkl','rb') as f:\n",
    "        (best_solutions, best_solution_fitness) = pickle.load(f)\n",
    "else:\n",
    "    best_solutions, best_solution_fitness = evolution_heatmap(width, depth, iterations=5)"
   ]
  },
  {
   "cell_type": "code",
   "execution_count": null,
   "metadata": {},
   "outputs": [],
   "source": [
    "# with open('new_solutions_and_fitness_w2_15_3__d1_6_iter5.pkl','wb') as f:\n",
    "#     pickle.dump((best_solutions, best_solution_fitness), f)"
   ]
  },
  {
   "cell_type": "code",
   "execution_count": null,
   "metadata": {},
   "outputs": [],
   "source": [
    "fitness = np.mean(np.array(best_solution_fitness), axis=2)\n",
    "\n",
    "df = px.data.medals_wide(indexed=True)\n",
    "fig = px.imshow(\n",
    "    fitness.T,\n",
    "    title=\"Width/Depth comparison of best individual in {} generations\".format(parameters[\"num_generations\"]),\n",
    "    labels=dict(x=\"NN width\", y=\"NN depth\", color=\"Fitness\"),\n",
    "    x=list(map(str,width)), \n",
    "    y=list(map(str,depth)),\n",
    "    color_continuous_scale=px.colors.sequential.Viridis,\n",
    ")\n",
    "fig.show()"
   ]
  },
  {
   "cell_type": "code",
   "execution_count": null,
   "metadata": {},
   "outputs": [],
   "source": [
    "width = list()\n",
    "depth = list(range(1,6))\n",
    "\n",
    "parameters = default_parameters.copy()\n",
    "parameters[\"num_generations\"] = 50\n",
    "\n",
    "best_solutions, best_solution_fitness = evolution_heatmap(width, depth, iterations=5)"
   ]
  },
  {
   "cell_type": "code",
   "execution_count": null,
   "metadata": {},
   "outputs": [],
   "source": [
    "fitness = np.mean(np.array(best_solution_fitness), axis=2)\n",
    "\n",
    "df = px.data.medals_wide(indexed=True)\n",
    "fig = px.imshow(\n",
    "    fitness.T,\n",
    "    title=\"Width/Depth comparison of best individual in {} generations\".format(parameters[\"num_generations\"]),\n",
    "    labels=dict(x=\"NN width\", y=\"NN depth\", color=\"Fitness\"),\n",
    "    x=list(map(str,width)), \n",
    "    y=list(map(str,depth)),\n",
    "    color_continuous_scale=px.colors.sequential.Viridis,\n",
    ")\n",
    "fig.show()"
   ]
  },
  {
   "cell_type": "code",
   "execution_count": null,
   "metadata": {},
   "outputs": [],
   "source": [
    "best_cheetah = ClassicNNCheetahLab([17, 5, 6])\n",
    "genom_length = best_cheetah.get_genom_length()\n",
    "print(\"Size of genom: \", genom_length)"
   ]
  },
  {
   "attachments": {},
   "cell_type": "markdown",
   "metadata": {},
   "source": [
    "## Simulation"
   ]
  },
  {
   "cell_type": "code",
   "execution_count": null,
   "metadata": {},
   "outputs": [],
   "source": [
    "fitness = np.array(best_solution_fitness)\n",
    "solutions = best_solutions\n",
    "\n",
    "idx = np.unravel_index(np.argmax(fitness), fitness.shape)  # returns a tuple\n",
    "best = solutions[idx[0]][idx[1]][idx[2]]\n",
    "w, d, f =  width[idx[0]], depth[idx[1]], None\n",
    "\n",
    "hidden = [w]*d\n",
    "\n",
    "cheetah_lab = ClassicNNCheetahLab([17, *hidden, 6], f)\n",
    "evolution.simulate(\n",
    "    best,\n",
    "    cheetah_lab\n",
    ")\n"
   ]
  },
  {
   "attachments": {},
   "cell_type": "markdown",
   "metadata": {},
   "source": [
    "### Activation functions"
   ]
  },
  {
   "cell_type": "code",
   "execution_count": null,
   "metadata": {},
   "outputs": [],
   "source": [
    "actv_func = {\n",
    "    \"tanh\": np.tanh,\n",
    "    \"relu\": np.vectorize(lambda x: np.maximum(0, x)),\n",
    "    \"logsig\": None # default\n",
    "}"
   ]
  },
  {
   "cell_type": "code",
   "execution_count": null,
   "metadata": {},
   "outputs": [],
   "source": [
    "width = [2,5,8]\n",
    "# width = [10]\n",
    "depth = [1]\n",
    " \n",
    "assert len(width) == 1 or len(depth) == 1, \"at least one dimension must have only one value\" # Must be 1D for boxplots\n",
    "\n",
    "parameters = default_parameters.copy()\n",
    "parameters[\"num_generations\"] = 25 # 50"
   ]
  },
  {
   "cell_type": "code",
   "execution_count": null,
   "metadata": {},
   "outputs": [],
   "source": [
    "use_depth = len(width) == 1\n",
    "\n",
    "if use_depth:\n",
    "    axis = 0\n",
    "    label = \"depth\"\n",
    "else:\n",
    "    axis = 1\n",
    "    label = \"width\"\n",
    "\n",
    "all_solutions = list()\n",
    "pre_df = list()\n",
    "\n",
    "try:\n",
    "    for name, func in actv_func.items():\n",
    "        print(\"---------- Iteration ---------\")\n",
    "        best_solutions, best_solution_fitness = evolution_heatmap(width, depth, iterations=5, actv_func=func, steps=200)\n",
    "        all_solutions.append(best_solutions)\n",
    "\n",
    "        fitness = np.squeeze(np.array(best_solution_fitness), axis=axis)# delete  \n",
    "        \n",
    "        for s, fits in zip((depth if use_depth else width), fitness):\n",
    "            pre_df += [(name, str(s), fit) for fit in fits]\n",
    "\n",
    "finally:\n",
    "    df = pd.DataFrame(pre_df, columns=[\"function\", label, \"fitness\"])\n"
   ]
  },
  {
   "cell_type": "code",
   "execution_count": null,
   "metadata": {},
   "outputs": [],
   "source": [
    "fig = px.box(df, y=\"fitness\", x=label, color=\"function\", points=\"all\", orientation='v',\n",
    "             title=\"Fitness dispersion based on NN depth and activation function of hidden layers\")\n",
    "fig.show()"
   ]
  },
  {
   "cell_type": "code",
   "execution_count": null,
   "metadata": {},
   "outputs": [],
   "source": [
    "fig = px.box(df, y=\"fitness\", x=\"function\", points=\"all\", orientation='v',\n",
    "             title=\"Fitness dispersion based on activation function in hidden layers ({} = {}, all sizes combined)\".format(label, width[0] if use_depth else depth))\n",
    "fig.show()"
   ]
  },
  {
   "cell_type": "code",
   "execution_count": null,
   "metadata": {},
   "outputs": [],
   "source": [
    "para_name = \"new_actv_func_df_w2w5w8_d1_iter5_step200\"\n",
    "df.to_csv(para_name+'.csv')\n",
    "with open(para_name+'.pkl','wb') as f:\n",
    "    pickle.dump(all_solutions, f)"
   ]
  },
  {
   "cell_type": "code",
   "execution_count": null,
   "metadata": {},
   "outputs": [],
   "source": []
  },
  {
   "attachments": {},
   "cell_type": "markdown",
   "metadata": {},
   "source": [
    "## Generation/Population Comparison"
   ]
  },
  {
   "attachments": {},
   "cell_type": "markdown",
   "metadata": {},
   "source": [
    "#### Relu with width 5 and depth 1"
   ]
  },
  {
   "cell_type": "code",
   "execution_count": null,
   "metadata": {},
   "outputs": [],
   "source": [
    "def generation_heatmap(popgen, cheetah_lab, parameters=default_parameters, iterations=1, actv_func=None, steps=100):\n",
    "\n",
    "    best_solutions = [([None] * len(depth)) for _ in range(len(width))]\n",
    "    best_solution_fitness = [([None] * len(depth)) for _ in range(len(width))] \n",
    "\n",
    "    try:\n",
    "        for i, (p, g) in enumerate(popgen):\n",
    "            parameters[\"num_generations\"] = g\n",
    "            parameters[\"sol_per_pop\"] = p\n",
    "\n",
    "            solution = list()\n",
    "            fitness = list()\n",
    "\n",
    "            for _ in range(iterations):\n",
    "                evolution = Evolution(cheetah_lab, arena, steps)\n",
    "                _ = evolution.run_evolution(parameters)\n",
    "\n",
    "                s, f, _ = evolution.get_best_solutions()\n",
    "                solution.append(s)\n",
    "                fitness.append(f)\n",
    "                \n",
    "            best_solutions[i] = solution\n",
    "            best_solution_fitness[i] = fitness\n",
    "            \n",
    "    finally:\n",
    "        return best_solutions, best_solution_fitness\n"
   ]
  },
  {
   "cell_type": "code",
   "execution_count": null,
   "metadata": {},
   "outputs": [],
   "source": [
    "cheetah_lab = ClassicNNCheetahLab([17, 5, 6], actv_func[\"relu\"])\n",
    "\n",
    "popgen = [\n",
    "    (100,  10),\n",
    "    ( 50,  20),\n",
    "    # ( 25,  40),\n",
    "    # ( 10, 100),\n",
    "]\n",
    "\n",
    "solutions_gen, fitness_gen = generation_heatmap(popgen, cheetah_lab, steps=1)"
   ]
  },
  {
   "cell_type": "code",
   "execution_count": null,
   "metadata": {},
   "outputs": [],
   "source": [
    "para_name = \"new_popgen_NN17-5-6_pg100-10_50_20_relu_steps1\"\n",
    "with open(para_name+'.pkl','wb') as f:\n",
    "    pickle.dump((solutions_gen, fitness_gen), f)"
   ]
  },
  {
   "cell_type": "code",
   "execution_count": null,
   "metadata": {},
   "outputs": [],
   "source": [
    "predf = list()\n",
    "\n",
    "for s, fits in zip(popgen, fitness_gen):\n",
    "    \n",
    "    predf += [(s[0], s[1], \"({}, {})\".format(*s), fit) for fit in fits]\n",
    "\n",
    "df = pd.DataFrame(predf, columns=(\"population\", \"generation\", \"popgen\", \"fitness\"))\n",
    "\n",
    "fig = px.box(df, y=\"fitness\", x=\"popgen\", points=\"all\", orientation='v',\n",
    "             title=\"Fitness dispersion based on population-size and number of genearation ratio\".format(label, width[0] if use_depth else depth))\n",
    "fig.show()"
   ]
  },
  {
   "attachments": {},
   "cell_type": "markdown",
   "metadata": {},
   "source": [
    "- Test 2 "
   ]
  },
  {
   "cell_type": "code",
   "execution_count": null,
   "metadata": {},
   "outputs": [],
   "source": [
    "cheetah_lab = ClassicNNCheetahLab([17, 5, 6], actv_func[\"relu\"])\n",
    "\n",
    "popgen = [\n",
    "    ( 50,  10),\n",
    "    ( 25,  20),\n",
    "    ( 10, 50),\n",
    "]\n",
    "\n",
    "solutions_gen, fitness_gen = generation_heatmap(popgen, cheetah_lab, steps=200)\n",
    "\n",
    "para_name = \"popgen_NN17-5-6_pg50-10_25-20_10-50_relu_steps200\"\n",
    "with open(para_name+'.pkl','wb') as f:\n",
    "    pickle.dump((solutions_gen, fitness_gen), f)"
   ]
  },
  {
   "cell_type": "code",
   "execution_count": null,
   "metadata": {},
   "outputs": [],
   "source": [
    "predf = list()\n",
    "\n",
    "for s, fits in zip(popgen, fitness_gen):\n",
    "    \n",
    "    predf += [(s[0], s[1], \"({}, {})\".format(*s), fit) for fit in fits]\n",
    "\n",
    "df = pd.DataFrame(predf, columns=(\"population\", \"generation\", \"popgen\", \"fitness\"))\n",
    "\n",
    "fig = px.box(df, y=\"fitness\", x=\"popgen\", points=\"all\", orientation='v',\n",
    "             title=\"Fitness dispersion based on population-size and number of genearation ratio\".format(label, width[0] if use_depth else depth))\n",
    "fig.show()"
   ]
  },
  {
   "attachments": {},
   "cell_type": "markdown",
   "metadata": {},
   "source": [
    "- Test 3"
   ]
  },
  {
   "cell_type": "code",
   "execution_count": null,
   "metadata": {},
   "outputs": [],
   "source": [
    "cheetah_lab = ClassicNNCheetahLab([17, 5, 6], actv_func[\"tanh\"])\n",
    "\n",
    "popgen = [\n",
    "    (100,   10),\n",
    "    ( 50,   20),\n",
    "    ( 10,  100),\n",
    "]\n",
    "\n",
    "solutions_gen, fitness_gen = generation_heatmap(popgen, cheetah_lab, steps=250, iterations=10)\n",
    "\n",
    "para_name = \"popgen_NN17-5-6_pg100-10_50-20_10-100_tanh_steps250\"\n",
    "with open(para_name+'.pkl','wb') as f:\n",
    "    pickle.dump((solutions_gen, fitness_gen), f)"
   ]
  },
  {
   "cell_type": "code",
   "execution_count": null,
   "metadata": {},
   "outputs": [],
   "source": [
    "predf = list()\n",
    "\n",
    "for s, fits in zip(popgen, fitness_gen):\n",
    "    \n",
    "    predf += [(s[0], s[1], \"({}, {})\".format(*s), fit) for fit in fits]\n",
    "\n",
    "df = pd.DataFrame(predf, columns=(\"population\", \"generation\", \"popgen\", \"fitness\"))\n",
    "\n",
    "fig = px.box(df, y=\"fitness\", x=\"popgen\", points=\"all\", orientation='v',\n",
    "             title=\"Fitness dispersion based on population-size and number of genearation ratio\".format(label, width[0] if use_depth else depth))\n",
    "fig.show()"
   ]
  },
  {
   "cell_type": "code",
   "execution_count": null,
   "metadata": {},
   "outputs": [],
   "source": []
  }
 ],
 "metadata": {
  "kernelspec": {
   "display_name": "Python 3",
   "language": "python",
   "name": "python3"
  },
  "language_info": {
   "codemirror_mode": {
    "name": "ipython",
    "version": 3
   },
   "file_extension": ".py",
   "mimetype": "text/x-python",
   "name": "python",
   "nbconvert_exporter": "python",
   "pygments_lexer": "ipython3",
   "version": "3.10.2"
  }
 },
 "nbformat": 4,
 "nbformat_minor": 0
}
