{
 "cells": [
  {
   "cell_type": "markdown",
   "source": [
    "# Experiments\n",
    "\n",
    "In this notebook, we will experiment with different settings of GA and different approaches how to simulate chetah's movement."
   ],
   "metadata": {
    "collapsed": false
   }
  },
  {
   "cell_type": "markdown",
   "source": [
    "## Imports"
   ],
   "metadata": {
    "collapsed": false
   }
  },
  {
   "cell_type": "code",
   "execution_count": 2,
   "outputs": [],
   "source": [
    "from evolution import Evolution\n",
    "from cheetah_laboratory import ClassicNNCheetahLab\n",
    "from arena import Arena"
   ],
   "metadata": {
    "collapsed": false
   }
  },
  {
   "cell_type": "markdown",
   "source": [
    "## Experiment 1 (Test implementation of GA)"
   ],
   "metadata": {
    "collapsed": false
   }
  },
  {
   "cell_type": "code",
   "execution_count": 6,
   "metadata": {
    "collapsed": true
   },
   "outputs": [
    {
     "name": "stderr",
     "output_type": "stream",
     "text": [
      "/home/vita/School/Ms./2/EvoRobotics/GeneticCheetah/venv/lib/python3.9/site-packages/pygad/pygad.py:1074: UserWarning: Use the 'save_best_solutions' parameter with caution as it may cause memory overflow when either the number of generations or number of genes is large.\n",
      "  if not self.suppress_warnings: warnings.warn(\"Use the 'save_best_solutions' parameter with caution as it may cause memory overflow when either the number of generations or number of genes is large.\")\n",
      "/home/vita/School/Ms./2/EvoRobotics/GeneticCheetah/venv/lib/python3.9/site-packages/pygad/pygad.py:1083: UserWarning: Use the 'save_solutions' parameter with caution as it may cause memory overflow when either the number of generations, number of genes, or number of solutions in population is large.\n",
      "  if not self.suppress_warnings: warnings.warn(\"Use the 'save_solutions' parameter with caution as it may cause memory overflow when either the number of generations, number of genes, or number of solutions in population is large.\")\n",
      "----------------------------------------------------------------------\n",
      "                           PyGAD Lifecycle                           \n",
      "======================================================================\n",
      "Step                  Handler                          Output Shape\n",
      "======================================================================\n",
      "Fitness Function      _fitness_func()                  (1)         \n",
      "----------------------------------------------------------------------\n",
      "Parent Selection      tournament_selection()           (10, 246)   \n",
      "Number of Parents: 10\n",
      "K Tournament: 3\n",
      "----------------------------------------------------------------------\n",
      "Crossover             single_point_crossover()         (10, 246)   \n",
      "Crossover probability: 0.8\n",
      "----------------------------------------------------------------------\n",
      "Mutation              random_mutation()                (10, 246)   \n",
      "Mutation Probability: 0.1\n",
      "Mutation Genes: 24\n",
      "Random Mutation Range: (-1.0, 1.0)\n",
      "Mutation by Replacement: False\n",
      "Allow Duplicated Genes: True\n",
      "----------------------------------------------------------------------\n",
      "======================================================================\n",
      "Population Size: (10, 246)\n",
      "Number of Generations: 10\n",
      "Initial Population Range: (-5, 5)\n",
      "Keep Elitism: 1\n",
      "Gene DType: [<class 'float'>, None]\n",
      "Parallel Processing: ['thread', 8]\n",
      "Save Best Solutions: True\n",
      "Save Solutions: True\n",
      "======================================================================\n"
     ]
    },
    {
     "data": {
      "text/plain": "<Figure size 640x480 with 1 Axes>",
      "image/png": "[encoded data removed]"
     },
     "metadata": {},
     "output_type": "display_data"
    }
   ],
   "source": [
    "arena = Arena()\n",
    "cheetah_lab = ClassicNNCheetahLab([17, 10, 6])\n",
    "evolution = Evolution(cheetah_lab, arena)\n",
    "\n",
    "parameters = {\n",
    "    'num_generations': 10,\n",
    "    'sol_per_pop': 10,\n",
    "    'num_parents_mating': 4,\n",
    "    'init_range_low': -2,\n",
    "    'init_range_high': 5,\n",
    "    'parent_selection_type': 'sss',\n",
    "    'keep_parents': 1,\n",
    "    'crossover_type': 'single_point',\n",
    "    'mutation_type': 'random',\n",
    "    'mutation_percent_genes': 10,\n",
    "}\n",
    "\n",
    "evolution.run_evolution(parameters)\n",
    "evolution.plot_fitness()"
   ]
  }
 ],
 "metadata": {
  "kernelspec": {
   "display_name": "Python 3",
   "language": "python",
   "name": "python3"
  },
  "language_info": {
   "codemirror_mode": {
    "name": "ipython",
    "version": 2
   },
   "file_extension": ".py",
   "mimetype": "text/x-python",
   "name": "python",
   "nbconvert_exporter": "python",
   "pygments_lexer": "ipython2",
   "version": "2.7.6"
  }
 },
 "nbformat": 4,
 "nbformat_minor": 0
}
