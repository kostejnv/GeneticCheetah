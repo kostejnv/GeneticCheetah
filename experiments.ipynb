{
 "cells": [
  {
   "attachments": {},
   "cell_type": "markdown",
   "metadata": {
    "collapsed": false
   },
   "source": [
    "# Experiments\n",
    "\n",
    "In this notebook, we will experiment with different settings of GA and different approaches how to simulate chetah's movement."
   ]
  },
  {
   "attachments": {},
   "cell_type": "markdown",
   "metadata": {
    "collapsed": false
   },
   "source": [
    "## Imports"
   ]
  },
  {
   "cell_type": "code",
   "execution_count": 2,
   "metadata": {
    "collapsed": false
   },
   "outputs": [],
   "source": [
    "from evolution import Evolution\n",
    "from cheetah_laboratory import ClassicNNCheetahLab\n",
    "from arena import Arena\n",
    "import gymnasium as gym\n",
    "\n",
    "import plotly.express as px\n",
    "import numpy as np\n",
    "import pandas as pd\n",
    "import logging\n",
    "\n",
    "import pickle\n",
    "import os"
   ]
  },
  {
   "attachments": {},
   "cell_type": "markdown",
   "metadata": {
    "collapsed": false
   },
   "source": [
    "## Experiment 1 (Test implementation of GA)"
   ]
  },
  {
   "cell_type": "code",
   "execution_count": 3,
   "metadata": {
    "collapsed": true
   },
   "outputs": [
    {
     "name": "stderr",
     "output_type": "stream",
     "text": [
      "c:\\Users\\havel\\Documents\\skola\\CUNI - AI INF\\predmety\\2 Letny semester\\Evolucna robotika\\evrobot\\lib\\site-packages\\pygad\\pygad.py:1074: UserWarning: Use the 'save_best_solutions' parameter with caution as it may cause memory overflow when either the number of generations or number of genes is large.\n",
      "  if not self.suppress_warnings: warnings.warn(\"Use the 'save_best_solutions' parameter with caution as it may cause memory overflow when either the number of generations or number of genes is large.\")\n",
      "----------------------------------------------------------------------\n",
      "                           PyGAD Lifecycle                           \n",
      "======================================================================\n",
      "Step                   Handler                            Output Shape\n",
      "======================================================================\n",
      "Fitness Function       _fitness_func()                    (1)        \n",
      "----------------------------------------------------------------------\n",
      "Parent Selection       steady_state_selection()           (4, 246)   \n",
      "Number of Parents: 4\n",
      "----------------------------------------------------------------------\n",
      "Crossover              single_point_crossover()           (4, 246)   \n",
      "----------------------------------------------------------------------\n",
      "Mutation               random_mutation()                  (4, 246)   \n",
      "Mutation Genes: 24\n",
      "Random Mutation Range: (-1.0, 1.0)\n",
      "Mutation by Replacement: False\n",
      "Allow Duplicated Genes: True\n",
      "----------------------------------------------------------------------\n",
      "======================================================================\n",
      "Population Size: (10, 246)\n",
      "Number of Generations: 50\n",
      "Initial Population Range: (-2, 5)\n",
      "Keep Elitism: 1\n",
      "Gene DType: [<class 'float'>, None]\n",
      "Save Best Solutions: True\n",
      "Save Solutions: False\n",
      "======================================================================\n"
     ]
    },
    {
     "data": {
      "image/png": "[encoded data removed]",
      "text/plain": [
       "<Figure size 640x480 with 1 Axes>"
      ]
     },
     "metadata": {},
     "output_type": "display_data"
    }
   ],
   "source": [
    "arena = Arena()\n",
    "cheetah_lab = ClassicNNCheetahLab([17, 10, 6])\n",
    "evolution = Evolution(cheetah_lab, arena)\n",
    "\n",
    "parameters = {\n",
    "    'num_generations': 50, # 10\n",
    "    'sol_per_pop': 10,\n",
    "    'num_parents_mating': 4,\n",
    "    'init_range_low': -2,\n",
    "    'init_range_high': 5,\n",
    "    'parent_selection_type': 'sss',\n",
    "    'keep_parents': 1,\n",
    "    'crossover_type': 'single_point',\n",
    "    'mutation_type': 'random',\n",
    "    'mutation_percent_genes': 10,\n",
    "}\n",
    "\n",
    "default_parameters = parameters.copy()\n",
    "\n",
    "evolution.run_evolution(parameters)\n",
    "evolution.plot_fitness()"
   ]
  },
  {
   "cell_type": "code",
   "execution_count": 1,
   "metadata": {},
   "outputs": [],
   "source": [
    "# evolution.simulate_best()"
   ]
  },
  {
   "attachments": {},
   "cell_type": "markdown",
   "metadata": {},
   "source": [
    "## List of tests:\n",
    "- Depth/Width comparison - Max Fitness heatmap\n",
    "    - X-axis - width (number of neurons in one layer)\n",
    "    - Y-axis - depth (number of layers)\n",
    "    - *NOTE:* total number of neurons should be aproximately the same.\n",
    "- Activation function (final activation function is always tahn)\n",
    "    - logsig\n",
    "    - tanh\n",
    "    - relu\n",
    "- Pickup the best choices altogether and compare if more generations are better or bigger population in each generation. (*NOTE:* number of individuals should stay the same)"
   ]
  },
  {
   "attachments": {},
   "cell_type": "markdown",
   "metadata": {},
   "source": [
    "# Tests"
   ]
  },
  {
   "cell_type": "code",
   "execution_count": 4,
   "metadata": {},
   "outputs": [
    {
     "name": "stdout",
     "output_type": "stream",
     "text": [
      "test[rins]\n"
     ]
    }
   ],
   "source": [
    "arena = Arena()\n",
    "logger = logging.basicConfig(filename='log.log', encoding='utf-8', level=logging.DEBUG) # None\n",
    "# use logger = None for printing info into terminal \n",
    "\n",
    "default_parameters = {\n",
    "    'num_generations': 10,\n",
    "    'sol_per_pop': 10,\n",
    "    'num_parents_mating': 4,\n",
    "    'init_range_low': -2,\n",
    "    'init_range_high': 5,\n",
    "    'parent_selection_type': 'sss',\n",
    "    'keep_parents': 1,\n",
    "    'crossover_type': 'single_point',\n",
    "    'mutation_type': 'random',\n",
    "    'mutation_percent_genes': 10,\n",
    "    \"logger\": logger,\n",
    "}"
   ]
  },
  {
   "attachments": {},
   "cell_type": "markdown",
   "metadata": {},
   "source": [
    "### Depth/Width comparison"
   ]
  },
  {
   "cell_type": "code",
   "execution_count": 4,
   "metadata": {},
   "outputs": [],
   "source": [
    "def evolution_heatmap(x_axis, y_axis, parameters=default_parameters, iterations=5, actv_func=None, steps=100):\n",
    "    width, depth = x_axis, y_axis\n",
    "\n",
    "    best_solutions = [([None] * len(depth)) for _ in range(len(width))]\n",
    "    best_solution_fitness = [([None] * len(depth)) for _ in range(len(width))] # copy empty list with correct shape\n",
    "\n",
    "    try:\n",
    "        for x, w in enumerate(width):\n",
    "            for y, d in enumerate(depth):\n",
    "                hidden = [w]*d\n",
    "                cheetah_lab = ClassicNNCheetahLab([17, *hidden, 6], actv_func)\n",
    "                solution = list()\n",
    "                fitness = list()\n",
    "\n",
    "                for _ in range(iterations):\n",
    "                    evolution = Evolution(cheetah_lab, arena, steps)\n",
    "                    _ = evolution.run_evolution(parameters)\n",
    "\n",
    "                    s, f, _ = evolution.get_best_solutions()\n",
    "                    solution.append(s)\n",
    "                    fitness.append(f)\n",
    "                    \n",
    "                best_solutions[x][y] = solution\n",
    "                best_solution_fitness[x][y] = fitness\n",
    "    finally:\n",
    "        return best_solutions, best_solution_fitness\n"
   ]
  },
  {
   "cell_type": "code",
   "execution_count": 12,
   "metadata": {},
   "outputs": [],
   "source": [
    "file_name = \"solutions_and_fitness_w2_15_3__d1_6_iter5.pkl\"\n",
    "width = list(range(2, 15, 3)) # list((5,10,15))\n",
    "depth = list(range(1,6)) # list((1,2,3))\n",
    "parameters = default_parameters.copy() # not necessary - used only for heatmap title\n",
    "\n",
    "if os.path.isfile(file_name):\n",
    "    with open('solutions_and_fitness_w2_15_3__d1_6_iter5.pkl','rb') as f:\n",
    "        (best_solutions, best_solution_fitness) = pickle.load(f)\n",
    "else:\n",
    "    best_solutions, best_solution_fitness = evolution_heatmap(width, depth, iterations=5)"
   ]
  },
  {
   "cell_type": "code",
   "execution_count": 13,
   "metadata": {},
   "outputs": [],
   "source": [
    "# with open('new_solutions_and_fitness_w2_15_3__d1_6_iter5.pkl','wb') as f:\n",
    "#     pickle.dump((best_solutions, best_solution_fitness), f)"
   ]
  },
  {
   "cell_type": "code",
   "execution_count": 14,
   "metadata": {},
   "outputs": [
    {
     "data": {
      "application/vnd.plotly.v1+json": {
       "config": {
        "plotlyServerURL": "https://plot.ly"
       },
       "data": [
        {
         "coloraxis": "coloraxis",
         "hovertemplate": "NN width: %{x}<br>NN depth: %{y}<br>Fitness: %{z}<extra></extra>",
         "name": "0",
         "type": "heatmap",
         "x": [
          "2",
          "5",
          "8",
          "11",
          "14"
         ],
         "xaxis": "x",
         "y": [
          "1",
          "2",
          "3",
          "4",
          "5"
         ],
         "yaxis": "y",
         "z": [
          [
           359.2241242538091,
           149.00414883545815,
           92.84412360501469,
           -87.5179033345298,
           -248.7730776254287
          ],
          [
           -14.665037913466772,
           -164.651030742826,
           -457.3494878761023,
           -463.8420819667732,
           -573.8881584774374
          ],
          [
           -240.4924584287906,
           -383.86137633520315,
           -418.93561203474763,
           -517.4039194748791,
           -592.7906781336077
          ],
          [
           -274.8154522359083,
           -377.232969912047,
           -457.1902638665882,
           -514.9173909575647,
           -534.2878969339265
          ],
          [
           -242.08658809228737,
           -423.0021153653853,
           -495.4623301086469,
           -534.3095423797481,
           -533.4578464771497
          ]
         ]
        }
       ],
       "layout": {
        "coloraxis": {
         "colorbar": {
          "title": {
           "text": "Fitness"
          }
         },
         "colorscale": [
          [
           0,
           "#440154"
          ],
          [
           0.1111111111111111,
           "#482878"
          ],
          [
           0.2222222222222222,
           "#3e4989"
          ],
          [
           0.3333333333333333,
           "#31688e"
          ],
          [
           0.4444444444444444,
           "#26828e"
          ],
          [
           0.5555555555555556,
           "#1f9e89"
          ],
          [
           0.6666666666666666,
           "#35b779"
          ],
          [
           0.7777777777777778,
           "#6ece58"
          ],
          [
           0.8888888888888888,
           "#b5de2b"
          ],
          [
           1,
           "#fde725"
          ]
         ]
        },
        "template": {
         "data": {
          "bar": [
           {
            "error_x": {
             "color": "#2a3f5f"
            },
            "error_y": {
             "color": "#2a3f5f"
            },
            "marker": {
             "line": {
              "color": "#E5ECF6",
              "width": 0.5
             },
             "pattern": {
              "fillmode": "overlay",
              "size": 10,
              "solidity": 0.2
             }
            },
            "type": "bar"
           }
          ],
          "barpolar": [
           {
            "marker": {
             "line": {
              "color": "#E5ECF6",
              "width": 0.5
             },
             "pattern": {
              "fillmode": "overlay",
              "size": 10,
              "solidity": 0.2
             }
            },
            "type": "barpolar"
           }
          ],
          "carpet": [
           {
            "aaxis": {
             "endlinecolor": "#2a3f5f",
             "gridcolor": "white",
             "linecolor": "white",
             "minorgridcolor": "white",
             "startlinecolor": "#2a3f5f"
            },
            "baxis": {
             "endlinecolor": "#2a3f5f",
             "gridcolor": "white",
             "linecolor": "white",
             "minorgridcolor": "white",
             "startlinecolor": "#2a3f5f"
            },
            "type": "carpet"
           }
          ],
          "choropleth": [
           {
            "colorbar": {
             "outlinewidth": 0,
             "ticks": ""
            },
            "type": "choropleth"
           }
          ],
          "contour": [
           {
            "colorbar": {
             "outlinewidth": 0,
             "ticks": ""
            },
            "colorscale": [
             [
              0,
              "#0d0887"
             ],
             [
              0.1111111111111111,
              "#46039f"
             ],
             [
              0.2222222222222222,
              "#7201a8"
             ],
             [
              0.3333333333333333,
              "#9c179e"
             ],
             [
              0.4444444444444444,
              "#bd3786"
             ],
             [
              0.5555555555555556,
              "#d8576b"
             ],
             [
              0.6666666666666666,
              "#ed7953"
             ],
             [
              0.7777777777777778,
              "#fb9f3a"
             ],
             [
              0.8888888888888888,
              "#fdca26"
             ],
             [
              1,
              "#f0f921"
             ]
            ],
            "type": "contour"
           }
          ],
          "contourcarpet": [
           {
            "colorbar": {
             "outlinewidth": 0,
             "ticks": ""
            },
            "type": "contourcarpet"
           }
          ],
          "heatmap": [
           {
            "colorbar": {
             "outlinewidth": 0,
             "ticks": ""
            },
            "colorscale": [
             [
              0,
              "#0d0887"
             ],
             [
              0.1111111111111111,
              "#46039f"
             ],
             [
              0.2222222222222222,
              "#7201a8"
             ],
             [
              0.3333333333333333,
              "#9c179e"
             ],
             [
              0.4444444444444444,
              "#bd3786"
             ],
             [
              0.5555555555555556,
              "#d8576b"
             ],
             [
              0.6666666666666666,
              "#ed7953"
             ],
             [
              0.7777777777777778,
              "#fb9f3a"
             ],
             [
              0.8888888888888888,
              "#fdca26"
             ],
             [
              1,
              "#f0f921"
             ]
            ],
            "type": "heatmap"
           }
          ],
          "heatmapgl": [
           {
            "colorbar": {
             "outlinewidth": 0,
             "ticks": ""
            },
            "colorscale": [
             [
              0,
              "#0d0887"
             ],
             [
              0.1111111111111111,
              "#46039f"
             ],
             [
              0.2222222222222222,
              "#7201a8"
             ],
             [
              0.3333333333333333,
              "#9c179e"
             ],
             [
              0.4444444444444444,
              "#bd3786"
             ],
             [
              0.5555555555555556,
              "#d8576b"
             ],
             [
              0.6666666666666666,
              "#ed7953"
             ],
             [
              0.7777777777777778,
              "#fb9f3a"
             ],
             [
              0.8888888888888888,
              "#fdca26"
             ],
             [
              1,
              "#f0f921"
             ]
            ],
            "type": "heatmapgl"
           }
          ],
          "histogram": [
           {
            "marker": {
             "pattern": {
              "fillmode": "overlay",
              "size": 10,
              "solidity": 0.2
             }
            },
            "type": "histogram"
           }
          ],
          "histogram2d": [
           {
            "colorbar": {
             "outlinewidth": 0,
             "ticks": ""
            },
            "colorscale": [
             [
              0,
              "#0d0887"
             ],
             [
              0.1111111111111111,
              "#46039f"
             ],
             [
              0.2222222222222222,
              "#7201a8"
             ],
             [
              0.3333333333333333,
              "#9c179e"
             ],
             [
              0.4444444444444444,
              "#bd3786"
             ],
             [
              0.5555555555555556,
              "#d8576b"
             ],
             [
              0.6666666666666666,
              "#ed7953"
             ],
             [
              0.7777777777777778,
              "#fb9f3a"
             ],
             [
              0.8888888888888888,
              "#fdca26"
             ],
             [
              1,
              "#f0f921"
             ]
            ],
            "type": "histogram2d"
           }
          ],
          "histogram2dcontour": [
           {
            "colorbar": {
             "outlinewidth": 0,
             "ticks": ""
            },
            "colorscale": [
             [
              0,
              "#0d0887"
             ],
             [
              0.1111111111111111,
              "#46039f"
             ],
             [
              0.2222222222222222,
              "#7201a8"
             ],
             [
              0.3333333333333333,
              "#9c179e"
             ],
             [
              0.4444444444444444,
              "#bd3786"
             ],
             [
              0.5555555555555556,
              "#d8576b"
             ],
             [
              0.6666666666666666,
              "#ed7953"
             ],
             [
              0.7777777777777778,
              "#fb9f3a"
             ],
             [
              0.8888888888888888,
              "#fdca26"
             ],
             [
              1,
              "#f0f921"
             ]
            ],
            "type": "histogram2dcontour"
           }
          ],
          "mesh3d": [
           {
            "colorbar": {
             "outlinewidth": 0,
             "ticks": ""
            },
            "type": "mesh3d"
           }
          ],
          "parcoords": [
           {
            "line": {
             "colorbar": {
              "outlinewidth": 0,
              "ticks": ""
             }
            },
            "type": "parcoords"
           }
          ],
          "pie": [
           {
            "automargin": true,
            "type": "pie"
           }
          ],
          "scatter": [
           {
            "fillpattern": {
             "fillmode": "overlay",
             "size": 10,
             "solidity": 0.2
            },
            "type": "scatter"
           }
          ],
          "scatter3d": [
           {
            "line": {
             "colorbar": {
              "outlinewidth": 0,
              "ticks": ""
             }
            },
            "marker": {
             "colorbar": {
              "outlinewidth": 0,
              "ticks": ""
             }
            },
            "type": "scatter3d"
           }
          ],
          "scattercarpet": [
           {
            "marker": {
             "colorbar": {
              "outlinewidth": 0,
              "ticks": ""
             }
            },
            "type": "scattercarpet"
           }
          ],
          "scattergeo": [
           {
            "marker": {
             "colorbar": {
              "outlinewidth": 0,
              "ticks": ""
             }
            },
            "type": "scattergeo"
           }
          ],
          "scattergl": [
           {
            "marker": {
             "colorbar": {
              "outlinewidth": 0,
              "ticks": ""
             }
            },
            "type": "scattergl"
           }
          ],
          "scattermapbox": [
           {
            "marker": {
             "colorbar": {
              "outlinewidth": 0,
              "ticks": ""
             }
            },
            "type": "scattermapbox"
           }
          ],
          "scatterpolar": [
           {
            "marker": {
             "colorbar": {
              "outlinewidth": 0,
              "ticks": ""
             }
            },
            "type": "scatterpolar"
           }
          ],
          "scatterpolargl": [
           {
            "marker": {
             "colorbar": {
              "outlinewidth": 0,
              "ticks": ""
             }
            },
            "type": "scatterpolargl"
           }
          ],
          "scatterternary": [
           {
            "marker": {
             "colorbar": {
              "outlinewidth": 0,
              "ticks": ""
             }
            },
            "type": "scatterternary"
           }
          ],
          "surface": [
           {
            "colorbar": {
             "outlinewidth": 0,
             "ticks": ""
            },
            "colorscale": [
             [
              0,
              "#0d0887"
             ],
             [
              0.1111111111111111,
              "#46039f"
             ],
             [
              0.2222222222222222,
              "#7201a8"
             ],
             [
              0.3333333333333333,
              "#9c179e"
             ],
             [
              0.4444444444444444,
              "#bd3786"
             ],
             [
              0.5555555555555556,
              "#d8576b"
             ],
             [
              0.6666666666666666,
              "#ed7953"
             ],
             [
              0.7777777777777778,
              "#fb9f3a"
             ],
             [
              0.8888888888888888,
              "#fdca26"
             ],
             [
              1,
              "#f0f921"
             ]
            ],
            "type": "surface"
           }
          ],
          "table": [
           {
            "cells": {
             "fill": {
              "color": "#EBF0F8"
             },
             "line": {
              "color": "white"
             }
            },
            "header": {
             "fill": {
              "color": "#C8D4E3"
             },
             "line": {
              "color": "white"
             }
            },
            "type": "table"
           }
          ]
         },
         "layout": {
          "annotationdefaults": {
           "arrowcolor": "#2a3f5f",
           "arrowhead": 0,
           "arrowwidth": 1
          },
          "autotypenumbers": "strict",
          "coloraxis": {
           "colorbar": {
            "outlinewidth": 0,
            "ticks": ""
           }
          },
          "colorscale": {
           "diverging": [
            [
             0,
             "#8e0152"
            ],
            [
             0.1,
             "#c51b7d"
            ],
            [
             0.2,
             "#de77ae"
            ],
            [
             0.3,
             "#f1b6da"
            ],
            [
             0.4,
             "#fde0ef"
            ],
            [
             0.5,
             "#f7f7f7"
            ],
            [
             0.6,
             "#e6f5d0"
            ],
            [
             0.7,
             "#b8e186"
            ],
            [
             0.8,
             "#7fbc41"
            ],
            [
             0.9,
             "#4d9221"
            ],
            [
             1,
             "#276419"
            ]
           ],
           "sequential": [
            [
             0,
             "#0d0887"
            ],
            [
             0.1111111111111111,
             "#46039f"
            ],
            [
             0.2222222222222222,
             "#7201a8"
            ],
            [
             0.3333333333333333,
             "#9c179e"
            ],
            [
             0.4444444444444444,
             "#bd3786"
            ],
            [
             0.5555555555555556,
             "#d8576b"
            ],
            [
             0.6666666666666666,
             "#ed7953"
            ],
            [
             0.7777777777777778,
             "#fb9f3a"
            ],
            [
             0.8888888888888888,
             "#fdca26"
            ],
            [
             1,
             "#f0f921"
            ]
           ],
           "sequentialminus": [
            [
             0,
             "#0d0887"
            ],
            [
             0.1111111111111111,
             "#46039f"
            ],
            [
             0.2222222222222222,
             "#7201a8"
            ],
            [
             0.3333333333333333,
             "#9c179e"
            ],
            [
             0.4444444444444444,
             "#bd3786"
            ],
            [
             0.5555555555555556,
             "#d8576b"
            ],
            [
             0.6666666666666666,
             "#ed7953"
            ],
            [
             0.7777777777777778,
             "#fb9f3a"
            ],
            [
             0.8888888888888888,
             "#fdca26"
            ],
            [
             1,
             "#f0f921"
            ]
           ]
          },
          "colorway": [
           "#636efa",
           "#EF553B",
           "#00cc96",
           "#ab63fa",
           "#FFA15A",
           "#19d3f3",
           "#FF6692",
           "#B6E880",
           "#FF97FF",
           "#FECB52"
          ],
          "font": {
           "color": "#2a3f5f"
          },
          "geo": {
           "bgcolor": "white",
           "lakecolor": "white",
           "landcolor": "#E5ECF6",
           "showlakes": true,
           "showland": true,
           "subunitcolor": "white"
          },
          "hoverlabel": {
           "align": "left"
          },
          "hovermode": "closest",
          "mapbox": {
           "style": "light"
          },
          "paper_bgcolor": "white",
          "plot_bgcolor": "#E5ECF6",
          "polar": {
           "angularaxis": {
            "gridcolor": "white",
            "linecolor": "white",
            "ticks": ""
           },
           "bgcolor": "#E5ECF6",
           "radialaxis": {
            "gridcolor": "white",
            "linecolor": "white",
            "ticks": ""
           }
          },
          "scene": {
           "xaxis": {
            "backgroundcolor": "#E5ECF6",
            "gridcolor": "white",
            "gridwidth": 2,
            "linecolor": "white",
            "showbackground": true,
            "ticks": "",
            "zerolinecolor": "white"
           },
           "yaxis": {
            "backgroundcolor": "#E5ECF6",
            "gridcolor": "white",
            "gridwidth": 2,
            "linecolor": "white",
            "showbackground": true,
            "ticks": "",
            "zerolinecolor": "white"
           },
           "zaxis": {
            "backgroundcolor": "#E5ECF6",
            "gridcolor": "white",
            "gridwidth": 2,
            "linecolor": "white",
            "showbackground": true,
            "ticks": "",
            "zerolinecolor": "white"
           }
          },
          "shapedefaults": {
           "line": {
            "color": "#2a3f5f"
           }
          },
          "ternary": {
           "aaxis": {
            "gridcolor": "white",
            "linecolor": "white",
            "ticks": ""
           },
           "baxis": {
            "gridcolor": "white",
            "linecolor": "white",
            "ticks": ""
           },
           "bgcolor": "#E5ECF6",
           "caxis": {
            "gridcolor": "white",
            "linecolor": "white",
            "ticks": ""
           }
          },
          "title": {
           "x": 0.05
          },
          "xaxis": {
           "automargin": true,
           "gridcolor": "white",
           "linecolor": "white",
           "ticks": "",
           "title": {
            "standoff": 15
           },
           "zerolinecolor": "white",
           "zerolinewidth": 2
          },
          "yaxis": {
           "automargin": true,
           "gridcolor": "white",
           "linecolor": "white",
           "ticks": "",
           "title": {
            "standoff": 15
           },
           "zerolinecolor": "white",
           "zerolinewidth": 2
          }
         }
        },
        "title": {
         "text": "Width/Depth comparison of best individual in 10 generations"
        },
        "xaxis": {
         "anchor": "y",
         "constrain": "domain",
         "domain": [
          0,
          1
         ],
         "scaleanchor": "y",
         "title": {
          "text": "NN width"
         }
        },
        "yaxis": {
         "anchor": "x",
         "autorange": "reversed",
         "constrain": "domain",
         "domain": [
          0,
          1
         ],
         "title": {
          "text": "NN depth"
         }
        }
       }
      }
     },
     "metadata": {},
     "output_type": "display_data"
    }
   ],
   "source": [
    "fitness = np.mean(np.array(best_solution_fitness), axis=2)\n",
    "\n",
    "df = px.data.medals_wide(indexed=True)\n",
    "fig = px.imshow(\n",
    "    fitness.T,\n",
    "    title=\"Width/Depth comparison of best individual in {} generations\".format(parameters[\"num_generations\"]),\n",
    "    labels=dict(x=\"NN width\", y=\"NN depth\", color=\"Fitness\"),\n",
    "    x=list(map(str,width)), \n",
    "    y=list(map(str,depth)),\n",
    "    color_continuous_scale=px.colors.sequential.Viridis,\n",
    ")\n",
    "fig.show()"
   ]
  },
  {
   "cell_type": "code",
   "execution_count": 39,
   "metadata": {},
   "outputs": [
    {
     "name": "stderr",
     "output_type": "stream",
     "text": [
      "c:\\Users\\havel\\Documents\\skola\\CUNI - AI INF\\predmety\\2 Letny semester\\Evolucna robotika\\evrobot\\lib\\site-packages\\pygad\\pygad.py:1074: UserWarning:\n",
      "\n",
      "Use the 'save_best_solutions' parameter with caution as it may cause memory overflow when either the number of generations or number of genes is large.\n",
      "\n",
      "----------------------------------------------------------------------\n",
      "                           PyGAD Lifecycle                           \n",
      "======================================================================\n",
      "Step                   Handler                            Output Shape\n",
      "======================================================================\n",
      "Fitness Function       _fitness_func()                    (1)      \n",
      "----------------------------------------------------------------------\n",
      "Parent Selection       steady_state_selection()           (4, 54)  \n",
      "Number of Parents: 4\n",
      "----------------------------------------------------------------------\n",
      "Crossover              single_point_crossover()           (4, 54)  \n",
      "----------------------------------------------------------------------\n",
      "Mutation               random_mutation()                  (4, 54)  \n",
      "Mutation Genes: 5\n",
      "Random Mutation Range: (-1.0, 1.0)\n",
      "Mutation by Replacement: False\n",
      "Allow Duplicated Genes: True\n",
      "----------------------------------------------------------------------\n",
      "======================================================================\n",
      "Population Size: (10, 54)\n",
      "Number of Generations: 10\n",
      "Initial Population Range: (-2, 5)\n",
      "Keep Elitism: 1\n",
      "Gene DType: [<class 'float'>, None]\n",
      "Save Best Solutions: True\n",
      "Save Solutions: False\n",
      "======================================================================\n",
      "----------------------------------------------------------------------\n",
      "                           PyGAD Lifecycle                           \n",
      "======================================================================\n",
      "Step                   Handler                            Output Shape\n",
      "======================================================================\n",
      "Fitness Function       _fitness_func()                    (1)      \n",
      "----------------------------------------------------------------------\n",
      "Parent Selection       steady_state_selection()           (4, 54)  \n",
      "Number of Parents: 4\n",
      "----------------------------------------------------------------------\n",
      "Crossover              single_point_crossover()           (4, 54)  \n",
      "----------------------------------------------------------------------\n",
      "Mutation               random_mutation()                  (4, 54)  \n",
      "Mutation Genes: 5\n",
      "Random Mutation Range: (-1.0, 1.0)\n",
      "Mutation by Replacement: False\n",
      "Allow Duplicated Genes: True\n",
      "----------------------------------------------------------------------\n",
      "======================================================================\n",
      "Population Size: (10, 54)\n",
      "Number of Generations: 10\n",
      "Initial Population Range: (-2, 5)\n",
      "Keep Elitism: 1\n",
      "Gene DType: [<class 'float'>, None]\n",
      "Save Best Solutions: True\n",
      "Save Solutions: False\n",
      "======================================================================\n",
      "----------------------------------------------------------------------\n",
      "                           PyGAD Lifecycle                           \n",
      "======================================================================\n",
      "Step                   Handler                            Output Shape\n",
      "======================================================================\n",
      "Fitness Function       _fitness_func()                    (1)      \n",
      "----------------------------------------------------------------------\n",
      "Parent Selection       steady_state_selection()           (4, 54)  \n",
      "Number of Parents: 4\n",
      "----------------------------------------------------------------------\n",
      "Crossover              single_point_crossover()           (4, 54)  \n",
      "----------------------------------------------------------------------\n",
      "Mutation               random_mutation()                  (4, 54)  \n",
      "Mutation Genes: 5\n",
      "Random Mutation Range: (-1.0, 1.0)\n",
      "Mutation by Replacement: False\n",
      "Allow Duplicated Genes: True\n",
      "----------------------------------------------------------------------\n",
      "======================================================================\n",
      "Population Size: (10, 54)\n",
      "Number of Generations: 10\n",
      "Initial Population Range: (-2, 5)\n",
      "Keep Elitism: 1\n",
      "Gene DType: [<class 'float'>, None]\n",
      "Save Best Solutions: True\n",
      "Save Solutions: False\n",
      "======================================================================\n",
      "----------------------------------------------------------------------\n",
      "                           PyGAD Lifecycle                           \n",
      "======================================================================\n",
      "Step                   Handler                            Output Shape\n",
      "======================================================================\n",
      "Fitness Function       _fitness_func()                    (1)      \n",
      "----------------------------------------------------------------------\n",
      "Parent Selection       steady_state_selection()           (4, 54)  \n",
      "Number of Parents: 4\n",
      "----------------------------------------------------------------------\n",
      "Crossover              single_point_crossover()           (4, 54)  \n",
      "----------------------------------------------------------------------\n",
      "Mutation               random_mutation()                  (4, 54)  \n",
      "Mutation Genes: 5\n",
      "Random Mutation Range: (-1.0, 1.0)\n",
      "Mutation by Replacement: False\n",
      "Allow Duplicated Genes: True\n",
      "----------------------------------------------------------------------\n",
      "======================================================================\n",
      "Population Size: (10, 54)\n",
      "Number of Generations: 10\n",
      "Initial Population Range: (-2, 5)\n",
      "Keep Elitism: 1\n",
      "Gene DType: [<class 'float'>, None]\n",
      "Save Best Solutions: True\n",
      "Save Solutions: False\n",
      "======================================================================\n",
      "----------------------------------------------------------------------\n",
      "                           PyGAD Lifecycle                           \n",
      "======================================================================\n",
      "Step                   Handler                            Output Shape\n",
      "======================================================================\n",
      "Fitness Function       _fitness_func()                    (1)      \n",
      "----------------------------------------------------------------------\n",
      "Parent Selection       steady_state_selection()           (4, 54)  \n",
      "Number of Parents: 4\n",
      "----------------------------------------------------------------------\n",
      "Crossover              single_point_crossover()           (4, 54)  \n",
      "----------------------------------------------------------------------\n",
      "Mutation               random_mutation()                  (4, 54)  \n",
      "Mutation Genes: 5\n",
      "Random Mutation Range: (-1.0, 1.0)\n",
      "Mutation by Replacement: False\n",
      "Allow Duplicated Genes: True\n",
      "----------------------------------------------------------------------\n",
      "======================================================================\n",
      "Population Size: (10, 54)\n",
      "Number of Generations: 10\n",
      "Initial Population Range: (-2, 5)\n",
      "Keep Elitism: 1\n",
      "Gene DType: [<class 'float'>, None]\n",
      "Save Best Solutions: True\n",
      "Save Solutions: False\n",
      "======================================================================\n",
      "----------------------------------------------------------------------\n",
      "                           PyGAD Lifecycle                           \n",
      "======================================================================\n",
      "Step                   Handler                            Output Shape\n",
      "======================================================================\n",
      "Fitness Function       _fitness_func()                    (1)      \n",
      "----------------------------------------------------------------------\n",
      "Parent Selection       steady_state_selection()           (4, 60)  \n",
      "Number of Parents: 4\n",
      "----------------------------------------------------------------------\n",
      "Crossover              single_point_crossover()           (4, 60)  \n",
      "----------------------------------------------------------------------\n",
      "Mutation               random_mutation()                  (4, 60)  \n",
      "Mutation Genes: 6\n",
      "Random Mutation Range: (-1.0, 1.0)\n",
      "Mutation by Replacement: False\n",
      "Allow Duplicated Genes: True\n",
      "----------------------------------------------------------------------\n",
      "======================================================================\n",
      "Population Size: (10, 60)\n",
      "Number of Generations: 10\n",
      "Initial Population Range: (-2, 5)\n",
      "Keep Elitism: 1\n",
      "Gene DType: [<class 'float'>, None]\n",
      "Save Best Solutions: True\n",
      "Save Solutions: False\n",
      "======================================================================\n",
      "----------------------------------------------------------------------\n",
      "                           PyGAD Lifecycle                           \n",
      "======================================================================\n",
      "Step                   Handler                            Output Shape\n",
      "======================================================================\n",
      "Fitness Function       _fitness_func()                    (1)      \n",
      "----------------------------------------------------------------------\n",
      "Parent Selection       steady_state_selection()           (4, 60)  \n",
      "Number of Parents: 4\n",
      "----------------------------------------------------------------------\n",
      "Crossover              single_point_crossover()           (4, 60)  \n",
      "----------------------------------------------------------------------\n",
      "Mutation               random_mutation()                  (4, 60)  \n",
      "Mutation Genes: 6\n",
      "Random Mutation Range: (-1.0, 1.0)\n",
      "Mutation by Replacement: False\n",
      "Allow Duplicated Genes: True\n",
      "----------------------------------------------------------------------\n",
      "======================================================================\n",
      "Population Size: (10, 60)\n",
      "Number of Generations: 10\n",
      "Initial Population Range: (-2, 5)\n",
      "Keep Elitism: 1\n",
      "Gene DType: [<class 'float'>, None]\n",
      "Save Best Solutions: True\n",
      "Save Solutions: False\n",
      "======================================================================\n",
      "----------------------------------------------------------------------\n",
      "                           PyGAD Lifecycle                           \n",
      "======================================================================\n",
      "Step                   Handler                            Output Shape\n",
      "======================================================================\n",
      "Fitness Function       _fitness_func()                    (1)      \n",
      "----------------------------------------------------------------------\n",
      "Parent Selection       steady_state_selection()           (4, 60)  \n",
      "Number of Parents: 4\n",
      "----------------------------------------------------------------------\n",
      "Crossover              single_point_crossover()           (4, 60)  \n",
      "----------------------------------------------------------------------\n",
      "Mutation               random_mutation()                  (4, 60)  \n",
      "Mutation Genes: 6\n",
      "Random Mutation Range: (-1.0, 1.0)\n",
      "Mutation by Replacement: False\n",
      "Allow Duplicated Genes: True\n",
      "----------------------------------------------------------------------\n",
      "======================================================================\n",
      "Population Size: (10, 60)\n",
      "Number of Generations: 10\n",
      "Initial Population Range: (-2, 5)\n",
      "Keep Elitism: 1\n",
      "Gene DType: [<class 'float'>, None]\n",
      "Save Best Solutions: True\n",
      "Save Solutions: False\n",
      "======================================================================\n",
      "----------------------------------------------------------------------\n",
      "                           PyGAD Lifecycle                           \n",
      "======================================================================\n",
      "Step                   Handler                            Output Shape\n",
      "======================================================================\n",
      "Fitness Function       _fitness_func()                    (1)      \n",
      "----------------------------------------------------------------------\n",
      "Parent Selection       steady_state_selection()           (4, 60)  \n",
      "Number of Parents: 4\n",
      "----------------------------------------------------------------------\n",
      "Crossover              single_point_crossover()           (4, 60)  \n",
      "----------------------------------------------------------------------\n",
      "Mutation               random_mutation()                  (4, 60)  \n",
      "Mutation Genes: 6\n",
      "Random Mutation Range: (-1.0, 1.0)\n",
      "Mutation by Replacement: False\n",
      "Allow Duplicated Genes: True\n",
      "----------------------------------------------------------------------\n",
      "======================================================================\n",
      "Population Size: (10, 60)\n",
      "Number of Generations: 10\n",
      "Initial Population Range: (-2, 5)\n",
      "Keep Elitism: 1\n",
      "Gene DType: [<class 'float'>, None]\n",
      "Save Best Solutions: True\n",
      "Save Solutions: False\n",
      "======================================================================\n",
      "----------------------------------------------------------------------\n",
      "                           PyGAD Lifecycle                           \n",
      "======================================================================\n",
      "Step                   Handler                            Output Shape\n",
      "======================================================================\n",
      "Fitness Function       _fitness_func()                    (1)      \n",
      "----------------------------------------------------------------------\n",
      "Parent Selection       steady_state_selection()           (4, 60)  \n",
      "Number of Parents: 4\n",
      "----------------------------------------------------------------------\n",
      "Crossover              single_point_crossover()           (4, 60)  \n",
      "----------------------------------------------------------------------\n",
      "Mutation               random_mutation()                  (4, 60)  \n",
      "Mutation Genes: 6\n",
      "Random Mutation Range: (-1.0, 1.0)\n",
      "Mutation by Replacement: False\n",
      "Allow Duplicated Genes: True\n",
      "----------------------------------------------------------------------\n",
      "======================================================================\n",
      "Population Size: (10, 60)\n",
      "Number of Generations: 10\n",
      "Initial Population Range: (-2, 5)\n",
      "Keep Elitism: 1\n",
      "Gene DType: [<class 'float'>, None]\n",
      "Save Best Solutions: True\n",
      "Save Solutions: False\n",
      "======================================================================\n",
      "----------------------------------------------------------------------\n",
      "                           PyGAD Lifecycle                           \n",
      "======================================================================\n",
      "Step                   Handler                            Output Shape\n",
      "======================================================================\n",
      "Fitness Function       _fitness_func()                    (1)      \n",
      "----------------------------------------------------------------------\n",
      "Parent Selection       steady_state_selection()           (4, 66)  \n",
      "Number of Parents: 4\n",
      "----------------------------------------------------------------------\n",
      "Crossover              single_point_crossover()           (4, 66)  \n",
      "----------------------------------------------------------------------\n",
      "Mutation               random_mutation()                  (4, 66)  \n",
      "Mutation Genes: 6\n",
      "Random Mutation Range: (-1.0, 1.0)\n",
      "Mutation by Replacement: False\n",
      "Allow Duplicated Genes: True\n",
      "----------------------------------------------------------------------\n",
      "======================================================================\n",
      "Population Size: (10, 66)\n",
      "Number of Generations: 10\n",
      "Initial Population Range: (-2, 5)\n",
      "Keep Elitism: 1\n",
      "Gene DType: [<class 'float'>, None]\n",
      "Save Best Solutions: True\n",
      "Save Solutions: False\n",
      "======================================================================\n",
      "----------------------------------------------------------------------\n",
      "                           PyGAD Lifecycle                           \n",
      "======================================================================\n",
      "Step                   Handler                            Output Shape\n",
      "======================================================================\n",
      "Fitness Function       _fitness_func()                    (1)      \n",
      "----------------------------------------------------------------------\n",
      "Parent Selection       steady_state_selection()           (4, 66)  \n",
      "Number of Parents: 4\n",
      "----------------------------------------------------------------------\n",
      "Crossover              single_point_crossover()           (4, 66)  \n",
      "----------------------------------------------------------------------\n",
      "Mutation               random_mutation()                  (4, 66)  \n",
      "Mutation Genes: 6\n",
      "Random Mutation Range: (-1.0, 1.0)\n",
      "Mutation by Replacement: False\n",
      "Allow Duplicated Genes: True\n",
      "----------------------------------------------------------------------\n",
      "======================================================================\n",
      "Population Size: (10, 66)\n",
      "Number of Generations: 10\n",
      "Initial Population Range: (-2, 5)\n",
      "Keep Elitism: 1\n",
      "Gene DType: [<class 'float'>, None]\n",
      "Save Best Solutions: True\n",
      "Save Solutions: False\n",
      "======================================================================\n",
      "----------------------------------------------------------------------\n",
      "                           PyGAD Lifecycle                           \n",
      "======================================================================\n",
      "Step                   Handler                            Output Shape\n",
      "======================================================================\n",
      "Fitness Function       _fitness_func()                    (1)      \n",
      "----------------------------------------------------------------------\n",
      "Parent Selection       steady_state_selection()           (4, 66)  \n",
      "Number of Parents: 4\n",
      "----------------------------------------------------------------------\n",
      "Crossover              single_point_crossover()           (4, 66)  \n",
      "----------------------------------------------------------------------\n",
      "Mutation               random_mutation()                  (4, 66)  \n",
      "Mutation Genes: 6\n",
      "Random Mutation Range: (-1.0, 1.0)\n",
      "Mutation by Replacement: False\n",
      "Allow Duplicated Genes: True\n",
      "----------------------------------------------------------------------\n",
      "======================================================================\n",
      "Population Size: (10, 66)\n",
      "Number of Generations: 10\n",
      "Initial Population Range: (-2, 5)\n",
      "Keep Elitism: 1\n",
      "Gene DType: [<class 'float'>, None]\n",
      "Save Best Solutions: True\n",
      "Save Solutions: False\n",
      "======================================================================\n",
      "----------------------------------------------------------------------\n",
      "                           PyGAD Lifecycle                           \n",
      "======================================================================\n",
      "Step                   Handler                            Output Shape\n",
      "======================================================================\n",
      "Fitness Function       _fitness_func()                    (1)      \n",
      "----------------------------------------------------------------------\n",
      "Parent Selection       steady_state_selection()           (4, 66)  \n",
      "Number of Parents: 4\n",
      "----------------------------------------------------------------------\n",
      "Crossover              single_point_crossover()           (4, 66)  \n",
      "----------------------------------------------------------------------\n",
      "Mutation               random_mutation()                  (4, 66)  \n",
      "Mutation Genes: 6\n",
      "Random Mutation Range: (-1.0, 1.0)\n",
      "Mutation by Replacement: False\n",
      "Allow Duplicated Genes: True\n",
      "----------------------------------------------------------------------\n",
      "======================================================================\n",
      "Population Size: (10, 66)\n",
      "Number of Generations: 10\n",
      "Initial Population Range: (-2, 5)\n",
      "Keep Elitism: 1\n",
      "Gene DType: [<class 'float'>, None]\n",
      "Save Best Solutions: True\n",
      "Save Solutions: False\n",
      "======================================================================\n",
      "----------------------------------------------------------------------\n",
      "                           PyGAD Lifecycle                           \n",
      "======================================================================\n",
      "Step                   Handler                            Output Shape\n",
      "======================================================================\n",
      "Fitness Function       _fitness_func()                    (1)      \n",
      "----------------------------------------------------------------------\n",
      "Parent Selection       steady_state_selection()           (4, 66)  \n",
      "Number of Parents: 4\n",
      "----------------------------------------------------------------------\n",
      "Crossover              single_point_crossover()           (4, 66)  \n",
      "----------------------------------------------------------------------\n",
      "Mutation               random_mutation()                  (4, 66)  \n",
      "Mutation Genes: 6\n",
      "Random Mutation Range: (-1.0, 1.0)\n",
      "Mutation by Replacement: False\n",
      "Allow Duplicated Genes: True\n",
      "----------------------------------------------------------------------\n",
      "======================================================================\n",
      "Population Size: (10, 66)\n",
      "Number of Generations: 10\n",
      "Initial Population Range: (-2, 5)\n",
      "Keep Elitism: 1\n",
      "Gene DType: [<class 'float'>, None]\n",
      "Save Best Solutions: True\n",
      "Save Solutions: False\n",
      "======================================================================\n",
      "----------------------------------------------------------------------\n",
      "                           PyGAD Lifecycle                           \n",
      "======================================================================\n",
      "Step                   Handler                            Output Shape\n",
      "======================================================================\n",
      "Fitness Function       _fitness_func()                    (1)      \n",
      "----------------------------------------------------------------------\n",
      "Parent Selection       steady_state_selection()           (4, 72)  \n",
      "Number of Parents: 4\n",
      "----------------------------------------------------------------------\n",
      "Crossover              single_point_crossover()           (4, 72)  \n",
      "----------------------------------------------------------------------\n",
      "Mutation               random_mutation()                  (4, 72)  \n",
      "Mutation Genes: 7\n",
      "Random Mutation Range: (-1.0, 1.0)\n",
      "Mutation by Replacement: False\n",
      "Allow Duplicated Genes: True\n",
      "----------------------------------------------------------------------\n",
      "======================================================================\n",
      "Population Size: (10, 72)\n",
      "Number of Generations: 10\n",
      "Initial Population Range: (-2, 5)\n",
      "Keep Elitism: 1\n",
      "Gene DType: [<class 'float'>, None]\n",
      "Save Best Solutions: True\n",
      "Save Solutions: False\n",
      "======================================================================\n",
      "----------------------------------------------------------------------\n",
      "                           PyGAD Lifecycle                           \n",
      "======================================================================\n",
      "Step                   Handler                            Output Shape\n",
      "======================================================================\n",
      "Fitness Function       _fitness_func()                    (1)      \n",
      "----------------------------------------------------------------------\n",
      "Parent Selection       steady_state_selection()           (4, 72)  \n",
      "Number of Parents: 4\n",
      "----------------------------------------------------------------------\n",
      "Crossover              single_point_crossover()           (4, 72)  \n",
      "----------------------------------------------------------------------\n",
      "Mutation               random_mutation()                  (4, 72)  \n",
      "Mutation Genes: 7\n",
      "Random Mutation Range: (-1.0, 1.0)\n",
      "Mutation by Replacement: False\n",
      "Allow Duplicated Genes: True\n",
      "----------------------------------------------------------------------\n",
      "======================================================================\n",
      "Population Size: (10, 72)\n",
      "Number of Generations: 10\n",
      "Initial Population Range: (-2, 5)\n",
      "Keep Elitism: 1\n",
      "Gene DType: [<class 'float'>, None]\n",
      "Save Best Solutions: True\n",
      "Save Solutions: False\n",
      "======================================================================\n",
      "----------------------------------------------------------------------\n",
      "                           PyGAD Lifecycle                           \n",
      "======================================================================\n",
      "Step                   Handler                            Output Shape\n",
      "======================================================================\n",
      "Fitness Function       _fitness_func()                    (1)      \n",
      "----------------------------------------------------------------------\n",
      "Parent Selection       steady_state_selection()           (4, 72)  \n",
      "Number of Parents: 4\n",
      "----------------------------------------------------------------------\n",
      "Crossover              single_point_crossover()           (4, 72)  \n",
      "----------------------------------------------------------------------\n",
      "Mutation               random_mutation()                  (4, 72)  \n",
      "Mutation Genes: 7\n",
      "Random Mutation Range: (-1.0, 1.0)\n",
      "Mutation by Replacement: False\n",
      "Allow Duplicated Genes: True\n",
      "----------------------------------------------------------------------\n",
      "======================================================================\n",
      "Population Size: (10, 72)\n",
      "Number of Generations: 10\n",
      "Initial Population Range: (-2, 5)\n",
      "Keep Elitism: 1\n",
      "Gene DType: [<class 'float'>, None]\n",
      "Save Best Solutions: True\n",
      "Save Solutions: False\n",
      "======================================================================\n",
      "----------------------------------------------------------------------\n",
      "                           PyGAD Lifecycle                           \n",
      "======================================================================\n",
      "Step                   Handler                            Output Shape\n",
      "======================================================================\n",
      "Fitness Function       _fitness_func()                    (1)      \n",
      "----------------------------------------------------------------------\n",
      "Parent Selection       steady_state_selection()           (4, 72)  \n",
      "Number of Parents: 4\n",
      "----------------------------------------------------------------------\n",
      "Crossover              single_point_crossover()           (4, 72)  \n",
      "----------------------------------------------------------------------\n",
      "Mutation               random_mutation()                  (4, 72)  \n",
      "Mutation Genes: 7\n",
      "Random Mutation Range: (-1.0, 1.0)\n",
      "Mutation by Replacement: False\n",
      "Allow Duplicated Genes: True\n",
      "----------------------------------------------------------------------\n",
      "======================================================================\n",
      "Population Size: (10, 72)\n",
      "Number of Generations: 10\n",
      "Initial Population Range: (-2, 5)\n",
      "Keep Elitism: 1\n",
      "Gene DType: [<class 'float'>, None]\n",
      "Save Best Solutions: True\n",
      "Save Solutions: False\n",
      "======================================================================\n",
      "----------------------------------------------------------------------\n",
      "                           PyGAD Lifecycle                           \n",
      "======================================================================\n",
      "Step                   Handler                            Output Shape\n",
      "======================================================================\n",
      "Fitness Function       _fitness_func()                    (1)      \n",
      "----------------------------------------------------------------------\n",
      "Parent Selection       steady_state_selection()           (4, 72)  \n",
      "Number of Parents: 4\n",
      "----------------------------------------------------------------------\n",
      "Crossover              single_point_crossover()           (4, 72)  \n",
      "----------------------------------------------------------------------\n",
      "Mutation               random_mutation()                  (4, 72)  \n",
      "Mutation Genes: 7\n",
      "Random Mutation Range: (-1.0, 1.0)\n",
      "Mutation by Replacement: False\n",
      "Allow Duplicated Genes: True\n",
      "----------------------------------------------------------------------\n",
      "======================================================================\n",
      "Population Size: (10, 72)\n",
      "Number of Generations: 10\n",
      "Initial Population Range: (-2, 5)\n",
      "Keep Elitism: 1\n",
      "Gene DType: [<class 'float'>, None]\n",
      "Save Best Solutions: True\n",
      "Save Solutions: False\n",
      "======================================================================\n",
      "----------------------------------------------------------------------\n",
      "                           PyGAD Lifecycle                           \n",
      "======================================================================\n",
      "Step                   Handler                            Output Shape\n",
      "======================================================================\n",
      "Fitness Function       _fitness_func()                    (1)      \n",
      "----------------------------------------------------------------------\n",
      "Parent Selection       steady_state_selection()           (4, 78)  \n",
      "Number of Parents: 4\n",
      "----------------------------------------------------------------------\n",
      "Crossover              single_point_crossover()           (4, 78)  \n",
      "----------------------------------------------------------------------\n",
      "Mutation               random_mutation()                  (4, 78)  \n",
      "Mutation Genes: 7\n",
      "Random Mutation Range: (-1.0, 1.0)\n",
      "Mutation by Replacement: False\n",
      "Allow Duplicated Genes: True\n",
      "----------------------------------------------------------------------\n",
      "======================================================================\n",
      "Population Size: (10, 78)\n",
      "Number of Generations: 10\n",
      "Initial Population Range: (-2, 5)\n",
      "Keep Elitism: 1\n",
      "Gene DType: [<class 'float'>, None]\n",
      "Save Best Solutions: True\n",
      "Save Solutions: False\n",
      "======================================================================\n",
      "----------------------------------------------------------------------\n",
      "                           PyGAD Lifecycle                           \n",
      "======================================================================\n",
      "Step                   Handler                            Output Shape\n",
      "======================================================================\n",
      "Fitness Function       _fitness_func()                    (1)      \n",
      "----------------------------------------------------------------------\n",
      "Parent Selection       steady_state_selection()           (4, 78)  \n",
      "Number of Parents: 4\n",
      "----------------------------------------------------------------------\n",
      "Crossover              single_point_crossover()           (4, 78)  \n",
      "----------------------------------------------------------------------\n",
      "Mutation               random_mutation()                  (4, 78)  \n",
      "Mutation Genes: 7\n",
      "Random Mutation Range: (-1.0, 1.0)\n",
      "Mutation by Replacement: False\n",
      "Allow Duplicated Genes: True\n",
      "----------------------------------------------------------------------\n",
      "======================================================================\n",
      "Population Size: (10, 78)\n",
      "Number of Generations: 10\n",
      "Initial Population Range: (-2, 5)\n",
      "Keep Elitism: 1\n",
      "Gene DType: [<class 'float'>, None]\n",
      "Save Best Solutions: True\n",
      "Save Solutions: False\n",
      "======================================================================\n",
      "----------------------------------------------------------------------\n",
      "                           PyGAD Lifecycle                           \n",
      "======================================================================\n",
      "Step                   Handler                            Output Shape\n",
      "======================================================================\n",
      "Fitness Function       _fitness_func()                    (1)      \n",
      "----------------------------------------------------------------------\n",
      "Parent Selection       steady_state_selection()           (4, 78)  \n",
      "Number of Parents: 4\n",
      "----------------------------------------------------------------------\n",
      "Crossover              single_point_crossover()           (4, 78)  \n",
      "----------------------------------------------------------------------\n",
      "Mutation               random_mutation()                  (4, 78)  \n",
      "Mutation Genes: 7\n",
      "Random Mutation Range: (-1.0, 1.0)\n",
      "Mutation by Replacement: False\n",
      "Allow Duplicated Genes: True\n",
      "----------------------------------------------------------------------\n",
      "======================================================================\n",
      "Population Size: (10, 78)\n",
      "Number of Generations: 10\n",
      "Initial Population Range: (-2, 5)\n",
      "Keep Elitism: 1\n",
      "Gene DType: [<class 'float'>, None]\n",
      "Save Best Solutions: True\n",
      "Save Solutions: False\n",
      "======================================================================\n",
      "----------------------------------------------------------------------\n",
      "                           PyGAD Lifecycle                           \n",
      "======================================================================\n",
      "Step                   Handler                            Output Shape\n",
      "======================================================================\n",
      "Fitness Function       _fitness_func()                    (1)      \n",
      "----------------------------------------------------------------------\n",
      "Parent Selection       steady_state_selection()           (4, 78)  \n",
      "Number of Parents: 4\n",
      "----------------------------------------------------------------------\n",
      "Crossover              single_point_crossover()           (4, 78)  \n",
      "----------------------------------------------------------------------\n",
      "Mutation               random_mutation()                  (4, 78)  \n",
      "Mutation Genes: 7\n",
      "Random Mutation Range: (-1.0, 1.0)\n",
      "Mutation by Replacement: False\n",
      "Allow Duplicated Genes: True\n",
      "----------------------------------------------------------------------\n",
      "======================================================================\n",
      "Population Size: (10, 78)\n",
      "Number of Generations: 10\n",
      "Initial Population Range: (-2, 5)\n",
      "Keep Elitism: 1\n",
      "Gene DType: [<class 'float'>, None]\n",
      "Save Best Solutions: True\n",
      "Save Solutions: False\n",
      "======================================================================\n",
      "----------------------------------------------------------------------\n",
      "                           PyGAD Lifecycle                           \n",
      "======================================================================\n",
      "Step                   Handler                            Output Shape\n",
      "======================================================================\n",
      "Fitness Function       _fitness_func()                    (1)      \n",
      "----------------------------------------------------------------------\n",
      "Parent Selection       steady_state_selection()           (4, 78)  \n",
      "Number of Parents: 4\n",
      "----------------------------------------------------------------------\n",
      "Crossover              single_point_crossover()           (4, 78)  \n",
      "----------------------------------------------------------------------\n",
      "Mutation               random_mutation()                  (4, 78)  \n",
      "Mutation Genes: 7\n",
      "Random Mutation Range: (-1.0, 1.0)\n",
      "Mutation by Replacement: False\n",
      "Allow Duplicated Genes: True\n",
      "----------------------------------------------------------------------\n",
      "======================================================================\n",
      "Population Size: (10, 78)\n",
      "Number of Generations: 10\n",
      "Initial Population Range: (-2, 5)\n",
      "Keep Elitism: 1\n",
      "Gene DType: [<class 'float'>, None]\n",
      "Save Best Solutions: True\n",
      "Save Solutions: False\n",
      "======================================================================\n",
      "----------------------------------------------------------------------\n",
      "                           PyGAD Lifecycle                           \n",
      "======================================================================\n",
      "Step                   Handler                            Output Shape\n",
      "======================================================================\n",
      "Fitness Function       _fitness_func()                    (1)        \n",
      "----------------------------------------------------------------------\n",
      "Parent Selection       steady_state_selection()           (4, 126)   \n",
      "Number of Parents: 4\n",
      "----------------------------------------------------------------------\n",
      "Crossover              single_point_crossover()           (4, 126)   \n",
      "----------------------------------------------------------------------\n",
      "Mutation               random_mutation()                  (4, 126)   \n",
      "Mutation Genes: 12\n",
      "Random Mutation Range: (-1.0, 1.0)\n",
      "Mutation by Replacement: False\n",
      "Allow Duplicated Genes: True\n",
      "----------------------------------------------------------------------\n",
      "======================================================================\n",
      "Population Size: (10, 126)\n",
      "Number of Generations: 10\n",
      "Initial Population Range: (-2, 5)\n",
      "Keep Elitism: 1\n",
      "Gene DType: [<class 'float'>, None]\n",
      "Save Best Solutions: True\n",
      "Save Solutions: False\n",
      "======================================================================\n",
      "----------------------------------------------------------------------\n",
      "                           PyGAD Lifecycle                           \n",
      "======================================================================\n",
      "Step                   Handler                            Output Shape\n",
      "======================================================================\n",
      "Fitness Function       _fitness_func()                    (1)        \n",
      "----------------------------------------------------------------------\n",
      "Parent Selection       steady_state_selection()           (4, 126)   \n",
      "Number of Parents: 4\n",
      "----------------------------------------------------------------------\n",
      "Crossover              single_point_crossover()           (4, 126)   \n",
      "----------------------------------------------------------------------\n",
      "Mutation               random_mutation()                  (4, 126)   \n",
      "Mutation Genes: 12\n",
      "Random Mutation Range: (-1.0, 1.0)\n",
      "Mutation by Replacement: False\n",
      "Allow Duplicated Genes: True\n",
      "----------------------------------------------------------------------\n",
      "======================================================================\n",
      "Population Size: (10, 126)\n",
      "Number of Generations: 10\n",
      "Initial Population Range: (-2, 5)\n",
      "Keep Elitism: 1\n",
      "Gene DType: [<class 'float'>, None]\n",
      "Save Best Solutions: True\n",
      "Save Solutions: False\n",
      "======================================================================\n",
      "----------------------------------------------------------------------\n",
      "                           PyGAD Lifecycle                           \n",
      "======================================================================\n",
      "Step                   Handler                            Output Shape\n",
      "======================================================================\n",
      "Fitness Function       _fitness_func()                    (1)        \n",
      "----------------------------------------------------------------------\n",
      "Parent Selection       steady_state_selection()           (4, 126)   \n",
      "Number of Parents: 4\n",
      "----------------------------------------------------------------------\n",
      "Crossover              single_point_crossover()           (4, 126)   \n",
      "----------------------------------------------------------------------\n",
      "Mutation               random_mutation()                  (4, 126)   \n",
      "Mutation Genes: 12\n",
      "Random Mutation Range: (-1.0, 1.0)\n",
      "Mutation by Replacement: False\n",
      "Allow Duplicated Genes: True\n",
      "----------------------------------------------------------------------\n",
      "======================================================================\n",
      "Population Size: (10, 126)\n",
      "Number of Generations: 10\n",
      "Initial Population Range: (-2, 5)\n",
      "Keep Elitism: 1\n",
      "Gene DType: [<class 'float'>, None]\n",
      "Save Best Solutions: True\n",
      "Save Solutions: False\n",
      "======================================================================\n",
      "----------------------------------------------------------------------\n",
      "                           PyGAD Lifecycle                           \n",
      "======================================================================\n",
      "Step                   Handler                            Output Shape\n",
      "======================================================================\n",
      "Fitness Function       _fitness_func()                    (1)        \n",
      "----------------------------------------------------------------------\n",
      "Parent Selection       steady_state_selection()           (4, 126)   \n",
      "Number of Parents: 4\n",
      "----------------------------------------------------------------------\n",
      "Crossover              single_point_crossover()           (4, 126)   \n",
      "----------------------------------------------------------------------\n",
      "Mutation               random_mutation()                  (4, 126)   \n",
      "Mutation Genes: 12\n",
      "Random Mutation Range: (-1.0, 1.0)\n",
      "Mutation by Replacement: False\n",
      "Allow Duplicated Genes: True\n",
      "----------------------------------------------------------------------\n",
      "======================================================================\n",
      "Population Size: (10, 126)\n",
      "Number of Generations: 10\n",
      "Initial Population Range: (-2, 5)\n",
      "Keep Elitism: 1\n",
      "Gene DType: [<class 'float'>, None]\n",
      "Save Best Solutions: True\n",
      "Save Solutions: False\n",
      "======================================================================\n",
      "----------------------------------------------------------------------\n",
      "                           PyGAD Lifecycle                           \n",
      "======================================================================\n",
      "Step                   Handler                            Output Shape\n",
      "======================================================================\n",
      "Fitness Function       _fitness_func()                    (1)        \n",
      "----------------------------------------------------------------------\n",
      "Parent Selection       steady_state_selection()           (4, 126)   \n",
      "Number of Parents: 4\n",
      "----------------------------------------------------------------------\n",
      "Crossover              single_point_crossover()           (4, 126)   \n",
      "----------------------------------------------------------------------\n",
      "Mutation               random_mutation()                  (4, 126)   \n",
      "Mutation Genes: 12\n",
      "Random Mutation Range: (-1.0, 1.0)\n",
      "Mutation by Replacement: False\n",
      "Allow Duplicated Genes: True\n",
      "----------------------------------------------------------------------\n",
      "======================================================================\n",
      "Population Size: (10, 126)\n",
      "Number of Generations: 10\n",
      "Initial Population Range: (-2, 5)\n",
      "Keep Elitism: 1\n",
      "Gene DType: [<class 'float'>, None]\n",
      "Save Best Solutions: True\n",
      "Save Solutions: False\n",
      "======================================================================\n",
      "----------------------------------------------------------------------\n",
      "                           PyGAD Lifecycle                           \n",
      "======================================================================\n",
      "Step                   Handler                            Output Shape\n",
      "======================================================================\n",
      "Fitness Function       _fitness_func()                    (1)        \n",
      "----------------------------------------------------------------------\n",
      "Parent Selection       steady_state_selection()           (4, 156)   \n",
      "Number of Parents: 4\n",
      "----------------------------------------------------------------------\n",
      "Crossover              single_point_crossover()           (4, 156)   \n",
      "----------------------------------------------------------------------\n",
      "Mutation               random_mutation()                  (4, 156)   \n",
      "Mutation Genes: 15\n",
      "Random Mutation Range: (-1.0, 1.0)\n",
      "Mutation by Replacement: False\n",
      "Allow Duplicated Genes: True\n",
      "----------------------------------------------------------------------\n",
      "======================================================================\n",
      "Population Size: (10, 156)\n",
      "Number of Generations: 10\n",
      "Initial Population Range: (-2, 5)\n",
      "Keep Elitism: 1\n",
      "Gene DType: [<class 'float'>, None]\n",
      "Save Best Solutions: True\n",
      "Save Solutions: False\n",
      "======================================================================\n",
      "----------------------------------------------------------------------\n",
      "                           PyGAD Lifecycle                           \n",
      "======================================================================\n",
      "Step                   Handler                            Output Shape\n",
      "======================================================================\n",
      "Fitness Function       _fitness_func()                    (1)        \n",
      "----------------------------------------------------------------------\n",
      "Parent Selection       steady_state_selection()           (4, 156)   \n",
      "Number of Parents: 4\n",
      "----------------------------------------------------------------------\n",
      "Crossover              single_point_crossover()           (4, 156)   \n",
      "----------------------------------------------------------------------\n",
      "Mutation               random_mutation()                  (4, 156)   \n",
      "Mutation Genes: 15\n",
      "Random Mutation Range: (-1.0, 1.0)\n",
      "Mutation by Replacement: False\n",
      "Allow Duplicated Genes: True\n",
      "----------------------------------------------------------------------\n",
      "======================================================================\n",
      "Population Size: (10, 156)\n",
      "Number of Generations: 10\n",
      "Initial Population Range: (-2, 5)\n",
      "Keep Elitism: 1\n",
      "Gene DType: [<class 'float'>, None]\n",
      "Save Best Solutions: True\n",
      "Save Solutions: False\n",
      "======================================================================\n",
      "----------------------------------------------------------------------\n",
      "                           PyGAD Lifecycle                           \n",
      "======================================================================\n",
      "Step                   Handler                            Output Shape\n",
      "======================================================================\n",
      "Fitness Function       _fitness_func()                    (1)        \n",
      "----------------------------------------------------------------------\n",
      "Parent Selection       steady_state_selection()           (4, 156)   \n",
      "Number of Parents: 4\n",
      "----------------------------------------------------------------------\n",
      "Crossover              single_point_crossover()           (4, 156)   \n",
      "----------------------------------------------------------------------\n",
      "Mutation               random_mutation()                  (4, 156)   \n",
      "Mutation Genes: 15\n",
      "Random Mutation Range: (-1.0, 1.0)\n",
      "Mutation by Replacement: False\n",
      "Allow Duplicated Genes: True\n",
      "----------------------------------------------------------------------\n",
      "======================================================================\n",
      "Population Size: (10, 156)\n",
      "Number of Generations: 10\n",
      "Initial Population Range: (-2, 5)\n",
      "Keep Elitism: 1\n",
      "Gene DType: [<class 'float'>, None]\n",
      "Save Best Solutions: True\n",
      "Save Solutions: False\n",
      "======================================================================\n",
      "----------------------------------------------------------------------\n",
      "                           PyGAD Lifecycle                           \n",
      "======================================================================\n",
      "Step                   Handler                            Output Shape\n",
      "======================================================================\n",
      "Fitness Function       _fitness_func()                    (1)        \n",
      "----------------------------------------------------------------------\n",
      "Parent Selection       steady_state_selection()           (4, 156)   \n",
      "Number of Parents: 4\n",
      "----------------------------------------------------------------------\n",
      "Crossover              single_point_crossover()           (4, 156)   \n",
      "----------------------------------------------------------------------\n",
      "Mutation               random_mutation()                  (4, 156)   \n",
      "Mutation Genes: 15\n",
      "Random Mutation Range: (-1.0, 1.0)\n",
      "Mutation by Replacement: False\n",
      "Allow Duplicated Genes: True\n",
      "----------------------------------------------------------------------\n",
      "======================================================================\n",
      "Population Size: (10, 156)\n",
      "Number of Generations: 10\n",
      "Initial Population Range: (-2, 5)\n",
      "Keep Elitism: 1\n",
      "Gene DType: [<class 'float'>, None]\n",
      "Save Best Solutions: True\n",
      "Save Solutions: False\n",
      "======================================================================\n",
      "----------------------------------------------------------------------\n",
      "                           PyGAD Lifecycle                           \n",
      "======================================================================\n",
      "Step                   Handler                            Output Shape\n",
      "======================================================================\n",
      "Fitness Function       _fitness_func()                    (1)        \n",
      "----------------------------------------------------------------------\n",
      "Parent Selection       steady_state_selection()           (4, 156)   \n",
      "Number of Parents: 4\n",
      "----------------------------------------------------------------------\n",
      "Crossover              single_point_crossover()           (4, 156)   \n",
      "----------------------------------------------------------------------\n",
      "Mutation               random_mutation()                  (4, 156)   \n",
      "Mutation Genes: 15\n",
      "Random Mutation Range: (-1.0, 1.0)\n",
      "Mutation by Replacement: False\n",
      "Allow Duplicated Genes: True\n",
      "----------------------------------------------------------------------\n",
      "======================================================================\n",
      "Population Size: (10, 156)\n",
      "Number of Generations: 10\n",
      "Initial Population Range: (-2, 5)\n",
      "Keep Elitism: 1\n",
      "Gene DType: [<class 'float'>, None]\n",
      "Save Best Solutions: True\n",
      "Save Solutions: False\n",
      "======================================================================\n",
      "----------------------------------------------------------------------\n",
      "                           PyGAD Lifecycle                           \n",
      "======================================================================\n",
      "Step                   Handler                            Output Shape\n",
      "======================================================================\n",
      "Fitness Function       _fitness_func()                    (1)        \n",
      "----------------------------------------------------------------------\n",
      "Parent Selection       steady_state_selection()           (4, 186)   \n",
      "Number of Parents: 4\n",
      "----------------------------------------------------------------------\n",
      "Crossover              single_point_crossover()           (4, 186)   \n",
      "----------------------------------------------------------------------\n",
      "Mutation               random_mutation()                  (4, 186)   \n",
      "Mutation Genes: 18\n",
      "Random Mutation Range: (-1.0, 1.0)\n",
      "Mutation by Replacement: False\n",
      "Allow Duplicated Genes: True\n",
      "----------------------------------------------------------------------\n",
      "======================================================================\n",
      "Population Size: (10, 186)\n",
      "Number of Generations: 10\n",
      "Initial Population Range: (-2, 5)\n",
      "Keep Elitism: 1\n",
      "Gene DType: [<class 'float'>, None]\n",
      "Save Best Solutions: True\n",
      "Save Solutions: False\n",
      "======================================================================\n",
      "----------------------------------------------------------------------\n",
      "                           PyGAD Lifecycle                           \n",
      "======================================================================\n",
      "Step                   Handler                            Output Shape\n",
      "======================================================================\n",
      "Fitness Function       _fitness_func()                    (1)        \n",
      "----------------------------------------------------------------------\n",
      "Parent Selection       steady_state_selection()           (4, 186)   \n",
      "Number of Parents: 4\n",
      "----------------------------------------------------------------------\n",
      "Crossover              single_point_crossover()           (4, 186)   \n",
      "----------------------------------------------------------------------\n",
      "Mutation               random_mutation()                  (4, 186)   \n",
      "Mutation Genes: 18\n",
      "Random Mutation Range: (-1.0, 1.0)\n",
      "Mutation by Replacement: False\n",
      "Allow Duplicated Genes: True\n",
      "----------------------------------------------------------------------\n",
      "======================================================================\n",
      "Population Size: (10, 186)\n",
      "Number of Generations: 10\n",
      "Initial Population Range: (-2, 5)\n",
      "Keep Elitism: 1\n",
      "Gene DType: [<class 'float'>, None]\n",
      "Save Best Solutions: True\n",
      "Save Solutions: False\n",
      "======================================================================\n",
      "----------------------------------------------------------------------\n",
      "                           PyGAD Lifecycle                           \n",
      "======================================================================\n",
      "Step                   Handler                            Output Shape\n",
      "======================================================================\n",
      "Fitness Function       _fitness_func()                    (1)        \n",
      "----------------------------------------------------------------------\n",
      "Parent Selection       steady_state_selection()           (4, 186)   \n",
      "Number of Parents: 4\n",
      "----------------------------------------------------------------------\n",
      "Crossover              single_point_crossover()           (4, 186)   \n",
      "----------------------------------------------------------------------\n",
      "Mutation               random_mutation()                  (4, 186)   \n",
      "Mutation Genes: 18\n",
      "Random Mutation Range: (-1.0, 1.0)\n",
      "Mutation by Replacement: False\n",
      "Allow Duplicated Genes: True\n",
      "----------------------------------------------------------------------\n",
      "======================================================================\n",
      "Population Size: (10, 186)\n",
      "Number of Generations: 10\n",
      "Initial Population Range: (-2, 5)\n",
      "Keep Elitism: 1\n",
      "Gene DType: [<class 'float'>, None]\n",
      "Save Best Solutions: True\n",
      "Save Solutions: False\n",
      "======================================================================\n",
      "----------------------------------------------------------------------\n",
      "                           PyGAD Lifecycle                           \n",
      "======================================================================\n",
      "Step                   Handler                            Output Shape\n",
      "======================================================================\n",
      "Fitness Function       _fitness_func()                    (1)        \n",
      "----------------------------------------------------------------------\n",
      "Parent Selection       steady_state_selection()           (4, 186)   \n",
      "Number of Parents: 4\n",
      "----------------------------------------------------------------------\n",
      "Crossover              single_point_crossover()           (4, 186)   \n",
      "----------------------------------------------------------------------\n",
      "Mutation               random_mutation()                  (4, 186)   \n",
      "Mutation Genes: 18\n",
      "Random Mutation Range: (-1.0, 1.0)\n",
      "Mutation by Replacement: False\n",
      "Allow Duplicated Genes: True\n",
      "----------------------------------------------------------------------\n",
      "======================================================================\n",
      "Population Size: (10, 186)\n",
      "Number of Generations: 10\n",
      "Initial Population Range: (-2, 5)\n",
      "Keep Elitism: 1\n",
      "Gene DType: [<class 'float'>, None]\n",
      "Save Best Solutions: True\n",
      "Save Solutions: False\n",
      "======================================================================\n",
      "----------------------------------------------------------------------\n",
      "                           PyGAD Lifecycle                           \n",
      "======================================================================\n",
      "Step                   Handler                            Output Shape\n",
      "======================================================================\n",
      "Fitness Function       _fitness_func()                    (1)        \n",
      "----------------------------------------------------------------------\n",
      "Parent Selection       steady_state_selection()           (4, 186)   \n",
      "Number of Parents: 4\n",
      "----------------------------------------------------------------------\n",
      "Crossover              single_point_crossover()           (4, 186)   \n",
      "----------------------------------------------------------------------\n",
      "Mutation               random_mutation()                  (4, 186)   \n",
      "Mutation Genes: 18\n",
      "Random Mutation Range: (-1.0, 1.0)\n",
      "Mutation by Replacement: False\n",
      "Allow Duplicated Genes: True\n",
      "----------------------------------------------------------------------\n",
      "======================================================================\n",
      "Population Size: (10, 186)\n",
      "Number of Generations: 10\n",
      "Initial Population Range: (-2, 5)\n",
      "Keep Elitism: 1\n",
      "Gene DType: [<class 'float'>, None]\n",
      "Save Best Solutions: True\n",
      "Save Solutions: False\n",
      "======================================================================\n",
      "----------------------------------------------------------------------\n",
      "                           PyGAD Lifecycle                           \n",
      "======================================================================\n",
      "Step                   Handler                            Output Shape\n",
      "======================================================================\n",
      "Fitness Function       _fitness_func()                    (1)        \n",
      "----------------------------------------------------------------------\n",
      "Parent Selection       steady_state_selection()           (4, 216)   \n",
      "Number of Parents: 4\n",
      "----------------------------------------------------------------------\n",
      "Crossover              single_point_crossover()           (4, 216)   \n",
      "----------------------------------------------------------------------\n",
      "Mutation               random_mutation()                  (4, 216)   \n",
      "Mutation Genes: 21\n",
      "Random Mutation Range: (-1.0, 1.0)\n",
      "Mutation by Replacement: False\n",
      "Allow Duplicated Genes: True\n",
      "----------------------------------------------------------------------\n",
      "======================================================================\n",
      "Population Size: (10, 216)\n",
      "Number of Generations: 10\n",
      "Initial Population Range: (-2, 5)\n",
      "Keep Elitism: 1\n",
      "Gene DType: [<class 'float'>, None]\n",
      "Save Best Solutions: True\n",
      "Save Solutions: False\n",
      "======================================================================\n",
      "----------------------------------------------------------------------\n",
      "                           PyGAD Lifecycle                           \n",
      "======================================================================\n",
      "Step                   Handler                            Output Shape\n",
      "======================================================================\n",
      "Fitness Function       _fitness_func()                    (1)        \n",
      "----------------------------------------------------------------------\n",
      "Parent Selection       steady_state_selection()           (4, 216)   \n",
      "Number of Parents: 4\n",
      "----------------------------------------------------------------------\n",
      "Crossover              single_point_crossover()           (4, 216)   \n",
      "----------------------------------------------------------------------\n",
      "Mutation               random_mutation()                  (4, 216)   \n",
      "Mutation Genes: 21\n",
      "Random Mutation Range: (-1.0, 1.0)\n",
      "Mutation by Replacement: False\n",
      "Allow Duplicated Genes: True\n",
      "----------------------------------------------------------------------\n",
      "======================================================================\n",
      "Population Size: (10, 216)\n",
      "Number of Generations: 10\n",
      "Initial Population Range: (-2, 5)\n",
      "Keep Elitism: 1\n",
      "Gene DType: [<class 'float'>, None]\n",
      "Save Best Solutions: True\n",
      "Save Solutions: False\n",
      "======================================================================\n",
      "----------------------------------------------------------------------\n",
      "                           PyGAD Lifecycle                           \n",
      "======================================================================\n",
      "Step                   Handler                            Output Shape\n",
      "======================================================================\n",
      "Fitness Function       _fitness_func()                    (1)        \n",
      "----------------------------------------------------------------------\n",
      "Parent Selection       steady_state_selection()           (4, 216)   \n",
      "Number of Parents: 4\n",
      "----------------------------------------------------------------------\n",
      "Crossover              single_point_crossover()           (4, 216)   \n",
      "----------------------------------------------------------------------\n",
      "Mutation               random_mutation()                  (4, 216)   \n",
      "Mutation Genes: 21\n",
      "Random Mutation Range: (-1.0, 1.0)\n",
      "Mutation by Replacement: False\n",
      "Allow Duplicated Genes: True\n",
      "----------------------------------------------------------------------\n",
      "======================================================================\n",
      "Population Size: (10, 216)\n",
      "Number of Generations: 10\n",
      "Initial Population Range: (-2, 5)\n",
      "Keep Elitism: 1\n",
      "Gene DType: [<class 'float'>, None]\n",
      "Save Best Solutions: True\n",
      "Save Solutions: False\n",
      "======================================================================\n",
      "----------------------------------------------------------------------\n",
      "                           PyGAD Lifecycle                           \n",
      "======================================================================\n",
      "Step                   Handler                            Output Shape\n",
      "======================================================================\n",
      "Fitness Function       _fitness_func()                    (1)        \n",
      "----------------------------------------------------------------------\n",
      "Parent Selection       steady_state_selection()           (4, 216)   \n",
      "Number of Parents: 4\n",
      "----------------------------------------------------------------------\n",
      "Crossover              single_point_crossover()           (4, 216)   \n",
      "----------------------------------------------------------------------\n",
      "Mutation               random_mutation()                  (4, 216)   \n",
      "Mutation Genes: 21\n",
      "Random Mutation Range: (-1.0, 1.0)\n",
      "Mutation by Replacement: False\n",
      "Allow Duplicated Genes: True\n",
      "----------------------------------------------------------------------\n",
      "======================================================================\n",
      "Population Size: (10, 216)\n",
      "Number of Generations: 10\n",
      "Initial Population Range: (-2, 5)\n",
      "Keep Elitism: 1\n",
      "Gene DType: [<class 'float'>, None]\n",
      "Save Best Solutions: True\n",
      "Save Solutions: False\n",
      "======================================================================\n",
      "----------------------------------------------------------------------\n",
      "                           PyGAD Lifecycle                           \n",
      "======================================================================\n",
      "Step                   Handler                            Output Shape\n",
      "======================================================================\n",
      "Fitness Function       _fitness_func()                    (1)        \n",
      "----------------------------------------------------------------------\n",
      "Parent Selection       steady_state_selection()           (4, 216)   \n",
      "Number of Parents: 4\n",
      "----------------------------------------------------------------------\n",
      "Crossover              single_point_crossover()           (4, 216)   \n",
      "----------------------------------------------------------------------\n",
      "Mutation               random_mutation()                  (4, 216)   \n",
      "Mutation Genes: 21\n",
      "Random Mutation Range: (-1.0, 1.0)\n",
      "Mutation by Replacement: False\n",
      "Allow Duplicated Genes: True\n",
      "----------------------------------------------------------------------\n",
      "======================================================================\n",
      "Population Size: (10, 216)\n",
      "Number of Generations: 10\n",
      "Initial Population Range: (-2, 5)\n",
      "Keep Elitism: 1\n",
      "Gene DType: [<class 'float'>, None]\n",
      "Save Best Solutions: True\n",
      "Save Solutions: False\n",
      "======================================================================\n",
      "----------------------------------------------------------------------\n",
      "                           PyGAD Lifecycle                           \n",
      "======================================================================\n",
      "Step                   Handler                            Output Shape\n",
      "======================================================================\n",
      "Fitness Function       _fitness_func()                    (1)        \n",
      "----------------------------------------------------------------------\n",
      "Parent Selection       steady_state_selection()           (4, 246)   \n",
      "Number of Parents: 4\n",
      "----------------------------------------------------------------------\n",
      "Crossover              single_point_crossover()           (4, 246)   \n",
      "----------------------------------------------------------------------\n",
      "Mutation               random_mutation()                  (4, 246)   \n",
      "Mutation Genes: 24\n",
      "Random Mutation Range: (-1.0, 1.0)\n",
      "Mutation by Replacement: False\n",
      "Allow Duplicated Genes: True\n",
      "----------------------------------------------------------------------\n",
      "======================================================================\n",
      "Population Size: (10, 246)\n",
      "Number of Generations: 10\n",
      "Initial Population Range: (-2, 5)\n",
      "Keep Elitism: 1\n",
      "Gene DType: [<class 'float'>, None]\n",
      "Save Best Solutions: True\n",
      "Save Solutions: False\n",
      "======================================================================\n",
      "----------------------------------------------------------------------\n",
      "                           PyGAD Lifecycle                           \n",
      "======================================================================\n",
      "Step                   Handler                            Output Shape\n",
      "======================================================================\n",
      "Fitness Function       _fitness_func()                    (1)        \n",
      "----------------------------------------------------------------------\n",
      "Parent Selection       steady_state_selection()           (4, 246)   \n",
      "Number of Parents: 4\n",
      "----------------------------------------------------------------------\n",
      "Crossover              single_point_crossover()           (4, 246)   \n",
      "----------------------------------------------------------------------\n",
      "Mutation               random_mutation()                  (4, 246)   \n",
      "Mutation Genes: 24\n",
      "Random Mutation Range: (-1.0, 1.0)\n",
      "Mutation by Replacement: False\n",
      "Allow Duplicated Genes: True\n",
      "----------------------------------------------------------------------\n",
      "======================================================================\n",
      "Population Size: (10, 246)\n",
      "Number of Generations: 10\n",
      "Initial Population Range: (-2, 5)\n",
      "Keep Elitism: 1\n",
      "Gene DType: [<class 'float'>, None]\n",
      "Save Best Solutions: True\n",
      "Save Solutions: False\n",
      "======================================================================\n",
      "----------------------------------------------------------------------\n",
      "                           PyGAD Lifecycle                           \n",
      "======================================================================\n",
      "Step                   Handler                            Output Shape\n",
      "======================================================================\n",
      "Fitness Function       _fitness_func()                    (1)        \n",
      "----------------------------------------------------------------------\n",
      "Parent Selection       steady_state_selection()           (4, 246)   \n",
      "Number of Parents: 4\n",
      "----------------------------------------------------------------------\n",
      "Crossover              single_point_crossover()           (4, 246)   \n",
      "----------------------------------------------------------------------\n",
      "Mutation               random_mutation()                  (4, 246)   \n",
      "Mutation Genes: 24\n",
      "Random Mutation Range: (-1.0, 1.0)\n",
      "Mutation by Replacement: False\n",
      "Allow Duplicated Genes: True\n",
      "----------------------------------------------------------------------\n",
      "======================================================================\n",
      "Population Size: (10, 246)\n",
      "Number of Generations: 10\n",
      "Initial Population Range: (-2, 5)\n",
      "Keep Elitism: 1\n",
      "Gene DType: [<class 'float'>, None]\n",
      "Save Best Solutions: True\n",
      "Save Solutions: False\n",
      "======================================================================\n",
      "----------------------------------------------------------------------\n",
      "                           PyGAD Lifecycle                           \n",
      "======================================================================\n",
      "Step                   Handler                            Output Shape\n",
      "======================================================================\n",
      "Fitness Function       _fitness_func()                    (1)        \n",
      "----------------------------------------------------------------------\n",
      "Parent Selection       steady_state_selection()           (4, 246)   \n",
      "Number of Parents: 4\n",
      "----------------------------------------------------------------------\n",
      "Crossover              single_point_crossover()           (4, 246)   \n",
      "----------------------------------------------------------------------\n",
      "Mutation               random_mutation()                  (4, 246)   \n",
      "Mutation Genes: 24\n",
      "Random Mutation Range: (-1.0, 1.0)\n",
      "Mutation by Replacement: False\n",
      "Allow Duplicated Genes: True\n",
      "----------------------------------------------------------------------\n",
      "======================================================================\n",
      "Population Size: (10, 246)\n",
      "Number of Generations: 10\n",
      "Initial Population Range: (-2, 5)\n",
      "Keep Elitism: 1\n",
      "Gene DType: [<class 'float'>, None]\n",
      "Save Best Solutions: True\n",
      "Save Solutions: False\n",
      "======================================================================\n",
      "----------------------------------------------------------------------\n",
      "                           PyGAD Lifecycle                           \n",
      "======================================================================\n",
      "Step                   Handler                            Output Shape\n",
      "======================================================================\n",
      "Fitness Function       _fitness_func()                    (1)        \n",
      "----------------------------------------------------------------------\n",
      "Parent Selection       steady_state_selection()           (4, 246)   \n",
      "Number of Parents: 4\n",
      "----------------------------------------------------------------------\n",
      "Crossover              single_point_crossover()           (4, 246)   \n",
      "----------------------------------------------------------------------\n",
      "Mutation               random_mutation()                  (4, 246)   \n",
      "Mutation Genes: 24\n",
      "Random Mutation Range: (-1.0, 1.0)\n",
      "Mutation by Replacement: False\n",
      "Allow Duplicated Genes: True\n",
      "----------------------------------------------------------------------\n",
      "======================================================================\n",
      "Population Size: (10, 246)\n",
      "Number of Generations: 10\n",
      "Initial Population Range: (-2, 5)\n",
      "Keep Elitism: 1\n",
      "Gene DType: [<class 'float'>, None]\n",
      "Save Best Solutions: True\n",
      "Save Solutions: False\n",
      "======================================================================\n",
      "----------------------------------------------------------------------\n",
      "                           PyGAD Lifecycle                           \n",
      "======================================================================\n",
      "Step                   Handler                            Output Shape\n",
      "======================================================================\n",
      "Fitness Function       _fitness_func()                    (1)        \n",
      "----------------------------------------------------------------------\n",
      "Parent Selection       steady_state_selection()           (4, 198)   \n",
      "Number of Parents: 4\n",
      "----------------------------------------------------------------------\n",
      "Crossover              single_point_crossover()           (4, 198)   \n",
      "----------------------------------------------------------------------\n",
      "Mutation               random_mutation()                  (4, 198)   \n",
      "Mutation Genes: 19\n",
      "Random Mutation Range: (-1.0, 1.0)\n",
      "Mutation by Replacement: False\n",
      "Allow Duplicated Genes: True\n",
      "----------------------------------------------------------------------\n",
      "======================================================================\n",
      "Population Size: (10, 198)\n",
      "Number of Generations: 10\n",
      "Initial Population Range: (-2, 5)\n",
      "Keep Elitism: 1\n",
      "Gene DType: [<class 'float'>, None]\n",
      "Save Best Solutions: True\n",
      "Save Solutions: False\n",
      "======================================================================\n",
      "----------------------------------------------------------------------\n",
      "                           PyGAD Lifecycle                           \n",
      "======================================================================\n",
      "Step                   Handler                            Output Shape\n",
      "======================================================================\n",
      "Fitness Function       _fitness_func()                    (1)        \n",
      "----------------------------------------------------------------------\n",
      "Parent Selection       steady_state_selection()           (4, 198)   \n",
      "Number of Parents: 4\n",
      "----------------------------------------------------------------------\n",
      "Crossover              single_point_crossover()           (4, 198)   \n",
      "----------------------------------------------------------------------\n",
      "Mutation               random_mutation()                  (4, 198)   \n",
      "Mutation Genes: 19\n",
      "Random Mutation Range: (-1.0, 1.0)\n",
      "Mutation by Replacement: False\n",
      "Allow Duplicated Genes: True\n",
      "----------------------------------------------------------------------\n",
      "======================================================================\n",
      "Population Size: (10, 198)\n",
      "Number of Generations: 10\n",
      "Initial Population Range: (-2, 5)\n",
      "Keep Elitism: 1\n",
      "Gene DType: [<class 'float'>, None]\n",
      "Save Best Solutions: True\n",
      "Save Solutions: False\n",
      "======================================================================\n",
      "----------------------------------------------------------------------\n",
      "                           PyGAD Lifecycle                           \n",
      "======================================================================\n",
      "Step                   Handler                            Output Shape\n",
      "======================================================================\n",
      "Fitness Function       _fitness_func()                    (1)        \n",
      "----------------------------------------------------------------------\n",
      "Parent Selection       steady_state_selection()           (4, 198)   \n",
      "Number of Parents: 4\n",
      "----------------------------------------------------------------------\n",
      "Crossover              single_point_crossover()           (4, 198)   \n",
      "----------------------------------------------------------------------\n",
      "Mutation               random_mutation()                  (4, 198)   \n",
      "Mutation Genes: 19\n",
      "Random Mutation Range: (-1.0, 1.0)\n",
      "Mutation by Replacement: False\n",
      "Allow Duplicated Genes: True\n",
      "----------------------------------------------------------------------\n",
      "======================================================================\n",
      "Population Size: (10, 198)\n",
      "Number of Generations: 10\n",
      "Initial Population Range: (-2, 5)\n",
      "Keep Elitism: 1\n",
      "Gene DType: [<class 'float'>, None]\n",
      "Save Best Solutions: True\n",
      "Save Solutions: False\n",
      "======================================================================\n",
      "----------------------------------------------------------------------\n",
      "                           PyGAD Lifecycle                           \n",
      "======================================================================\n",
      "Step                   Handler                            Output Shape\n",
      "======================================================================\n",
      "Fitness Function       _fitness_func()                    (1)        \n",
      "----------------------------------------------------------------------\n",
      "Parent Selection       steady_state_selection()           (4, 198)   \n",
      "Number of Parents: 4\n",
      "----------------------------------------------------------------------\n",
      "Crossover              single_point_crossover()           (4, 198)   \n",
      "----------------------------------------------------------------------\n",
      "Mutation               random_mutation()                  (4, 198)   \n",
      "Mutation Genes: 19\n",
      "Random Mutation Range: (-1.0, 1.0)\n",
      "Mutation by Replacement: False\n",
      "Allow Duplicated Genes: True\n",
      "----------------------------------------------------------------------\n",
      "======================================================================\n",
      "Population Size: (10, 198)\n",
      "Number of Generations: 10\n",
      "Initial Population Range: (-2, 5)\n",
      "Keep Elitism: 1\n",
      "Gene DType: [<class 'float'>, None]\n",
      "Save Best Solutions: True\n",
      "Save Solutions: False\n",
      "======================================================================\n",
      "----------------------------------------------------------------------\n",
      "                           PyGAD Lifecycle                           \n",
      "======================================================================\n",
      "Step                   Handler                            Output Shape\n",
      "======================================================================\n",
      "Fitness Function       _fitness_func()                    (1)        \n",
      "----------------------------------------------------------------------\n",
      "Parent Selection       steady_state_selection()           (4, 198)   \n",
      "Number of Parents: 4\n",
      "----------------------------------------------------------------------\n",
      "Crossover              single_point_crossover()           (4, 198)   \n",
      "----------------------------------------------------------------------\n",
      "Mutation               random_mutation()                  (4, 198)   \n",
      "Mutation Genes: 19\n",
      "Random Mutation Range: (-1.0, 1.0)\n",
      "Mutation by Replacement: False\n",
      "Allow Duplicated Genes: True\n",
      "----------------------------------------------------------------------\n",
      "======================================================================\n",
      "Population Size: (10, 198)\n",
      "Number of Generations: 10\n",
      "Initial Population Range: (-2, 5)\n",
      "Keep Elitism: 1\n",
      "Gene DType: [<class 'float'>, None]\n",
      "Save Best Solutions: True\n",
      "Save Solutions: False\n",
      "======================================================================\n",
      "----------------------------------------------------------------------\n",
      "                           PyGAD Lifecycle                           \n",
      "======================================================================\n",
      "Step                   Handler                            Output Shape\n",
      "======================================================================\n",
      "Fitness Function       _fitness_func()                    (1)        \n",
      "----------------------------------------------------------------------\n",
      "Parent Selection       steady_state_selection()           (4, 270)   \n",
      "Number of Parents: 4\n",
      "----------------------------------------------------------------------\n",
      "Crossover              single_point_crossover()           (4, 270)   \n",
      "----------------------------------------------------------------------\n",
      "Mutation               random_mutation()                  (4, 270)   \n",
      "Mutation Genes: 27\n",
      "Random Mutation Range: (-1.0, 1.0)\n",
      "Mutation by Replacement: False\n",
      "Allow Duplicated Genes: True\n",
      "----------------------------------------------------------------------\n",
      "======================================================================\n",
      "Population Size: (10, 270)\n",
      "Number of Generations: 10\n",
      "Initial Population Range: (-2, 5)\n",
      "Keep Elitism: 1\n",
      "Gene DType: [<class 'float'>, None]\n",
      "Save Best Solutions: True\n",
      "Save Solutions: False\n",
      "======================================================================\n",
      "----------------------------------------------------------------------\n",
      "                           PyGAD Lifecycle                           \n",
      "======================================================================\n",
      "Step                   Handler                            Output Shape\n",
      "======================================================================\n",
      "Fitness Function       _fitness_func()                    (1)        \n",
      "----------------------------------------------------------------------\n",
      "Parent Selection       steady_state_selection()           (4, 270)   \n",
      "Number of Parents: 4\n",
      "----------------------------------------------------------------------\n",
      "Crossover              single_point_crossover()           (4, 270)   \n",
      "----------------------------------------------------------------------\n",
      "Mutation               random_mutation()                  (4, 270)   \n",
      "Mutation Genes: 27\n",
      "Random Mutation Range: (-1.0, 1.0)\n",
      "Mutation by Replacement: False\n",
      "Allow Duplicated Genes: True\n",
      "----------------------------------------------------------------------\n",
      "======================================================================\n",
      "Population Size: (10, 270)\n",
      "Number of Generations: 10\n",
      "Initial Population Range: (-2, 5)\n",
      "Keep Elitism: 1\n",
      "Gene DType: [<class 'float'>, None]\n",
      "Save Best Solutions: True\n",
      "Save Solutions: False\n",
      "======================================================================\n",
      "----------------------------------------------------------------------\n",
      "                           PyGAD Lifecycle                           \n",
      "======================================================================\n",
      "Step                   Handler                            Output Shape\n",
      "======================================================================\n",
      "Fitness Function       _fitness_func()                    (1)        \n",
      "----------------------------------------------------------------------\n",
      "Parent Selection       steady_state_selection()           (4, 270)   \n",
      "Number of Parents: 4\n",
      "----------------------------------------------------------------------\n",
      "Crossover              single_point_crossover()           (4, 270)   \n",
      "----------------------------------------------------------------------\n",
      "Mutation               random_mutation()                  (4, 270)   \n",
      "Mutation Genes: 27\n",
      "Random Mutation Range: (-1.0, 1.0)\n",
      "Mutation by Replacement: False\n",
      "Allow Duplicated Genes: True\n",
      "----------------------------------------------------------------------\n",
      "======================================================================\n",
      "Population Size: (10, 270)\n",
      "Number of Generations: 10\n",
      "Initial Population Range: (-2, 5)\n",
      "Keep Elitism: 1\n",
      "Gene DType: [<class 'float'>, None]\n",
      "Save Best Solutions: True\n",
      "Save Solutions: False\n",
      "======================================================================\n",
      "----------------------------------------------------------------------\n",
      "                           PyGAD Lifecycle                           \n",
      "======================================================================\n",
      "Step                   Handler                            Output Shape\n",
      "======================================================================\n",
      "Fitness Function       _fitness_func()                    (1)        \n",
      "----------------------------------------------------------------------\n",
      "Parent Selection       steady_state_selection()           (4, 270)   \n",
      "Number of Parents: 4\n",
      "----------------------------------------------------------------------\n",
      "Crossover              single_point_crossover()           (4, 270)   \n",
      "----------------------------------------------------------------------\n",
      "Mutation               random_mutation()                  (4, 270)   \n",
      "Mutation Genes: 27\n",
      "Random Mutation Range: (-1.0, 1.0)\n",
      "Mutation by Replacement: False\n",
      "Allow Duplicated Genes: True\n",
      "----------------------------------------------------------------------\n",
      "======================================================================\n",
      "Population Size: (10, 270)\n",
      "Number of Generations: 10\n",
      "Initial Population Range: (-2, 5)\n",
      "Keep Elitism: 1\n",
      "Gene DType: [<class 'float'>, None]\n",
      "Save Best Solutions: True\n",
      "Save Solutions: False\n",
      "======================================================================\n",
      "----------------------------------------------------------------------\n",
      "                           PyGAD Lifecycle                           \n",
      "======================================================================\n",
      "Step                   Handler                            Output Shape\n",
      "======================================================================\n",
      "Fitness Function       _fitness_func()                    (1)        \n",
      "----------------------------------------------------------------------\n",
      "Parent Selection       steady_state_selection()           (4, 270)   \n",
      "Number of Parents: 4\n",
      "----------------------------------------------------------------------\n",
      "Crossover              single_point_crossover()           (4, 270)   \n",
      "----------------------------------------------------------------------\n",
      "Mutation               random_mutation()                  (4, 270)   \n",
      "Mutation Genes: 27\n",
      "Random Mutation Range: (-1.0, 1.0)\n",
      "Mutation by Replacement: False\n",
      "Allow Duplicated Genes: True\n",
      "----------------------------------------------------------------------\n",
      "======================================================================\n",
      "Population Size: (10, 270)\n",
      "Number of Generations: 10\n",
      "Initial Population Range: (-2, 5)\n",
      "Keep Elitism: 1\n",
      "Gene DType: [<class 'float'>, None]\n",
      "Save Best Solutions: True\n",
      "Save Solutions: False\n",
      "======================================================================\n",
      "----------------------------------------------------------------------\n",
      "                           PyGAD Lifecycle                           \n",
      "======================================================================\n",
      "Step                   Handler                            Output Shape\n",
      "======================================================================\n",
      "Fitness Function       _fitness_func()                    (1)        \n",
      "----------------------------------------------------------------------\n",
      "Parent Selection       steady_state_selection()           (4, 342)   \n",
      "Number of Parents: 4\n",
      "----------------------------------------------------------------------\n",
      "Crossover              single_point_crossover()           (4, 342)   \n",
      "----------------------------------------------------------------------\n",
      "Mutation               random_mutation()                  (4, 342)   \n",
      "Mutation Genes: 34\n",
      "Random Mutation Range: (-1.0, 1.0)\n",
      "Mutation by Replacement: False\n",
      "Allow Duplicated Genes: True\n",
      "----------------------------------------------------------------------\n",
      "======================================================================\n",
      "Population Size: (10, 342)\n",
      "Number of Generations: 10\n",
      "Initial Population Range: (-2, 5)\n",
      "Keep Elitism: 1\n",
      "Gene DType: [<class 'float'>, None]\n",
      "Save Best Solutions: True\n",
      "Save Solutions: False\n",
      "======================================================================\n",
      "----------------------------------------------------------------------\n",
      "                           PyGAD Lifecycle                           \n",
      "======================================================================\n",
      "Step                   Handler                            Output Shape\n",
      "======================================================================\n",
      "Fitness Function       _fitness_func()                    (1)        \n",
      "----------------------------------------------------------------------\n",
      "Parent Selection       steady_state_selection()           (4, 342)   \n",
      "Number of Parents: 4\n",
      "----------------------------------------------------------------------\n",
      "Crossover              single_point_crossover()           (4, 342)   \n",
      "----------------------------------------------------------------------\n",
      "Mutation               random_mutation()                  (4, 342)   \n",
      "Mutation Genes: 34\n",
      "Random Mutation Range: (-1.0, 1.0)\n",
      "Mutation by Replacement: False\n",
      "Allow Duplicated Genes: True\n",
      "----------------------------------------------------------------------\n",
      "======================================================================\n",
      "Population Size: (10, 342)\n",
      "Number of Generations: 10\n",
      "Initial Population Range: (-2, 5)\n",
      "Keep Elitism: 1\n",
      "Gene DType: [<class 'float'>, None]\n",
      "Save Best Solutions: True\n",
      "Save Solutions: False\n",
      "======================================================================\n",
      "----------------------------------------------------------------------\n",
      "                           PyGAD Lifecycle                           \n",
      "======================================================================\n",
      "Step                   Handler                            Output Shape\n",
      "======================================================================\n",
      "Fitness Function       _fitness_func()                    (1)        \n",
      "----------------------------------------------------------------------\n",
      "Parent Selection       steady_state_selection()           (4, 342)   \n",
      "Number of Parents: 4\n",
      "----------------------------------------------------------------------\n",
      "Crossover              single_point_crossover()           (4, 342)   \n",
      "----------------------------------------------------------------------\n",
      "Mutation               random_mutation()                  (4, 342)   \n",
      "Mutation Genes: 34\n",
      "Random Mutation Range: (-1.0, 1.0)\n",
      "Mutation by Replacement: False\n",
      "Allow Duplicated Genes: True\n",
      "----------------------------------------------------------------------\n",
      "======================================================================\n",
      "Population Size: (10, 342)\n",
      "Number of Generations: 10\n",
      "Initial Population Range: (-2, 5)\n",
      "Keep Elitism: 1\n",
      "Gene DType: [<class 'float'>, None]\n",
      "Save Best Solutions: True\n",
      "Save Solutions: False\n",
      "======================================================================\n",
      "----------------------------------------------------------------------\n",
      "                           PyGAD Lifecycle                           \n",
      "======================================================================\n",
      "Step                   Handler                            Output Shape\n",
      "======================================================================\n",
      "Fitness Function       _fitness_func()                    (1)        \n",
      "----------------------------------------------------------------------\n",
      "Parent Selection       steady_state_selection()           (4, 342)   \n",
      "Number of Parents: 4\n",
      "----------------------------------------------------------------------\n",
      "Crossover              single_point_crossover()           (4, 342)   \n",
      "----------------------------------------------------------------------\n",
      "Mutation               random_mutation()                  (4, 342)   \n",
      "Mutation Genes: 34\n",
      "Random Mutation Range: (-1.0, 1.0)\n",
      "Mutation by Replacement: False\n",
      "Allow Duplicated Genes: True\n",
      "----------------------------------------------------------------------\n",
      "======================================================================\n",
      "Population Size: (10, 342)\n",
      "Number of Generations: 10\n",
      "Initial Population Range: (-2, 5)\n",
      "Keep Elitism: 1\n",
      "Gene DType: [<class 'float'>, None]\n",
      "Save Best Solutions: True\n",
      "Save Solutions: False\n",
      "======================================================================\n",
      "----------------------------------------------------------------------\n",
      "                           PyGAD Lifecycle                           \n",
      "======================================================================\n",
      "Step                   Handler                            Output Shape\n",
      "======================================================================\n",
      "Fitness Function       _fitness_func()                    (1)        \n",
      "----------------------------------------------------------------------\n",
      "Parent Selection       steady_state_selection()           (4, 342)   \n",
      "Number of Parents: 4\n",
      "----------------------------------------------------------------------\n",
      "Crossover              single_point_crossover()           (4, 342)   \n",
      "----------------------------------------------------------------------\n",
      "Mutation               random_mutation()                  (4, 342)   \n",
      "Mutation Genes: 34\n",
      "Random Mutation Range: (-1.0, 1.0)\n",
      "Mutation by Replacement: False\n",
      "Allow Duplicated Genes: True\n",
      "----------------------------------------------------------------------\n",
      "======================================================================\n",
      "Population Size: (10, 342)\n",
      "Number of Generations: 10\n",
      "Initial Population Range: (-2, 5)\n",
      "Keep Elitism: 1\n",
      "Gene DType: [<class 'float'>, None]\n",
      "Save Best Solutions: True\n",
      "Save Solutions: False\n",
      "======================================================================\n",
      "----------------------------------------------------------------------\n",
      "                           PyGAD Lifecycle                           \n",
      "======================================================================\n",
      "Step                   Handler                            Output Shape\n",
      "======================================================================\n",
      "Fitness Function       _fitness_func()                    (1)        \n",
      "----------------------------------------------------------------------\n",
      "Parent Selection       steady_state_selection()           (4, 414)   \n",
      "Number of Parents: 4\n",
      "----------------------------------------------------------------------\n",
      "Crossover              single_point_crossover()           (4, 414)   \n",
      "----------------------------------------------------------------------\n",
      "Mutation               random_mutation()                  (4, 414)   \n",
      "Mutation Genes: 41\n",
      "Random Mutation Range: (-1.0, 1.0)\n",
      "Mutation by Replacement: False\n",
      "Allow Duplicated Genes: True\n",
      "----------------------------------------------------------------------\n",
      "======================================================================\n",
      "Population Size: (10, 414)\n",
      "Number of Generations: 10\n",
      "Initial Population Range: (-2, 5)\n",
      "Keep Elitism: 1\n",
      "Gene DType: [<class 'float'>, None]\n",
      "Save Best Solutions: True\n",
      "Save Solutions: False\n",
      "======================================================================\n",
      "----------------------------------------------------------------------\n",
      "                           PyGAD Lifecycle                           \n",
      "======================================================================\n",
      "Step                   Handler                            Output Shape\n",
      "======================================================================\n",
      "Fitness Function       _fitness_func()                    (1)        \n",
      "----------------------------------------------------------------------\n",
      "Parent Selection       steady_state_selection()           (4, 414)   \n",
      "Number of Parents: 4\n",
      "----------------------------------------------------------------------\n",
      "Crossover              single_point_crossover()           (4, 414)   \n",
      "----------------------------------------------------------------------\n",
      "Mutation               random_mutation()                  (4, 414)   \n",
      "Mutation Genes: 41\n",
      "Random Mutation Range: (-1.0, 1.0)\n",
      "Mutation by Replacement: False\n",
      "Allow Duplicated Genes: True\n",
      "----------------------------------------------------------------------\n",
      "======================================================================\n",
      "Population Size: (10, 414)\n",
      "Number of Generations: 10\n",
      "Initial Population Range: (-2, 5)\n",
      "Keep Elitism: 1\n",
      "Gene DType: [<class 'float'>, None]\n",
      "Save Best Solutions: True\n",
      "Save Solutions: False\n",
      "======================================================================\n",
      "----------------------------------------------------------------------\n",
      "                           PyGAD Lifecycle                           \n",
      "======================================================================\n",
      "Step                   Handler                            Output Shape\n",
      "======================================================================\n",
      "Fitness Function       _fitness_func()                    (1)        \n",
      "----------------------------------------------------------------------\n",
      "Parent Selection       steady_state_selection()           (4, 414)   \n",
      "Number of Parents: 4\n",
      "----------------------------------------------------------------------\n",
      "Crossover              single_point_crossover()           (4, 414)   \n",
      "----------------------------------------------------------------------\n",
      "Mutation               random_mutation()                  (4, 414)   \n",
      "Mutation Genes: 41\n",
      "Random Mutation Range: (-1.0, 1.0)\n",
      "Mutation by Replacement: False\n",
      "Allow Duplicated Genes: True\n",
      "----------------------------------------------------------------------\n",
      "======================================================================\n",
      "Population Size: (10, 414)\n",
      "Number of Generations: 10\n",
      "Initial Population Range: (-2, 5)\n",
      "Keep Elitism: 1\n",
      "Gene DType: [<class 'float'>, None]\n",
      "Save Best Solutions: True\n",
      "Save Solutions: False\n",
      "======================================================================\n",
      "----------------------------------------------------------------------\n",
      "                           PyGAD Lifecycle                           \n",
      "======================================================================\n",
      "Step                   Handler                            Output Shape\n",
      "======================================================================\n",
      "Fitness Function       _fitness_func()                    (1)        \n",
      "----------------------------------------------------------------------\n",
      "Parent Selection       steady_state_selection()           (4, 414)   \n",
      "Number of Parents: 4\n",
      "----------------------------------------------------------------------\n",
      "Crossover              single_point_crossover()           (4, 414)   \n",
      "----------------------------------------------------------------------\n",
      "Mutation               random_mutation()                  (4, 414)   \n",
      "Mutation Genes: 41\n",
      "Random Mutation Range: (-1.0, 1.0)\n",
      "Mutation by Replacement: False\n",
      "Allow Duplicated Genes: True\n",
      "----------------------------------------------------------------------\n",
      "======================================================================\n",
      "Population Size: (10, 414)\n",
      "Number of Generations: 10\n",
      "Initial Population Range: (-2, 5)\n",
      "Keep Elitism: 1\n",
      "Gene DType: [<class 'float'>, None]\n",
      "Save Best Solutions: True\n",
      "Save Solutions: False\n",
      "======================================================================\n",
      "----------------------------------------------------------------------\n",
      "                           PyGAD Lifecycle                           \n",
      "======================================================================\n",
      "Step                   Handler                            Output Shape\n",
      "======================================================================\n",
      "Fitness Function       _fitness_func()                    (1)        \n",
      "----------------------------------------------------------------------\n",
      "Parent Selection       steady_state_selection()           (4, 414)   \n",
      "Number of Parents: 4\n",
      "----------------------------------------------------------------------\n",
      "Crossover              single_point_crossover()           (4, 414)   \n",
      "----------------------------------------------------------------------\n",
      "Mutation               random_mutation()                  (4, 414)   \n",
      "Mutation Genes: 41\n",
      "Random Mutation Range: (-1.0, 1.0)\n",
      "Mutation by Replacement: False\n",
      "Allow Duplicated Genes: True\n",
      "----------------------------------------------------------------------\n",
      "======================================================================\n",
      "Population Size: (10, 414)\n",
      "Number of Generations: 10\n",
      "Initial Population Range: (-2, 5)\n",
      "Keep Elitism: 1\n",
      "Gene DType: [<class 'float'>, None]\n",
      "Save Best Solutions: True\n",
      "Save Solutions: False\n",
      "======================================================================\n",
      "----------------------------------------------------------------------\n",
      "                           PyGAD Lifecycle                           \n",
      "======================================================================\n",
      "Step                   Handler                            Output Shape\n",
      "======================================================================\n",
      "Fitness Function       _fitness_func()                    (1)        \n",
      "----------------------------------------------------------------------\n",
      "Parent Selection       steady_state_selection()           (4, 486)   \n",
      "Number of Parents: 4\n",
      "----------------------------------------------------------------------\n",
      "Crossover              single_point_crossover()           (4, 486)   \n",
      "----------------------------------------------------------------------\n",
      "Mutation               random_mutation()                  (4, 486)   \n",
      "Mutation Genes: 48\n",
      "Random Mutation Range: (-1.0, 1.0)\n",
      "Mutation by Replacement: False\n",
      "Allow Duplicated Genes: True\n",
      "----------------------------------------------------------------------\n",
      "======================================================================\n",
      "Population Size: (10, 486)\n",
      "Number of Generations: 10\n",
      "Initial Population Range: (-2, 5)\n",
      "Keep Elitism: 1\n",
      "Gene DType: [<class 'float'>, None]\n",
      "Save Best Solutions: True\n",
      "Save Solutions: False\n",
      "======================================================================\n",
      "----------------------------------------------------------------------\n",
      "                           PyGAD Lifecycle                           \n",
      "======================================================================\n",
      "Step                   Handler                            Output Shape\n",
      "======================================================================\n",
      "Fitness Function       _fitness_func()                    (1)        \n",
      "----------------------------------------------------------------------\n",
      "Parent Selection       steady_state_selection()           (4, 486)   \n",
      "Number of Parents: 4\n",
      "----------------------------------------------------------------------\n",
      "Crossover              single_point_crossover()           (4, 486)   \n",
      "----------------------------------------------------------------------\n",
      "Mutation               random_mutation()                  (4, 486)   \n",
      "Mutation Genes: 48\n",
      "Random Mutation Range: (-1.0, 1.0)\n",
      "Mutation by Replacement: False\n",
      "Allow Duplicated Genes: True\n",
      "----------------------------------------------------------------------\n",
      "======================================================================\n",
      "Population Size: (10, 486)\n",
      "Number of Generations: 10\n",
      "Initial Population Range: (-2, 5)\n",
      "Keep Elitism: 1\n",
      "Gene DType: [<class 'float'>, None]\n",
      "Save Best Solutions: True\n",
      "Save Solutions: False\n",
      "======================================================================\n",
      "----------------------------------------------------------------------\n",
      "                           PyGAD Lifecycle                           \n",
      "======================================================================\n",
      "Step                   Handler                            Output Shape\n",
      "======================================================================\n",
      "Fitness Function       _fitness_func()                    (1)        \n",
      "----------------------------------------------------------------------\n",
      "Parent Selection       steady_state_selection()           (4, 486)   \n",
      "Number of Parents: 4\n",
      "----------------------------------------------------------------------\n",
      "Crossover              single_point_crossover()           (4, 486)   \n",
      "----------------------------------------------------------------------\n",
      "Mutation               random_mutation()                  (4, 486)   \n",
      "Mutation Genes: 48\n",
      "Random Mutation Range: (-1.0, 1.0)\n",
      "Mutation by Replacement: False\n",
      "Allow Duplicated Genes: True\n",
      "----------------------------------------------------------------------\n",
      "======================================================================\n",
      "Population Size: (10, 486)\n",
      "Number of Generations: 10\n",
      "Initial Population Range: (-2, 5)\n",
      "Keep Elitism: 1\n",
      "Gene DType: [<class 'float'>, None]\n",
      "Save Best Solutions: True\n",
      "Save Solutions: False\n",
      "======================================================================\n",
      "----------------------------------------------------------------------\n",
      "                           PyGAD Lifecycle                           \n",
      "======================================================================\n",
      "Step                   Handler                            Output Shape\n",
      "======================================================================\n",
      "Fitness Function       _fitness_func()                    (1)        \n",
      "----------------------------------------------------------------------\n",
      "Parent Selection       steady_state_selection()           (4, 486)   \n",
      "Number of Parents: 4\n",
      "----------------------------------------------------------------------\n",
      "Crossover              single_point_crossover()           (4, 486)   \n",
      "----------------------------------------------------------------------\n",
      "Mutation               random_mutation()                  (4, 486)   \n",
      "Mutation Genes: 48\n",
      "Random Mutation Range: (-1.0, 1.0)\n",
      "Mutation by Replacement: False\n",
      "Allow Duplicated Genes: True\n",
      "----------------------------------------------------------------------\n",
      "======================================================================\n",
      "Population Size: (10, 486)\n",
      "Number of Generations: 10\n",
      "Initial Population Range: (-2, 5)\n",
      "Keep Elitism: 1\n",
      "Gene DType: [<class 'float'>, None]\n",
      "Save Best Solutions: True\n",
      "Save Solutions: False\n",
      "======================================================================\n",
      "----------------------------------------------------------------------\n",
      "                           PyGAD Lifecycle                           \n",
      "======================================================================\n",
      "Step                   Handler                            Output Shape\n",
      "======================================================================\n",
      "Fitness Function       _fitness_func()                    (1)        \n",
      "----------------------------------------------------------------------\n",
      "Parent Selection       steady_state_selection()           (4, 486)   \n",
      "Number of Parents: 4\n",
      "----------------------------------------------------------------------\n",
      "Crossover              single_point_crossover()           (4, 486)   \n",
      "----------------------------------------------------------------------\n",
      "Mutation               random_mutation()                  (4, 486)   \n",
      "Mutation Genes: 48\n",
      "Random Mutation Range: (-1.0, 1.0)\n",
      "Mutation by Replacement: False\n",
      "Allow Duplicated Genes: True\n",
      "----------------------------------------------------------------------\n",
      "======================================================================\n",
      "Population Size: (10, 486)\n",
      "Number of Generations: 10\n",
      "Initial Population Range: (-2, 5)\n",
      "Keep Elitism: 1\n",
      "Gene DType: [<class 'float'>, None]\n",
      "Save Best Solutions: True\n",
      "Save Solutions: False\n",
      "======================================================================\n",
      "----------------------------------------------------------------------\n",
      "                           PyGAD Lifecycle                           \n",
      "======================================================================\n",
      "Step                   Handler                            Output Shape\n",
      "======================================================================\n",
      "Fitness Function       _fitness_func()                    (1)        \n",
      "----------------------------------------------------------------------\n",
      "Parent Selection       steady_state_selection()           (4, 270)   \n",
      "Number of Parents: 4\n",
      "----------------------------------------------------------------------\n",
      "Crossover              single_point_crossover()           (4, 270)   \n",
      "----------------------------------------------------------------------\n",
      "Mutation               random_mutation()                  (4, 270)   \n",
      "Mutation Genes: 27\n",
      "Random Mutation Range: (-1.0, 1.0)\n",
      "Mutation by Replacement: False\n",
      "Allow Duplicated Genes: True\n",
      "----------------------------------------------------------------------\n",
      "======================================================================\n",
      "Population Size: (10, 270)\n",
      "Number of Generations: 10\n",
      "Initial Population Range: (-2, 5)\n",
      "Keep Elitism: 1\n",
      "Gene DType: [<class 'float'>, None]\n",
      "Save Best Solutions: True\n",
      "Save Solutions: False\n",
      "======================================================================\n",
      "----------------------------------------------------------------------\n",
      "                           PyGAD Lifecycle                           \n",
      "======================================================================\n",
      "Step                   Handler                            Output Shape\n",
      "======================================================================\n",
      "Fitness Function       _fitness_func()                    (1)        \n",
      "----------------------------------------------------------------------\n",
      "Parent Selection       steady_state_selection()           (4, 270)   \n",
      "Number of Parents: 4\n",
      "----------------------------------------------------------------------\n",
      "Crossover              single_point_crossover()           (4, 270)   \n",
      "----------------------------------------------------------------------\n",
      "Mutation               random_mutation()                  (4, 270)   \n",
      "Mutation Genes: 27\n",
      "Random Mutation Range: (-1.0, 1.0)\n",
      "Mutation by Replacement: False\n",
      "Allow Duplicated Genes: True\n",
      "----------------------------------------------------------------------\n",
      "======================================================================\n",
      "Population Size: (10, 270)\n",
      "Number of Generations: 10\n",
      "Initial Population Range: (-2, 5)\n",
      "Keep Elitism: 1\n",
      "Gene DType: [<class 'float'>, None]\n",
      "Save Best Solutions: True\n",
      "Save Solutions: False\n",
      "======================================================================\n",
      "----------------------------------------------------------------------\n",
      "                           PyGAD Lifecycle                           \n",
      "======================================================================\n",
      "Step                   Handler                            Output Shape\n",
      "======================================================================\n",
      "Fitness Function       _fitness_func()                    (1)        \n",
      "----------------------------------------------------------------------\n",
      "Parent Selection       steady_state_selection()           (4, 270)   \n",
      "Number of Parents: 4\n",
      "----------------------------------------------------------------------\n",
      "Crossover              single_point_crossover()           (4, 270)   \n",
      "----------------------------------------------------------------------\n",
      "Mutation               random_mutation()                  (4, 270)   \n",
      "Mutation Genes: 27\n",
      "Random Mutation Range: (-1.0, 1.0)\n",
      "Mutation by Replacement: False\n",
      "Allow Duplicated Genes: True\n",
      "----------------------------------------------------------------------\n",
      "======================================================================\n",
      "Population Size: (10, 270)\n",
      "Number of Generations: 10\n",
      "Initial Population Range: (-2, 5)\n",
      "Keep Elitism: 1\n",
      "Gene DType: [<class 'float'>, None]\n",
      "Save Best Solutions: True\n",
      "Save Solutions: False\n",
      "======================================================================\n",
      "----------------------------------------------------------------------\n",
      "                           PyGAD Lifecycle                           \n",
      "======================================================================\n",
      "Step                   Handler                            Output Shape\n",
      "======================================================================\n",
      "Fitness Function       _fitness_func()                    (1)        \n",
      "----------------------------------------------------------------------\n",
      "Parent Selection       steady_state_selection()           (4, 270)   \n",
      "Number of Parents: 4\n",
      "----------------------------------------------------------------------\n",
      "Crossover              single_point_crossover()           (4, 270)   \n",
      "----------------------------------------------------------------------\n",
      "Mutation               random_mutation()                  (4, 270)   \n",
      "Mutation Genes: 27\n",
      "Random Mutation Range: (-1.0, 1.0)\n",
      "Mutation by Replacement: False\n",
      "Allow Duplicated Genes: True\n",
      "----------------------------------------------------------------------\n",
      "======================================================================\n",
      "Population Size: (10, 270)\n",
      "Number of Generations: 10\n",
      "Initial Population Range: (-2, 5)\n",
      "Keep Elitism: 1\n",
      "Gene DType: [<class 'float'>, None]\n",
      "Save Best Solutions: True\n",
      "Save Solutions: False\n",
      "======================================================================\n",
      "----------------------------------------------------------------------\n",
      "                           PyGAD Lifecycle                           \n",
      "======================================================================\n",
      "Step                   Handler                            Output Shape\n",
      "======================================================================\n",
      "Fitness Function       _fitness_func()                    (1)        \n",
      "----------------------------------------------------------------------\n",
      "Parent Selection       steady_state_selection()           (4, 270)   \n",
      "Number of Parents: 4\n",
      "----------------------------------------------------------------------\n",
      "Crossover              single_point_crossover()           (4, 270)   \n",
      "----------------------------------------------------------------------\n",
      "Mutation               random_mutation()                  (4, 270)   \n",
      "Mutation Genes: 27\n",
      "Random Mutation Range: (-1.0, 1.0)\n",
      "Mutation by Replacement: False\n",
      "Allow Duplicated Genes: True\n",
      "----------------------------------------------------------------------\n",
      "======================================================================\n",
      "Population Size: (10, 270)\n",
      "Number of Generations: 10\n",
      "Initial Population Range: (-2, 5)\n",
      "Keep Elitism: 1\n",
      "Gene DType: [<class 'float'>, None]\n",
      "Save Best Solutions: True\n",
      "Save Solutions: False\n",
      "======================================================================\n",
      "----------------------------------------------------------------------\n",
      "                           PyGAD Lifecycle                           \n",
      "======================================================================\n",
      "Step                   Handler                            Output Shape\n",
      "======================================================================\n",
      "Fitness Function       _fitness_func()                    (1)        \n",
      "----------------------------------------------------------------------\n",
      "Parent Selection       steady_state_selection()           (4, 402)   \n",
      "Number of Parents: 4\n",
      "----------------------------------------------------------------------\n",
      "Crossover              single_point_crossover()           (4, 402)   \n",
      "----------------------------------------------------------------------\n",
      "Mutation               random_mutation()                  (4, 402)   \n",
      "Mutation Genes: 40\n",
      "Random Mutation Range: (-1.0, 1.0)\n",
      "Mutation by Replacement: False\n",
      "Allow Duplicated Genes: True\n",
      "----------------------------------------------------------------------\n",
      "======================================================================\n",
      "Population Size: (10, 402)\n",
      "Number of Generations: 10\n",
      "Initial Population Range: (-2, 5)\n",
      "Keep Elitism: 1\n",
      "Gene DType: [<class 'float'>, None]\n",
      "Save Best Solutions: True\n",
      "Save Solutions: False\n",
      "======================================================================\n",
      "----------------------------------------------------------------------\n",
      "                           PyGAD Lifecycle                           \n",
      "======================================================================\n",
      "Step                   Handler                            Output Shape\n",
      "======================================================================\n",
      "Fitness Function       _fitness_func()                    (1)        \n",
      "----------------------------------------------------------------------\n",
      "Parent Selection       steady_state_selection()           (4, 402)   \n",
      "Number of Parents: 4\n",
      "----------------------------------------------------------------------\n",
      "Crossover              single_point_crossover()           (4, 402)   \n",
      "----------------------------------------------------------------------\n",
      "Mutation               random_mutation()                  (4, 402)   \n",
      "Mutation Genes: 40\n",
      "Random Mutation Range: (-1.0, 1.0)\n",
      "Mutation by Replacement: False\n",
      "Allow Duplicated Genes: True\n",
      "----------------------------------------------------------------------\n",
      "======================================================================\n",
      "Population Size: (10, 402)\n",
      "Number of Generations: 10\n",
      "Initial Population Range: (-2, 5)\n",
      "Keep Elitism: 1\n",
      "Gene DType: [<class 'float'>, None]\n",
      "Save Best Solutions: True\n",
      "Save Solutions: False\n",
      "======================================================================\n",
      "----------------------------------------------------------------------\n",
      "                           PyGAD Lifecycle                           \n",
      "======================================================================\n",
      "Step                   Handler                            Output Shape\n",
      "======================================================================\n",
      "Fitness Function       _fitness_func()                    (1)        \n",
      "----------------------------------------------------------------------\n",
      "Parent Selection       steady_state_selection()           (4, 402)   \n",
      "Number of Parents: 4\n",
      "----------------------------------------------------------------------\n",
      "Crossover              single_point_crossover()           (4, 402)   \n",
      "----------------------------------------------------------------------\n",
      "Mutation               random_mutation()                  (4, 402)   \n",
      "Mutation Genes: 40\n",
      "Random Mutation Range: (-1.0, 1.0)\n",
      "Mutation by Replacement: False\n",
      "Allow Duplicated Genes: True\n",
      "----------------------------------------------------------------------\n",
      "======================================================================\n",
      "Population Size: (10, 402)\n",
      "Number of Generations: 10\n",
      "Initial Population Range: (-2, 5)\n",
      "Keep Elitism: 1\n",
      "Gene DType: [<class 'float'>, None]\n",
      "Save Best Solutions: True\n",
      "Save Solutions: False\n",
      "======================================================================\n",
      "----------------------------------------------------------------------\n",
      "                           PyGAD Lifecycle                           \n",
      "======================================================================\n",
      "Step                   Handler                            Output Shape\n",
      "======================================================================\n",
      "Fitness Function       _fitness_func()                    (1)        \n",
      "----------------------------------------------------------------------\n",
      "Parent Selection       steady_state_selection()           (4, 402)   \n",
      "Number of Parents: 4\n",
      "----------------------------------------------------------------------\n",
      "Crossover              single_point_crossover()           (4, 402)   \n",
      "----------------------------------------------------------------------\n",
      "Mutation               random_mutation()                  (4, 402)   \n",
      "Mutation Genes: 40\n",
      "Random Mutation Range: (-1.0, 1.0)\n",
      "Mutation by Replacement: False\n",
      "Allow Duplicated Genes: True\n",
      "----------------------------------------------------------------------\n",
      "======================================================================\n",
      "Population Size: (10, 402)\n",
      "Number of Generations: 10\n",
      "Initial Population Range: (-2, 5)\n",
      "Keep Elitism: 1\n",
      "Gene DType: [<class 'float'>, None]\n",
      "Save Best Solutions: True\n",
      "Save Solutions: False\n",
      "======================================================================\n",
      "----------------------------------------------------------------------\n",
      "                           PyGAD Lifecycle                           \n",
      "======================================================================\n",
      "Step                   Handler                            Output Shape\n",
      "======================================================================\n",
      "Fitness Function       _fitness_func()                    (1)        \n",
      "----------------------------------------------------------------------\n",
      "Parent Selection       steady_state_selection()           (4, 402)   \n",
      "Number of Parents: 4\n",
      "----------------------------------------------------------------------\n",
      "Crossover              single_point_crossover()           (4, 402)   \n",
      "----------------------------------------------------------------------\n",
      "Mutation               random_mutation()                  (4, 402)   \n",
      "Mutation Genes: 40\n",
      "Random Mutation Range: (-1.0, 1.0)\n",
      "Mutation by Replacement: False\n",
      "Allow Duplicated Genes: True\n",
      "----------------------------------------------------------------------\n",
      "======================================================================\n",
      "Population Size: (10, 402)\n",
      "Number of Generations: 10\n",
      "Initial Population Range: (-2, 5)\n",
      "Keep Elitism: 1\n",
      "Gene DType: [<class 'float'>, None]\n",
      "Save Best Solutions: True\n",
      "Save Solutions: False\n",
      "======================================================================\n",
      "----------------------------------------------------------------------\n",
      "                           PyGAD Lifecycle                           \n",
      "======================================================================\n",
      "Step                   Handler                            Output Shape\n",
      "======================================================================\n",
      "Fitness Function       _fitness_func()                    (1)        \n",
      "----------------------------------------------------------------------\n",
      "Parent Selection       steady_state_selection()           (4, 534)   \n",
      "Number of Parents: 4\n",
      "----------------------------------------------------------------------\n",
      "Crossover              single_point_crossover()           (4, 534)   \n",
      "----------------------------------------------------------------------\n",
      "Mutation               random_mutation()                  (4, 534)   \n",
      "Mutation Genes: 53\n",
      "Random Mutation Range: (-1.0, 1.0)\n",
      "Mutation by Replacement: False\n",
      "Allow Duplicated Genes: True\n",
      "----------------------------------------------------------------------\n",
      "======================================================================\n",
      "Population Size: (10, 534)\n",
      "Number of Generations: 10\n",
      "Initial Population Range: (-2, 5)\n",
      "Keep Elitism: 1\n",
      "Gene DType: [<class 'float'>, None]\n",
      "Save Best Solutions: True\n",
      "Save Solutions: False\n",
      "======================================================================\n",
      "----------------------------------------------------------------------\n",
      "                           PyGAD Lifecycle                           \n",
      "======================================================================\n",
      "Step                   Handler                            Output Shape\n",
      "======================================================================\n",
      "Fitness Function       _fitness_func()                    (1)        \n",
      "----------------------------------------------------------------------\n",
      "Parent Selection       steady_state_selection()           (4, 534)   \n",
      "Number of Parents: 4\n",
      "----------------------------------------------------------------------\n",
      "Crossover              single_point_crossover()           (4, 534)   \n",
      "----------------------------------------------------------------------\n",
      "Mutation               random_mutation()                  (4, 534)   \n",
      "Mutation Genes: 53\n",
      "Random Mutation Range: (-1.0, 1.0)\n",
      "Mutation by Replacement: False\n",
      "Allow Duplicated Genes: True\n",
      "----------------------------------------------------------------------\n",
      "======================================================================\n",
      "Population Size: (10, 534)\n",
      "Number of Generations: 10\n",
      "Initial Population Range: (-2, 5)\n",
      "Keep Elitism: 1\n",
      "Gene DType: [<class 'float'>, None]\n",
      "Save Best Solutions: True\n",
      "Save Solutions: False\n",
      "======================================================================\n",
      "----------------------------------------------------------------------\n",
      "                           PyGAD Lifecycle                           \n",
      "======================================================================\n",
      "Step                   Handler                            Output Shape\n",
      "======================================================================\n",
      "Fitness Function       _fitness_func()                    (1)        \n",
      "----------------------------------------------------------------------\n",
      "Parent Selection       steady_state_selection()           (4, 534)   \n",
      "Number of Parents: 4\n",
      "----------------------------------------------------------------------\n",
      "Crossover              single_point_crossover()           (4, 534)   \n",
      "----------------------------------------------------------------------\n",
      "Mutation               random_mutation()                  (4, 534)   \n",
      "Mutation Genes: 53\n",
      "Random Mutation Range: (-1.0, 1.0)\n",
      "Mutation by Replacement: False\n",
      "Allow Duplicated Genes: True\n",
      "----------------------------------------------------------------------\n",
      "======================================================================\n",
      "Population Size: (10, 534)\n",
      "Number of Generations: 10\n",
      "Initial Population Range: (-2, 5)\n",
      "Keep Elitism: 1\n",
      "Gene DType: [<class 'float'>, None]\n",
      "Save Best Solutions: True\n",
      "Save Solutions: False\n",
      "======================================================================\n",
      "----------------------------------------------------------------------\n",
      "                           PyGAD Lifecycle                           \n",
      "======================================================================\n",
      "Step                   Handler                            Output Shape\n",
      "======================================================================\n",
      "Fitness Function       _fitness_func()                    (1)        \n",
      "----------------------------------------------------------------------\n",
      "Parent Selection       steady_state_selection()           (4, 534)   \n",
      "Number of Parents: 4\n",
      "----------------------------------------------------------------------\n",
      "Crossover              single_point_crossover()           (4, 534)   \n",
      "----------------------------------------------------------------------\n",
      "Mutation               random_mutation()                  (4, 534)   \n",
      "Mutation Genes: 53\n",
      "Random Mutation Range: (-1.0, 1.0)\n",
      "Mutation by Replacement: False\n",
      "Allow Duplicated Genes: True\n",
      "----------------------------------------------------------------------\n",
      "======================================================================\n",
      "Population Size: (10, 534)\n",
      "Number of Generations: 10\n",
      "Initial Population Range: (-2, 5)\n",
      "Keep Elitism: 1\n",
      "Gene DType: [<class 'float'>, None]\n",
      "Save Best Solutions: True\n",
      "Save Solutions: False\n",
      "======================================================================\n",
      "----------------------------------------------------------------------\n",
      "                           PyGAD Lifecycle                           \n",
      "======================================================================\n",
      "Step                   Handler                            Output Shape\n",
      "======================================================================\n",
      "Fitness Function       _fitness_func()                    (1)        \n",
      "----------------------------------------------------------------------\n",
      "Parent Selection       steady_state_selection()           (4, 534)   \n",
      "Number of Parents: 4\n",
      "----------------------------------------------------------------------\n",
      "Crossover              single_point_crossover()           (4, 534)   \n",
      "----------------------------------------------------------------------\n",
      "Mutation               random_mutation()                  (4, 534)   \n",
      "Mutation Genes: 53\n",
      "Random Mutation Range: (-1.0, 1.0)\n",
      "Mutation by Replacement: False\n",
      "Allow Duplicated Genes: True\n",
      "----------------------------------------------------------------------\n",
      "======================================================================\n",
      "Population Size: (10, 534)\n",
      "Number of Generations: 10\n",
      "Initial Population Range: (-2, 5)\n",
      "Keep Elitism: 1\n",
      "Gene DType: [<class 'float'>, None]\n",
      "Save Best Solutions: True\n",
      "Save Solutions: False\n",
      "======================================================================\n",
      "----------------------------------------------------------------------\n",
      "                           PyGAD Lifecycle                           \n",
      "======================================================================\n",
      "Step                   Handler                            Output Shape\n",
      "======================================================================\n",
      "Fitness Function       _fitness_func()                    (1)        \n",
      "----------------------------------------------------------------------\n",
      "Parent Selection       steady_state_selection()           (4, 666)   \n",
      "Number of Parents: 4\n",
      "----------------------------------------------------------------------\n",
      "Crossover              single_point_crossover()           (4, 666)   \n",
      "----------------------------------------------------------------------\n",
      "Mutation               random_mutation()                  (4, 666)   \n",
      "Mutation Genes: 66\n",
      "Random Mutation Range: (-1.0, 1.0)\n",
      "Mutation by Replacement: False\n",
      "Allow Duplicated Genes: True\n",
      "----------------------------------------------------------------------\n",
      "======================================================================\n",
      "Population Size: (10, 666)\n",
      "Number of Generations: 10\n",
      "Initial Population Range: (-2, 5)\n",
      "Keep Elitism: 1\n",
      "Gene DType: [<class 'float'>, None]\n",
      "Save Best Solutions: True\n",
      "Save Solutions: False\n",
      "======================================================================\n",
      "----------------------------------------------------------------------\n",
      "                           PyGAD Lifecycle                           \n",
      "======================================================================\n",
      "Step                   Handler                            Output Shape\n",
      "======================================================================\n",
      "Fitness Function       _fitness_func()                    (1)        \n",
      "----------------------------------------------------------------------\n",
      "Parent Selection       steady_state_selection()           (4, 666)   \n",
      "Number of Parents: 4\n",
      "----------------------------------------------------------------------\n",
      "Crossover              single_point_crossover()           (4, 666)   \n",
      "----------------------------------------------------------------------\n",
      "Mutation               random_mutation()                  (4, 666)   \n",
      "Mutation Genes: 66\n",
      "Random Mutation Range: (-1.0, 1.0)\n",
      "Mutation by Replacement: False\n",
      "Allow Duplicated Genes: True\n",
      "----------------------------------------------------------------------\n",
      "======================================================================\n",
      "Population Size: (10, 666)\n",
      "Number of Generations: 10\n",
      "Initial Population Range: (-2, 5)\n",
      "Keep Elitism: 1\n",
      "Gene DType: [<class 'float'>, None]\n",
      "Save Best Solutions: True\n",
      "Save Solutions: False\n",
      "======================================================================\n",
      "----------------------------------------------------------------------\n",
      "                           PyGAD Lifecycle                           \n",
      "======================================================================\n",
      "Step                   Handler                            Output Shape\n",
      "======================================================================\n",
      "Fitness Function       _fitness_func()                    (1)        \n",
      "----------------------------------------------------------------------\n",
      "Parent Selection       steady_state_selection()           (4, 666)   \n",
      "Number of Parents: 4\n",
      "----------------------------------------------------------------------\n",
      "Crossover              single_point_crossover()           (4, 666)   \n",
      "----------------------------------------------------------------------\n",
      "Mutation               random_mutation()                  (4, 666)   \n",
      "Mutation Genes: 66\n",
      "Random Mutation Range: (-1.0, 1.0)\n",
      "Mutation by Replacement: False\n",
      "Allow Duplicated Genes: True\n",
      "----------------------------------------------------------------------\n",
      "======================================================================\n",
      "Population Size: (10, 666)\n",
      "Number of Generations: 10\n",
      "Initial Population Range: (-2, 5)\n",
      "Keep Elitism: 1\n",
      "Gene DType: [<class 'float'>, None]\n",
      "Save Best Solutions: True\n",
      "Save Solutions: False\n",
      "======================================================================\n",
      "----------------------------------------------------------------------\n",
      "                           PyGAD Lifecycle                           \n",
      "======================================================================\n",
      "Step                   Handler                            Output Shape\n",
      "======================================================================\n",
      "Fitness Function       _fitness_func()                    (1)        \n",
      "----------------------------------------------------------------------\n",
      "Parent Selection       steady_state_selection()           (4, 666)   \n",
      "Number of Parents: 4\n",
      "----------------------------------------------------------------------\n",
      "Crossover              single_point_crossover()           (4, 666)   \n",
      "----------------------------------------------------------------------\n",
      "Mutation               random_mutation()                  (4, 666)   \n",
      "Mutation Genes: 66\n",
      "Random Mutation Range: (-1.0, 1.0)\n",
      "Mutation by Replacement: False\n",
      "Allow Duplicated Genes: True\n",
      "----------------------------------------------------------------------\n",
      "======================================================================\n",
      "Population Size: (10, 666)\n",
      "Number of Generations: 10\n",
      "Initial Population Range: (-2, 5)\n",
      "Keep Elitism: 1\n",
      "Gene DType: [<class 'float'>, None]\n",
      "Save Best Solutions: True\n",
      "Save Solutions: False\n",
      "======================================================================\n",
      "----------------------------------------------------------------------\n",
      "                           PyGAD Lifecycle                           \n",
      "======================================================================\n",
      "Step                   Handler                            Output Shape\n",
      "======================================================================\n",
      "Fitness Function       _fitness_func()                    (1)        \n",
      "----------------------------------------------------------------------\n",
      "Parent Selection       steady_state_selection()           (4, 666)   \n",
      "Number of Parents: 4\n",
      "----------------------------------------------------------------------\n",
      "Crossover              single_point_crossover()           (4, 666)   \n",
      "----------------------------------------------------------------------\n",
      "Mutation               random_mutation()                  (4, 666)   \n",
      "Mutation Genes: 66\n",
      "Random Mutation Range: (-1.0, 1.0)\n",
      "Mutation by Replacement: False\n",
      "Allow Duplicated Genes: True\n",
      "----------------------------------------------------------------------\n",
      "======================================================================\n",
      "Population Size: (10, 666)\n",
      "Number of Generations: 10\n",
      "Initial Population Range: (-2, 5)\n",
      "Keep Elitism: 1\n",
      "Gene DType: [<class 'float'>, None]\n",
      "Save Best Solutions: True\n",
      "Save Solutions: False\n",
      "======================================================================\n",
      "----------------------------------------------------------------------\n",
      "                           PyGAD Lifecycle                           \n",
      "======================================================================\n",
      "Step                   Handler                            Output Shape\n",
      "======================================================================\n",
      "Fitness Function       _fitness_func()                    (1)        \n",
      "----------------------------------------------------------------------\n",
      "Parent Selection       steady_state_selection()           (4, 798)   \n",
      "Number of Parents: 4\n",
      "----------------------------------------------------------------------\n",
      "Crossover              single_point_crossover()           (4, 798)   \n",
      "----------------------------------------------------------------------\n",
      "Mutation               random_mutation()                  (4, 798)   \n",
      "Mutation Genes: 79\n",
      "Random Mutation Range: (-1.0, 1.0)\n",
      "Mutation by Replacement: False\n",
      "Allow Duplicated Genes: True\n",
      "----------------------------------------------------------------------\n",
      "======================================================================\n",
      "Population Size: (10, 798)\n",
      "Number of Generations: 10\n",
      "Initial Population Range: (-2, 5)\n",
      "Keep Elitism: 1\n",
      "Gene DType: [<class 'float'>, None]\n",
      "Save Best Solutions: True\n",
      "Save Solutions: False\n",
      "======================================================================\n",
      "----------------------------------------------------------------------\n",
      "                           PyGAD Lifecycle                           \n",
      "======================================================================\n",
      "Step                   Handler                            Output Shape\n",
      "======================================================================\n",
      "Fitness Function       _fitness_func()                    (1)        \n",
      "----------------------------------------------------------------------\n",
      "Parent Selection       steady_state_selection()           (4, 798)   \n",
      "Number of Parents: 4\n",
      "----------------------------------------------------------------------\n",
      "Crossover              single_point_crossover()           (4, 798)   \n",
      "----------------------------------------------------------------------\n",
      "Mutation               random_mutation()                  (4, 798)   \n",
      "Mutation Genes: 79\n",
      "Random Mutation Range: (-1.0, 1.0)\n",
      "Mutation by Replacement: False\n",
      "Allow Duplicated Genes: True\n",
      "----------------------------------------------------------------------\n",
      "======================================================================\n",
      "Population Size: (10, 798)\n",
      "Number of Generations: 10\n",
      "Initial Population Range: (-2, 5)\n",
      "Keep Elitism: 1\n",
      "Gene DType: [<class 'float'>, None]\n",
      "Save Best Solutions: True\n",
      "Save Solutions: False\n",
      "======================================================================\n",
      "----------------------------------------------------------------------\n",
      "                           PyGAD Lifecycle                           \n",
      "======================================================================\n",
      "Step                   Handler                            Output Shape\n",
      "======================================================================\n",
      "Fitness Function       _fitness_func()                    (1)        \n",
      "----------------------------------------------------------------------\n",
      "Parent Selection       steady_state_selection()           (4, 798)   \n",
      "Number of Parents: 4\n",
      "----------------------------------------------------------------------\n",
      "Crossover              single_point_crossover()           (4, 798)   \n",
      "----------------------------------------------------------------------\n",
      "Mutation               random_mutation()                  (4, 798)   \n",
      "Mutation Genes: 79\n",
      "Random Mutation Range: (-1.0, 1.0)\n",
      "Mutation by Replacement: False\n",
      "Allow Duplicated Genes: True\n",
      "----------------------------------------------------------------------\n",
      "======================================================================\n",
      "Population Size: (10, 798)\n",
      "Number of Generations: 10\n",
      "Initial Population Range: (-2, 5)\n",
      "Keep Elitism: 1\n",
      "Gene DType: [<class 'float'>, None]\n",
      "Save Best Solutions: True\n",
      "Save Solutions: False\n",
      "======================================================================\n",
      "----------------------------------------------------------------------\n",
      "                           PyGAD Lifecycle                           \n",
      "======================================================================\n",
      "Step                   Handler                            Output Shape\n",
      "======================================================================\n",
      "Fitness Function       _fitness_func()                    (1)        \n",
      "----------------------------------------------------------------------\n",
      "Parent Selection       steady_state_selection()           (4, 798)   \n",
      "Number of Parents: 4\n",
      "----------------------------------------------------------------------\n",
      "Crossover              single_point_crossover()           (4, 798)   \n",
      "----------------------------------------------------------------------\n",
      "Mutation               random_mutation()                  (4, 798)   \n",
      "Mutation Genes: 79\n",
      "Random Mutation Range: (-1.0, 1.0)\n",
      "Mutation by Replacement: False\n",
      "Allow Duplicated Genes: True\n",
      "----------------------------------------------------------------------\n",
      "======================================================================\n",
      "Population Size: (10, 798)\n",
      "Number of Generations: 10\n",
      "Initial Population Range: (-2, 5)\n",
      "Keep Elitism: 1\n",
      "Gene DType: [<class 'float'>, None]\n",
      "Save Best Solutions: True\n",
      "Save Solutions: False\n",
      "======================================================================\n",
      "----------------------------------------------------------------------\n",
      "                           PyGAD Lifecycle                           \n",
      "======================================================================\n",
      "Step                   Handler                            Output Shape\n",
      "======================================================================\n",
      "Fitness Function       _fitness_func()                    (1)        \n",
      "----------------------------------------------------------------------\n",
      "Parent Selection       steady_state_selection()           (4, 798)   \n",
      "Number of Parents: 4\n",
      "----------------------------------------------------------------------\n",
      "Crossover              single_point_crossover()           (4, 798)   \n",
      "----------------------------------------------------------------------\n",
      "Mutation               random_mutation()                  (4, 798)   \n",
      "Mutation Genes: 79\n",
      "Random Mutation Range: (-1.0, 1.0)\n",
      "Mutation by Replacement: False\n",
      "Allow Duplicated Genes: True\n",
      "----------------------------------------------------------------------\n",
      "======================================================================\n",
      "Population Size: (10, 798)\n",
      "Number of Generations: 10\n",
      "Initial Population Range: (-2, 5)\n",
      "Keep Elitism: 1\n",
      "Gene DType: [<class 'float'>, None]\n",
      "Save Best Solutions: True\n",
      "Save Solutions: False\n",
      "======================================================================\n",
      "----------------------------------------------------------------------\n",
      "                           PyGAD Lifecycle                           \n",
      "======================================================================\n",
      "Step                   Handler                            Output Shape\n",
      "======================================================================\n",
      "Fitness Function       _fitness_func()                    (1)        \n",
      "----------------------------------------------------------------------\n",
      "Parent Selection       steady_state_selection()           (4, 342)   \n",
      "Number of Parents: 4\n",
      "----------------------------------------------------------------------\n",
      "Crossover              single_point_crossover()           (4, 342)   \n",
      "----------------------------------------------------------------------\n",
      "Mutation               random_mutation()                  (4, 342)   \n",
      "Mutation Genes: 34\n",
      "Random Mutation Range: (-1.0, 1.0)\n",
      "Mutation by Replacement: False\n",
      "Allow Duplicated Genes: True\n",
      "----------------------------------------------------------------------\n",
      "======================================================================\n",
      "Population Size: (10, 342)\n",
      "Number of Generations: 10\n",
      "Initial Population Range: (-2, 5)\n",
      "Keep Elitism: 1\n",
      "Gene DType: [<class 'float'>, None]\n",
      "Save Best Solutions: True\n",
      "Save Solutions: False\n",
      "======================================================================\n",
      "----------------------------------------------------------------------\n",
      "                           PyGAD Lifecycle                           \n",
      "======================================================================\n",
      "Step                   Handler                            Output Shape\n",
      "======================================================================\n",
      "Fitness Function       _fitness_func()                    (1)        \n",
      "----------------------------------------------------------------------\n",
      "Parent Selection       steady_state_selection()           (4, 342)   \n",
      "Number of Parents: 4\n",
      "----------------------------------------------------------------------\n",
      "Crossover              single_point_crossover()           (4, 342)   \n",
      "----------------------------------------------------------------------\n",
      "Mutation               random_mutation()                  (4, 342)   \n",
      "Mutation Genes: 34\n",
      "Random Mutation Range: (-1.0, 1.0)\n",
      "Mutation by Replacement: False\n",
      "Allow Duplicated Genes: True\n",
      "----------------------------------------------------------------------\n",
      "======================================================================\n",
      "Population Size: (10, 342)\n",
      "Number of Generations: 10\n",
      "Initial Population Range: (-2, 5)\n",
      "Keep Elitism: 1\n",
      "Gene DType: [<class 'float'>, None]\n",
      "Save Best Solutions: True\n",
      "Save Solutions: False\n",
      "======================================================================\n",
      "----------------------------------------------------------------------\n",
      "                           PyGAD Lifecycle                           \n",
      "======================================================================\n",
      "Step                   Handler                            Output Shape\n",
      "======================================================================\n",
      "Fitness Function       _fitness_func()                    (1)        \n",
      "----------------------------------------------------------------------\n",
      "Parent Selection       steady_state_selection()           (4, 342)   \n",
      "Number of Parents: 4\n",
      "----------------------------------------------------------------------\n",
      "Crossover              single_point_crossover()           (4, 342)   \n",
      "----------------------------------------------------------------------\n",
      "Mutation               random_mutation()                  (4, 342)   \n",
      "Mutation Genes: 34\n",
      "Random Mutation Range: (-1.0, 1.0)\n",
      "Mutation by Replacement: False\n",
      "Allow Duplicated Genes: True\n",
      "----------------------------------------------------------------------\n",
      "======================================================================\n",
      "Population Size: (10, 342)\n",
      "Number of Generations: 10\n",
      "Initial Population Range: (-2, 5)\n",
      "Keep Elitism: 1\n",
      "Gene DType: [<class 'float'>, None]\n",
      "Save Best Solutions: True\n",
      "Save Solutions: False\n",
      "======================================================================\n",
      "----------------------------------------------------------------------\n",
      "                           PyGAD Lifecycle                           \n",
      "======================================================================\n",
      "Step                   Handler                            Output Shape\n",
      "======================================================================\n",
      "Fitness Function       _fitness_func()                    (1)        \n",
      "----------------------------------------------------------------------\n",
      "Parent Selection       steady_state_selection()           (4, 342)   \n",
      "Number of Parents: 4\n",
      "----------------------------------------------------------------------\n",
      "Crossover              single_point_crossover()           (4, 342)   \n",
      "----------------------------------------------------------------------\n",
      "Mutation               random_mutation()                  (4, 342)   \n",
      "Mutation Genes: 34\n",
      "Random Mutation Range: (-1.0, 1.0)\n",
      "Mutation by Replacement: False\n",
      "Allow Duplicated Genes: True\n",
      "----------------------------------------------------------------------\n",
      "======================================================================\n",
      "Population Size: (10, 342)\n",
      "Number of Generations: 10\n",
      "Initial Population Range: (-2, 5)\n",
      "Keep Elitism: 1\n",
      "Gene DType: [<class 'float'>, None]\n",
      "Save Best Solutions: True\n",
      "Save Solutions: False\n",
      "======================================================================\n",
      "----------------------------------------------------------------------\n",
      "                           PyGAD Lifecycle                           \n",
      "======================================================================\n",
      "Step                   Handler                            Output Shape\n",
      "======================================================================\n",
      "Fitness Function       _fitness_func()                    (1)        \n",
      "----------------------------------------------------------------------\n",
      "Parent Selection       steady_state_selection()           (4, 342)   \n",
      "Number of Parents: 4\n",
      "----------------------------------------------------------------------\n",
      "Crossover              single_point_crossover()           (4, 342)   \n",
      "----------------------------------------------------------------------\n",
      "Mutation               random_mutation()                  (4, 342)   \n",
      "Mutation Genes: 34\n",
      "Random Mutation Range: (-1.0, 1.0)\n",
      "Mutation by Replacement: False\n",
      "Allow Duplicated Genes: True\n",
      "----------------------------------------------------------------------\n",
      "======================================================================\n",
      "Population Size: (10, 342)\n",
      "Number of Generations: 10\n",
      "Initial Population Range: (-2, 5)\n",
      "Keep Elitism: 1\n",
      "Gene DType: [<class 'float'>, None]\n",
      "Save Best Solutions: True\n",
      "Save Solutions: False\n",
      "======================================================================\n",
      "----------------------------------------------------------------------\n",
      "                           PyGAD Lifecycle                           \n",
      "======================================================================\n",
      "Step                   Handler                            Output Shape\n",
      "======================================================================\n",
      "Fitness Function       _fitness_func()                    (1)        \n",
      "----------------------------------------------------------------------\n",
      "Parent Selection       steady_state_selection()           (4, 552)   \n",
      "Number of Parents: 4\n",
      "----------------------------------------------------------------------\n",
      "Crossover              single_point_crossover()           (4, 552)   \n",
      "----------------------------------------------------------------------\n",
      "Mutation               random_mutation()                  (4, 552)   \n",
      "Mutation Genes: 55\n",
      "Random Mutation Range: (-1.0, 1.0)\n",
      "Mutation by Replacement: False\n",
      "Allow Duplicated Genes: True\n",
      "----------------------------------------------------------------------\n",
      "======================================================================\n",
      "Population Size: (10, 552)\n",
      "Number of Generations: 10\n",
      "Initial Population Range: (-2, 5)\n",
      "Keep Elitism: 1\n",
      "Gene DType: [<class 'float'>, None]\n",
      "Save Best Solutions: True\n",
      "Save Solutions: False\n",
      "======================================================================\n",
      "----------------------------------------------------------------------\n",
      "                           PyGAD Lifecycle                           \n",
      "======================================================================\n",
      "Step                   Handler                            Output Shape\n",
      "======================================================================\n",
      "Fitness Function       _fitness_func()                    (1)        \n",
      "----------------------------------------------------------------------\n",
      "Parent Selection       steady_state_selection()           (4, 552)   \n",
      "Number of Parents: 4\n",
      "----------------------------------------------------------------------\n",
      "Crossover              single_point_crossover()           (4, 552)   \n",
      "----------------------------------------------------------------------\n",
      "Mutation               random_mutation()                  (4, 552)   \n",
      "Mutation Genes: 55\n",
      "Random Mutation Range: (-1.0, 1.0)\n",
      "Mutation by Replacement: False\n",
      "Allow Duplicated Genes: True\n",
      "----------------------------------------------------------------------\n",
      "======================================================================\n",
      "Population Size: (10, 552)\n",
      "Number of Generations: 10\n",
      "Initial Population Range: (-2, 5)\n",
      "Keep Elitism: 1\n",
      "Gene DType: [<class 'float'>, None]\n",
      "Save Best Solutions: True\n",
      "Save Solutions: False\n",
      "======================================================================\n",
      "----------------------------------------------------------------------\n",
      "                           PyGAD Lifecycle                           \n",
      "======================================================================\n",
      "Step                   Handler                            Output Shape\n",
      "======================================================================\n",
      "Fitness Function       _fitness_func()                    (1)        \n",
      "----------------------------------------------------------------------\n",
      "Parent Selection       steady_state_selection()           (4, 552)   \n",
      "Number of Parents: 4\n",
      "----------------------------------------------------------------------\n",
      "Crossover              single_point_crossover()           (4, 552)   \n",
      "----------------------------------------------------------------------\n",
      "Mutation               random_mutation()                  (4, 552)   \n",
      "Mutation Genes: 55\n",
      "Random Mutation Range: (-1.0, 1.0)\n",
      "Mutation by Replacement: False\n",
      "Allow Duplicated Genes: True\n",
      "----------------------------------------------------------------------\n",
      "======================================================================\n",
      "Population Size: (10, 552)\n",
      "Number of Generations: 10\n",
      "Initial Population Range: (-2, 5)\n",
      "Keep Elitism: 1\n",
      "Gene DType: [<class 'float'>, None]\n",
      "Save Best Solutions: True\n",
      "Save Solutions: False\n",
      "======================================================================\n",
      "----------------------------------------------------------------------\n",
      "                           PyGAD Lifecycle                           \n",
      "======================================================================\n",
      "Step                   Handler                            Output Shape\n",
      "======================================================================\n",
      "Fitness Function       _fitness_func()                    (1)        \n",
      "----------------------------------------------------------------------\n",
      "Parent Selection       steady_state_selection()           (4, 552)   \n",
      "Number of Parents: 4\n",
      "----------------------------------------------------------------------\n",
      "Crossover              single_point_crossover()           (4, 552)   \n",
      "----------------------------------------------------------------------\n",
      "Mutation               random_mutation()                  (4, 552)   \n",
      "Mutation Genes: 55\n",
      "Random Mutation Range: (-1.0, 1.0)\n",
      "Mutation by Replacement: False\n",
      "Allow Duplicated Genes: True\n",
      "----------------------------------------------------------------------\n",
      "======================================================================\n",
      "Population Size: (10, 552)\n",
      "Number of Generations: 10\n",
      "Initial Population Range: (-2, 5)\n",
      "Keep Elitism: 1\n",
      "Gene DType: [<class 'float'>, None]\n",
      "Save Best Solutions: True\n",
      "Save Solutions: False\n",
      "======================================================================\n",
      "----------------------------------------------------------------------\n",
      "                           PyGAD Lifecycle                           \n",
      "======================================================================\n",
      "Step                   Handler                            Output Shape\n",
      "======================================================================\n",
      "Fitness Function       _fitness_func()                    (1)        \n",
      "----------------------------------------------------------------------\n",
      "Parent Selection       steady_state_selection()           (4, 552)   \n",
      "Number of Parents: 4\n",
      "----------------------------------------------------------------------\n",
      "Crossover              single_point_crossover()           (4, 552)   \n",
      "----------------------------------------------------------------------\n",
      "Mutation               random_mutation()                  (4, 552)   \n",
      "Mutation Genes: 55\n",
      "Random Mutation Range: (-1.0, 1.0)\n",
      "Mutation by Replacement: False\n",
      "Allow Duplicated Genes: True\n",
      "----------------------------------------------------------------------\n",
      "======================================================================\n",
      "Population Size: (10, 552)\n",
      "Number of Generations: 10\n",
      "Initial Population Range: (-2, 5)\n",
      "Keep Elitism: 1\n",
      "Gene DType: [<class 'float'>, None]\n",
      "Save Best Solutions: True\n",
      "Save Solutions: False\n",
      "======================================================================\n",
      "----------------------------------------------------------------------\n",
      "                           PyGAD Lifecycle                           \n",
      "======================================================================\n",
      "Step                   Handler                            Output Shape\n",
      "======================================================================\n",
      "Fitness Function       _fitness_func()                    (1)        \n",
      "----------------------------------------------------------------------\n",
      "Parent Selection       steady_state_selection()           (4, 762)   \n",
      "Number of Parents: 4\n",
      "----------------------------------------------------------------------\n",
      "Crossover              single_point_crossover()           (4, 762)   \n",
      "----------------------------------------------------------------------\n",
      "Mutation               random_mutation()                  (4, 762)   \n",
      "Mutation Genes: 76\n",
      "Random Mutation Range: (-1.0, 1.0)\n",
      "Mutation by Replacement: False\n",
      "Allow Duplicated Genes: True\n",
      "----------------------------------------------------------------------\n",
      "======================================================================\n",
      "Population Size: (10, 762)\n",
      "Number of Generations: 10\n",
      "Initial Population Range: (-2, 5)\n",
      "Keep Elitism: 1\n",
      "Gene DType: [<class 'float'>, None]\n",
      "Save Best Solutions: True\n",
      "Save Solutions: False\n",
      "======================================================================\n",
      "----------------------------------------------------------------------\n",
      "                           PyGAD Lifecycle                           \n",
      "======================================================================\n",
      "Step                   Handler                            Output Shape\n",
      "======================================================================\n",
      "Fitness Function       _fitness_func()                    (1)        \n",
      "----------------------------------------------------------------------\n",
      "Parent Selection       steady_state_selection()           (4, 762)   \n",
      "Number of Parents: 4\n",
      "----------------------------------------------------------------------\n",
      "Crossover              single_point_crossover()           (4, 762)   \n",
      "----------------------------------------------------------------------\n",
      "Mutation               random_mutation()                  (4, 762)   \n",
      "Mutation Genes: 76\n",
      "Random Mutation Range: (-1.0, 1.0)\n",
      "Mutation by Replacement: False\n",
      "Allow Duplicated Genes: True\n",
      "----------------------------------------------------------------------\n",
      "======================================================================\n",
      "Population Size: (10, 762)\n",
      "Number of Generations: 10\n",
      "Initial Population Range: (-2, 5)\n",
      "Keep Elitism: 1\n",
      "Gene DType: [<class 'float'>, None]\n",
      "Save Best Solutions: True\n",
      "Save Solutions: False\n",
      "======================================================================\n",
      "----------------------------------------------------------------------\n",
      "                           PyGAD Lifecycle                           \n",
      "======================================================================\n",
      "Step                   Handler                            Output Shape\n",
      "======================================================================\n",
      "Fitness Function       _fitness_func()                    (1)        \n",
      "----------------------------------------------------------------------\n",
      "Parent Selection       steady_state_selection()           (4, 762)   \n",
      "Number of Parents: 4\n",
      "----------------------------------------------------------------------\n",
      "Crossover              single_point_crossover()           (4, 762)   \n",
      "----------------------------------------------------------------------\n",
      "Mutation               random_mutation()                  (4, 762)   \n",
      "Mutation Genes: 76\n",
      "Random Mutation Range: (-1.0, 1.0)\n",
      "Mutation by Replacement: False\n",
      "Allow Duplicated Genes: True\n",
      "----------------------------------------------------------------------\n",
      "======================================================================\n",
      "Population Size: (10, 762)\n",
      "Number of Generations: 10\n",
      "Initial Population Range: (-2, 5)\n",
      "Keep Elitism: 1\n",
      "Gene DType: [<class 'float'>, None]\n",
      "Save Best Solutions: True\n",
      "Save Solutions: False\n",
      "======================================================================\n",
      "----------------------------------------------------------------------\n",
      "                           PyGAD Lifecycle                           \n",
      "======================================================================\n",
      "Step                   Handler                            Output Shape\n",
      "======================================================================\n",
      "Fitness Function       _fitness_func()                    (1)        \n",
      "----------------------------------------------------------------------\n",
      "Parent Selection       steady_state_selection()           (4, 762)   \n",
      "Number of Parents: 4\n",
      "----------------------------------------------------------------------\n",
      "Crossover              single_point_crossover()           (4, 762)   \n",
      "----------------------------------------------------------------------\n",
      "Mutation               random_mutation()                  (4, 762)   \n",
      "Mutation Genes: 76\n",
      "Random Mutation Range: (-1.0, 1.0)\n",
      "Mutation by Replacement: False\n",
      "Allow Duplicated Genes: True\n",
      "----------------------------------------------------------------------\n",
      "======================================================================\n",
      "Population Size: (10, 762)\n",
      "Number of Generations: 10\n",
      "Initial Population Range: (-2, 5)\n",
      "Keep Elitism: 1\n",
      "Gene DType: [<class 'float'>, None]\n",
      "Save Best Solutions: True\n",
      "Save Solutions: False\n",
      "======================================================================\n",
      "----------------------------------------------------------------------\n",
      "                           PyGAD Lifecycle                           \n",
      "======================================================================\n",
      "Step                   Handler                            Output Shape\n",
      "======================================================================\n",
      "Fitness Function       _fitness_func()                    (1)        \n",
      "----------------------------------------------------------------------\n",
      "Parent Selection       steady_state_selection()           (4, 762)   \n",
      "Number of Parents: 4\n",
      "----------------------------------------------------------------------\n",
      "Crossover              single_point_crossover()           (4, 762)   \n",
      "----------------------------------------------------------------------\n",
      "Mutation               random_mutation()                  (4, 762)   \n",
      "Mutation Genes: 76\n",
      "Random Mutation Range: (-1.0, 1.0)\n",
      "Mutation by Replacement: False\n",
      "Allow Duplicated Genes: True\n",
      "----------------------------------------------------------------------\n",
      "======================================================================\n",
      "Population Size: (10, 762)\n",
      "Number of Generations: 10\n",
      "Initial Population Range: (-2, 5)\n",
      "Keep Elitism: 1\n",
      "Gene DType: [<class 'float'>, None]\n",
      "Save Best Solutions: True\n",
      "Save Solutions: False\n",
      "======================================================================\n",
      "----------------------------------------------------------------------\n",
      "                           PyGAD Lifecycle                           \n",
      "======================================================================\n",
      "Step                   Handler                            Output Shape\n",
      "======================================================================\n",
      "Fitness Function       _fitness_func()                    (1)        \n",
      "----------------------------------------------------------------------\n",
      "Parent Selection       steady_state_selection()           (4, 972)   \n",
      "Number of Parents: 4\n",
      "----------------------------------------------------------------------\n",
      "Crossover              single_point_crossover()           (4, 972)   \n",
      "----------------------------------------------------------------------\n",
      "Mutation               random_mutation()                  (4, 972)   \n",
      "Mutation Genes: 97\n",
      "Random Mutation Range: (-1.0, 1.0)\n",
      "Mutation by Replacement: False\n",
      "Allow Duplicated Genes: True\n",
      "----------------------------------------------------------------------\n",
      "======================================================================\n",
      "Population Size: (10, 972)\n",
      "Number of Generations: 10\n",
      "Initial Population Range: (-2, 5)\n",
      "Keep Elitism: 1\n",
      "Gene DType: [<class 'float'>, None]\n",
      "Save Best Solutions: True\n",
      "Save Solutions: False\n",
      "======================================================================\n",
      "----------------------------------------------------------------------\n",
      "                           PyGAD Lifecycle                           \n",
      "======================================================================\n",
      "Step                   Handler                            Output Shape\n",
      "======================================================================\n",
      "Fitness Function       _fitness_func()                    (1)        \n",
      "----------------------------------------------------------------------\n",
      "Parent Selection       steady_state_selection()           (4, 972)   \n",
      "Number of Parents: 4\n",
      "----------------------------------------------------------------------\n",
      "Crossover              single_point_crossover()           (4, 972)   \n",
      "----------------------------------------------------------------------\n",
      "Mutation               random_mutation()                  (4, 972)   \n",
      "Mutation Genes: 97\n",
      "Random Mutation Range: (-1.0, 1.0)\n",
      "Mutation by Replacement: False\n",
      "Allow Duplicated Genes: True\n",
      "----------------------------------------------------------------------\n",
      "======================================================================\n",
      "Population Size: (10, 972)\n",
      "Number of Generations: 10\n",
      "Initial Population Range: (-2, 5)\n",
      "Keep Elitism: 1\n",
      "Gene DType: [<class 'float'>, None]\n",
      "Save Best Solutions: True\n",
      "Save Solutions: False\n",
      "======================================================================\n",
      "----------------------------------------------------------------------\n",
      "                           PyGAD Lifecycle                           \n",
      "======================================================================\n",
      "Step                   Handler                            Output Shape\n",
      "======================================================================\n",
      "Fitness Function       _fitness_func()                    (1)        \n",
      "----------------------------------------------------------------------\n",
      "Parent Selection       steady_state_selection()           (4, 972)   \n",
      "Number of Parents: 4\n",
      "----------------------------------------------------------------------\n",
      "Crossover              single_point_crossover()           (4, 972)   \n",
      "----------------------------------------------------------------------\n",
      "Mutation               random_mutation()                  (4, 972)   \n",
      "Mutation Genes: 97\n",
      "Random Mutation Range: (-1.0, 1.0)\n",
      "Mutation by Replacement: False\n",
      "Allow Duplicated Genes: True\n",
      "----------------------------------------------------------------------\n",
      "======================================================================\n",
      "Population Size: (10, 972)\n",
      "Number of Generations: 10\n",
      "Initial Population Range: (-2, 5)\n",
      "Keep Elitism: 1\n",
      "Gene DType: [<class 'float'>, None]\n",
      "Save Best Solutions: True\n",
      "Save Solutions: False\n",
      "======================================================================\n",
      "----------------------------------------------------------------------\n",
      "                           PyGAD Lifecycle                           \n",
      "======================================================================\n",
      "Step                   Handler                            Output Shape\n",
      "======================================================================\n",
      "Fitness Function       _fitness_func()                    (1)        \n",
      "----------------------------------------------------------------------\n",
      "Parent Selection       steady_state_selection()           (4, 972)   \n",
      "Number of Parents: 4\n",
      "----------------------------------------------------------------------\n",
      "Crossover              single_point_crossover()           (4, 972)   \n",
      "----------------------------------------------------------------------\n",
      "Mutation               random_mutation()                  (4, 972)   \n",
      "Mutation Genes: 97\n",
      "Random Mutation Range: (-1.0, 1.0)\n",
      "Mutation by Replacement: False\n",
      "Allow Duplicated Genes: True\n",
      "----------------------------------------------------------------------\n",
      "======================================================================\n",
      "Population Size: (10, 972)\n",
      "Number of Generations: 10\n",
      "Initial Population Range: (-2, 5)\n",
      "Keep Elitism: 1\n",
      "Gene DType: [<class 'float'>, None]\n",
      "Save Best Solutions: True\n",
      "Save Solutions: False\n",
      "======================================================================\n",
      "----------------------------------------------------------------------\n",
      "                           PyGAD Lifecycle                           \n",
      "======================================================================\n",
      "Step                   Handler                            Output Shape\n",
      "======================================================================\n",
      "Fitness Function       _fitness_func()                    (1)        \n",
      "----------------------------------------------------------------------\n",
      "Parent Selection       steady_state_selection()           (4, 972)   \n",
      "Number of Parents: 4\n",
      "----------------------------------------------------------------------\n",
      "Crossover              single_point_crossover()           (4, 972)   \n",
      "----------------------------------------------------------------------\n",
      "Mutation               random_mutation()                  (4, 972)   \n",
      "Mutation Genes: 97\n",
      "Random Mutation Range: (-1.0, 1.0)\n",
      "Mutation by Replacement: False\n",
      "Allow Duplicated Genes: True\n",
      "----------------------------------------------------------------------\n",
      "======================================================================\n",
      "Population Size: (10, 972)\n",
      "Number of Generations: 10\n",
      "Initial Population Range: (-2, 5)\n",
      "Keep Elitism: 1\n",
      "Gene DType: [<class 'float'>, None]\n",
      "Save Best Solutions: True\n",
      "Save Solutions: False\n",
      "======================================================================\n",
      "----------------------------------------------------------------------\n",
      "                           PyGAD Lifecycle                           \n",
      "======================================================================\n",
      "Step                  Handler                          Output Shape\n",
      "======================================================================\n",
      "Fitness Function      _fitness_func()                  (1)         \n",
      "----------------------------------------------------------------------\n",
      "Parent Selection      steady_state_selection()         (4, 1182)   \n",
      "Number of Parents: 4\n",
      "----------------------------------------------------------------------\n",
      "Crossover             single_point_crossover()         (4, 1182)   \n",
      "----------------------------------------------------------------------\n",
      "Mutation              random_mutation()                (4, 1182)   \n",
      "Mutation Genes: 118\n",
      "Random Mutation Range: (-1.0, 1.0)\n",
      "Mutation by Replacement: False\n",
      "Allow Duplicated Genes: True\n",
      "----------------------------------------------------------------------\n",
      "======================================================================\n",
      "Population Size: (10, 1182)\n",
      "Number of Generations: 10\n",
      "Initial Population Range: (-2, 5)\n",
      "Keep Elitism: 1\n",
      "Gene DType: [<class 'float'>, None]\n",
      "Save Best Solutions: True\n",
      "Save Solutions: False\n",
      "======================================================================\n",
      "----------------------------------------------------------------------\n",
      "                           PyGAD Lifecycle                           \n",
      "======================================================================\n",
      "Step                  Handler                          Output Shape\n",
      "======================================================================\n",
      "Fitness Function      _fitness_func()                  (1)         \n",
      "----------------------------------------------------------------------\n",
      "Parent Selection      steady_state_selection()         (4, 1182)   \n",
      "Number of Parents: 4\n",
      "----------------------------------------------------------------------\n",
      "Crossover             single_point_crossover()         (4, 1182)   \n",
      "----------------------------------------------------------------------\n",
      "Mutation              random_mutation()                (4, 1182)   \n",
      "Mutation Genes: 118\n",
      "Random Mutation Range: (-1.0, 1.0)\n",
      "Mutation by Replacement: False\n",
      "Allow Duplicated Genes: True\n",
      "----------------------------------------------------------------------\n",
      "======================================================================\n",
      "Population Size: (10, 1182)\n",
      "Number of Generations: 10\n",
      "Initial Population Range: (-2, 5)\n",
      "Keep Elitism: 1\n",
      "Gene DType: [<class 'float'>, None]\n",
      "Save Best Solutions: True\n",
      "Save Solutions: False\n",
      "======================================================================\n",
      "----------------------------------------------------------------------\n",
      "                           PyGAD Lifecycle                           \n",
      "======================================================================\n",
      "Step                  Handler                          Output Shape\n",
      "======================================================================\n",
      "Fitness Function      _fitness_func()                  (1)         \n",
      "----------------------------------------------------------------------\n",
      "Parent Selection      steady_state_selection()         (4, 1182)   \n",
      "Number of Parents: 4\n",
      "----------------------------------------------------------------------\n",
      "Crossover             single_point_crossover()         (4, 1182)   \n",
      "----------------------------------------------------------------------\n",
      "Mutation              random_mutation()                (4, 1182)   \n",
      "Mutation Genes: 118\n",
      "Random Mutation Range: (-1.0, 1.0)\n",
      "Mutation by Replacement: False\n",
      "Allow Duplicated Genes: True\n",
      "----------------------------------------------------------------------\n",
      "======================================================================\n",
      "Population Size: (10, 1182)\n",
      "Number of Generations: 10\n",
      "Initial Population Range: (-2, 5)\n",
      "Keep Elitism: 1\n",
      "Gene DType: [<class 'float'>, None]\n",
      "Save Best Solutions: True\n",
      "Save Solutions: False\n",
      "======================================================================\n",
      "----------------------------------------------------------------------\n",
      "                           PyGAD Lifecycle                           \n",
      "======================================================================\n",
      "Step                  Handler                          Output Shape\n",
      "======================================================================\n",
      "Fitness Function      _fitness_func()                  (1)         \n",
      "----------------------------------------------------------------------\n",
      "Parent Selection      steady_state_selection()         (4, 1182)   \n",
      "Number of Parents: 4\n",
      "----------------------------------------------------------------------\n",
      "Crossover             single_point_crossover()         (4, 1182)   \n",
      "----------------------------------------------------------------------\n",
      "Mutation              random_mutation()                (4, 1182)   \n",
      "Mutation Genes: 118\n",
      "Random Mutation Range: (-1.0, 1.0)\n",
      "Mutation by Replacement: False\n",
      "Allow Duplicated Genes: True\n",
      "----------------------------------------------------------------------\n",
      "======================================================================\n",
      "Population Size: (10, 1182)\n",
      "Number of Generations: 10\n",
      "Initial Population Range: (-2, 5)\n",
      "Keep Elitism: 1\n",
      "Gene DType: [<class 'float'>, None]\n",
      "Save Best Solutions: True\n",
      "Save Solutions: False\n",
      "======================================================================\n",
      "----------------------------------------------------------------------\n",
      "                           PyGAD Lifecycle                           \n",
      "======================================================================\n",
      "Step                  Handler                          Output Shape\n",
      "======================================================================\n",
      "Fitness Function      _fitness_func()                  (1)         \n",
      "----------------------------------------------------------------------\n",
      "Parent Selection      steady_state_selection()         (4, 1182)   \n",
      "Number of Parents: 4\n",
      "----------------------------------------------------------------------\n",
      "Crossover             single_point_crossover()         (4, 1182)   \n",
      "----------------------------------------------------------------------\n",
      "Mutation              random_mutation()                (4, 1182)   \n",
      "Mutation Genes: 118\n",
      "Random Mutation Range: (-1.0, 1.0)\n",
      "Mutation by Replacement: False\n",
      "Allow Duplicated Genes: True\n",
      "----------------------------------------------------------------------\n",
      "======================================================================\n",
      "Population Size: (10, 1182)\n",
      "Number of Generations: 10\n",
      "Initial Population Range: (-2, 5)\n",
      "Keep Elitism: 1\n",
      "Gene DType: [<class 'float'>, None]\n",
      "Save Best Solutions: True\n",
      "Save Solutions: False\n",
      "======================================================================\n",
      "----------------------------------------------------------------------\n",
      "                           PyGAD Lifecycle                           \n",
      "======================================================================\n",
      "Step                   Handler                            Output Shape\n",
      "======================================================================\n",
      "Fitness Function       _fitness_func()                    (1)        \n",
      "----------------------------------------------------------------------\n",
      "Parent Selection       steady_state_selection()           (4, 414)   \n",
      "Number of Parents: 4\n",
      "----------------------------------------------------------------------\n",
      "Crossover              single_point_crossover()           (4, 414)   \n",
      "----------------------------------------------------------------------\n",
      "Mutation               random_mutation()                  (4, 414)   \n",
      "Mutation Genes: 41\n",
      "Random Mutation Range: (-1.0, 1.0)\n",
      "Mutation by Replacement: False\n",
      "Allow Duplicated Genes: True\n",
      "----------------------------------------------------------------------\n",
      "======================================================================\n",
      "Population Size: (10, 414)\n",
      "Number of Generations: 10\n",
      "Initial Population Range: (-2, 5)\n",
      "Keep Elitism: 1\n",
      "Gene DType: [<class 'float'>, None]\n",
      "Save Best Solutions: True\n",
      "Save Solutions: False\n",
      "======================================================================\n",
      "----------------------------------------------------------------------\n",
      "                           PyGAD Lifecycle                           \n",
      "======================================================================\n",
      "Step                   Handler                            Output Shape\n",
      "======================================================================\n",
      "Fitness Function       _fitness_func()                    (1)        \n",
      "----------------------------------------------------------------------\n",
      "Parent Selection       steady_state_selection()           (4, 414)   \n",
      "Number of Parents: 4\n",
      "----------------------------------------------------------------------\n",
      "Crossover              single_point_crossover()           (4, 414)   \n",
      "----------------------------------------------------------------------\n",
      "Mutation               random_mutation()                  (4, 414)   \n",
      "Mutation Genes: 41\n",
      "Random Mutation Range: (-1.0, 1.0)\n",
      "Mutation by Replacement: False\n",
      "Allow Duplicated Genes: True\n",
      "----------------------------------------------------------------------\n",
      "======================================================================\n",
      "Population Size: (10, 414)\n",
      "Number of Generations: 10\n",
      "Initial Population Range: (-2, 5)\n",
      "Keep Elitism: 1\n",
      "Gene DType: [<class 'float'>, None]\n",
      "Save Best Solutions: True\n",
      "Save Solutions: False\n",
      "======================================================================\n",
      "----------------------------------------------------------------------\n",
      "                           PyGAD Lifecycle                           \n",
      "======================================================================\n",
      "Step                   Handler                            Output Shape\n",
      "======================================================================\n",
      "Fitness Function       _fitness_func()                    (1)        \n",
      "----------------------------------------------------------------------\n",
      "Parent Selection       steady_state_selection()           (4, 414)   \n",
      "Number of Parents: 4\n",
      "----------------------------------------------------------------------\n",
      "Crossover              single_point_crossover()           (4, 414)   \n",
      "----------------------------------------------------------------------\n",
      "Mutation               random_mutation()                  (4, 414)   \n",
      "Mutation Genes: 41\n",
      "Random Mutation Range: (-1.0, 1.0)\n",
      "Mutation by Replacement: False\n",
      "Allow Duplicated Genes: True\n",
      "----------------------------------------------------------------------\n",
      "======================================================================\n",
      "Population Size: (10, 414)\n",
      "Number of Generations: 10\n",
      "Initial Population Range: (-2, 5)\n",
      "Keep Elitism: 1\n",
      "Gene DType: [<class 'float'>, None]\n",
      "Save Best Solutions: True\n",
      "Save Solutions: False\n",
      "======================================================================\n",
      "----------------------------------------------------------------------\n",
      "                           PyGAD Lifecycle                           \n",
      "======================================================================\n",
      "Step                   Handler                            Output Shape\n",
      "======================================================================\n",
      "Fitness Function       _fitness_func()                    (1)        \n",
      "----------------------------------------------------------------------\n",
      "Parent Selection       steady_state_selection()           (4, 414)   \n",
      "Number of Parents: 4\n",
      "----------------------------------------------------------------------\n",
      "Crossover              single_point_crossover()           (4, 414)   \n",
      "----------------------------------------------------------------------\n",
      "Mutation               random_mutation()                  (4, 414)   \n",
      "Mutation Genes: 41\n",
      "Random Mutation Range: (-1.0, 1.0)\n",
      "Mutation by Replacement: False\n",
      "Allow Duplicated Genes: True\n",
      "----------------------------------------------------------------------\n",
      "======================================================================\n",
      "Population Size: (10, 414)\n",
      "Number of Generations: 10\n",
      "Initial Population Range: (-2, 5)\n",
      "Keep Elitism: 1\n",
      "Gene DType: [<class 'float'>, None]\n",
      "Save Best Solutions: True\n",
      "Save Solutions: False\n",
      "======================================================================\n",
      "----------------------------------------------------------------------\n",
      "                           PyGAD Lifecycle                           \n",
      "======================================================================\n",
      "Step                   Handler                            Output Shape\n",
      "======================================================================\n",
      "Fitness Function       _fitness_func()                    (1)        \n",
      "----------------------------------------------------------------------\n",
      "Parent Selection       steady_state_selection()           (4, 414)   \n",
      "Number of Parents: 4\n",
      "----------------------------------------------------------------------\n",
      "Crossover              single_point_crossover()           (4, 414)   \n",
      "----------------------------------------------------------------------\n",
      "Mutation               random_mutation()                  (4, 414)   \n",
      "Mutation Genes: 41\n",
      "Random Mutation Range: (-1.0, 1.0)\n",
      "Mutation by Replacement: False\n",
      "Allow Duplicated Genes: True\n",
      "----------------------------------------------------------------------\n",
      "======================================================================\n",
      "Population Size: (10, 414)\n",
      "Number of Generations: 10\n",
      "Initial Population Range: (-2, 5)\n",
      "Keep Elitism: 1\n",
      "Gene DType: [<class 'float'>, None]\n",
      "Save Best Solutions: True\n",
      "Save Solutions: False\n",
      "======================================================================\n",
      "----------------------------------------------------------------------\n",
      "                           PyGAD Lifecycle                           \n",
      "======================================================================\n",
      "Step                   Handler                            Output Shape\n",
      "======================================================================\n",
      "Fitness Function       _fitness_func()                    (1)        \n",
      "----------------------------------------------------------------------\n",
      "Parent Selection       steady_state_selection()           (4, 720)   \n",
      "Number of Parents: 4\n",
      "----------------------------------------------------------------------\n",
      "Crossover              single_point_crossover()           (4, 720)   \n",
      "----------------------------------------------------------------------\n",
      "Mutation               random_mutation()                  (4, 720)   \n",
      "Mutation Genes: 72\n",
      "Random Mutation Range: (-1.0, 1.0)\n",
      "Mutation by Replacement: False\n",
      "Allow Duplicated Genes: True\n",
      "----------------------------------------------------------------------\n",
      "======================================================================\n",
      "Population Size: (10, 720)\n",
      "Number of Generations: 10\n",
      "Initial Population Range: (-2, 5)\n",
      "Keep Elitism: 1\n",
      "Gene DType: [<class 'float'>, None]\n",
      "Save Best Solutions: True\n",
      "Save Solutions: False\n",
      "======================================================================\n",
      "----------------------------------------------------------------------\n",
      "                           PyGAD Lifecycle                           \n",
      "======================================================================\n",
      "Step                   Handler                            Output Shape\n",
      "======================================================================\n",
      "Fitness Function       _fitness_func()                    (1)        \n",
      "----------------------------------------------------------------------\n",
      "Parent Selection       steady_state_selection()           (4, 720)   \n",
      "Number of Parents: 4\n",
      "----------------------------------------------------------------------\n",
      "Crossover              single_point_crossover()           (4, 720)   \n",
      "----------------------------------------------------------------------\n",
      "Mutation               random_mutation()                  (4, 720)   \n",
      "Mutation Genes: 72\n",
      "Random Mutation Range: (-1.0, 1.0)\n",
      "Mutation by Replacement: False\n",
      "Allow Duplicated Genes: True\n",
      "----------------------------------------------------------------------\n",
      "======================================================================\n",
      "Population Size: (10, 720)\n",
      "Number of Generations: 10\n",
      "Initial Population Range: (-2, 5)\n",
      "Keep Elitism: 1\n",
      "Gene DType: [<class 'float'>, None]\n",
      "Save Best Solutions: True\n",
      "Save Solutions: False\n",
      "======================================================================\n",
      "----------------------------------------------------------------------\n",
      "                           PyGAD Lifecycle                           \n",
      "======================================================================\n",
      "Step                   Handler                            Output Shape\n",
      "======================================================================\n",
      "Fitness Function       _fitness_func()                    (1)        \n",
      "----------------------------------------------------------------------\n",
      "Parent Selection       steady_state_selection()           (4, 720)   \n",
      "Number of Parents: 4\n",
      "----------------------------------------------------------------------\n",
      "Crossover              single_point_crossover()           (4, 720)   \n",
      "----------------------------------------------------------------------\n",
      "Mutation               random_mutation()                  (4, 720)   \n",
      "Mutation Genes: 72\n",
      "Random Mutation Range: (-1.0, 1.0)\n",
      "Mutation by Replacement: False\n",
      "Allow Duplicated Genes: True\n",
      "----------------------------------------------------------------------\n",
      "======================================================================\n",
      "Population Size: (10, 720)\n",
      "Number of Generations: 10\n",
      "Initial Population Range: (-2, 5)\n",
      "Keep Elitism: 1\n",
      "Gene DType: [<class 'float'>, None]\n",
      "Save Best Solutions: True\n",
      "Save Solutions: False\n",
      "======================================================================\n",
      "----------------------------------------------------------------------\n",
      "                           PyGAD Lifecycle                           \n",
      "======================================================================\n",
      "Step                   Handler                            Output Shape\n",
      "======================================================================\n",
      "Fitness Function       _fitness_func()                    (1)        \n",
      "----------------------------------------------------------------------\n",
      "Parent Selection       steady_state_selection()           (4, 720)   \n",
      "Number of Parents: 4\n",
      "----------------------------------------------------------------------\n",
      "Crossover              single_point_crossover()           (4, 720)   \n",
      "----------------------------------------------------------------------\n",
      "Mutation               random_mutation()                  (4, 720)   \n",
      "Mutation Genes: 72\n",
      "Random Mutation Range: (-1.0, 1.0)\n",
      "Mutation by Replacement: False\n",
      "Allow Duplicated Genes: True\n",
      "----------------------------------------------------------------------\n",
      "======================================================================\n",
      "Population Size: (10, 720)\n",
      "Number of Generations: 10\n",
      "Initial Population Range: (-2, 5)\n",
      "Keep Elitism: 1\n",
      "Gene DType: [<class 'float'>, None]\n",
      "Save Best Solutions: True\n",
      "Save Solutions: False\n",
      "======================================================================\n",
      "----------------------------------------------------------------------\n",
      "                           PyGAD Lifecycle                           \n",
      "======================================================================\n",
      "Step                   Handler                            Output Shape\n",
      "======================================================================\n",
      "Fitness Function       _fitness_func()                    (1)        \n",
      "----------------------------------------------------------------------\n",
      "Parent Selection       steady_state_selection()           (4, 720)   \n",
      "Number of Parents: 4\n",
      "----------------------------------------------------------------------\n",
      "Crossover              single_point_crossover()           (4, 720)   \n",
      "----------------------------------------------------------------------\n",
      "Mutation               random_mutation()                  (4, 720)   \n",
      "Mutation Genes: 72\n",
      "Random Mutation Range: (-1.0, 1.0)\n",
      "Mutation by Replacement: False\n",
      "Allow Duplicated Genes: True\n",
      "----------------------------------------------------------------------\n",
      "======================================================================\n",
      "Population Size: (10, 720)\n",
      "Number of Generations: 10\n",
      "Initial Population Range: (-2, 5)\n",
      "Keep Elitism: 1\n",
      "Gene DType: [<class 'float'>, None]\n",
      "Save Best Solutions: True\n",
      "Save Solutions: False\n",
      "======================================================================\n",
      "----------------------------------------------------------------------\n",
      "                           PyGAD Lifecycle                           \n",
      "======================================================================\n",
      "Step                  Handler                          Output Shape\n",
      "======================================================================\n",
      "Fitness Function      _fitness_func()                  (1)         \n",
      "----------------------------------------------------------------------\n",
      "Parent Selection      steady_state_selection()         (4, 1026)   \n",
      "Number of Parents: 4\n",
      "----------------------------------------------------------------------\n",
      "Crossover             single_point_crossover()         (4, 1026)   \n",
      "----------------------------------------------------------------------\n",
      "Mutation              random_mutation()                (4, 1026)   \n",
      "Mutation Genes: 102\n",
      "Random Mutation Range: (-1.0, 1.0)\n",
      "Mutation by Replacement: False\n",
      "Allow Duplicated Genes: True\n",
      "----------------------------------------------------------------------\n",
      "======================================================================\n",
      "Population Size: (10, 1026)\n",
      "Number of Generations: 10\n",
      "Initial Population Range: (-2, 5)\n",
      "Keep Elitism: 1\n",
      "Gene DType: [<class 'float'>, None]\n",
      "Save Best Solutions: True\n",
      "Save Solutions: False\n",
      "======================================================================\n",
      "----------------------------------------------------------------------\n",
      "                           PyGAD Lifecycle                           \n",
      "======================================================================\n",
      "Step                  Handler                          Output Shape\n",
      "======================================================================\n",
      "Fitness Function      _fitness_func()                  (1)         \n",
      "----------------------------------------------------------------------\n",
      "Parent Selection      steady_state_selection()         (4, 1026)   \n",
      "Number of Parents: 4\n",
      "----------------------------------------------------------------------\n",
      "Crossover             single_point_crossover()         (4, 1026)   \n",
      "----------------------------------------------------------------------\n",
      "Mutation              random_mutation()                (4, 1026)   \n",
      "Mutation Genes: 102\n",
      "Random Mutation Range: (-1.0, 1.0)\n",
      "Mutation by Replacement: False\n",
      "Allow Duplicated Genes: True\n",
      "----------------------------------------------------------------------\n",
      "======================================================================\n",
      "Population Size: (10, 1026)\n",
      "Number of Generations: 10\n",
      "Initial Population Range: (-2, 5)\n",
      "Keep Elitism: 1\n",
      "Gene DType: [<class 'float'>, None]\n",
      "Save Best Solutions: True\n",
      "Save Solutions: False\n",
      "======================================================================\n",
      "----------------------------------------------------------------------\n",
      "                           PyGAD Lifecycle                           \n",
      "======================================================================\n",
      "Step                  Handler                          Output Shape\n",
      "======================================================================\n",
      "Fitness Function      _fitness_func()                  (1)         \n",
      "----------------------------------------------------------------------\n",
      "Parent Selection      steady_state_selection()         (4, 1026)   \n",
      "Number of Parents: 4\n",
      "----------------------------------------------------------------------\n",
      "Crossover             single_point_crossover()         (4, 1026)   \n",
      "----------------------------------------------------------------------\n",
      "Mutation              random_mutation()                (4, 1026)   \n",
      "Mutation Genes: 102\n",
      "Random Mutation Range: (-1.0, 1.0)\n",
      "Mutation by Replacement: False\n",
      "Allow Duplicated Genes: True\n",
      "----------------------------------------------------------------------\n",
      "======================================================================\n",
      "Population Size: (10, 1026)\n",
      "Number of Generations: 10\n",
      "Initial Population Range: (-2, 5)\n",
      "Keep Elitism: 1\n",
      "Gene DType: [<class 'float'>, None]\n",
      "Save Best Solutions: True\n",
      "Save Solutions: False\n",
      "======================================================================\n",
      "----------------------------------------------------------------------\n",
      "                           PyGAD Lifecycle                           \n",
      "======================================================================\n",
      "Step                  Handler                          Output Shape\n",
      "======================================================================\n",
      "Fitness Function      _fitness_func()                  (1)         \n",
      "----------------------------------------------------------------------\n",
      "Parent Selection      steady_state_selection()         (4, 1026)   \n",
      "Number of Parents: 4\n",
      "----------------------------------------------------------------------\n",
      "Crossover             single_point_crossover()         (4, 1026)   \n",
      "----------------------------------------------------------------------\n",
      "Mutation              random_mutation()                (4, 1026)   \n",
      "Mutation Genes: 102\n",
      "Random Mutation Range: (-1.0, 1.0)\n",
      "Mutation by Replacement: False\n",
      "Allow Duplicated Genes: True\n",
      "----------------------------------------------------------------------\n",
      "======================================================================\n",
      "Population Size: (10, 1026)\n",
      "Number of Generations: 10\n",
      "Initial Population Range: (-2, 5)\n",
      "Keep Elitism: 1\n",
      "Gene DType: [<class 'float'>, None]\n",
      "Save Best Solutions: True\n",
      "Save Solutions: False\n",
      "======================================================================\n",
      "----------------------------------------------------------------------\n",
      "                           PyGAD Lifecycle                           \n",
      "======================================================================\n",
      "Step                  Handler                          Output Shape\n",
      "======================================================================\n",
      "Fitness Function      _fitness_func()                  (1)         \n",
      "----------------------------------------------------------------------\n",
      "Parent Selection      steady_state_selection()         (4, 1026)   \n",
      "Number of Parents: 4\n",
      "----------------------------------------------------------------------\n",
      "Crossover             single_point_crossover()         (4, 1026)   \n",
      "----------------------------------------------------------------------\n",
      "Mutation              random_mutation()                (4, 1026)   \n",
      "Mutation Genes: 102\n",
      "Random Mutation Range: (-1.0, 1.0)\n",
      "Mutation by Replacement: False\n",
      "Allow Duplicated Genes: True\n",
      "----------------------------------------------------------------------\n",
      "======================================================================\n",
      "Population Size: (10, 1026)\n",
      "Number of Generations: 10\n",
      "Initial Population Range: (-2, 5)\n",
      "Keep Elitism: 1\n",
      "Gene DType: [<class 'float'>, None]\n",
      "Save Best Solutions: True\n",
      "Save Solutions: False\n",
      "======================================================================\n",
      "----------------------------------------------------------------------\n",
      "                           PyGAD Lifecycle                           \n",
      "======================================================================\n",
      "Step                  Handler                          Output Shape\n",
      "======================================================================\n",
      "Fitness Function      _fitness_func()                  (1)         \n",
      "----------------------------------------------------------------------\n",
      "Parent Selection      steady_state_selection()         (4, 1332)   \n",
      "Number of Parents: 4\n",
      "----------------------------------------------------------------------\n",
      "Crossover             single_point_crossover()         (4, 1332)   \n",
      "----------------------------------------------------------------------\n",
      "Mutation              random_mutation()                (4, 1332)   \n",
      "Mutation Genes: 133\n",
      "Random Mutation Range: (-1.0, 1.0)\n",
      "Mutation by Replacement: False\n",
      "Allow Duplicated Genes: True\n",
      "----------------------------------------------------------------------\n",
      "======================================================================\n",
      "Population Size: (10, 1332)\n",
      "Number of Generations: 10\n",
      "Initial Population Range: (-2, 5)\n",
      "Keep Elitism: 1\n",
      "Gene DType: [<class 'float'>, None]\n",
      "Save Best Solutions: True\n",
      "Save Solutions: False\n",
      "======================================================================\n",
      "----------------------------------------------------------------------\n",
      "                           PyGAD Lifecycle                           \n",
      "======================================================================\n",
      "Step                  Handler                          Output Shape\n",
      "======================================================================\n",
      "Fitness Function      _fitness_func()                  (1)         \n",
      "----------------------------------------------------------------------\n",
      "Parent Selection      steady_state_selection()         (4, 1332)   \n",
      "Number of Parents: 4\n",
      "----------------------------------------------------------------------\n",
      "Crossover             single_point_crossover()         (4, 1332)   \n",
      "----------------------------------------------------------------------\n",
      "Mutation              random_mutation()                (4, 1332)   \n",
      "Mutation Genes: 133\n",
      "Random Mutation Range: (-1.0, 1.0)\n",
      "Mutation by Replacement: False\n",
      "Allow Duplicated Genes: True\n",
      "----------------------------------------------------------------------\n",
      "======================================================================\n",
      "Population Size: (10, 1332)\n",
      "Number of Generations: 10\n",
      "Initial Population Range: (-2, 5)\n",
      "Keep Elitism: 1\n",
      "Gene DType: [<class 'float'>, None]\n",
      "Save Best Solutions: True\n",
      "Save Solutions: False\n",
      "======================================================================\n",
      "----------------------------------------------------------------------\n",
      "                           PyGAD Lifecycle                           \n",
      "======================================================================\n",
      "Step                  Handler                          Output Shape\n",
      "======================================================================\n",
      "Fitness Function      _fitness_func()                  (1)         \n",
      "----------------------------------------------------------------------\n",
      "Parent Selection      steady_state_selection()         (4, 1332)   \n",
      "Number of Parents: 4\n",
      "----------------------------------------------------------------------\n",
      "Crossover             single_point_crossover()         (4, 1332)   \n",
      "----------------------------------------------------------------------\n",
      "Mutation              random_mutation()                (4, 1332)   \n",
      "Mutation Genes: 133\n",
      "Random Mutation Range: (-1.0, 1.0)\n",
      "Mutation by Replacement: False\n",
      "Allow Duplicated Genes: True\n",
      "----------------------------------------------------------------------\n",
      "======================================================================\n",
      "Population Size: (10, 1332)\n",
      "Number of Generations: 10\n",
      "Initial Population Range: (-2, 5)\n",
      "Keep Elitism: 1\n",
      "Gene DType: [<class 'float'>, None]\n",
      "Save Best Solutions: True\n",
      "Save Solutions: False\n",
      "======================================================================\n",
      "----------------------------------------------------------------------\n",
      "                           PyGAD Lifecycle                           \n",
      "======================================================================\n",
      "Step                  Handler                          Output Shape\n",
      "======================================================================\n",
      "Fitness Function      _fitness_func()                  (1)         \n",
      "----------------------------------------------------------------------\n",
      "Parent Selection      steady_state_selection()         (4, 1332)   \n",
      "Number of Parents: 4\n",
      "----------------------------------------------------------------------\n",
      "Crossover             single_point_crossover()         (4, 1332)   \n",
      "----------------------------------------------------------------------\n",
      "Mutation              random_mutation()                (4, 1332)   \n",
      "Mutation Genes: 133\n",
      "Random Mutation Range: (-1.0, 1.0)\n",
      "Mutation by Replacement: False\n",
      "Allow Duplicated Genes: True\n",
      "----------------------------------------------------------------------\n",
      "======================================================================\n",
      "Population Size: (10, 1332)\n",
      "Number of Generations: 10\n",
      "Initial Population Range: (-2, 5)\n",
      "Keep Elitism: 1\n",
      "Gene DType: [<class 'float'>, None]\n",
      "Save Best Solutions: True\n",
      "Save Solutions: False\n",
      "======================================================================\n",
      "----------------------------------------------------------------------\n",
      "                           PyGAD Lifecycle                           \n",
      "======================================================================\n",
      "Step                  Handler                          Output Shape\n",
      "======================================================================\n",
      "Fitness Function      _fitness_func()                  (1)         \n",
      "----------------------------------------------------------------------\n",
      "Parent Selection      steady_state_selection()         (4, 1332)   \n",
      "Number of Parents: 4\n",
      "----------------------------------------------------------------------\n",
      "Crossover             single_point_crossover()         (4, 1332)   \n",
      "----------------------------------------------------------------------\n",
      "Mutation              random_mutation()                (4, 1332)   \n",
      "Mutation Genes: 133\n",
      "Random Mutation Range: (-1.0, 1.0)\n",
      "Mutation by Replacement: False\n",
      "Allow Duplicated Genes: True\n",
      "----------------------------------------------------------------------\n",
      "======================================================================\n",
      "Population Size: (10, 1332)\n",
      "Number of Generations: 10\n",
      "Initial Population Range: (-2, 5)\n",
      "Keep Elitism: 1\n",
      "Gene DType: [<class 'float'>, None]\n",
      "Save Best Solutions: True\n",
      "Save Solutions: False\n",
      "======================================================================\n",
      "----------------------------------------------------------------------\n",
      "                           PyGAD Lifecycle                           \n",
      "======================================================================\n",
      "Step                  Handler                          Output Shape\n",
      "======================================================================\n",
      "Fitness Function      _fitness_func()                  (1)         \n",
      "----------------------------------------------------------------------\n",
      "Parent Selection      steady_state_selection()         (4, 1638)   \n",
      "Number of Parents: 4\n",
      "----------------------------------------------------------------------\n",
      "Crossover             single_point_crossover()         (4, 1638)   \n",
      "----------------------------------------------------------------------\n",
      "Mutation              random_mutation()                (4, 1638)   \n",
      "Mutation Genes: 163\n",
      "Random Mutation Range: (-1.0, 1.0)\n",
      "Mutation by Replacement: False\n",
      "Allow Duplicated Genes: True\n",
      "----------------------------------------------------------------------\n",
      "======================================================================\n",
      "Population Size: (10, 1638)\n",
      "Number of Generations: 10\n",
      "Initial Population Range: (-2, 5)\n",
      "Keep Elitism: 1\n",
      "Gene DType: [<class 'float'>, None]\n",
      "Save Best Solutions: True\n",
      "Save Solutions: False\n",
      "======================================================================\n",
      "----------------------------------------------------------------------\n",
      "                           PyGAD Lifecycle                           \n",
      "======================================================================\n",
      "Step                  Handler                          Output Shape\n",
      "======================================================================\n",
      "Fitness Function      _fitness_func()                  (1)         \n",
      "----------------------------------------------------------------------\n",
      "Parent Selection      steady_state_selection()         (4, 1638)   \n",
      "Number of Parents: 4\n",
      "----------------------------------------------------------------------\n",
      "Crossover             single_point_crossover()         (4, 1638)   \n",
      "----------------------------------------------------------------------\n",
      "Mutation              random_mutation()                (4, 1638)   \n",
      "Mutation Genes: 163\n",
      "Random Mutation Range: (-1.0, 1.0)\n",
      "Mutation by Replacement: False\n",
      "Allow Duplicated Genes: True\n",
      "----------------------------------------------------------------------\n",
      "======================================================================\n",
      "Population Size: (10, 1638)\n",
      "Number of Generations: 10\n",
      "Initial Population Range: (-2, 5)\n",
      "Keep Elitism: 1\n",
      "Gene DType: [<class 'float'>, None]\n",
      "Save Best Solutions: True\n",
      "Save Solutions: False\n",
      "======================================================================\n",
      "----------------------------------------------------------------------\n",
      "                           PyGAD Lifecycle                           \n",
      "======================================================================\n",
      "Step                  Handler                          Output Shape\n",
      "======================================================================\n",
      "Fitness Function      _fitness_func()                  (1)         \n",
      "----------------------------------------------------------------------\n",
      "Parent Selection      steady_state_selection()         (4, 1638)   \n",
      "Number of Parents: 4\n",
      "----------------------------------------------------------------------\n",
      "Crossover             single_point_crossover()         (4, 1638)   \n",
      "----------------------------------------------------------------------\n",
      "Mutation              random_mutation()                (4, 1638)   \n",
      "Mutation Genes: 163\n",
      "Random Mutation Range: (-1.0, 1.0)\n",
      "Mutation by Replacement: False\n",
      "Allow Duplicated Genes: True\n",
      "----------------------------------------------------------------------\n",
      "======================================================================\n",
      "Population Size: (10, 1638)\n",
      "Number of Generations: 10\n",
      "Initial Population Range: (-2, 5)\n",
      "Keep Elitism: 1\n",
      "Gene DType: [<class 'float'>, None]\n",
      "Save Best Solutions: True\n",
      "Save Solutions: False\n",
      "======================================================================\n",
      "----------------------------------------------------------------------\n",
      "                           PyGAD Lifecycle                           \n",
      "======================================================================\n",
      "Step                  Handler                          Output Shape\n",
      "======================================================================\n",
      "Fitness Function      _fitness_func()                  (1)         \n",
      "----------------------------------------------------------------------\n",
      "Parent Selection      steady_state_selection()         (4, 1638)   \n",
      "Number of Parents: 4\n",
      "----------------------------------------------------------------------\n",
      "Crossover             single_point_crossover()         (4, 1638)   \n",
      "----------------------------------------------------------------------\n",
      "Mutation              random_mutation()                (4, 1638)   \n",
      "Mutation Genes: 163\n",
      "Random Mutation Range: (-1.0, 1.0)\n",
      "Mutation by Replacement: False\n",
      "Allow Duplicated Genes: True\n",
      "----------------------------------------------------------------------\n",
      "======================================================================\n",
      "Population Size: (10, 1638)\n",
      "Number of Generations: 10\n",
      "Initial Population Range: (-2, 5)\n",
      "Keep Elitism: 1\n",
      "Gene DType: [<class 'float'>, None]\n",
      "Save Best Solutions: True\n",
      "Save Solutions: False\n",
      "======================================================================\n",
      "----------------------------------------------------------------------\n",
      "                           PyGAD Lifecycle                           \n",
      "======================================================================\n",
      "Step                  Handler                          Output Shape\n",
      "======================================================================\n",
      "Fitness Function      _fitness_func()                  (1)         \n",
      "----------------------------------------------------------------------\n",
      "Parent Selection      steady_state_selection()         (4, 1638)   \n",
      "Number of Parents: 4\n",
      "----------------------------------------------------------------------\n",
      "Crossover             single_point_crossover()         (4, 1638)   \n",
      "----------------------------------------------------------------------\n",
      "Mutation              random_mutation()                (4, 1638)   \n",
      "Mutation Genes: 163\n",
      "Random Mutation Range: (-1.0, 1.0)\n",
      "Mutation by Replacement: False\n",
      "Allow Duplicated Genes: True\n",
      "----------------------------------------------------------------------\n",
      "======================================================================\n",
      "Population Size: (10, 1638)\n",
      "Number of Generations: 10\n",
      "Initial Population Range: (-2, 5)\n",
      "Keep Elitism: 1\n",
      "Gene DType: [<class 'float'>, None]\n",
      "Save Best Solutions: True\n",
      "Save Solutions: False\n",
      "======================================================================\n"
     ]
    }
   ],
   "source": [
    "width = list()\n",
    "depth = list(range(1,6))\n",
    "\n",
    "parameters = default_parameters.copy()\n",
    "parameters[\"num_generations\"] = 50\n",
    "\n",
    "best_solutions, best_solution_fitness = evolution_heatmap(width, depth, iterations=5)"
   ]
  },
  {
   "cell_type": "code",
   "execution_count": 40,
   "metadata": {},
   "outputs": [
    {
     "data": {
      "application/vnd.plotly.v1+json": {
       "config": {
        "plotlyServerURL": "https://plot.ly"
       },
       "data": [
        {
         "coloraxis": "coloraxis",
         "hovertemplate": "NN width: %{x}<br>NN depth: %{y}<br>Fitness: %{z}<extra></extra>",
         "name": "0",
         "type": "heatmap",
         "x": [
          "2",
          "5",
          "8",
          "11",
          "14",
          "17"
         ],
         "xaxis": "x",
         "y": [
          "1",
          "2",
          "3",
          "4",
          "5"
         ],
         "yaxis": "y",
         "z": [
          [
           3.505107972993571,
           5.207719024795001,
           2.9396124578979532,
           2.7780023178126028,
           2.965388233413741,
           2.901340253717971
          ],
          [
           3.9569772502889826,
           3.3904660730353107,
           1.9272591627389555,
           2.1277446627611725,
           1.9253360380999969,
           1.5411772939240982
          ],
          [
           3.0991270782354197,
           2.0641077405941104,
           2.590104835837389,
           1.4780509320334791,
           1.5213087163719519,
           1.8439953887780676
          ],
          [
           3.6187421112650733,
           3.034576459209667,
           2.06522472182866,
           2.1057435093327266,
           1.5550224261326406,
           1.5390596193928354
          ],
          [
           3.4228052090758894,
           2.168451744524247,
           2.184577323111241,
           1.9192044228909357,
           1.7133920281864583,
           1.3350425860989135
          ]
         ]
        }
       ],
       "layout": {
        "coloraxis": {
         "colorbar": {
          "title": {
           "text": "Fitness"
          }
         },
         "colorscale": [
          [
           0,
           "#440154"
          ],
          [
           0.1111111111111111,
           "#482878"
          ],
          [
           0.2222222222222222,
           "#3e4989"
          ],
          [
           0.3333333333333333,
           "#31688e"
          ],
          [
           0.4444444444444444,
           "#26828e"
          ],
          [
           0.5555555555555556,
           "#1f9e89"
          ],
          [
           0.6666666666666666,
           "#35b779"
          ],
          [
           0.7777777777777778,
           "#6ece58"
          ],
          [
           0.8888888888888888,
           "#b5de2b"
          ],
          [
           1,
           "#fde725"
          ]
         ]
        },
        "template": {
         "data": {
          "bar": [
           {
            "error_x": {
             "color": "#2a3f5f"
            },
            "error_y": {
             "color": "#2a3f5f"
            },
            "marker": {
             "line": {
              "color": "#E5ECF6",
              "width": 0.5
             },
             "pattern": {
              "fillmode": "overlay",
              "size": 10,
              "solidity": 0.2
             }
            },
            "type": "bar"
           }
          ],
          "barpolar": [
           {
            "marker": {
             "line": {
              "color": "#E5ECF6",
              "width": 0.5
             },
             "pattern": {
              "fillmode": "overlay",
              "size": 10,
              "solidity": 0.2
             }
            },
            "type": "barpolar"
           }
          ],
          "carpet": [
           {
            "aaxis": {
             "endlinecolor": "#2a3f5f",
             "gridcolor": "white",
             "linecolor": "white",
             "minorgridcolor": "white",
             "startlinecolor": "#2a3f5f"
            },
            "baxis": {
             "endlinecolor": "#2a3f5f",
             "gridcolor": "white",
             "linecolor": "white",
             "minorgridcolor": "white",
             "startlinecolor": "#2a3f5f"
            },
            "type": "carpet"
           }
          ],
          "choropleth": [
           {
            "colorbar": {
             "outlinewidth": 0,
             "ticks": ""
            },
            "type": "choropleth"
           }
          ],
          "contour": [
           {
            "colorbar": {
             "outlinewidth": 0,
             "ticks": ""
            },
            "colorscale": [
             [
              0,
              "#0d0887"
             ],
             [
              0.1111111111111111,
              "#46039f"
             ],
             [
              0.2222222222222222,
              "#7201a8"
             ],
             [
              0.3333333333333333,
              "#9c179e"
             ],
             [
              0.4444444444444444,
              "#bd3786"
             ],
             [
              0.5555555555555556,
              "#d8576b"
             ],
             [
              0.6666666666666666,
              "#ed7953"
             ],
             [
              0.7777777777777778,
              "#fb9f3a"
             ],
             [
              0.8888888888888888,
              "#fdca26"
             ],
             [
              1,
              "#f0f921"
             ]
            ],
            "type": "contour"
           }
          ],
          "contourcarpet": [
           {
            "colorbar": {
             "outlinewidth": 0,
             "ticks": ""
            },
            "type": "contourcarpet"
           }
          ],
          "heatmap": [
           {
            "colorbar": {
             "outlinewidth": 0,
             "ticks": ""
            },
            "colorscale": [
             [
              0,
              "#0d0887"
             ],
             [
              0.1111111111111111,
              "#46039f"
             ],
             [
              0.2222222222222222,
              "#7201a8"
             ],
             [
              0.3333333333333333,
              "#9c179e"
             ],
             [
              0.4444444444444444,
              "#bd3786"
             ],
             [
              0.5555555555555556,
              "#d8576b"
             ],
             [
              0.6666666666666666,
              "#ed7953"
             ],
             [
              0.7777777777777778,
              "#fb9f3a"
             ],
             [
              0.8888888888888888,
              "#fdca26"
             ],
             [
              1,
              "#f0f921"
             ]
            ],
            "type": "heatmap"
           }
          ],
          "heatmapgl": [
           {
            "colorbar": {
             "outlinewidth": 0,
             "ticks": ""
            },
            "colorscale": [
             [
              0,
              "#0d0887"
             ],
             [
              0.1111111111111111,
              "#46039f"
             ],
             [
              0.2222222222222222,
              "#7201a8"
             ],
             [
              0.3333333333333333,
              "#9c179e"
             ],
             [
              0.4444444444444444,
              "#bd3786"
             ],
             [
              0.5555555555555556,
              "#d8576b"
             ],
             [
              0.6666666666666666,
              "#ed7953"
             ],
             [
              0.7777777777777778,
              "#fb9f3a"
             ],
             [
              0.8888888888888888,
              "#fdca26"
             ],
             [
              1,
              "#f0f921"
             ]
            ],
            "type": "heatmapgl"
           }
          ],
          "histogram": [
           {
            "marker": {
             "pattern": {
              "fillmode": "overlay",
              "size": 10,
              "solidity": 0.2
             }
            },
            "type": "histogram"
           }
          ],
          "histogram2d": [
           {
            "colorbar": {
             "outlinewidth": 0,
             "ticks": ""
            },
            "colorscale": [
             [
              0,
              "#0d0887"
             ],
             [
              0.1111111111111111,
              "#46039f"
             ],
             [
              0.2222222222222222,
              "#7201a8"
             ],
             [
              0.3333333333333333,
              "#9c179e"
             ],
             [
              0.4444444444444444,
              "#bd3786"
             ],
             [
              0.5555555555555556,
              "#d8576b"
             ],
             [
              0.6666666666666666,
              "#ed7953"
             ],
             [
              0.7777777777777778,
              "#fb9f3a"
             ],
             [
              0.8888888888888888,
              "#fdca26"
             ],
             [
              1,
              "#f0f921"
             ]
            ],
            "type": "histogram2d"
           }
          ],
          "histogram2dcontour": [
           {
            "colorbar": {
             "outlinewidth": 0,
             "ticks": ""
            },
            "colorscale": [
             [
              0,
              "#0d0887"
             ],
             [
              0.1111111111111111,
              "#46039f"
             ],
             [
              0.2222222222222222,
              "#7201a8"
             ],
             [
              0.3333333333333333,
              "#9c179e"
             ],
             [
              0.4444444444444444,
              "#bd3786"
             ],
             [
              0.5555555555555556,
              "#d8576b"
             ],
             [
              0.6666666666666666,
              "#ed7953"
             ],
             [
              0.7777777777777778,
              "#fb9f3a"
             ],
             [
              0.8888888888888888,
              "#fdca26"
             ],
             [
              1,
              "#f0f921"
             ]
            ],
            "type": "histogram2dcontour"
           }
          ],
          "mesh3d": [
           {
            "colorbar": {
             "outlinewidth": 0,
             "ticks": ""
            },
            "type": "mesh3d"
           }
          ],
          "parcoords": [
           {
            "line": {
             "colorbar": {
              "outlinewidth": 0,
              "ticks": ""
             }
            },
            "type": "parcoords"
           }
          ],
          "pie": [
           {
            "automargin": true,
            "type": "pie"
           }
          ],
          "scatter": [
           {
            "fillpattern": {
             "fillmode": "overlay",
             "size": 10,
             "solidity": 0.2
            },
            "type": "scatter"
           }
          ],
          "scatter3d": [
           {
            "line": {
             "colorbar": {
              "outlinewidth": 0,
              "ticks": ""
             }
            },
            "marker": {
             "colorbar": {
              "outlinewidth": 0,
              "ticks": ""
             }
            },
            "type": "scatter3d"
           }
          ],
          "scattercarpet": [
           {
            "marker": {
             "colorbar": {
              "outlinewidth": 0,
              "ticks": ""
             }
            },
            "type": "scattercarpet"
           }
          ],
          "scattergeo": [
           {
            "marker": {
             "colorbar": {
              "outlinewidth": 0,
              "ticks": ""
             }
            },
            "type": "scattergeo"
           }
          ],
          "scattergl": [
           {
            "marker": {
             "colorbar": {
              "outlinewidth": 0,
              "ticks": ""
             }
            },
            "type": "scattergl"
           }
          ],
          "scattermapbox": [
           {
            "marker": {
             "colorbar": {
              "outlinewidth": 0,
              "ticks": ""
             }
            },
            "type": "scattermapbox"
           }
          ],
          "scatterpolar": [
           {
            "marker": {
             "colorbar": {
              "outlinewidth": 0,
              "ticks": ""
             }
            },
            "type": "scatterpolar"
           }
          ],
          "scatterpolargl": [
           {
            "marker": {
             "colorbar": {
              "outlinewidth": 0,
              "ticks": ""
             }
            },
            "type": "scatterpolargl"
           }
          ],
          "scatterternary": [
           {
            "marker": {
             "colorbar": {
              "outlinewidth": 0,
              "ticks": ""
             }
            },
            "type": "scatterternary"
           }
          ],
          "surface": [
           {
            "colorbar": {
             "outlinewidth": 0,
             "ticks": ""
            },
            "colorscale": [
             [
              0,
              "#0d0887"
             ],
             [
              0.1111111111111111,
              "#46039f"
             ],
             [
              0.2222222222222222,
              "#7201a8"
             ],
             [
              0.3333333333333333,
              "#9c179e"
             ],
             [
              0.4444444444444444,
              "#bd3786"
             ],
             [
              0.5555555555555556,
              "#d8576b"
             ],
             [
              0.6666666666666666,
              "#ed7953"
             ],
             [
              0.7777777777777778,
              "#fb9f3a"
             ],
             [
              0.8888888888888888,
              "#fdca26"
             ],
             [
              1,
              "#f0f921"
             ]
            ],
            "type": "surface"
           }
          ],
          "table": [
           {
            "cells": {
             "fill": {
              "color": "#EBF0F8"
             },
             "line": {
              "color": "white"
             }
            },
            "header": {
             "fill": {
              "color": "#C8D4E3"
             },
             "line": {
              "color": "white"
             }
            },
            "type": "table"
           }
          ]
         },
         "layout": {
          "annotationdefaults": {
           "arrowcolor": "#2a3f5f",
           "arrowhead": 0,
           "arrowwidth": 1
          },
          "autotypenumbers": "strict",
          "coloraxis": {
           "colorbar": {
            "outlinewidth": 0,
            "ticks": ""
           }
          },
          "colorscale": {
           "diverging": [
            [
             0,
             "#8e0152"
            ],
            [
             0.1,
             "#c51b7d"
            ],
            [
             0.2,
             "#de77ae"
            ],
            [
             0.3,
             "#f1b6da"
            ],
            [
             0.4,
             "#fde0ef"
            ],
            [
             0.5,
             "#f7f7f7"
            ],
            [
             0.6,
             "#e6f5d0"
            ],
            [
             0.7,
             "#b8e186"
            ],
            [
             0.8,
             "#7fbc41"
            ],
            [
             0.9,
             "#4d9221"
            ],
            [
             1,
             "#276419"
            ]
           ],
           "sequential": [
            [
             0,
             "#0d0887"
            ],
            [
             0.1111111111111111,
             "#46039f"
            ],
            [
             0.2222222222222222,
             "#7201a8"
            ],
            [
             0.3333333333333333,
             "#9c179e"
            ],
            [
             0.4444444444444444,
             "#bd3786"
            ],
            [
             0.5555555555555556,
             "#d8576b"
            ],
            [
             0.6666666666666666,
             "#ed7953"
            ],
            [
             0.7777777777777778,
             "#fb9f3a"
            ],
            [
             0.8888888888888888,
             "#fdca26"
            ],
            [
             1,
             "#f0f921"
            ]
           ],
           "sequentialminus": [
            [
             0,
             "#0d0887"
            ],
            [
             0.1111111111111111,
             "#46039f"
            ],
            [
             0.2222222222222222,
             "#7201a8"
            ],
            [
             0.3333333333333333,
             "#9c179e"
            ],
            [
             0.4444444444444444,
             "#bd3786"
            ],
            [
             0.5555555555555556,
             "#d8576b"
            ],
            [
             0.6666666666666666,
             "#ed7953"
            ],
            [
             0.7777777777777778,
             "#fb9f3a"
            ],
            [
             0.8888888888888888,
             "#fdca26"
            ],
            [
             1,
             "#f0f921"
            ]
           ]
          },
          "colorway": [
           "#636efa",
           "#EF553B",
           "#00cc96",
           "#ab63fa",
           "#FFA15A",
           "#19d3f3",
           "#FF6692",
           "#B6E880",
           "#FF97FF",
           "#FECB52"
          ],
          "font": {
           "color": "#2a3f5f"
          },
          "geo": {
           "bgcolor": "white",
           "lakecolor": "white",
           "landcolor": "#E5ECF6",
           "showlakes": true,
           "showland": true,
           "subunitcolor": "white"
          },
          "hoverlabel": {
           "align": "left"
          },
          "hovermode": "closest",
          "mapbox": {
           "style": "light"
          },
          "paper_bgcolor": "white",
          "plot_bgcolor": "#E5ECF6",
          "polar": {
           "angularaxis": {
            "gridcolor": "white",
            "linecolor": "white",
            "ticks": ""
           },
           "bgcolor": "#E5ECF6",
           "radialaxis": {
            "gridcolor": "white",
            "linecolor": "white",
            "ticks": ""
           }
          },
          "scene": {
           "xaxis": {
            "backgroundcolor": "#E5ECF6",
            "gridcolor": "white",
            "gridwidth": 2,
            "linecolor": "white",
            "showbackground": true,
            "ticks": "",
            "zerolinecolor": "white"
           },
           "yaxis": {
            "backgroundcolor": "#E5ECF6",
            "gridcolor": "white",
            "gridwidth": 2,
            "linecolor": "white",
            "showbackground": true,
            "ticks": "",
            "zerolinecolor": "white"
           },
           "zaxis": {
            "backgroundcolor": "#E5ECF6",
            "gridcolor": "white",
            "gridwidth": 2,
            "linecolor": "white",
            "showbackground": true,
            "ticks": "",
            "zerolinecolor": "white"
           }
          },
          "shapedefaults": {
           "line": {
            "color": "#2a3f5f"
           }
          },
          "ternary": {
           "aaxis": {
            "gridcolor": "white",
            "linecolor": "white",
            "ticks": ""
           },
           "baxis": {
            "gridcolor": "white",
            "linecolor": "white",
            "ticks": ""
           },
           "bgcolor": "#E5ECF6",
           "caxis": {
            "gridcolor": "white",
            "linecolor": "white",
            "ticks": ""
           }
          },
          "title": {
           "x": 0.05
          },
          "xaxis": {
           "automargin": true,
           "gridcolor": "white",
           "linecolor": "white",
           "ticks": "",
           "title": {
            "standoff": 15
           },
           "zerolinecolor": "white",
           "zerolinewidth": 2
          },
          "yaxis": {
           "automargin": true,
           "gridcolor": "white",
           "linecolor": "white",
           "ticks": "",
           "title": {
            "standoff": 15
           },
           "zerolinecolor": "white",
           "zerolinewidth": 2
          }
         }
        },
        "title": {
         "text": "Width/Depth comparison of best individual in 50 generations"
        },
        "xaxis": {
         "anchor": "y",
         "constrain": "domain",
         "domain": [
          0,
          1
         ],
         "scaleanchor": "y",
         "title": {
          "text": "NN width"
         }
        },
        "yaxis": {
         "anchor": "x",
         "autorange": "reversed",
         "constrain": "domain",
         "domain": [
          0,
          1
         ],
         "title": {
          "text": "NN depth"
         }
        }
       }
      }
     },
     "metadata": {},
     "output_type": "display_data"
    }
   ],
   "source": [
    "fitness = np.mean(np.array(best_solution_fitness), axis=2)\n",
    "\n",
    "df = px.data.medals_wide(indexed=True)\n",
    "fig = px.imshow(\n",
    "    fitness.T,\n",
    "    title=\"Width/Depth comparison of best individual in {} generations\".format(parameters[\"num_generations\"]),\n",
    "    labels=dict(x=\"NN width\", y=\"NN depth\", color=\"Fitness\"),\n",
    "    x=list(map(str,width)), \n",
    "    y=list(map(str,depth)),\n",
    "    color_continuous_scale=px.colors.sequential.Viridis,\n",
    ")\n",
    "fig.show()"
   ]
  },
  {
   "cell_type": "code",
   "execution_count": 42,
   "metadata": {},
   "outputs": [
    {
     "name": "stdout",
     "output_type": "stream",
     "text": [
      "Size of genom:  126\n"
     ]
    }
   ],
   "source": [
    "best_cheetah = ClassicNNCheetahLab([17, 5, 6])\n",
    "genom_length = best_cheetah.get_genom_length()\n",
    "print(\"Size of genom: \", genom_length)"
   ]
  },
  {
   "attachments": {},
   "cell_type": "markdown",
   "metadata": {},
   "source": [
    "## Simulation"
   ]
  },
  {
   "cell_type": "code",
   "execution_count": 15,
   "metadata": {},
   "outputs": [
    {
     "name": "stdout",
     "output_type": "stream",
     "text": [
      "test[rins]\n"
     ]
    },
    {
     "ename": "AttributeError",
     "evalue": "module 'gymnasium.wrappers' has no attribute 'Monitor'",
     "output_type": "error",
     "traceback": [
      "\u001b[1;31m---------------------------------------------------------------------------\u001b[0m",
      "\u001b[1;31mAttributeError\u001b[0m                            Traceback (most recent call last)",
      "Cell \u001b[1;32mIn[15], line 13\u001b[0m\n\u001b[0;32m     11\u001b[0m cheetah_lab \u001b[39m=\u001b[39m ClassicNNCheetahLab([\u001b[39m17\u001b[39m, \u001b[39m*\u001b[39mhidden, \u001b[39m6\u001b[39m], f)\n\u001b[0;32m     12\u001b[0m evolution \u001b[39m=\u001b[39m Evolution(cheetah_lab, arena)\n\u001b[1;32m---> 13\u001b[0m evolution\u001b[39m.\u001b[39;49msimulate(\n\u001b[0;32m     14\u001b[0m     best,\n\u001b[0;32m     15\u001b[0m     cheetah_lab\n\u001b[0;32m     16\u001b[0m )\n",
      "File \u001b[1;32mc:\\Users\\havel\\Documents\\skola\\CUNI - AI INF\\predmety\\2 Letny semester\\Evolucna robotika\\GeneticCheetah\\evolution.py:49\u001b[0m, in \u001b[0;36mEvolution.simulate\u001b[1;34m(self, genom, cheetah_lab)\u001b[0m\n\u001b[0;32m     47\u001b[0m \u001b[39mdef\u001b[39;00m \u001b[39msimulate\u001b[39m(\u001b[39mself\u001b[39m, genom, cheetah_lab):\n\u001b[0;32m     48\u001b[0m     cheetah \u001b[39m=\u001b[39m cheetah_lab\u001b[39m.\u001b[39mget_cheetah_behavior(genom)\n\u001b[1;32m---> 49\u001b[0m     _ \u001b[39m=\u001b[39m \u001b[39mself\u001b[39;49m\u001b[39m.\u001b[39;49marena\u001b[39m.\u001b[39;49mfight(cheetah, \u001b[39m100\u001b[39;49m, render\u001b[39m=\u001b[39;49m\u001b[39mTrue\u001b[39;49;00m)\n",
      "File \u001b[1;32mc:\\Users\\havel\\Documents\\skola\\CUNI - AI INF\\predmety\\2 Letny semester\\Evolucna robotika\\GeneticCheetah\\arena.py:21\u001b[0m, in \u001b[0;36mArena.fight\u001b[1;34m(self, behaviour, max_steps, video_postfix, render, fps)\u001b[0m\n\u001b[0;32m     19\u001b[0m \u001b[39mif\u001b[39;00m render:\n\u001b[0;32m     20\u001b[0m     directory \u001b[39m=\u001b[39m \u001b[39m\"\u001b[39m\u001b[39mcs-169-rendered/gen\u001b[39m\u001b[39m\"\u001b[39m \u001b[39m+\u001b[39m \u001b[39mstr\u001b[39m(video_postfix)\n\u001b[1;32m---> 21\u001b[0m     environment \u001b[39m=\u001b[39m wrappers\u001b[39m.\u001b[39;49mMonitor(\u001b[39mself\u001b[39m\u001b[39m.\u001b[39mcheetah, directory, force\u001b[39m=\u001b[39m\u001b[39mTrue\u001b[39;00m)\n\u001b[0;32m     22\u001b[0m     frame_delay  \u001b[39m=\u001b[39m \u001b[39m1.0\u001b[39m \u001b[39m/\u001b[39m fps \u001b[39m# actually need seconds per frame for sleep method\u001b[39;00m\n\u001b[0;32m     23\u001b[0m \u001b[39mtry\u001b[39;00m:\n\u001b[0;32m     24\u001b[0m     \u001b[39m# observation  = self.cheetah.reset_model()\u001b[39;00m\n",
      "\u001b[1;31mAttributeError\u001b[0m: module 'gymnasium.wrappers' has no attribute 'Monitor'"
     ]
    }
   ],
   "source": [
    "fitness = np.array(best_solution_fitness)\n",
    "solutions = best_solutions\n",
    "\n",
    "idx = np.unravel_index(np.argmax(fitness), fitness.shape)  # returns a tuple\n",
    "best = solutions[idx[0]][idx[1]][idx[2]]\n",
    "w, d, f =  width[idx[0]], depth[idx[1]], None\n",
    "\n",
    "hidden = [w]*d\n",
    "\n",
    "cheetah_lab = ClassicNNCheetahLab([17, *hidden, 6], f)\n",
    "evolution.simulate(\n",
    "    best,\n",
    "    cheetah_lab\n",
    ")\n"
   ]
  },
  {
   "attachments": {},
   "cell_type": "markdown",
   "metadata": {},
   "source": [
    "### Activation functions"
   ]
  },
  {
   "cell_type": "code",
   "execution_count": 5,
   "metadata": {},
   "outputs": [],
   "source": [
    "actv_func = {\n",
    "    \"tanh\": np.tanh,\n",
    "    \"relu\": np.vectorize(lambda x: np.maximum(0, x)),\n",
    "    \"logsig\": None # default\n",
    "}"
   ]
  },
  {
   "cell_type": "code",
   "execution_count": 6,
   "metadata": {},
   "outputs": [],
   "source": [
    "width = [2,5,8]\n",
    "# width = [10]\n",
    "depth = [1]\n",
    " \n",
    "assert len(width) == 1 or len(depth) == 1, \"at least one dimension must have only one value\" # Must be 1D for boxplots\n",
    "\n",
    "parameters = default_parameters.copy()\n",
    "parameters[\"num_generations\"] = 25 # 50"
   ]
  },
  {
   "cell_type": "code",
   "execution_count": 7,
   "metadata": {},
   "outputs": [
    {
     "name": "stderr",
     "output_type": "stream",
     "text": [
      "----------------------------------------------------------------------\n",
      "                           PyGAD Lifecycle                           \n",
      "======================================================================\n",
      "Step                   Handler                            Output Shape\n",
      "======================================================================\n",
      "Fitness Function       _fitness_func()                    (1)      \n",
      "----------------------------------------------------------------------\n",
      "Parent Selection       steady_state_selection()           (4, 54)  \n",
      "Number of Parents: 4\n",
      "----------------------------------------------------------------------\n",
      "Crossover              single_point_crossover()           (4, 54)  \n",
      "----------------------------------------------------------------------\n",
      "Mutation               random_mutation()                  (4, 54)  \n",
      "Mutation Genes: 5\n",
      "Random Mutation Range: (-1.0, 1.0)\n",
      "Mutation by Replacement: False\n",
      "Allow Duplicated Genes: True\n",
      "----------------------------------------------------------------------\n",
      "======================================================================\n",
      "Population Size: (10, 54)\n",
      "Number of Generations: 50\n",
      "Initial Population Range: (-2, 5)\n",
      "Keep Elitism: 1\n",
      "Gene DType: [<class 'float'>, None]\n",
      "Save Best Solutions: True\n",
      "Save Solutions: False\n",
      "======================================================================\n"
     ]
    },
    {
     "name": "stdout",
     "output_type": "stream",
     "text": [
      "---------- Iteration ---------\n"
     ]
    },
    {
     "name": "stderr",
     "output_type": "stream",
     "text": [
      "----------------------------------------------------------------------\n",
      "                           PyGAD Lifecycle                           \n",
      "======================================================================\n",
      "Step                   Handler                            Output Shape\n",
      "======================================================================\n",
      "Fitness Function       _fitness_func()                    (1)      \n",
      "----------------------------------------------------------------------\n",
      "Parent Selection       steady_state_selection()           (4, 54)  \n",
      "Number of Parents: 4\n",
      "----------------------------------------------------------------------\n",
      "Crossover              single_point_crossover()           (4, 54)  \n",
      "----------------------------------------------------------------------\n",
      "Mutation               random_mutation()                  (4, 54)  \n",
      "Mutation Genes: 5\n",
      "Random Mutation Range: (-1.0, 1.0)\n",
      "Mutation by Replacement: False\n",
      "Allow Duplicated Genes: True\n",
      "----------------------------------------------------------------------\n",
      "======================================================================\n",
      "Population Size: (10, 54)\n",
      "Number of Generations: 50\n",
      "Initial Population Range: (-2, 5)\n",
      "Keep Elitism: 1\n",
      "Gene DType: [<class 'float'>, None]\n",
      "Save Best Solutions: True\n",
      "Save Solutions: False\n",
      "======================================================================\n",
      "----------------------------------------------------------------------\n",
      "                           PyGAD Lifecycle                           \n",
      "======================================================================\n",
      "Step                   Handler                            Output Shape\n",
      "======================================================================\n",
      "Fitness Function       _fitness_func()                    (1)      \n",
      "----------------------------------------------------------------------\n",
      "Parent Selection       steady_state_selection()           (4, 54)  \n",
      "Number of Parents: 4\n",
      "----------------------------------------------------------------------\n",
      "Crossover              single_point_crossover()           (4, 54)  \n",
      "----------------------------------------------------------------------\n",
      "Mutation               random_mutation()                  (4, 54)  \n",
      "Mutation Genes: 5\n",
      "Random Mutation Range: (-1.0, 1.0)\n",
      "Mutation by Replacement: False\n",
      "Allow Duplicated Genes: True\n",
      "----------------------------------------------------------------------\n",
      "======================================================================\n",
      "Population Size: (10, 54)\n",
      "Number of Generations: 50\n",
      "Initial Population Range: (-2, 5)\n",
      "Keep Elitism: 1\n",
      "Gene DType: [<class 'float'>, None]\n",
      "Save Best Solutions: True\n",
      "Save Solutions: False\n",
      "======================================================================\n",
      "----------------------------------------------------------------------\n",
      "                           PyGAD Lifecycle                           \n",
      "======================================================================\n",
      "Step                   Handler                            Output Shape\n",
      "======================================================================\n",
      "Fitness Function       _fitness_func()                    (1)      \n",
      "----------------------------------------------------------------------\n",
      "Parent Selection       steady_state_selection()           (4, 54)  \n",
      "Number of Parents: 4\n",
      "----------------------------------------------------------------------\n",
      "Crossover              single_point_crossover()           (4, 54)  \n",
      "----------------------------------------------------------------------\n",
      "Mutation               random_mutation()                  (4, 54)  \n",
      "Mutation Genes: 5\n",
      "Random Mutation Range: (-1.0, 1.0)\n",
      "Mutation by Replacement: False\n",
      "Allow Duplicated Genes: True\n",
      "----------------------------------------------------------------------\n",
      "======================================================================\n",
      "Population Size: (10, 54)\n",
      "Number of Generations: 50\n",
      "Initial Population Range: (-2, 5)\n",
      "Keep Elitism: 1\n",
      "Gene DType: [<class 'float'>, None]\n",
      "Save Best Solutions: True\n",
      "Save Solutions: False\n",
      "======================================================================\n",
      "----------------------------------------------------------------------\n",
      "                           PyGAD Lifecycle                           \n",
      "======================================================================\n",
      "Step                   Handler                            Output Shape\n",
      "======================================================================\n",
      "Fitness Function       _fitness_func()                    (1)      \n",
      "----------------------------------------------------------------------\n",
      "Parent Selection       steady_state_selection()           (4, 54)  \n",
      "Number of Parents: 4\n",
      "----------------------------------------------------------------------\n",
      "Crossover              single_point_crossover()           (4, 54)  \n",
      "----------------------------------------------------------------------\n",
      "Mutation               random_mutation()                  (4, 54)  \n",
      "Mutation Genes: 5\n",
      "Random Mutation Range: (-1.0, 1.0)\n",
      "Mutation by Replacement: False\n",
      "Allow Duplicated Genes: True\n",
      "----------------------------------------------------------------------\n",
      "======================================================================\n",
      "Population Size: (10, 54)\n",
      "Number of Generations: 50\n",
      "Initial Population Range: (-2, 5)\n",
      "Keep Elitism: 1\n",
      "Gene DType: [<class 'float'>, None]\n",
      "Save Best Solutions: True\n",
      "Save Solutions: False\n",
      "======================================================================\n",
      "----------------------------------------------------------------------\n",
      "                           PyGAD Lifecycle                           \n",
      "======================================================================\n",
      "Step                   Handler                            Output Shape\n",
      "======================================================================\n",
      "Fitness Function       _fitness_func()                    (1)        \n",
      "----------------------------------------------------------------------\n",
      "Parent Selection       steady_state_selection()           (4, 126)   \n",
      "Number of Parents: 4\n",
      "----------------------------------------------------------------------\n",
      "Crossover              single_point_crossover()           (4, 126)   \n",
      "----------------------------------------------------------------------\n",
      "Mutation               random_mutation()                  (4, 126)   \n",
      "Mutation Genes: 12\n",
      "Random Mutation Range: (-1.0, 1.0)\n",
      "Mutation by Replacement: False\n",
      "Allow Duplicated Genes: True\n",
      "----------------------------------------------------------------------\n",
      "======================================================================\n",
      "Population Size: (10, 126)\n",
      "Number of Generations: 50\n",
      "Initial Population Range: (-2, 5)\n",
      "Keep Elitism: 1\n",
      "Gene DType: [<class 'float'>, None]\n",
      "Save Best Solutions: True\n",
      "Save Solutions: False\n",
      "======================================================================\n",
      "----------------------------------------------------------------------\n",
      "                           PyGAD Lifecycle                           \n",
      "======================================================================\n",
      "Step                   Handler                            Output Shape\n",
      "======================================================================\n",
      "Fitness Function       _fitness_func()                    (1)        \n",
      "----------------------------------------------------------------------\n",
      "Parent Selection       steady_state_selection()           (4, 126)   \n",
      "Number of Parents: 4\n",
      "----------------------------------------------------------------------\n",
      "Crossover              single_point_crossover()           (4, 126)   \n",
      "----------------------------------------------------------------------\n",
      "Mutation               random_mutation()                  (4, 126)   \n",
      "Mutation Genes: 12\n",
      "Random Mutation Range: (-1.0, 1.0)\n",
      "Mutation by Replacement: False\n",
      "Allow Duplicated Genes: True\n",
      "----------------------------------------------------------------------\n",
      "======================================================================\n",
      "Population Size: (10, 126)\n",
      "Number of Generations: 50\n",
      "Initial Population Range: (-2, 5)\n",
      "Keep Elitism: 1\n",
      "Gene DType: [<class 'float'>, None]\n",
      "Save Best Solutions: True\n",
      "Save Solutions: False\n",
      "======================================================================\n",
      "----------------------------------------------------------------------\n",
      "                           PyGAD Lifecycle                           \n",
      "======================================================================\n",
      "Step                   Handler                            Output Shape\n",
      "======================================================================\n",
      "Fitness Function       _fitness_func()                    (1)        \n",
      "----------------------------------------------------------------------\n",
      "Parent Selection       steady_state_selection()           (4, 126)   \n",
      "Number of Parents: 4\n",
      "----------------------------------------------------------------------\n",
      "Crossover              single_point_crossover()           (4, 126)   \n",
      "----------------------------------------------------------------------\n",
      "Mutation               random_mutation()                  (4, 126)   \n",
      "Mutation Genes: 12\n",
      "Random Mutation Range: (-1.0, 1.0)\n",
      "Mutation by Replacement: False\n",
      "Allow Duplicated Genes: True\n",
      "----------------------------------------------------------------------\n",
      "======================================================================\n",
      "Population Size: (10, 126)\n",
      "Number of Generations: 50\n",
      "Initial Population Range: (-2, 5)\n",
      "Keep Elitism: 1\n",
      "Gene DType: [<class 'float'>, None]\n",
      "Save Best Solutions: True\n",
      "Save Solutions: False\n",
      "======================================================================\n",
      "----------------------------------------------------------------------\n",
      "                           PyGAD Lifecycle                           \n",
      "======================================================================\n",
      "Step                   Handler                            Output Shape\n",
      "======================================================================\n",
      "Fitness Function       _fitness_func()                    (1)        \n",
      "----------------------------------------------------------------------\n",
      "Parent Selection       steady_state_selection()           (4, 126)   \n",
      "Number of Parents: 4\n",
      "----------------------------------------------------------------------\n",
      "Crossover              single_point_crossover()           (4, 126)   \n",
      "----------------------------------------------------------------------\n",
      "Mutation               random_mutation()                  (4, 126)   \n",
      "Mutation Genes: 12\n",
      "Random Mutation Range: (-1.0, 1.0)\n",
      "Mutation by Replacement: False\n",
      "Allow Duplicated Genes: True\n",
      "----------------------------------------------------------------------\n",
      "======================================================================\n",
      "Population Size: (10, 126)\n",
      "Number of Generations: 50\n",
      "Initial Population Range: (-2, 5)\n",
      "Keep Elitism: 1\n",
      "Gene DType: [<class 'float'>, None]\n",
      "Save Best Solutions: True\n",
      "Save Solutions: False\n",
      "======================================================================\n",
      "----------------------------------------------------------------------\n",
      "                           PyGAD Lifecycle                           \n",
      "======================================================================\n",
      "Step                   Handler                            Output Shape\n",
      "======================================================================\n",
      "Fitness Function       _fitness_func()                    (1)        \n",
      "----------------------------------------------------------------------\n",
      "Parent Selection       steady_state_selection()           (4, 126)   \n",
      "Number of Parents: 4\n",
      "----------------------------------------------------------------------\n",
      "Crossover              single_point_crossover()           (4, 126)   \n",
      "----------------------------------------------------------------------\n",
      "Mutation               random_mutation()                  (4, 126)   \n",
      "Mutation Genes: 12\n",
      "Random Mutation Range: (-1.0, 1.0)\n",
      "Mutation by Replacement: False\n",
      "Allow Duplicated Genes: True\n",
      "----------------------------------------------------------------------\n",
      "======================================================================\n",
      "Population Size: (10, 126)\n",
      "Number of Generations: 50\n",
      "Initial Population Range: (-2, 5)\n",
      "Keep Elitism: 1\n",
      "Gene DType: [<class 'float'>, None]\n",
      "Save Best Solutions: True\n",
      "Save Solutions: False\n",
      "======================================================================\n",
      "----------------------------------------------------------------------\n",
      "                           PyGAD Lifecycle                           \n",
      "======================================================================\n",
      "Step                   Handler                            Output Shape\n",
      "======================================================================\n",
      "Fitness Function       _fitness_func()                    (1)        \n",
      "----------------------------------------------------------------------\n",
      "Parent Selection       steady_state_selection()           (4, 198)   \n",
      "Number of Parents: 4\n",
      "----------------------------------------------------------------------\n",
      "Crossover              single_point_crossover()           (4, 198)   \n",
      "----------------------------------------------------------------------\n",
      "Mutation               random_mutation()                  (4, 198)   \n",
      "Mutation Genes: 19\n",
      "Random Mutation Range: (-1.0, 1.0)\n",
      "Mutation by Replacement: False\n",
      "Allow Duplicated Genes: True\n",
      "----------------------------------------------------------------------\n",
      "======================================================================\n",
      "Population Size: (10, 198)\n",
      "Number of Generations: 50\n",
      "Initial Population Range: (-2, 5)\n",
      "Keep Elitism: 1\n",
      "Gene DType: [<class 'float'>, None]\n",
      "Save Best Solutions: True\n",
      "Save Solutions: False\n",
      "======================================================================\n",
      "----------------------------------------------------------------------\n",
      "                           PyGAD Lifecycle                           \n",
      "======================================================================\n",
      "Step                   Handler                            Output Shape\n",
      "======================================================================\n",
      "Fitness Function       _fitness_func()                    (1)        \n",
      "----------------------------------------------------------------------\n",
      "Parent Selection       steady_state_selection()           (4, 198)   \n",
      "Number of Parents: 4\n",
      "----------------------------------------------------------------------\n",
      "Crossover              single_point_crossover()           (4, 198)   \n",
      "----------------------------------------------------------------------\n",
      "Mutation               random_mutation()                  (4, 198)   \n",
      "Mutation Genes: 19\n",
      "Random Mutation Range: (-1.0, 1.0)\n",
      "Mutation by Replacement: False\n",
      "Allow Duplicated Genes: True\n",
      "----------------------------------------------------------------------\n",
      "======================================================================\n",
      "Population Size: (10, 198)\n",
      "Number of Generations: 50\n",
      "Initial Population Range: (-2, 5)\n",
      "Keep Elitism: 1\n",
      "Gene DType: [<class 'float'>, None]\n",
      "Save Best Solutions: True\n",
      "Save Solutions: False\n",
      "======================================================================\n",
      "----------------------------------------------------------------------\n",
      "                           PyGAD Lifecycle                           \n",
      "======================================================================\n",
      "Step                   Handler                            Output Shape\n",
      "======================================================================\n",
      "Fitness Function       _fitness_func()                    (1)        \n",
      "----------------------------------------------------------------------\n",
      "Parent Selection       steady_state_selection()           (4, 198)   \n",
      "Number of Parents: 4\n",
      "----------------------------------------------------------------------\n",
      "Crossover              single_point_crossover()           (4, 198)   \n",
      "----------------------------------------------------------------------\n",
      "Mutation               random_mutation()                  (4, 198)   \n",
      "Mutation Genes: 19\n",
      "Random Mutation Range: (-1.0, 1.0)\n",
      "Mutation by Replacement: False\n",
      "Allow Duplicated Genes: True\n",
      "----------------------------------------------------------------------\n",
      "======================================================================\n",
      "Population Size: (10, 198)\n",
      "Number of Generations: 50\n",
      "Initial Population Range: (-2, 5)\n",
      "Keep Elitism: 1\n",
      "Gene DType: [<class 'float'>, None]\n",
      "Save Best Solutions: True\n",
      "Save Solutions: False\n",
      "======================================================================\n",
      "----------------------------------------------------------------------\n",
      "                           PyGAD Lifecycle                           \n",
      "======================================================================\n",
      "Step                   Handler                            Output Shape\n",
      "======================================================================\n",
      "Fitness Function       _fitness_func()                    (1)        \n",
      "----------------------------------------------------------------------\n",
      "Parent Selection       steady_state_selection()           (4, 198)   \n",
      "Number of Parents: 4\n",
      "----------------------------------------------------------------------\n",
      "Crossover              single_point_crossover()           (4, 198)   \n",
      "----------------------------------------------------------------------\n",
      "Mutation               random_mutation()                  (4, 198)   \n",
      "Mutation Genes: 19\n",
      "Random Mutation Range: (-1.0, 1.0)\n",
      "Mutation by Replacement: False\n",
      "Allow Duplicated Genes: True\n",
      "----------------------------------------------------------------------\n",
      "======================================================================\n",
      "Population Size: (10, 198)\n",
      "Number of Generations: 50\n",
      "Initial Population Range: (-2, 5)\n",
      "Keep Elitism: 1\n",
      "Gene DType: [<class 'float'>, None]\n",
      "Save Best Solutions: True\n",
      "Save Solutions: False\n",
      "======================================================================\n",
      "----------------------------------------------------------------------\n",
      "                           PyGAD Lifecycle                           \n",
      "======================================================================\n",
      "Step                   Handler                            Output Shape\n",
      "======================================================================\n",
      "Fitness Function       _fitness_func()                    (1)        \n",
      "----------------------------------------------------------------------\n",
      "Parent Selection       steady_state_selection()           (4, 198)   \n",
      "Number of Parents: 4\n",
      "----------------------------------------------------------------------\n",
      "Crossover              single_point_crossover()           (4, 198)   \n",
      "----------------------------------------------------------------------\n",
      "Mutation               random_mutation()                  (4, 198)   \n",
      "Mutation Genes: 19\n",
      "Random Mutation Range: (-1.0, 1.0)\n",
      "Mutation by Replacement: False\n",
      "Allow Duplicated Genes: True\n",
      "----------------------------------------------------------------------\n",
      "======================================================================\n",
      "Population Size: (10, 198)\n",
      "Number of Generations: 50\n",
      "Initial Population Range: (-2, 5)\n",
      "Keep Elitism: 1\n",
      "Gene DType: [<class 'float'>, None]\n",
      "Save Best Solutions: True\n",
      "Save Solutions: False\n",
      "======================================================================\n",
      "----------------------------------------------------------------------\n",
      "                           PyGAD Lifecycle                           \n",
      "======================================================================\n",
      "Step                   Handler                            Output Shape\n",
      "======================================================================\n",
      "Fitness Function       _fitness_func()                    (1)      \n",
      "----------------------------------------------------------------------\n",
      "Parent Selection       steady_state_selection()           (4, 54)  \n",
      "Number of Parents: 4\n",
      "----------------------------------------------------------------------\n",
      "Crossover              single_point_crossover()           (4, 54)  \n",
      "----------------------------------------------------------------------\n",
      "Mutation               random_mutation()                  (4, 54)  \n",
      "Mutation Genes: 5\n",
      "Random Mutation Range: (-1.0, 1.0)\n",
      "Mutation by Replacement: False\n",
      "Allow Duplicated Genes: True\n",
      "----------------------------------------------------------------------\n",
      "======================================================================\n",
      "Population Size: (10, 54)\n",
      "Number of Generations: 50\n",
      "Initial Population Range: (-2, 5)\n",
      "Keep Elitism: 1\n",
      "Gene DType: [<class 'float'>, None]\n",
      "Save Best Solutions: True\n",
      "Save Solutions: False\n",
      "======================================================================\n"
     ]
    },
    {
     "name": "stdout",
     "output_type": "stream",
     "text": [
      "---------- Iteration ---------\n"
     ]
    },
    {
     "name": "stderr",
     "output_type": "stream",
     "text": [
      "----------------------------------------------------------------------\n",
      "                           PyGAD Lifecycle                           \n",
      "======================================================================\n",
      "Step                   Handler                            Output Shape\n",
      "======================================================================\n",
      "Fitness Function       _fitness_func()                    (1)      \n",
      "----------------------------------------------------------------------\n",
      "Parent Selection       steady_state_selection()           (4, 54)  \n",
      "Number of Parents: 4\n",
      "----------------------------------------------------------------------\n",
      "Crossover              single_point_crossover()           (4, 54)  \n",
      "----------------------------------------------------------------------\n",
      "Mutation               random_mutation()                  (4, 54)  \n",
      "Mutation Genes: 5\n",
      "Random Mutation Range: (-1.0, 1.0)\n",
      "Mutation by Replacement: False\n",
      "Allow Duplicated Genes: True\n",
      "----------------------------------------------------------------------\n",
      "======================================================================\n",
      "Population Size: (10, 54)\n",
      "Number of Generations: 50\n",
      "Initial Population Range: (-2, 5)\n",
      "Keep Elitism: 1\n",
      "Gene DType: [<class 'float'>, None]\n",
      "Save Best Solutions: True\n",
      "Save Solutions: False\n",
      "======================================================================\n",
      "----------------------------------------------------------------------\n",
      "                           PyGAD Lifecycle                           \n",
      "======================================================================\n",
      "Step                   Handler                            Output Shape\n",
      "======================================================================\n",
      "Fitness Function       _fitness_func()                    (1)      \n",
      "----------------------------------------------------------------------\n",
      "Parent Selection       steady_state_selection()           (4, 54)  \n",
      "Number of Parents: 4\n",
      "----------------------------------------------------------------------\n",
      "Crossover              single_point_crossover()           (4, 54)  \n",
      "----------------------------------------------------------------------\n",
      "Mutation               random_mutation()                  (4, 54)  \n",
      "Mutation Genes: 5\n",
      "Random Mutation Range: (-1.0, 1.0)\n",
      "Mutation by Replacement: False\n",
      "Allow Duplicated Genes: True\n",
      "----------------------------------------------------------------------\n",
      "======================================================================\n",
      "Population Size: (10, 54)\n",
      "Number of Generations: 50\n",
      "Initial Population Range: (-2, 5)\n",
      "Keep Elitism: 1\n",
      "Gene DType: [<class 'float'>, None]\n",
      "Save Best Solutions: True\n",
      "Save Solutions: False\n",
      "======================================================================\n",
      "----------------------------------------------------------------------\n",
      "                           PyGAD Lifecycle                           \n",
      "======================================================================\n",
      "Step                   Handler                            Output Shape\n",
      "======================================================================\n",
      "Fitness Function       _fitness_func()                    (1)      \n",
      "----------------------------------------------------------------------\n",
      "Parent Selection       steady_state_selection()           (4, 54)  \n",
      "Number of Parents: 4\n",
      "----------------------------------------------------------------------\n",
      "Crossover              single_point_crossover()           (4, 54)  \n",
      "----------------------------------------------------------------------\n",
      "Mutation               random_mutation()                  (4, 54)  \n",
      "Mutation Genes: 5\n",
      "Random Mutation Range: (-1.0, 1.0)\n",
      "Mutation by Replacement: False\n",
      "Allow Duplicated Genes: True\n",
      "----------------------------------------------------------------------\n",
      "======================================================================\n",
      "Population Size: (10, 54)\n",
      "Number of Generations: 50\n",
      "Initial Population Range: (-2, 5)\n",
      "Keep Elitism: 1\n",
      "Gene DType: [<class 'float'>, None]\n",
      "Save Best Solutions: True\n",
      "Save Solutions: False\n",
      "======================================================================\n",
      "----------------------------------------------------------------------\n",
      "                           PyGAD Lifecycle                           \n",
      "======================================================================\n",
      "Step                   Handler                            Output Shape\n",
      "======================================================================\n",
      "Fitness Function       _fitness_func()                    (1)      \n",
      "----------------------------------------------------------------------\n",
      "Parent Selection       steady_state_selection()           (4, 54)  \n",
      "Number of Parents: 4\n",
      "----------------------------------------------------------------------\n",
      "Crossover              single_point_crossover()           (4, 54)  \n",
      "----------------------------------------------------------------------\n",
      "Mutation               random_mutation()                  (4, 54)  \n",
      "Mutation Genes: 5\n",
      "Random Mutation Range: (-1.0, 1.0)\n",
      "Mutation by Replacement: False\n",
      "Allow Duplicated Genes: True\n",
      "----------------------------------------------------------------------\n",
      "======================================================================\n",
      "Population Size: (10, 54)\n",
      "Number of Generations: 50\n",
      "Initial Population Range: (-2, 5)\n",
      "Keep Elitism: 1\n",
      "Gene DType: [<class 'float'>, None]\n",
      "Save Best Solutions: True\n",
      "Save Solutions: False\n",
      "======================================================================\n",
      "----------------------------------------------------------------------\n",
      "                           PyGAD Lifecycle                           \n",
      "======================================================================\n",
      "Step                   Handler                            Output Shape\n",
      "======================================================================\n",
      "Fitness Function       _fitness_func()                    (1)        \n",
      "----------------------------------------------------------------------\n",
      "Parent Selection       steady_state_selection()           (4, 126)   \n",
      "Number of Parents: 4\n",
      "----------------------------------------------------------------------\n",
      "Crossover              single_point_crossover()           (4, 126)   \n",
      "----------------------------------------------------------------------\n",
      "Mutation               random_mutation()                  (4, 126)   \n",
      "Mutation Genes: 12\n",
      "Random Mutation Range: (-1.0, 1.0)\n",
      "Mutation by Replacement: False\n",
      "Allow Duplicated Genes: True\n",
      "----------------------------------------------------------------------\n",
      "======================================================================\n",
      "Population Size: (10, 126)\n",
      "Number of Generations: 50\n",
      "Initial Population Range: (-2, 5)\n",
      "Keep Elitism: 1\n",
      "Gene DType: [<class 'float'>, None]\n",
      "Save Best Solutions: True\n",
      "Save Solutions: False\n",
      "======================================================================\n",
      "----------------------------------------------------------------------\n",
      "                           PyGAD Lifecycle                           \n",
      "======================================================================\n",
      "Step                   Handler                            Output Shape\n",
      "======================================================================\n",
      "Fitness Function       _fitness_func()                    (1)        \n",
      "----------------------------------------------------------------------\n",
      "Parent Selection       steady_state_selection()           (4, 126)   \n",
      "Number of Parents: 4\n",
      "----------------------------------------------------------------------\n",
      "Crossover              single_point_crossover()           (4, 126)   \n",
      "----------------------------------------------------------------------\n",
      "Mutation               random_mutation()                  (4, 126)   \n",
      "Mutation Genes: 12\n",
      "Random Mutation Range: (-1.0, 1.0)\n",
      "Mutation by Replacement: False\n",
      "Allow Duplicated Genes: True\n",
      "----------------------------------------------------------------------\n",
      "======================================================================\n",
      "Population Size: (10, 126)\n",
      "Number of Generations: 50\n",
      "Initial Population Range: (-2, 5)\n",
      "Keep Elitism: 1\n",
      "Gene DType: [<class 'float'>, None]\n",
      "Save Best Solutions: True\n",
      "Save Solutions: False\n",
      "======================================================================\n",
      "----------------------------------------------------------------------\n",
      "                           PyGAD Lifecycle                           \n",
      "======================================================================\n",
      "Step                   Handler                            Output Shape\n",
      "======================================================================\n",
      "Fitness Function       _fitness_func()                    (1)        \n",
      "----------------------------------------------------------------------\n",
      "Parent Selection       steady_state_selection()           (4, 126)   \n",
      "Number of Parents: 4\n",
      "----------------------------------------------------------------------\n",
      "Crossover              single_point_crossover()           (4, 126)   \n",
      "----------------------------------------------------------------------\n",
      "Mutation               random_mutation()                  (4, 126)   \n",
      "Mutation Genes: 12\n",
      "Random Mutation Range: (-1.0, 1.0)\n",
      "Mutation by Replacement: False\n",
      "Allow Duplicated Genes: True\n",
      "----------------------------------------------------------------------\n",
      "======================================================================\n",
      "Population Size: (10, 126)\n",
      "Number of Generations: 50\n",
      "Initial Population Range: (-2, 5)\n",
      "Keep Elitism: 1\n",
      "Gene DType: [<class 'float'>, None]\n",
      "Save Best Solutions: True\n",
      "Save Solutions: False\n",
      "======================================================================\n",
      "----------------------------------------------------------------------\n",
      "                           PyGAD Lifecycle                           \n",
      "======================================================================\n",
      "Step                   Handler                            Output Shape\n",
      "======================================================================\n",
      "Fitness Function       _fitness_func()                    (1)        \n",
      "----------------------------------------------------------------------\n",
      "Parent Selection       steady_state_selection()           (4, 126)   \n",
      "Number of Parents: 4\n",
      "----------------------------------------------------------------------\n",
      "Crossover              single_point_crossover()           (4, 126)   \n",
      "----------------------------------------------------------------------\n",
      "Mutation               random_mutation()                  (4, 126)   \n",
      "Mutation Genes: 12\n",
      "Random Mutation Range: (-1.0, 1.0)\n",
      "Mutation by Replacement: False\n",
      "Allow Duplicated Genes: True\n",
      "----------------------------------------------------------------------\n",
      "======================================================================\n",
      "Population Size: (10, 126)\n",
      "Number of Generations: 50\n",
      "Initial Population Range: (-2, 5)\n",
      "Keep Elitism: 1\n",
      "Gene DType: [<class 'float'>, None]\n",
      "Save Best Solutions: True\n",
      "Save Solutions: False\n",
      "======================================================================\n",
      "----------------------------------------------------------------------\n",
      "                           PyGAD Lifecycle                           \n",
      "======================================================================\n",
      "Step                   Handler                            Output Shape\n",
      "======================================================================\n",
      "Fitness Function       _fitness_func()                    (1)        \n",
      "----------------------------------------------------------------------\n",
      "Parent Selection       steady_state_selection()           (4, 126)   \n",
      "Number of Parents: 4\n",
      "----------------------------------------------------------------------\n",
      "Crossover              single_point_crossover()           (4, 126)   \n",
      "----------------------------------------------------------------------\n",
      "Mutation               random_mutation()                  (4, 126)   \n",
      "Mutation Genes: 12\n",
      "Random Mutation Range: (-1.0, 1.0)\n",
      "Mutation by Replacement: False\n",
      "Allow Duplicated Genes: True\n",
      "----------------------------------------------------------------------\n",
      "======================================================================\n",
      "Population Size: (10, 126)\n",
      "Number of Generations: 50\n",
      "Initial Population Range: (-2, 5)\n",
      "Keep Elitism: 1\n",
      "Gene DType: [<class 'float'>, None]\n",
      "Save Best Solutions: True\n",
      "Save Solutions: False\n",
      "======================================================================\n",
      "----------------------------------------------------------------------\n",
      "                           PyGAD Lifecycle                           \n",
      "======================================================================\n",
      "Step                   Handler                            Output Shape\n",
      "======================================================================\n",
      "Fitness Function       _fitness_func()                    (1)        \n",
      "----------------------------------------------------------------------\n",
      "Parent Selection       steady_state_selection()           (4, 198)   \n",
      "Number of Parents: 4\n",
      "----------------------------------------------------------------------\n",
      "Crossover              single_point_crossover()           (4, 198)   \n",
      "----------------------------------------------------------------------\n",
      "Mutation               random_mutation()                  (4, 198)   \n",
      "Mutation Genes: 19\n",
      "Random Mutation Range: (-1.0, 1.0)\n",
      "Mutation by Replacement: False\n",
      "Allow Duplicated Genes: True\n",
      "----------------------------------------------------------------------\n",
      "======================================================================\n",
      "Population Size: (10, 198)\n",
      "Number of Generations: 50\n",
      "Initial Population Range: (-2, 5)\n",
      "Keep Elitism: 1\n",
      "Gene DType: [<class 'float'>, None]\n",
      "Save Best Solutions: True\n",
      "Save Solutions: False\n",
      "======================================================================\n",
      "----------------------------------------------------------------------\n",
      "                           PyGAD Lifecycle                           \n",
      "======================================================================\n",
      "Step                   Handler                            Output Shape\n",
      "======================================================================\n",
      "Fitness Function       _fitness_func()                    (1)        \n",
      "----------------------------------------------------------------------\n",
      "Parent Selection       steady_state_selection()           (4, 198)   \n",
      "Number of Parents: 4\n",
      "----------------------------------------------------------------------\n",
      "Crossover              single_point_crossover()           (4, 198)   \n",
      "----------------------------------------------------------------------\n",
      "Mutation               random_mutation()                  (4, 198)   \n",
      "Mutation Genes: 19\n",
      "Random Mutation Range: (-1.0, 1.0)\n",
      "Mutation by Replacement: False\n",
      "Allow Duplicated Genes: True\n",
      "----------------------------------------------------------------------\n",
      "======================================================================\n",
      "Population Size: (10, 198)\n",
      "Number of Generations: 50\n",
      "Initial Population Range: (-2, 5)\n",
      "Keep Elitism: 1\n",
      "Gene DType: [<class 'float'>, None]\n",
      "Save Best Solutions: True\n",
      "Save Solutions: False\n",
      "======================================================================\n",
      "----------------------------------------------------------------------\n",
      "                           PyGAD Lifecycle                           \n",
      "======================================================================\n",
      "Step                   Handler                            Output Shape\n",
      "======================================================================\n",
      "Fitness Function       _fitness_func()                    (1)        \n",
      "----------------------------------------------------------------------\n",
      "Parent Selection       steady_state_selection()           (4, 198)   \n",
      "Number of Parents: 4\n",
      "----------------------------------------------------------------------\n",
      "Crossover              single_point_crossover()           (4, 198)   \n",
      "----------------------------------------------------------------------\n",
      "Mutation               random_mutation()                  (4, 198)   \n",
      "Mutation Genes: 19\n",
      "Random Mutation Range: (-1.0, 1.0)\n",
      "Mutation by Replacement: False\n",
      "Allow Duplicated Genes: True\n",
      "----------------------------------------------------------------------\n",
      "======================================================================\n",
      "Population Size: (10, 198)\n",
      "Number of Generations: 50\n",
      "Initial Population Range: (-2, 5)\n",
      "Keep Elitism: 1\n",
      "Gene DType: [<class 'float'>, None]\n",
      "Save Best Solutions: True\n",
      "Save Solutions: False\n",
      "======================================================================\n",
      "----------------------------------------------------------------------\n",
      "                           PyGAD Lifecycle                           \n",
      "======================================================================\n",
      "Step                   Handler                            Output Shape\n",
      "======================================================================\n",
      "Fitness Function       _fitness_func()                    (1)        \n",
      "----------------------------------------------------------------------\n",
      "Parent Selection       steady_state_selection()           (4, 198)   \n",
      "Number of Parents: 4\n",
      "----------------------------------------------------------------------\n",
      "Crossover              single_point_crossover()           (4, 198)   \n",
      "----------------------------------------------------------------------\n",
      "Mutation               random_mutation()                  (4, 198)   \n",
      "Mutation Genes: 19\n",
      "Random Mutation Range: (-1.0, 1.0)\n",
      "Mutation by Replacement: False\n",
      "Allow Duplicated Genes: True\n",
      "----------------------------------------------------------------------\n",
      "======================================================================\n",
      "Population Size: (10, 198)\n",
      "Number of Generations: 50\n",
      "Initial Population Range: (-2, 5)\n",
      "Keep Elitism: 1\n",
      "Gene DType: [<class 'float'>, None]\n",
      "Save Best Solutions: True\n",
      "Save Solutions: False\n",
      "======================================================================\n",
      "----------------------------------------------------------------------\n",
      "                           PyGAD Lifecycle                           \n",
      "======================================================================\n",
      "Step                   Handler                            Output Shape\n",
      "======================================================================\n",
      "Fitness Function       _fitness_func()                    (1)        \n",
      "----------------------------------------------------------------------\n",
      "Parent Selection       steady_state_selection()           (4, 198)   \n",
      "Number of Parents: 4\n",
      "----------------------------------------------------------------------\n",
      "Crossover              single_point_crossover()           (4, 198)   \n",
      "----------------------------------------------------------------------\n",
      "Mutation               random_mutation()                  (4, 198)   \n",
      "Mutation Genes: 19\n",
      "Random Mutation Range: (-1.0, 1.0)\n",
      "Mutation by Replacement: False\n",
      "Allow Duplicated Genes: True\n",
      "----------------------------------------------------------------------\n",
      "======================================================================\n",
      "Population Size: (10, 198)\n",
      "Number of Generations: 50\n",
      "Initial Population Range: (-2, 5)\n",
      "Keep Elitism: 1\n",
      "Gene DType: [<class 'float'>, None]\n",
      "Save Best Solutions: True\n",
      "Save Solutions: False\n",
      "======================================================================\n",
      "----------------------------------------------------------------------\n",
      "                           PyGAD Lifecycle                           \n",
      "======================================================================\n",
      "Step                   Handler                            Output Shape\n",
      "======================================================================\n",
      "Fitness Function       _fitness_func()                    (1)      \n",
      "----------------------------------------------------------------------\n",
      "Parent Selection       steady_state_selection()           (4, 54)  \n",
      "Number of Parents: 4\n",
      "----------------------------------------------------------------------\n",
      "Crossover              single_point_crossover()           (4, 54)  \n",
      "----------------------------------------------------------------------\n",
      "Mutation               random_mutation()                  (4, 54)  \n",
      "Mutation Genes: 5\n",
      "Random Mutation Range: (-1.0, 1.0)\n",
      "Mutation by Replacement: False\n",
      "Allow Duplicated Genes: True\n",
      "----------------------------------------------------------------------\n",
      "======================================================================\n",
      "Population Size: (10, 54)\n",
      "Number of Generations: 50\n",
      "Initial Population Range: (-2, 5)\n",
      "Keep Elitism: 1\n",
      "Gene DType: [<class 'float'>, None]\n",
      "Save Best Solutions: True\n",
      "Save Solutions: False\n",
      "======================================================================\n"
     ]
    },
    {
     "name": "stdout",
     "output_type": "stream",
     "text": [
      "---------- Iteration ---------\n"
     ]
    },
    {
     "name": "stderr",
     "output_type": "stream",
     "text": [
      "----------------------------------------------------------------------\n",
      "                           PyGAD Lifecycle                           \n",
      "======================================================================\n",
      "Step                   Handler                            Output Shape\n",
      "======================================================================\n",
      "Fitness Function       _fitness_func()                    (1)      \n",
      "----------------------------------------------------------------------\n",
      "Parent Selection       steady_state_selection()           (4, 54)  \n",
      "Number of Parents: 4\n",
      "----------------------------------------------------------------------\n",
      "Crossover              single_point_crossover()           (4, 54)  \n",
      "----------------------------------------------------------------------\n",
      "Mutation               random_mutation()                  (4, 54)  \n",
      "Mutation Genes: 5\n",
      "Random Mutation Range: (-1.0, 1.0)\n",
      "Mutation by Replacement: False\n",
      "Allow Duplicated Genes: True\n",
      "----------------------------------------------------------------------\n",
      "======================================================================\n",
      "Population Size: (10, 54)\n",
      "Number of Generations: 50\n",
      "Initial Population Range: (-2, 5)\n",
      "Keep Elitism: 1\n",
      "Gene DType: [<class 'float'>, None]\n",
      "Save Best Solutions: True\n",
      "Save Solutions: False\n",
      "======================================================================\n",
      "----------------------------------------------------------------------\n",
      "                           PyGAD Lifecycle                           \n",
      "======================================================================\n",
      "Step                   Handler                            Output Shape\n",
      "======================================================================\n",
      "Fitness Function       _fitness_func()                    (1)      \n",
      "----------------------------------------------------------------------\n",
      "Parent Selection       steady_state_selection()           (4, 54)  \n",
      "Number of Parents: 4\n",
      "----------------------------------------------------------------------\n",
      "Crossover              single_point_crossover()           (4, 54)  \n",
      "----------------------------------------------------------------------\n",
      "Mutation               random_mutation()                  (4, 54)  \n",
      "Mutation Genes: 5\n",
      "Random Mutation Range: (-1.0, 1.0)\n",
      "Mutation by Replacement: False\n",
      "Allow Duplicated Genes: True\n",
      "----------------------------------------------------------------------\n",
      "======================================================================\n",
      "Population Size: (10, 54)\n",
      "Number of Generations: 50\n",
      "Initial Population Range: (-2, 5)\n",
      "Keep Elitism: 1\n",
      "Gene DType: [<class 'float'>, None]\n",
      "Save Best Solutions: True\n",
      "Save Solutions: False\n",
      "======================================================================\n",
      "----------------------------------------------------------------------\n",
      "                           PyGAD Lifecycle                           \n",
      "======================================================================\n",
      "Step                   Handler                            Output Shape\n",
      "======================================================================\n",
      "Fitness Function       _fitness_func()                    (1)      \n",
      "----------------------------------------------------------------------\n",
      "Parent Selection       steady_state_selection()           (4, 54)  \n",
      "Number of Parents: 4\n",
      "----------------------------------------------------------------------\n",
      "Crossover              single_point_crossover()           (4, 54)  \n",
      "----------------------------------------------------------------------\n",
      "Mutation               random_mutation()                  (4, 54)  \n",
      "Mutation Genes: 5\n",
      "Random Mutation Range: (-1.0, 1.0)\n",
      "Mutation by Replacement: False\n",
      "Allow Duplicated Genes: True\n",
      "----------------------------------------------------------------------\n",
      "======================================================================\n",
      "Population Size: (10, 54)\n",
      "Number of Generations: 50\n",
      "Initial Population Range: (-2, 5)\n",
      "Keep Elitism: 1\n",
      "Gene DType: [<class 'float'>, None]\n",
      "Save Best Solutions: True\n",
      "Save Solutions: False\n",
      "======================================================================\n",
      "----------------------------------------------------------------------\n",
      "                           PyGAD Lifecycle                           \n",
      "======================================================================\n",
      "Step                   Handler                            Output Shape\n",
      "======================================================================\n",
      "Fitness Function       _fitness_func()                    (1)      \n",
      "----------------------------------------------------------------------\n",
      "Parent Selection       steady_state_selection()           (4, 54)  \n",
      "Number of Parents: 4\n",
      "----------------------------------------------------------------------\n",
      "Crossover              single_point_crossover()           (4, 54)  \n",
      "----------------------------------------------------------------------\n",
      "Mutation               random_mutation()                  (4, 54)  \n",
      "Mutation Genes: 5\n",
      "Random Mutation Range: (-1.0, 1.0)\n",
      "Mutation by Replacement: False\n",
      "Allow Duplicated Genes: True\n",
      "----------------------------------------------------------------------\n",
      "======================================================================\n",
      "Population Size: (10, 54)\n",
      "Number of Generations: 50\n",
      "Initial Population Range: (-2, 5)\n",
      "Keep Elitism: 1\n",
      "Gene DType: [<class 'float'>, None]\n",
      "Save Best Solutions: True\n",
      "Save Solutions: False\n",
      "======================================================================\n",
      "----------------------------------------------------------------------\n",
      "                           PyGAD Lifecycle                           \n",
      "======================================================================\n",
      "Step                   Handler                            Output Shape\n",
      "======================================================================\n",
      "Fitness Function       _fitness_func()                    (1)        \n",
      "----------------------------------------------------------------------\n",
      "Parent Selection       steady_state_selection()           (4, 126)   \n",
      "Number of Parents: 4\n",
      "----------------------------------------------------------------------\n",
      "Crossover              single_point_crossover()           (4, 126)   \n",
      "----------------------------------------------------------------------\n",
      "Mutation               random_mutation()                  (4, 126)   \n",
      "Mutation Genes: 12\n",
      "Random Mutation Range: (-1.0, 1.0)\n",
      "Mutation by Replacement: False\n",
      "Allow Duplicated Genes: True\n",
      "----------------------------------------------------------------------\n",
      "======================================================================\n",
      "Population Size: (10, 126)\n",
      "Number of Generations: 50\n",
      "Initial Population Range: (-2, 5)\n",
      "Keep Elitism: 1\n",
      "Gene DType: [<class 'float'>, None]\n",
      "Save Best Solutions: True\n",
      "Save Solutions: False\n",
      "======================================================================\n",
      "----------------------------------------------------------------------\n",
      "                           PyGAD Lifecycle                           \n",
      "======================================================================\n",
      "Step                   Handler                            Output Shape\n",
      "======================================================================\n",
      "Fitness Function       _fitness_func()                    (1)        \n",
      "----------------------------------------------------------------------\n",
      "Parent Selection       steady_state_selection()           (4, 126)   \n",
      "Number of Parents: 4\n",
      "----------------------------------------------------------------------\n",
      "Crossover              single_point_crossover()           (4, 126)   \n",
      "----------------------------------------------------------------------\n",
      "Mutation               random_mutation()                  (4, 126)   \n",
      "Mutation Genes: 12\n",
      "Random Mutation Range: (-1.0, 1.0)\n",
      "Mutation by Replacement: False\n",
      "Allow Duplicated Genes: True\n",
      "----------------------------------------------------------------------\n",
      "======================================================================\n",
      "Population Size: (10, 126)\n",
      "Number of Generations: 50\n",
      "Initial Population Range: (-2, 5)\n",
      "Keep Elitism: 1\n",
      "Gene DType: [<class 'float'>, None]\n",
      "Save Best Solutions: True\n",
      "Save Solutions: False\n",
      "======================================================================\n",
      "----------------------------------------------------------------------\n",
      "                           PyGAD Lifecycle                           \n",
      "======================================================================\n",
      "Step                   Handler                            Output Shape\n",
      "======================================================================\n",
      "Fitness Function       _fitness_func()                    (1)        \n",
      "----------------------------------------------------------------------\n",
      "Parent Selection       steady_state_selection()           (4, 126)   \n",
      "Number of Parents: 4\n",
      "----------------------------------------------------------------------\n",
      "Crossover              single_point_crossover()           (4, 126)   \n",
      "----------------------------------------------------------------------\n",
      "Mutation               random_mutation()                  (4, 126)   \n",
      "Mutation Genes: 12\n",
      "Random Mutation Range: (-1.0, 1.0)\n",
      "Mutation by Replacement: False\n",
      "Allow Duplicated Genes: True\n",
      "----------------------------------------------------------------------\n",
      "======================================================================\n",
      "Population Size: (10, 126)\n",
      "Number of Generations: 50\n",
      "Initial Population Range: (-2, 5)\n",
      "Keep Elitism: 1\n",
      "Gene DType: [<class 'float'>, None]\n",
      "Save Best Solutions: True\n",
      "Save Solutions: False\n",
      "======================================================================\n",
      "----------------------------------------------------------------------\n",
      "                           PyGAD Lifecycle                           \n",
      "======================================================================\n",
      "Step                   Handler                            Output Shape\n",
      "======================================================================\n",
      "Fitness Function       _fitness_func()                    (1)        \n",
      "----------------------------------------------------------------------\n",
      "Parent Selection       steady_state_selection()           (4, 126)   \n",
      "Number of Parents: 4\n",
      "----------------------------------------------------------------------\n",
      "Crossover              single_point_crossover()           (4, 126)   \n",
      "----------------------------------------------------------------------\n",
      "Mutation               random_mutation()                  (4, 126)   \n",
      "Mutation Genes: 12\n",
      "Random Mutation Range: (-1.0, 1.0)\n",
      "Mutation by Replacement: False\n",
      "Allow Duplicated Genes: True\n",
      "----------------------------------------------------------------------\n",
      "======================================================================\n",
      "Population Size: (10, 126)\n",
      "Number of Generations: 50\n",
      "Initial Population Range: (-2, 5)\n",
      "Keep Elitism: 1\n",
      "Gene DType: [<class 'float'>, None]\n",
      "Save Best Solutions: True\n",
      "Save Solutions: False\n",
      "======================================================================\n",
      "----------------------------------------------------------------------\n",
      "                           PyGAD Lifecycle                           \n",
      "======================================================================\n",
      "Step                   Handler                            Output Shape\n",
      "======================================================================\n",
      "Fitness Function       _fitness_func()                    (1)        \n",
      "----------------------------------------------------------------------\n",
      "Parent Selection       steady_state_selection()           (4, 126)   \n",
      "Number of Parents: 4\n",
      "----------------------------------------------------------------------\n",
      "Crossover              single_point_crossover()           (4, 126)   \n",
      "----------------------------------------------------------------------\n",
      "Mutation               random_mutation()                  (4, 126)   \n",
      "Mutation Genes: 12\n",
      "Random Mutation Range: (-1.0, 1.0)\n",
      "Mutation by Replacement: False\n",
      "Allow Duplicated Genes: True\n",
      "----------------------------------------------------------------------\n",
      "======================================================================\n",
      "Population Size: (10, 126)\n",
      "Number of Generations: 50\n",
      "Initial Population Range: (-2, 5)\n",
      "Keep Elitism: 1\n",
      "Gene DType: [<class 'float'>, None]\n",
      "Save Best Solutions: True\n",
      "Save Solutions: False\n",
      "======================================================================\n",
      "----------------------------------------------------------------------\n",
      "                           PyGAD Lifecycle                           \n",
      "======================================================================\n",
      "Step                   Handler                            Output Shape\n",
      "======================================================================\n",
      "Fitness Function       _fitness_func()                    (1)        \n",
      "----------------------------------------------------------------------\n",
      "Parent Selection       steady_state_selection()           (4, 198)   \n",
      "Number of Parents: 4\n",
      "----------------------------------------------------------------------\n",
      "Crossover              single_point_crossover()           (4, 198)   \n",
      "----------------------------------------------------------------------\n",
      "Mutation               random_mutation()                  (4, 198)   \n",
      "Mutation Genes: 19\n",
      "Random Mutation Range: (-1.0, 1.0)\n",
      "Mutation by Replacement: False\n",
      "Allow Duplicated Genes: True\n",
      "----------------------------------------------------------------------\n",
      "======================================================================\n",
      "Population Size: (10, 198)\n",
      "Number of Generations: 50\n",
      "Initial Population Range: (-2, 5)\n",
      "Keep Elitism: 1\n",
      "Gene DType: [<class 'float'>, None]\n",
      "Save Best Solutions: True\n",
      "Save Solutions: False\n",
      "======================================================================\n",
      "----------------------------------------------------------------------\n",
      "                           PyGAD Lifecycle                           \n",
      "======================================================================\n",
      "Step                   Handler                            Output Shape\n",
      "======================================================================\n",
      "Fitness Function       _fitness_func()                    (1)        \n",
      "----------------------------------------------------------------------\n",
      "Parent Selection       steady_state_selection()           (4, 198)   \n",
      "Number of Parents: 4\n",
      "----------------------------------------------------------------------\n",
      "Crossover              single_point_crossover()           (4, 198)   \n",
      "----------------------------------------------------------------------\n",
      "Mutation               random_mutation()                  (4, 198)   \n",
      "Mutation Genes: 19\n",
      "Random Mutation Range: (-1.0, 1.0)\n",
      "Mutation by Replacement: False\n",
      "Allow Duplicated Genes: True\n",
      "----------------------------------------------------------------------\n",
      "======================================================================\n",
      "Population Size: (10, 198)\n",
      "Number of Generations: 50\n",
      "Initial Population Range: (-2, 5)\n",
      "Keep Elitism: 1\n",
      "Gene DType: [<class 'float'>, None]\n",
      "Save Best Solutions: True\n",
      "Save Solutions: False\n",
      "======================================================================\n",
      "----------------------------------------------------------------------\n",
      "                           PyGAD Lifecycle                           \n",
      "======================================================================\n",
      "Step                   Handler                            Output Shape\n",
      "======================================================================\n",
      "Fitness Function       _fitness_func()                    (1)        \n",
      "----------------------------------------------------------------------\n",
      "Parent Selection       steady_state_selection()           (4, 198)   \n",
      "Number of Parents: 4\n",
      "----------------------------------------------------------------------\n",
      "Crossover              single_point_crossover()           (4, 198)   \n",
      "----------------------------------------------------------------------\n",
      "Mutation               random_mutation()                  (4, 198)   \n",
      "Mutation Genes: 19\n",
      "Random Mutation Range: (-1.0, 1.0)\n",
      "Mutation by Replacement: False\n",
      "Allow Duplicated Genes: True\n",
      "----------------------------------------------------------------------\n",
      "======================================================================\n",
      "Population Size: (10, 198)\n",
      "Number of Generations: 50\n",
      "Initial Population Range: (-2, 5)\n",
      "Keep Elitism: 1\n",
      "Gene DType: [<class 'float'>, None]\n",
      "Save Best Solutions: True\n",
      "Save Solutions: False\n",
      "======================================================================\n",
      "----------------------------------------------------------------------\n",
      "                           PyGAD Lifecycle                           \n",
      "======================================================================\n",
      "Step                   Handler                            Output Shape\n",
      "======================================================================\n",
      "Fitness Function       _fitness_func()                    (1)        \n",
      "----------------------------------------------------------------------\n",
      "Parent Selection       steady_state_selection()           (4, 198)   \n",
      "Number of Parents: 4\n",
      "----------------------------------------------------------------------\n",
      "Crossover              single_point_crossover()           (4, 198)   \n",
      "----------------------------------------------------------------------\n",
      "Mutation               random_mutation()                  (4, 198)   \n",
      "Mutation Genes: 19\n",
      "Random Mutation Range: (-1.0, 1.0)\n",
      "Mutation by Replacement: False\n",
      "Allow Duplicated Genes: True\n",
      "----------------------------------------------------------------------\n",
      "======================================================================\n",
      "Population Size: (10, 198)\n",
      "Number of Generations: 50\n",
      "Initial Population Range: (-2, 5)\n",
      "Keep Elitism: 1\n",
      "Gene DType: [<class 'float'>, None]\n",
      "Save Best Solutions: True\n",
      "Save Solutions: False\n",
      "======================================================================\n",
      "----------------------------------------------------------------------\n",
      "                           PyGAD Lifecycle                           \n",
      "======================================================================\n",
      "Step                   Handler                            Output Shape\n",
      "======================================================================\n",
      "Fitness Function       _fitness_func()                    (1)        \n",
      "----------------------------------------------------------------------\n",
      "Parent Selection       steady_state_selection()           (4, 198)   \n",
      "Number of Parents: 4\n",
      "----------------------------------------------------------------------\n",
      "Crossover              single_point_crossover()           (4, 198)   \n",
      "----------------------------------------------------------------------\n",
      "Mutation               random_mutation()                  (4, 198)   \n",
      "Mutation Genes: 19\n",
      "Random Mutation Range: (-1.0, 1.0)\n",
      "Mutation by Replacement: False\n",
      "Allow Duplicated Genes: True\n",
      "----------------------------------------------------------------------\n",
      "======================================================================\n",
      "Population Size: (10, 198)\n",
      "Number of Generations: 50\n",
      "Initial Population Range: (-2, 5)\n",
      "Keep Elitism: 1\n",
      "Gene DType: [<class 'float'>, None]\n",
      "Save Best Solutions: True\n",
      "Save Solutions: False\n",
      "======================================================================\n"
     ]
    }
   ],
   "source": [
    "use_depth = len(width) == 1\n",
    "\n",
    "if use_depth:\n",
    "    axis = 0\n",
    "    label = \"depth\"\n",
    "else:\n",
    "    axis = 1\n",
    "    label = \"width\"\n",
    "\n",
    "all_solutions = list()\n",
    "pre_df = list()\n",
    "\n",
    "try:\n",
    "    for name, func in actv_func.items():\n",
    "        print(\"---------- Iteration ---------\")\n",
    "        best_solutions, best_solution_fitness = evolution_heatmap(width, depth, iterations=5, actv_func=func, steps=200)\n",
    "        all_solutions.append(best_solutions)\n",
    "\n",
    "        fitness = np.squeeze(np.array(best_solution_fitness), axis=axis)# delete  \n",
    "        \n",
    "        for s, fits in zip((depth if use_depth else width), fitness):\n",
    "            pre_df += [(name, str(s), fit) for fit in fits]\n",
    "\n",
    "finally:\n",
    "    df = pd.DataFrame(pre_df, columns=[\"function\", label, \"fitness\"])\n"
   ]
  },
  {
   "cell_type": "code",
   "execution_count": 8,
   "metadata": {},
   "outputs": [
    {
     "data": {
      "application/vnd.plotly.v1+json": {
       "config": {
        "plotlyServerURL": "https://plot.ly"
       },
       "data": [
        {
         "alignmentgroup": "True",
         "boxpoints": "all",
         "hovertemplate": "function=tanh<br>width=%{x}<br>fitness=%{y}<extra></extra>",
         "legendgroup": "tanh",
         "marker": {
          "color": "#636efa"
         },
         "name": "tanh",
         "notched": false,
         "offsetgroup": "tanh",
         "orientation": "v",
         "showlegend": true,
         "type": "box",
         "x": [
          "2",
          "2",
          "2",
          "2",
          "2",
          "5",
          "5",
          "5",
          "5",
          "5",
          "8",
          "8",
          "8",
          "8",
          "8"
         ],
         "x0": " ",
         "xaxis": "x",
         "y": [
          1504.8941466383874,
          2140.151824257778,
          1894.4076600799679,
          2030.5099914557957,
          2123.924198069864,
          1070.460221792034,
          872.2553628677965,
          502.0792736631756,
          737.4933776632349,
          1038.8056140885965,
          1078.6724256041355,
          1567.553619199941,
          1299.634300901585,
          523.884030597164,
          1208.866838165799
         ],
         "y0": " ",
         "yaxis": "y"
        },
        {
         "alignmentgroup": "True",
         "boxpoints": "all",
         "hovertemplate": "function=relu<br>width=%{x}<br>fitness=%{y}<extra></extra>",
         "legendgroup": "relu",
         "marker": {
          "color": "#EF553B"
         },
         "name": "relu",
         "notched": false,
         "offsetgroup": "relu",
         "orientation": "v",
         "showlegend": true,
         "type": "box",
         "x": [
          "2",
          "2",
          "2",
          "2",
          "2",
          "5",
          "5",
          "5",
          "5",
          "5",
          "8",
          "8",
          "8",
          "8",
          "8"
         ],
         "x0": " ",
         "xaxis": "x",
         "y": [
          1944.5252444670884,
          2405.890777838217,
          1610.4336201929627,
          1966.2085797601383,
          1641.5039121887057,
          2034.1845345348415,
          1047.676092379369,
          920.511016076263,
          1837.5931259913662,
          1262.6668619425786,
          1117.3270260115744,
          992.1647367757544,
          425.3195390412278,
          649.8069383712589,
          1255.8116714699268
         ],
         "y0": " ",
         "yaxis": "y"
        },
        {
         "alignmentgroup": "True",
         "boxpoints": "all",
         "hovertemplate": "function=logsig<br>width=%{x}<br>fitness=%{y}<extra></extra>",
         "legendgroup": "logsig",
         "marker": {
          "color": "#00cc96"
         },
         "name": "logsig",
         "notched": false,
         "offsetgroup": "logsig",
         "orientation": "v",
         "showlegend": true,
         "type": "box",
         "x": [
          "2",
          "2",
          "2",
          "2",
          "2",
          "5",
          "5",
          "5",
          "5",
          "5",
          "8",
          "8",
          "8",
          "8",
          "8"
         ],
         "x0": " ",
         "xaxis": "x",
         "y": [
          1477.963325661319,
          1023.2573578233953,
          962.7315364664321,
          1469.9403392383103,
          2496.721065736804,
          1449.0769415675816,
          817.9985374991486,
          1105.22320307732,
          730.0352270656244,
          2589.6897267916947,
          1097.6425713834008,
          1203.4806012880124,
          788.7416199299552,
          408.9818640098335,
          114.24956480524854
         ],
         "y0": " ",
         "yaxis": "y"
        }
       ],
       "layout": {
        "boxmode": "group",
        "legend": {
         "title": {
          "text": "function"
         },
         "tracegroupgap": 0
        },
        "template": {
         "data": {
          "bar": [
           {
            "error_x": {
             "color": "#2a3f5f"
            },
            "error_y": {
             "color": "#2a3f5f"
            },
            "marker": {
             "line": {
              "color": "#E5ECF6",
              "width": 0.5
             },
             "pattern": {
              "fillmode": "overlay",
              "size": 10,
              "solidity": 0.2
             }
            },
            "type": "bar"
           }
          ],
          "barpolar": [
           {
            "marker": {
             "line": {
              "color": "#E5ECF6",
              "width": 0.5
             },
             "pattern": {
              "fillmode": "overlay",
              "size": 10,
              "solidity": 0.2
             }
            },
            "type": "barpolar"
           }
          ],
          "carpet": [
           {
            "aaxis": {
             "endlinecolor": "#2a3f5f",
             "gridcolor": "white",
             "linecolor": "white",
             "minorgridcolor": "white",
             "startlinecolor": "#2a3f5f"
            },
            "baxis": {
             "endlinecolor": "#2a3f5f",
             "gridcolor": "white",
             "linecolor": "white",
             "minorgridcolor": "white",
             "startlinecolor": "#2a3f5f"
            },
            "type": "carpet"
           }
          ],
          "choropleth": [
           {
            "colorbar": {
             "outlinewidth": 0,
             "ticks": ""
            },
            "type": "choropleth"
           }
          ],
          "contour": [
           {
            "colorbar": {
             "outlinewidth": 0,
             "ticks": ""
            },
            "colorscale": [
             [
              0,
              "#0d0887"
             ],
             [
              0.1111111111111111,
              "#46039f"
             ],
             [
              0.2222222222222222,
              "#7201a8"
             ],
             [
              0.3333333333333333,
              "#9c179e"
             ],
             [
              0.4444444444444444,
              "#bd3786"
             ],
             [
              0.5555555555555556,
              "#d8576b"
             ],
             [
              0.6666666666666666,
              "#ed7953"
             ],
             [
              0.7777777777777778,
              "#fb9f3a"
             ],
             [
              0.8888888888888888,
              "#fdca26"
             ],
             [
              1,
              "#f0f921"
             ]
            ],
            "type": "contour"
           }
          ],
          "contourcarpet": [
           {
            "colorbar": {
             "outlinewidth": 0,
             "ticks": ""
            },
            "type": "contourcarpet"
           }
          ],
          "heatmap": [
           {
            "colorbar": {
             "outlinewidth": 0,
             "ticks": ""
            },
            "colorscale": [
             [
              0,
              "#0d0887"
             ],
             [
              0.1111111111111111,
              "#46039f"
             ],
             [
              0.2222222222222222,
              "#7201a8"
             ],
             [
              0.3333333333333333,
              "#9c179e"
             ],
             [
              0.4444444444444444,
              "#bd3786"
             ],
             [
              0.5555555555555556,
              "#d8576b"
             ],
             [
              0.6666666666666666,
              "#ed7953"
             ],
             [
              0.7777777777777778,
              "#fb9f3a"
             ],
             [
              0.8888888888888888,
              "#fdca26"
             ],
             [
              1,
              "#f0f921"
             ]
            ],
            "type": "heatmap"
           }
          ],
          "heatmapgl": [
           {
            "colorbar": {
             "outlinewidth": 0,
             "ticks": ""
            },
            "colorscale": [
             [
              0,
              "#0d0887"
             ],
             [
              0.1111111111111111,
              "#46039f"
             ],
             [
              0.2222222222222222,
              "#7201a8"
             ],
             [
              0.3333333333333333,
              "#9c179e"
             ],
             [
              0.4444444444444444,
              "#bd3786"
             ],
             [
              0.5555555555555556,
              "#d8576b"
             ],
             [
              0.6666666666666666,
              "#ed7953"
             ],
             [
              0.7777777777777778,
              "#fb9f3a"
             ],
             [
              0.8888888888888888,
              "#fdca26"
             ],
             [
              1,
              "#f0f921"
             ]
            ],
            "type": "heatmapgl"
           }
          ],
          "histogram": [
           {
            "marker": {
             "pattern": {
              "fillmode": "overlay",
              "size": 10,
              "solidity": 0.2
             }
            },
            "type": "histogram"
           }
          ],
          "histogram2d": [
           {
            "colorbar": {
             "outlinewidth": 0,
             "ticks": ""
            },
            "colorscale": [
             [
              0,
              "#0d0887"
             ],
             [
              0.1111111111111111,
              "#46039f"
             ],
             [
              0.2222222222222222,
              "#7201a8"
             ],
             [
              0.3333333333333333,
              "#9c179e"
             ],
             [
              0.4444444444444444,
              "#bd3786"
             ],
             [
              0.5555555555555556,
              "#d8576b"
             ],
             [
              0.6666666666666666,
              "#ed7953"
             ],
             [
              0.7777777777777778,
              "#fb9f3a"
             ],
             [
              0.8888888888888888,
              "#fdca26"
             ],
             [
              1,
              "#f0f921"
             ]
            ],
            "type": "histogram2d"
           }
          ],
          "histogram2dcontour": [
           {
            "colorbar": {
             "outlinewidth": 0,
             "ticks": ""
            },
            "colorscale": [
             [
              0,
              "#0d0887"
             ],
             [
              0.1111111111111111,
              "#46039f"
             ],
             [
              0.2222222222222222,
              "#7201a8"
             ],
             [
              0.3333333333333333,
              "#9c179e"
             ],
             [
              0.4444444444444444,
              "#bd3786"
             ],
             [
              0.5555555555555556,
              "#d8576b"
             ],
             [
              0.6666666666666666,
              "#ed7953"
             ],
             [
              0.7777777777777778,
              "#fb9f3a"
             ],
             [
              0.8888888888888888,
              "#fdca26"
             ],
             [
              1,
              "#f0f921"
             ]
            ],
            "type": "histogram2dcontour"
           }
          ],
          "mesh3d": [
           {
            "colorbar": {
             "outlinewidth": 0,
             "ticks": ""
            },
            "type": "mesh3d"
           }
          ],
          "parcoords": [
           {
            "line": {
             "colorbar": {
              "outlinewidth": 0,
              "ticks": ""
             }
            },
            "type": "parcoords"
           }
          ],
          "pie": [
           {
            "automargin": true,
            "type": "pie"
           }
          ],
          "scatter": [
           {
            "fillpattern": {
             "fillmode": "overlay",
             "size": 10,
             "solidity": 0.2
            },
            "type": "scatter"
           }
          ],
          "scatter3d": [
           {
            "line": {
             "colorbar": {
              "outlinewidth": 0,
              "ticks": ""
             }
            },
            "marker": {
             "colorbar": {
              "outlinewidth": 0,
              "ticks": ""
             }
            },
            "type": "scatter3d"
           }
          ],
          "scattercarpet": [
           {
            "marker": {
             "colorbar": {
              "outlinewidth": 0,
              "ticks": ""
             }
            },
            "type": "scattercarpet"
           }
          ],
          "scattergeo": [
           {
            "marker": {
             "colorbar": {
              "outlinewidth": 0,
              "ticks": ""
             }
            },
            "type": "scattergeo"
           }
          ],
          "scattergl": [
           {
            "marker": {
             "colorbar": {
              "outlinewidth": 0,
              "ticks": ""
             }
            },
            "type": "scattergl"
           }
          ],
          "scattermapbox": [
           {
            "marker": {
             "colorbar": {
              "outlinewidth": 0,
              "ticks": ""
             }
            },
            "type": "scattermapbox"
           }
          ],
          "scatterpolar": [
           {
            "marker": {
             "colorbar": {
              "outlinewidth": 0,
              "ticks": ""
             }
            },
            "type": "scatterpolar"
           }
          ],
          "scatterpolargl": [
           {
            "marker": {
             "colorbar": {
              "outlinewidth": 0,
              "ticks": ""
             }
            },
            "type": "scatterpolargl"
           }
          ],
          "scatterternary": [
           {
            "marker": {
             "colorbar": {
              "outlinewidth": 0,
              "ticks": ""
             }
            },
            "type": "scatterternary"
           }
          ],
          "surface": [
           {
            "colorbar": {
             "outlinewidth": 0,
             "ticks": ""
            },
            "colorscale": [
             [
              0,
              "#0d0887"
             ],
             [
              0.1111111111111111,
              "#46039f"
             ],
             [
              0.2222222222222222,
              "#7201a8"
             ],
             [
              0.3333333333333333,
              "#9c179e"
             ],
             [
              0.4444444444444444,
              "#bd3786"
             ],
             [
              0.5555555555555556,
              "#d8576b"
             ],
             [
              0.6666666666666666,
              "#ed7953"
             ],
             [
              0.7777777777777778,
              "#fb9f3a"
             ],
             [
              0.8888888888888888,
              "#fdca26"
             ],
             [
              1,
              "#f0f921"
             ]
            ],
            "type": "surface"
           }
          ],
          "table": [
           {
            "cells": {
             "fill": {
              "color": "#EBF0F8"
             },
             "line": {
              "color": "white"
             }
            },
            "header": {
             "fill": {
              "color": "#C8D4E3"
             },
             "line": {
              "color": "white"
             }
            },
            "type": "table"
           }
          ]
         },
         "layout": {
          "annotationdefaults": {
           "arrowcolor": "#2a3f5f",
           "arrowhead": 0,
           "arrowwidth": 1
          },
          "autotypenumbers": "strict",
          "coloraxis": {
           "colorbar": {
            "outlinewidth": 0,
            "ticks": ""
           }
          },
          "colorscale": {
           "diverging": [
            [
             0,
             "#8e0152"
            ],
            [
             0.1,
             "#c51b7d"
            ],
            [
             0.2,
             "#de77ae"
            ],
            [
             0.3,
             "#f1b6da"
            ],
            [
             0.4,
             "#fde0ef"
            ],
            [
             0.5,
             "#f7f7f7"
            ],
            [
             0.6,
             "#e6f5d0"
            ],
            [
             0.7,
             "#b8e186"
            ],
            [
             0.8,
             "#7fbc41"
            ],
            [
             0.9,
             "#4d9221"
            ],
            [
             1,
             "#276419"
            ]
           ],
           "sequential": [
            [
             0,
             "#0d0887"
            ],
            [
             0.1111111111111111,
             "#46039f"
            ],
            [
             0.2222222222222222,
             "#7201a8"
            ],
            [
             0.3333333333333333,
             "#9c179e"
            ],
            [
             0.4444444444444444,
             "#bd3786"
            ],
            [
             0.5555555555555556,
             "#d8576b"
            ],
            [
             0.6666666666666666,
             "#ed7953"
            ],
            [
             0.7777777777777778,
             "#fb9f3a"
            ],
            [
             0.8888888888888888,
             "#fdca26"
            ],
            [
             1,
             "#f0f921"
            ]
           ],
           "sequentialminus": [
            [
             0,
             "#0d0887"
            ],
            [
             0.1111111111111111,
             "#46039f"
            ],
            [
             0.2222222222222222,
             "#7201a8"
            ],
            [
             0.3333333333333333,
             "#9c179e"
            ],
            [
             0.4444444444444444,
             "#bd3786"
            ],
            [
             0.5555555555555556,
             "#d8576b"
            ],
            [
             0.6666666666666666,
             "#ed7953"
            ],
            [
             0.7777777777777778,
             "#fb9f3a"
            ],
            [
             0.8888888888888888,
             "#fdca26"
            ],
            [
             1,
             "#f0f921"
            ]
           ]
          },
          "colorway": [
           "#636efa",
           "#EF553B",
           "#00cc96",
           "#ab63fa",
           "#FFA15A",
           "#19d3f3",
           "#FF6692",
           "#B6E880",
           "#FF97FF",
           "#FECB52"
          ],
          "font": {
           "color": "#2a3f5f"
          },
          "geo": {
           "bgcolor": "white",
           "lakecolor": "white",
           "landcolor": "#E5ECF6",
           "showlakes": true,
           "showland": true,
           "subunitcolor": "white"
          },
          "hoverlabel": {
           "align": "left"
          },
          "hovermode": "closest",
          "mapbox": {
           "style": "light"
          },
          "paper_bgcolor": "white",
          "plot_bgcolor": "#E5ECF6",
          "polar": {
           "angularaxis": {
            "gridcolor": "white",
            "linecolor": "white",
            "ticks": ""
           },
           "bgcolor": "#E5ECF6",
           "radialaxis": {
            "gridcolor": "white",
            "linecolor": "white",
            "ticks": ""
           }
          },
          "scene": {
           "xaxis": {
            "backgroundcolor": "#E5ECF6",
            "gridcolor": "white",
            "gridwidth": 2,
            "linecolor": "white",
            "showbackground": true,
            "ticks": "",
            "zerolinecolor": "white"
           },
           "yaxis": {
            "backgroundcolor": "#E5ECF6",
            "gridcolor": "white",
            "gridwidth": 2,
            "linecolor": "white",
            "showbackground": true,
            "ticks": "",
            "zerolinecolor": "white"
           },
           "zaxis": {
            "backgroundcolor": "#E5ECF6",
            "gridcolor": "white",
            "gridwidth": 2,
            "linecolor": "white",
            "showbackground": true,
            "ticks": "",
            "zerolinecolor": "white"
           }
          },
          "shapedefaults": {
           "line": {
            "color": "#2a3f5f"
           }
          },
          "ternary": {
           "aaxis": {
            "gridcolor": "white",
            "linecolor": "white",
            "ticks": ""
           },
           "baxis": {
            "gridcolor": "white",
            "linecolor": "white",
            "ticks": ""
           },
           "bgcolor": "#E5ECF6",
           "caxis": {
            "gridcolor": "white",
            "linecolor": "white",
            "ticks": ""
           }
          },
          "title": {
           "x": 0.05
          },
          "xaxis": {
           "automargin": true,
           "gridcolor": "white",
           "linecolor": "white",
           "ticks": "",
           "title": {
            "standoff": 15
           },
           "zerolinecolor": "white",
           "zerolinewidth": 2
          },
          "yaxis": {
           "automargin": true,
           "gridcolor": "white",
           "linecolor": "white",
           "ticks": "",
           "title": {
            "standoff": 15
           },
           "zerolinecolor": "white",
           "zerolinewidth": 2
          }
         }
        },
        "title": {
         "text": "Fitness dispersion based on NN depth and activation function of hidden layers"
        },
        "xaxis": {
         "anchor": "y",
         "domain": [
          0,
          1
         ],
         "title": {
          "text": "width"
         }
        },
        "yaxis": {
         "anchor": "x",
         "domain": [
          0,
          1
         ],
         "title": {
          "text": "fitness"
         }
        }
       }
      }
     },
     "metadata": {},
     "output_type": "display_data"
    }
   ],
   "source": [
    "fig = px.box(df, y=\"fitness\", x=label, color=\"function\", points=\"all\", orientation='v',\n",
    "             title=\"Fitness dispersion based on NN depth and activation function of hidden layers\")\n",
    "fig.show()"
   ]
  },
  {
   "cell_type": "code",
   "execution_count": 9,
   "metadata": {},
   "outputs": [
    {
     "data": {
      "application/vnd.plotly.v1+json": {
       "config": {
        "plotlyServerURL": "https://plot.ly"
       },
       "data": [
        {
         "alignmentgroup": "True",
         "boxpoints": "all",
         "hovertemplate": "function=%{x}<br>fitness=%{y}<extra></extra>",
         "legendgroup": "",
         "marker": {
          "color": "#636efa"
         },
         "name": "",
         "notched": false,
         "offsetgroup": "",
         "orientation": "v",
         "showlegend": false,
         "type": "box",
         "x": [
          "tanh",
          "tanh",
          "tanh",
          "tanh",
          "tanh",
          "tanh",
          "tanh",
          "tanh",
          "tanh",
          "tanh",
          "tanh",
          "tanh",
          "tanh",
          "tanh",
          "tanh",
          "relu",
          "relu",
          "relu",
          "relu",
          "relu",
          "relu",
          "relu",
          "relu",
          "relu",
          "relu",
          "relu",
          "relu",
          "relu",
          "relu",
          "relu",
          "logsig",
          "logsig",
          "logsig",
          "logsig",
          "logsig",
          "logsig",
          "logsig",
          "logsig",
          "logsig",
          "logsig",
          "logsig",
          "logsig",
          "logsig",
          "logsig",
          "logsig"
         ],
         "x0": " ",
         "xaxis": "x",
         "y": [
          1504.8941466383874,
          2140.151824257778,
          1894.4076600799679,
          2030.5099914557957,
          2123.924198069864,
          1070.460221792034,
          872.2553628677965,
          502.0792736631756,
          737.4933776632349,
          1038.8056140885965,
          1078.6724256041355,
          1567.553619199941,
          1299.634300901585,
          523.884030597164,
          1208.866838165799,
          1944.5252444670884,
          2405.890777838217,
          1610.4336201929627,
          1966.2085797601383,
          1641.5039121887057,
          2034.1845345348415,
          1047.676092379369,
          920.511016076263,
          1837.5931259913662,
          1262.6668619425786,
          1117.3270260115744,
          992.1647367757544,
          425.3195390412278,
          649.8069383712589,
          1255.8116714699268,
          1477.963325661319,
          1023.2573578233953,
          962.7315364664321,
          1469.9403392383103,
          2496.721065736804,
          1449.0769415675816,
          817.9985374991486,
          1105.22320307732,
          730.0352270656244,
          2589.6897267916947,
          1097.6425713834008,
          1203.4806012880124,
          788.7416199299552,
          408.9818640098335,
          114.24956480524854
         ],
         "y0": " ",
         "yaxis": "y"
        }
       ],
       "layout": {
        "boxmode": "group",
        "legend": {
         "tracegroupgap": 0
        },
        "template": {
         "data": {
          "bar": [
           {
            "error_x": {
             "color": "#2a3f5f"
            },
            "error_y": {
             "color": "#2a3f5f"
            },
            "marker": {
             "line": {
              "color": "#E5ECF6",
              "width": 0.5
             },
             "pattern": {
              "fillmode": "overlay",
              "size": 10,
              "solidity": 0.2
             }
            },
            "type": "bar"
           }
          ],
          "barpolar": [
           {
            "marker": {
             "line": {
              "color": "#E5ECF6",
              "width": 0.5
             },
             "pattern": {
              "fillmode": "overlay",
              "size": 10,
              "solidity": 0.2
             }
            },
            "type": "barpolar"
           }
          ],
          "carpet": [
           {
            "aaxis": {
             "endlinecolor": "#2a3f5f",
             "gridcolor": "white",
             "linecolor": "white",
             "minorgridcolor": "white",
             "startlinecolor": "#2a3f5f"
            },
            "baxis": {
             "endlinecolor": "#2a3f5f",
             "gridcolor": "white",
             "linecolor": "white",
             "minorgridcolor": "white",
             "startlinecolor": "#2a3f5f"
            },
            "type": "carpet"
           }
          ],
          "choropleth": [
           {
            "colorbar": {
             "outlinewidth": 0,
             "ticks": ""
            },
            "type": "choropleth"
           }
          ],
          "contour": [
           {
            "colorbar": {
             "outlinewidth": 0,
             "ticks": ""
            },
            "colorscale": [
             [
              0,
              "#0d0887"
             ],
             [
              0.1111111111111111,
              "#46039f"
             ],
             [
              0.2222222222222222,
              "#7201a8"
             ],
             [
              0.3333333333333333,
              "#9c179e"
             ],
             [
              0.4444444444444444,
              "#bd3786"
             ],
             [
              0.5555555555555556,
              "#d8576b"
             ],
             [
              0.6666666666666666,
              "#ed7953"
             ],
             [
              0.7777777777777778,
              "#fb9f3a"
             ],
             [
              0.8888888888888888,
              "#fdca26"
             ],
             [
              1,
              "#f0f921"
             ]
            ],
            "type": "contour"
           }
          ],
          "contourcarpet": [
           {
            "colorbar": {
             "outlinewidth": 0,
             "ticks": ""
            },
            "type": "contourcarpet"
           }
          ],
          "heatmap": [
           {
            "colorbar": {
             "outlinewidth": 0,
             "ticks": ""
            },
            "colorscale": [
             [
              0,
              "#0d0887"
             ],
             [
              0.1111111111111111,
              "#46039f"
             ],
             [
              0.2222222222222222,
              "#7201a8"
             ],
             [
              0.3333333333333333,
              "#9c179e"
             ],
             [
              0.4444444444444444,
              "#bd3786"
             ],
             [
              0.5555555555555556,
              "#d8576b"
             ],
             [
              0.6666666666666666,
              "#ed7953"
             ],
             [
              0.7777777777777778,
              "#fb9f3a"
             ],
             [
              0.8888888888888888,
              "#fdca26"
             ],
             [
              1,
              "#f0f921"
             ]
            ],
            "type": "heatmap"
           }
          ],
          "heatmapgl": [
           {
            "colorbar": {
             "outlinewidth": 0,
             "ticks": ""
            },
            "colorscale": [
             [
              0,
              "#0d0887"
             ],
             [
              0.1111111111111111,
              "#46039f"
             ],
             [
              0.2222222222222222,
              "#7201a8"
             ],
             [
              0.3333333333333333,
              "#9c179e"
             ],
             [
              0.4444444444444444,
              "#bd3786"
             ],
             [
              0.5555555555555556,
              "#d8576b"
             ],
             [
              0.6666666666666666,
              "#ed7953"
             ],
             [
              0.7777777777777778,
              "#fb9f3a"
             ],
             [
              0.8888888888888888,
              "#fdca26"
             ],
             [
              1,
              "#f0f921"
             ]
            ],
            "type": "heatmapgl"
           }
          ],
          "histogram": [
           {
            "marker": {
             "pattern": {
              "fillmode": "overlay",
              "size": 10,
              "solidity": 0.2
             }
            },
            "type": "histogram"
           }
          ],
          "histogram2d": [
           {
            "colorbar": {
             "outlinewidth": 0,
             "ticks": ""
            },
            "colorscale": [
             [
              0,
              "#0d0887"
             ],
             [
              0.1111111111111111,
              "#46039f"
             ],
             [
              0.2222222222222222,
              "#7201a8"
             ],
             [
              0.3333333333333333,
              "#9c179e"
             ],
             [
              0.4444444444444444,
              "#bd3786"
             ],
             [
              0.5555555555555556,
              "#d8576b"
             ],
             [
              0.6666666666666666,
              "#ed7953"
             ],
             [
              0.7777777777777778,
              "#fb9f3a"
             ],
             [
              0.8888888888888888,
              "#fdca26"
             ],
             [
              1,
              "#f0f921"
             ]
            ],
            "type": "histogram2d"
           }
          ],
          "histogram2dcontour": [
           {
            "colorbar": {
             "outlinewidth": 0,
             "ticks": ""
            },
            "colorscale": [
             [
              0,
              "#0d0887"
             ],
             [
              0.1111111111111111,
              "#46039f"
             ],
             [
              0.2222222222222222,
              "#7201a8"
             ],
             [
              0.3333333333333333,
              "#9c179e"
             ],
             [
              0.4444444444444444,
              "#bd3786"
             ],
             [
              0.5555555555555556,
              "#d8576b"
             ],
             [
              0.6666666666666666,
              "#ed7953"
             ],
             [
              0.7777777777777778,
              "#fb9f3a"
             ],
             [
              0.8888888888888888,
              "#fdca26"
             ],
             [
              1,
              "#f0f921"
             ]
            ],
            "type": "histogram2dcontour"
           }
          ],
          "mesh3d": [
           {
            "colorbar": {
             "outlinewidth": 0,
             "ticks": ""
            },
            "type": "mesh3d"
           }
          ],
          "parcoords": [
           {
            "line": {
             "colorbar": {
              "outlinewidth": 0,
              "ticks": ""
             }
            },
            "type": "parcoords"
           }
          ],
          "pie": [
           {
            "automargin": true,
            "type": "pie"
           }
          ],
          "scatter": [
           {
            "fillpattern": {
             "fillmode": "overlay",
             "size": 10,
             "solidity": 0.2
            },
            "type": "scatter"
           }
          ],
          "scatter3d": [
           {
            "line": {
             "colorbar": {
              "outlinewidth": 0,
              "ticks": ""
             }
            },
            "marker": {
             "colorbar": {
              "outlinewidth": 0,
              "ticks": ""
             }
            },
            "type": "scatter3d"
           }
          ],
          "scattercarpet": [
           {
            "marker": {
             "colorbar": {
              "outlinewidth": 0,
              "ticks": ""
             }
            },
            "type": "scattercarpet"
           }
          ],
          "scattergeo": [
           {
            "marker": {
             "colorbar": {
              "outlinewidth": 0,
              "ticks": ""
             }
            },
            "type": "scattergeo"
           }
          ],
          "scattergl": [
           {
            "marker": {
             "colorbar": {
              "outlinewidth": 0,
              "ticks": ""
             }
            },
            "type": "scattergl"
           }
          ],
          "scattermapbox": [
           {
            "marker": {
             "colorbar": {
              "outlinewidth": 0,
              "ticks": ""
             }
            },
            "type": "scattermapbox"
           }
          ],
          "scatterpolar": [
           {
            "marker": {
             "colorbar": {
              "outlinewidth": 0,
              "ticks": ""
             }
            },
            "type": "scatterpolar"
           }
          ],
          "scatterpolargl": [
           {
            "marker": {
             "colorbar": {
              "outlinewidth": 0,
              "ticks": ""
             }
            },
            "type": "scatterpolargl"
           }
          ],
          "scatterternary": [
           {
            "marker": {
             "colorbar": {
              "outlinewidth": 0,
              "ticks": ""
             }
            },
            "type": "scatterternary"
           }
          ],
          "surface": [
           {
            "colorbar": {
             "outlinewidth": 0,
             "ticks": ""
            },
            "colorscale": [
             [
              0,
              "#0d0887"
             ],
             [
              0.1111111111111111,
              "#46039f"
             ],
             [
              0.2222222222222222,
              "#7201a8"
             ],
             [
              0.3333333333333333,
              "#9c179e"
             ],
             [
              0.4444444444444444,
              "#bd3786"
             ],
             [
              0.5555555555555556,
              "#d8576b"
             ],
             [
              0.6666666666666666,
              "#ed7953"
             ],
             [
              0.7777777777777778,
              "#fb9f3a"
             ],
             [
              0.8888888888888888,
              "#fdca26"
             ],
             [
              1,
              "#f0f921"
             ]
            ],
            "type": "surface"
           }
          ],
          "table": [
           {
            "cells": {
             "fill": {
              "color": "#EBF0F8"
             },
             "line": {
              "color": "white"
             }
            },
            "header": {
             "fill": {
              "color": "#C8D4E3"
             },
             "line": {
              "color": "white"
             }
            },
            "type": "table"
           }
          ]
         },
         "layout": {
          "annotationdefaults": {
           "arrowcolor": "#2a3f5f",
           "arrowhead": 0,
           "arrowwidth": 1
          },
          "autotypenumbers": "strict",
          "coloraxis": {
           "colorbar": {
            "outlinewidth": 0,
            "ticks": ""
           }
          },
          "colorscale": {
           "diverging": [
            [
             0,
             "#8e0152"
            ],
            [
             0.1,
             "#c51b7d"
            ],
            [
             0.2,
             "#de77ae"
            ],
            [
             0.3,
             "#f1b6da"
            ],
            [
             0.4,
             "#fde0ef"
            ],
            [
             0.5,
             "#f7f7f7"
            ],
            [
             0.6,
             "#e6f5d0"
            ],
            [
             0.7,
             "#b8e186"
            ],
            [
             0.8,
             "#7fbc41"
            ],
            [
             0.9,
             "#4d9221"
            ],
            [
             1,
             "#276419"
            ]
           ],
           "sequential": [
            [
             0,
             "#0d0887"
            ],
            [
             0.1111111111111111,
             "#46039f"
            ],
            [
             0.2222222222222222,
             "#7201a8"
            ],
            [
             0.3333333333333333,
             "#9c179e"
            ],
            [
             0.4444444444444444,
             "#bd3786"
            ],
            [
             0.5555555555555556,
             "#d8576b"
            ],
            [
             0.6666666666666666,
             "#ed7953"
            ],
            [
             0.7777777777777778,
             "#fb9f3a"
            ],
            [
             0.8888888888888888,
             "#fdca26"
            ],
            [
             1,
             "#f0f921"
            ]
           ],
           "sequentialminus": [
            [
             0,
             "#0d0887"
            ],
            [
             0.1111111111111111,
             "#46039f"
            ],
            [
             0.2222222222222222,
             "#7201a8"
            ],
            [
             0.3333333333333333,
             "#9c179e"
            ],
            [
             0.4444444444444444,
             "#bd3786"
            ],
            [
             0.5555555555555556,
             "#d8576b"
            ],
            [
             0.6666666666666666,
             "#ed7953"
            ],
            [
             0.7777777777777778,
             "#fb9f3a"
            ],
            [
             0.8888888888888888,
             "#fdca26"
            ],
            [
             1,
             "#f0f921"
            ]
           ]
          },
          "colorway": [
           "#636efa",
           "#EF553B",
           "#00cc96",
           "#ab63fa",
           "#FFA15A",
           "#19d3f3",
           "#FF6692",
           "#B6E880",
           "#FF97FF",
           "#FECB52"
          ],
          "font": {
           "color": "#2a3f5f"
          },
          "geo": {
           "bgcolor": "white",
           "lakecolor": "white",
           "landcolor": "#E5ECF6",
           "showlakes": true,
           "showland": true,
           "subunitcolor": "white"
          },
          "hoverlabel": {
           "align": "left"
          },
          "hovermode": "closest",
          "mapbox": {
           "style": "light"
          },
          "paper_bgcolor": "white",
          "plot_bgcolor": "#E5ECF6",
          "polar": {
           "angularaxis": {
            "gridcolor": "white",
            "linecolor": "white",
            "ticks": ""
           },
           "bgcolor": "#E5ECF6",
           "radialaxis": {
            "gridcolor": "white",
            "linecolor": "white",
            "ticks": ""
           }
          },
          "scene": {
           "xaxis": {
            "backgroundcolor": "#E5ECF6",
            "gridcolor": "white",
            "gridwidth": 2,
            "linecolor": "white",
            "showbackground": true,
            "ticks": "",
            "zerolinecolor": "white"
           },
           "yaxis": {
            "backgroundcolor": "#E5ECF6",
            "gridcolor": "white",
            "gridwidth": 2,
            "linecolor": "white",
            "showbackground": true,
            "ticks": "",
            "zerolinecolor": "white"
           },
           "zaxis": {
            "backgroundcolor": "#E5ECF6",
            "gridcolor": "white",
            "gridwidth": 2,
            "linecolor": "white",
            "showbackground": true,
            "ticks": "",
            "zerolinecolor": "white"
           }
          },
          "shapedefaults": {
           "line": {
            "color": "#2a3f5f"
           }
          },
          "ternary": {
           "aaxis": {
            "gridcolor": "white",
            "linecolor": "white",
            "ticks": ""
           },
           "baxis": {
            "gridcolor": "white",
            "linecolor": "white",
            "ticks": ""
           },
           "bgcolor": "#E5ECF6",
           "caxis": {
            "gridcolor": "white",
            "linecolor": "white",
            "ticks": ""
           }
          },
          "title": {
           "x": 0.05
          },
          "xaxis": {
           "automargin": true,
           "gridcolor": "white",
           "linecolor": "white",
           "ticks": "",
           "title": {
            "standoff": 15
           },
           "zerolinecolor": "white",
           "zerolinewidth": 2
          },
          "yaxis": {
           "automargin": true,
           "gridcolor": "white",
           "linecolor": "white",
           "ticks": "",
           "title": {
            "standoff": 15
           },
           "zerolinecolor": "white",
           "zerolinewidth": 2
          }
         }
        },
        "title": {
         "text": "Fitness dispersion based on activation function in hidden layers (width = [1], all sizes combined)"
        },
        "xaxis": {
         "anchor": "y",
         "domain": [
          0,
          1
         ],
         "title": {
          "text": "function"
         }
        },
        "yaxis": {
         "anchor": "x",
         "domain": [
          0,
          1
         ],
         "title": {
          "text": "fitness"
         }
        }
       }
      }
     },
     "metadata": {},
     "output_type": "display_data"
    }
   ],
   "source": [
    "fig = px.box(df, y=\"fitness\", x=\"function\", points=\"all\", orientation='v',\n",
    "             title=\"Fitness dispersion based on activation function in hidden layers ({} = {}, all sizes combined)\".format(label, width[0] if use_depth else depth))\n",
    "fig.show()"
   ]
  },
  {
   "cell_type": "code",
   "execution_count": 12,
   "metadata": {},
   "outputs": [],
   "source": [
    "para_name = \"new_actv_func_df_w2w5w8_d1_iter5_step200\"\n",
    "df.to_csv(para_name+'.csv')\n",
    "with open(para_name+'.pkl','wb') as f:\n",
    "    pickle.dump(all_solutions, f)"
   ]
  },
  {
   "cell_type": "code",
   "execution_count": null,
   "metadata": {},
   "outputs": [],
   "source": []
  },
  {
   "attachments": {},
   "cell_type": "markdown",
   "metadata": {},
   "source": [
    "## Generation/Population Comparison"
   ]
  },
  {
   "attachments": {},
   "cell_type": "markdown",
   "metadata": {},
   "source": [
    "#### Relu with width 5 and depth 1"
   ]
  },
  {
   "cell_type": "code",
   "execution_count": 14,
   "metadata": {},
   "outputs": [],
   "source": [
    "def generation_heatmap(popgen, cheetah_lab, parameters=default_parameters, iterations=5, actv_func=None, steps=100):\n",
    "\n",
    "    best_solutions = [([None] * len(depth)) for _ in range(len(width))]\n",
    "    best_solution_fitness = [([None] * len(depth)) for _ in range(len(width))] \n",
    "\n",
    "    try:\n",
    "        for i, (p, g) in enumerate(popgen):\n",
    "            parameters[\"num_generations\"] = g\n",
    "            parameters[\"sol_per_pop\"] = p\n",
    "\n",
    "            solution = list()\n",
    "            fitness = list()\n",
    "\n",
    "            for _ in range(iterations):\n",
    "                evolution = Evolution(cheetah_lab, arena, steps)\n",
    "                _ = evolution.run_evolution(parameters)\n",
    "\n",
    "                s, f, _ = evolution.get_best_solutions()\n",
    "                solution.append(s)\n",
    "                fitness.append(f)\n",
    "                \n",
    "            best_solutions[i] = solution\n",
    "            best_solution_fitness[i] = fitness\n",
    "            \n",
    "    finally:\n",
    "        return best_solutions, best_solution_fitness\n"
   ]
  },
  {
   "cell_type": "code",
   "execution_count": 15,
   "metadata": {},
   "outputs": [
    {
     "name": "stderr",
     "output_type": "stream",
     "text": [
      "c:\\Users\\havel\\Documents\\skola\\CUNI - AI INF\\predmety\\2 Letny semester\\Evolucna robotika\\evrobot\\lib\\site-packages\\pygad\\pygad.py:1074: UserWarning:\n",
      "\n",
      "Use the 'save_best_solutions' parameter with caution as it may cause memory overflow when either the number of generations or number of genes is large.\n",
      "\n",
      "----------------------------------------------------------------------\n",
      "                           PyGAD Lifecycle                           \n",
      "======================================================================\n",
      "Step                   Handler                            Output Shape\n",
      "======================================================================\n",
      "Fitness Function       _fitness_func()                    (1)        \n",
      "----------------------------------------------------------------------\n",
      "Parent Selection       steady_state_selection()           (4, 126)   \n",
      "Number of Parents: 4\n",
      "----------------------------------------------------------------------\n",
      "Crossover              single_point_crossover()           (4, 126)   \n",
      "----------------------------------------------------------------------\n",
      "Mutation               random_mutation()                  (4, 126)   \n",
      "Mutation Genes: 12\n",
      "Random Mutation Range: (-1.0, 1.0)\n",
      "Mutation by Replacement: False\n",
      "Allow Duplicated Genes: True\n",
      "----------------------------------------------------------------------\n",
      "======================================================================\n",
      "Population Size: (100, 126)\n",
      "Number of Generations: 10\n",
      "Initial Population Range: (-2, 5)\n",
      "Keep Elitism: 1\n",
      "Gene DType: [<class 'float'>, None]\n",
      "Save Best Solutions: True\n",
      "Save Solutions: False\n",
      "======================================================================\n",
      "----------------------------------------------------------------------\n",
      "                           PyGAD Lifecycle                           \n",
      "======================================================================\n",
      "Step                   Handler                            Output Shape\n",
      "======================================================================\n",
      "Fitness Function       _fitness_func()                    (1)        \n",
      "----------------------------------------------------------------------\n",
      "Parent Selection       steady_state_selection()           (4, 126)   \n",
      "Number of Parents: 4\n",
      "----------------------------------------------------------------------\n",
      "Crossover              single_point_crossover()           (4, 126)   \n",
      "----------------------------------------------------------------------\n",
      "Mutation               random_mutation()                  (4, 126)   \n",
      "Mutation Genes: 12\n",
      "Random Mutation Range: (-1.0, 1.0)\n",
      "Mutation by Replacement: False\n",
      "Allow Duplicated Genes: True\n",
      "----------------------------------------------------------------------\n",
      "======================================================================\n",
      "Population Size: (100, 126)\n",
      "Number of Generations: 10\n",
      "Initial Population Range: (-2, 5)\n",
      "Keep Elitism: 1\n",
      "Gene DType: [<class 'float'>, None]\n",
      "Save Best Solutions: True\n",
      "Save Solutions: False\n",
      "======================================================================\n",
      "----------------------------------------------------------------------\n",
      "                           PyGAD Lifecycle                           \n",
      "======================================================================\n",
      "Step                   Handler                            Output Shape\n",
      "======================================================================\n",
      "Fitness Function       _fitness_func()                    (1)        \n",
      "----------------------------------------------------------------------\n",
      "Parent Selection       steady_state_selection()           (4, 126)   \n",
      "Number of Parents: 4\n",
      "----------------------------------------------------------------------\n",
      "Crossover              single_point_crossover()           (4, 126)   \n",
      "----------------------------------------------------------------------\n",
      "Mutation               random_mutation()                  (4, 126)   \n",
      "Mutation Genes: 12\n",
      "Random Mutation Range: (-1.0, 1.0)\n",
      "Mutation by Replacement: False\n",
      "Allow Duplicated Genes: True\n",
      "----------------------------------------------------------------------\n",
      "======================================================================\n",
      "Population Size: (100, 126)\n",
      "Number of Generations: 10\n",
      "Initial Population Range: (-2, 5)\n",
      "Keep Elitism: 1\n",
      "Gene DType: [<class 'float'>, None]\n",
      "Save Best Solutions: True\n",
      "Save Solutions: False\n",
      "======================================================================\n",
      "----------------------------------------------------------------------\n",
      "                           PyGAD Lifecycle                           \n",
      "======================================================================\n",
      "Step                   Handler                            Output Shape\n",
      "======================================================================\n",
      "Fitness Function       _fitness_func()                    (1)        \n",
      "----------------------------------------------------------------------\n",
      "Parent Selection       steady_state_selection()           (4, 126)   \n",
      "Number of Parents: 4\n",
      "----------------------------------------------------------------------\n",
      "Crossover              single_point_crossover()           (4, 126)   \n",
      "----------------------------------------------------------------------\n",
      "Mutation               random_mutation()                  (4, 126)   \n",
      "Mutation Genes: 12\n",
      "Random Mutation Range: (-1.0, 1.0)\n",
      "Mutation by Replacement: False\n",
      "Allow Duplicated Genes: True\n",
      "----------------------------------------------------------------------\n",
      "======================================================================\n",
      "Population Size: (100, 126)\n",
      "Number of Generations: 10\n",
      "Initial Population Range: (-2, 5)\n",
      "Keep Elitism: 1\n",
      "Gene DType: [<class 'float'>, None]\n",
      "Save Best Solutions: True\n",
      "Save Solutions: False\n",
      "======================================================================\n",
      "----------------------------------------------------------------------\n",
      "                           PyGAD Lifecycle                           \n",
      "======================================================================\n",
      "Step                   Handler                            Output Shape\n",
      "======================================================================\n",
      "Fitness Function       _fitness_func()                    (1)        \n",
      "----------------------------------------------------------------------\n",
      "Parent Selection       steady_state_selection()           (4, 126)   \n",
      "Number of Parents: 4\n",
      "----------------------------------------------------------------------\n",
      "Crossover              single_point_crossover()           (4, 126)   \n",
      "----------------------------------------------------------------------\n",
      "Mutation               random_mutation()                  (4, 126)   \n",
      "Mutation Genes: 12\n",
      "Random Mutation Range: (-1.0, 1.0)\n",
      "Mutation by Replacement: False\n",
      "Allow Duplicated Genes: True\n",
      "----------------------------------------------------------------------\n",
      "======================================================================\n",
      "Population Size: (100, 126)\n",
      "Number of Generations: 10\n",
      "Initial Population Range: (-2, 5)\n",
      "Keep Elitism: 1\n",
      "Gene DType: [<class 'float'>, None]\n",
      "Save Best Solutions: True\n",
      "Save Solutions: False\n",
      "======================================================================\n",
      "----------------------------------------------------------------------\n",
      "                           PyGAD Lifecycle                           \n",
      "======================================================================\n",
      "Step                   Handler                            Output Shape\n",
      "======================================================================\n",
      "Fitness Function       _fitness_func()                    (1)        \n",
      "----------------------------------------------------------------------\n",
      "Parent Selection       steady_state_selection()           (4, 126)   \n",
      "Number of Parents: 4\n",
      "----------------------------------------------------------------------\n",
      "Crossover              single_point_crossover()           (4, 126)   \n",
      "----------------------------------------------------------------------\n",
      "Mutation               random_mutation()                  (4, 126)   \n",
      "Mutation Genes: 12\n",
      "Random Mutation Range: (-1.0, 1.0)\n",
      "Mutation by Replacement: False\n",
      "Allow Duplicated Genes: True\n",
      "----------------------------------------------------------------------\n",
      "======================================================================\n",
      "Population Size: (50, 126)\n",
      "Number of Generations: 20\n",
      "Initial Population Range: (-2, 5)\n",
      "Keep Elitism: 1\n",
      "Gene DType: [<class 'float'>, None]\n",
      "Save Best Solutions: True\n",
      "Save Solutions: False\n",
      "======================================================================\n",
      "----------------------------------------------------------------------\n",
      "                           PyGAD Lifecycle                           \n",
      "======================================================================\n",
      "Step                   Handler                            Output Shape\n",
      "======================================================================\n",
      "Fitness Function       _fitness_func()                    (1)        \n",
      "----------------------------------------------------------------------\n",
      "Parent Selection       steady_state_selection()           (4, 126)   \n",
      "Number of Parents: 4\n",
      "----------------------------------------------------------------------\n",
      "Crossover              single_point_crossover()           (4, 126)   \n",
      "----------------------------------------------------------------------\n",
      "Mutation               random_mutation()                  (4, 126)   \n",
      "Mutation Genes: 12\n",
      "Random Mutation Range: (-1.0, 1.0)\n",
      "Mutation by Replacement: False\n",
      "Allow Duplicated Genes: True\n",
      "----------------------------------------------------------------------\n",
      "======================================================================\n",
      "Population Size: (50, 126)\n",
      "Number of Generations: 20\n",
      "Initial Population Range: (-2, 5)\n",
      "Keep Elitism: 1\n",
      "Gene DType: [<class 'float'>, None]\n",
      "Save Best Solutions: True\n",
      "Save Solutions: False\n",
      "======================================================================\n",
      "----------------------------------------------------------------------\n",
      "                           PyGAD Lifecycle                           \n",
      "======================================================================\n",
      "Step                   Handler                            Output Shape\n",
      "======================================================================\n",
      "Fitness Function       _fitness_func()                    (1)        \n",
      "----------------------------------------------------------------------\n",
      "Parent Selection       steady_state_selection()           (4, 126)   \n",
      "Number of Parents: 4\n",
      "----------------------------------------------------------------------\n",
      "Crossover              single_point_crossover()           (4, 126)   \n",
      "----------------------------------------------------------------------\n",
      "Mutation               random_mutation()                  (4, 126)   \n",
      "Mutation Genes: 12\n",
      "Random Mutation Range: (-1.0, 1.0)\n",
      "Mutation by Replacement: False\n",
      "Allow Duplicated Genes: True\n",
      "----------------------------------------------------------------------\n",
      "======================================================================\n",
      "Population Size: (50, 126)\n",
      "Number of Generations: 20\n",
      "Initial Population Range: (-2, 5)\n",
      "Keep Elitism: 1\n",
      "Gene DType: [<class 'float'>, None]\n",
      "Save Best Solutions: True\n",
      "Save Solutions: False\n",
      "======================================================================\n",
      "----------------------------------------------------------------------\n",
      "                           PyGAD Lifecycle                           \n",
      "======================================================================\n",
      "Step                   Handler                            Output Shape\n",
      "======================================================================\n",
      "Fitness Function       _fitness_func()                    (1)        \n",
      "----------------------------------------------------------------------\n",
      "Parent Selection       steady_state_selection()           (4, 126)   \n",
      "Number of Parents: 4\n",
      "----------------------------------------------------------------------\n",
      "Crossover              single_point_crossover()           (4, 126)   \n",
      "----------------------------------------------------------------------\n",
      "Mutation               random_mutation()                  (4, 126)   \n",
      "Mutation Genes: 12\n",
      "Random Mutation Range: (-1.0, 1.0)\n",
      "Mutation by Replacement: False\n",
      "Allow Duplicated Genes: True\n",
      "----------------------------------------------------------------------\n",
      "======================================================================\n",
      "Population Size: (50, 126)\n",
      "Number of Generations: 20\n",
      "Initial Population Range: (-2, 5)\n",
      "Keep Elitism: 1\n",
      "Gene DType: [<class 'float'>, None]\n",
      "Save Best Solutions: True\n",
      "Save Solutions: False\n",
      "======================================================================\n",
      "----------------------------------------------------------------------\n",
      "                           PyGAD Lifecycle                           \n",
      "======================================================================\n",
      "Step                   Handler                            Output Shape\n",
      "======================================================================\n",
      "Fitness Function       _fitness_func()                    (1)        \n",
      "----------------------------------------------------------------------\n",
      "Parent Selection       steady_state_selection()           (4, 126)   \n",
      "Number of Parents: 4\n",
      "----------------------------------------------------------------------\n",
      "Crossover              single_point_crossover()           (4, 126)   \n",
      "----------------------------------------------------------------------\n",
      "Mutation               random_mutation()                  (4, 126)   \n",
      "Mutation Genes: 12\n",
      "Random Mutation Range: (-1.0, 1.0)\n",
      "Mutation by Replacement: False\n",
      "Allow Duplicated Genes: True\n",
      "----------------------------------------------------------------------\n",
      "======================================================================\n",
      "Population Size: (50, 126)\n",
      "Number of Generations: 20\n",
      "Initial Population Range: (-2, 5)\n",
      "Keep Elitism: 1\n",
      "Gene DType: [<class 'float'>, None]\n",
      "Save Best Solutions: True\n",
      "Save Solutions: False\n",
      "======================================================================\n"
     ]
    }
   ],
   "source": [
    "cheetah_lab = ClassicNNCheetahLab([17, 5, 6], actv_func[\"relu\"])\n",
    "\n",
    "popgen = [\n",
    "    (100,  10),\n",
    "    ( 50,  20),\n",
    "    # ( 25,  40),\n",
    "    # ( 10, 100),\n",
    "]\n",
    "\n",
    "solutions_gen, fitness_gen = generation_heatmap(popgen, cheetah_lab, steps=1)"
   ]
  },
  {
   "cell_type": "code",
   "execution_count": 17,
   "metadata": {},
   "outputs": [],
   "source": [
    "para_name = \"new_popgen_NN17-5-6_pg100-10_50_20_relu_steps1\"\n",
    "with open(para_name+'.pkl','wb') as f:\n",
    "    pickle.dump((solutions_gen, fitness_gen), f)"
   ]
  },
  {
   "cell_type": "code",
   "execution_count": 22,
   "metadata": {},
   "outputs": [
    {
     "data": {
      "application/vnd.plotly.v1+json": {
       "config": {
        "plotlyServerURL": "https://plot.ly"
       },
       "data": [
        {
         "alignmentgroup": "True",
         "boxpoints": "all",
         "hovertemplate": "popgen=%{x}<br>fitness=%{y}<extra></extra>",
         "legendgroup": "",
         "marker": {
          "color": "#636efa"
         },
         "name": "",
         "notched": false,
         "offsetgroup": "",
         "orientation": "v",
         "showlegend": false,
         "type": "box",
         "x": [
          "(100, 10)",
          "(100, 10)",
          "(100, 10)",
          "(100, 10)",
          "(100, 10)",
          "(50, 20)",
          "(50, 20)",
          "(50, 20)",
          "(50, 20)",
          "(50, 20)"
         ],
         "x0": " ",
         "xaxis": "x",
         "y": [
          2035.2404055840395,
          857.8329231605538,
          2329.3796651840157,
          896.3003127520183,
          1233.2057438757768,
          867.7488527438599,
          1561.7865006167165,
          1576.054941309038,
          1639.271879750967,
          1353.5027858123053
         ],
         "y0": " ",
         "yaxis": "y"
        }
       ],
       "layout": {
        "boxmode": "group",
        "legend": {
         "tracegroupgap": 0
        },
        "template": {
         "data": {
          "bar": [
           {
            "error_x": {
             "color": "#2a3f5f"
            },
            "error_y": {
             "color": "#2a3f5f"
            },
            "marker": {
             "line": {
              "color": "#E5ECF6",
              "width": 0.5
             },
             "pattern": {
              "fillmode": "overlay",
              "size": 10,
              "solidity": 0.2
             }
            },
            "type": "bar"
           }
          ],
          "barpolar": [
           {
            "marker": {
             "line": {
              "color": "#E5ECF6",
              "width": 0.5
             },
             "pattern": {
              "fillmode": "overlay",
              "size": 10,
              "solidity": 0.2
             }
            },
            "type": "barpolar"
           }
          ],
          "carpet": [
           {
            "aaxis": {
             "endlinecolor": "#2a3f5f",
             "gridcolor": "white",
             "linecolor": "white",
             "minorgridcolor": "white",
             "startlinecolor": "#2a3f5f"
            },
            "baxis": {
             "endlinecolor": "#2a3f5f",
             "gridcolor": "white",
             "linecolor": "white",
             "minorgridcolor": "white",
             "startlinecolor": "#2a3f5f"
            },
            "type": "carpet"
           }
          ],
          "choropleth": [
           {
            "colorbar": {
             "outlinewidth": 0,
             "ticks": ""
            },
            "type": "choropleth"
           }
          ],
          "contour": [
           {
            "colorbar": {
             "outlinewidth": 0,
             "ticks": ""
            },
            "colorscale": [
             [
              0,
              "#0d0887"
             ],
             [
              0.1111111111111111,
              "#46039f"
             ],
             [
              0.2222222222222222,
              "#7201a8"
             ],
             [
              0.3333333333333333,
              "#9c179e"
             ],
             [
              0.4444444444444444,
              "#bd3786"
             ],
             [
              0.5555555555555556,
              "#d8576b"
             ],
             [
              0.6666666666666666,
              "#ed7953"
             ],
             [
              0.7777777777777778,
              "#fb9f3a"
             ],
             [
              0.8888888888888888,
              "#fdca26"
             ],
             [
              1,
              "#f0f921"
             ]
            ],
            "type": "contour"
           }
          ],
          "contourcarpet": [
           {
            "colorbar": {
             "outlinewidth": 0,
             "ticks": ""
            },
            "type": "contourcarpet"
           }
          ],
          "heatmap": [
           {
            "colorbar": {
             "outlinewidth": 0,
             "ticks": ""
            },
            "colorscale": [
             [
              0,
              "#0d0887"
             ],
             [
              0.1111111111111111,
              "#46039f"
             ],
             [
              0.2222222222222222,
              "#7201a8"
             ],
             [
              0.3333333333333333,
              "#9c179e"
             ],
             [
              0.4444444444444444,
              "#bd3786"
             ],
             [
              0.5555555555555556,
              "#d8576b"
             ],
             [
              0.6666666666666666,
              "#ed7953"
             ],
             [
              0.7777777777777778,
              "#fb9f3a"
             ],
             [
              0.8888888888888888,
              "#fdca26"
             ],
             [
              1,
              "#f0f921"
             ]
            ],
            "type": "heatmap"
           }
          ],
          "heatmapgl": [
           {
            "colorbar": {
             "outlinewidth": 0,
             "ticks": ""
            },
            "colorscale": [
             [
              0,
              "#0d0887"
             ],
             [
              0.1111111111111111,
              "#46039f"
             ],
             [
              0.2222222222222222,
              "#7201a8"
             ],
             [
              0.3333333333333333,
              "#9c179e"
             ],
             [
              0.4444444444444444,
              "#bd3786"
             ],
             [
              0.5555555555555556,
              "#d8576b"
             ],
             [
              0.6666666666666666,
              "#ed7953"
             ],
             [
              0.7777777777777778,
              "#fb9f3a"
             ],
             [
              0.8888888888888888,
              "#fdca26"
             ],
             [
              1,
              "#f0f921"
             ]
            ],
            "type": "heatmapgl"
           }
          ],
          "histogram": [
           {
            "marker": {
             "pattern": {
              "fillmode": "overlay",
              "size": 10,
              "solidity": 0.2
             }
            },
            "type": "histogram"
           }
          ],
          "histogram2d": [
           {
            "colorbar": {
             "outlinewidth": 0,
             "ticks": ""
            },
            "colorscale": [
             [
              0,
              "#0d0887"
             ],
             [
              0.1111111111111111,
              "#46039f"
             ],
             [
              0.2222222222222222,
              "#7201a8"
             ],
             [
              0.3333333333333333,
              "#9c179e"
             ],
             [
              0.4444444444444444,
              "#bd3786"
             ],
             [
              0.5555555555555556,
              "#d8576b"
             ],
             [
              0.6666666666666666,
              "#ed7953"
             ],
             [
              0.7777777777777778,
              "#fb9f3a"
             ],
             [
              0.8888888888888888,
              "#fdca26"
             ],
             [
              1,
              "#f0f921"
             ]
            ],
            "type": "histogram2d"
           }
          ],
          "histogram2dcontour": [
           {
            "colorbar": {
             "outlinewidth": 0,
             "ticks": ""
            },
            "colorscale": [
             [
              0,
              "#0d0887"
             ],
             [
              0.1111111111111111,
              "#46039f"
             ],
             [
              0.2222222222222222,
              "#7201a8"
             ],
             [
              0.3333333333333333,
              "#9c179e"
             ],
             [
              0.4444444444444444,
              "#bd3786"
             ],
             [
              0.5555555555555556,
              "#d8576b"
             ],
             [
              0.6666666666666666,
              "#ed7953"
             ],
             [
              0.7777777777777778,
              "#fb9f3a"
             ],
             [
              0.8888888888888888,
              "#fdca26"
             ],
             [
              1,
              "#f0f921"
             ]
            ],
            "type": "histogram2dcontour"
           }
          ],
          "mesh3d": [
           {
            "colorbar": {
             "outlinewidth": 0,
             "ticks": ""
            },
            "type": "mesh3d"
           }
          ],
          "parcoords": [
           {
            "line": {
             "colorbar": {
              "outlinewidth": 0,
              "ticks": ""
             }
            },
            "type": "parcoords"
           }
          ],
          "pie": [
           {
            "automargin": true,
            "type": "pie"
           }
          ],
          "scatter": [
           {
            "fillpattern": {
             "fillmode": "overlay",
             "size": 10,
             "solidity": 0.2
            },
            "type": "scatter"
           }
          ],
          "scatter3d": [
           {
            "line": {
             "colorbar": {
              "outlinewidth": 0,
              "ticks": ""
             }
            },
            "marker": {
             "colorbar": {
              "outlinewidth": 0,
              "ticks": ""
             }
            },
            "type": "scatter3d"
           }
          ],
          "scattercarpet": [
           {
            "marker": {
             "colorbar": {
              "outlinewidth": 0,
              "ticks": ""
             }
            },
            "type": "scattercarpet"
           }
          ],
          "scattergeo": [
           {
            "marker": {
             "colorbar": {
              "outlinewidth": 0,
              "ticks": ""
             }
            },
            "type": "scattergeo"
           }
          ],
          "scattergl": [
           {
            "marker": {
             "colorbar": {
              "outlinewidth": 0,
              "ticks": ""
             }
            },
            "type": "scattergl"
           }
          ],
          "scattermapbox": [
           {
            "marker": {
             "colorbar": {
              "outlinewidth": 0,
              "ticks": ""
             }
            },
            "type": "scattermapbox"
           }
          ],
          "scatterpolar": [
           {
            "marker": {
             "colorbar": {
              "outlinewidth": 0,
              "ticks": ""
             }
            },
            "type": "scatterpolar"
           }
          ],
          "scatterpolargl": [
           {
            "marker": {
             "colorbar": {
              "outlinewidth": 0,
              "ticks": ""
             }
            },
            "type": "scatterpolargl"
           }
          ],
          "scatterternary": [
           {
            "marker": {
             "colorbar": {
              "outlinewidth": 0,
              "ticks": ""
             }
            },
            "type": "scatterternary"
           }
          ],
          "surface": [
           {
            "colorbar": {
             "outlinewidth": 0,
             "ticks": ""
            },
            "colorscale": [
             [
              0,
              "#0d0887"
             ],
             [
              0.1111111111111111,
              "#46039f"
             ],
             [
              0.2222222222222222,
              "#7201a8"
             ],
             [
              0.3333333333333333,
              "#9c179e"
             ],
             [
              0.4444444444444444,
              "#bd3786"
             ],
             [
              0.5555555555555556,
              "#d8576b"
             ],
             [
              0.6666666666666666,
              "#ed7953"
             ],
             [
              0.7777777777777778,
              "#fb9f3a"
             ],
             [
              0.8888888888888888,
              "#fdca26"
             ],
             [
              1,
              "#f0f921"
             ]
            ],
            "type": "surface"
           }
          ],
          "table": [
           {
            "cells": {
             "fill": {
              "color": "#EBF0F8"
             },
             "line": {
              "color": "white"
             }
            },
            "header": {
             "fill": {
              "color": "#C8D4E3"
             },
             "line": {
              "color": "white"
             }
            },
            "type": "table"
           }
          ]
         },
         "layout": {
          "annotationdefaults": {
           "arrowcolor": "#2a3f5f",
           "arrowhead": 0,
           "arrowwidth": 1
          },
          "autotypenumbers": "strict",
          "coloraxis": {
           "colorbar": {
            "outlinewidth": 0,
            "ticks": ""
           }
          },
          "colorscale": {
           "diverging": [
            [
             0,
             "#8e0152"
            ],
            [
             0.1,
             "#c51b7d"
            ],
            [
             0.2,
             "#de77ae"
            ],
            [
             0.3,
             "#f1b6da"
            ],
            [
             0.4,
             "#fde0ef"
            ],
            [
             0.5,
             "#f7f7f7"
            ],
            [
             0.6,
             "#e6f5d0"
            ],
            [
             0.7,
             "#b8e186"
            ],
            [
             0.8,
             "#7fbc41"
            ],
            [
             0.9,
             "#4d9221"
            ],
            [
             1,
             "#276419"
            ]
           ],
           "sequential": [
            [
             0,
             "#0d0887"
            ],
            [
             0.1111111111111111,
             "#46039f"
            ],
            [
             0.2222222222222222,
             "#7201a8"
            ],
            [
             0.3333333333333333,
             "#9c179e"
            ],
            [
             0.4444444444444444,
             "#bd3786"
            ],
            [
             0.5555555555555556,
             "#d8576b"
            ],
            [
             0.6666666666666666,
             "#ed7953"
            ],
            [
             0.7777777777777778,
             "#fb9f3a"
            ],
            [
             0.8888888888888888,
             "#fdca26"
            ],
            [
             1,
             "#f0f921"
            ]
           ],
           "sequentialminus": [
            [
             0,
             "#0d0887"
            ],
            [
             0.1111111111111111,
             "#46039f"
            ],
            [
             0.2222222222222222,
             "#7201a8"
            ],
            [
             0.3333333333333333,
             "#9c179e"
            ],
            [
             0.4444444444444444,
             "#bd3786"
            ],
            [
             0.5555555555555556,
             "#d8576b"
            ],
            [
             0.6666666666666666,
             "#ed7953"
            ],
            [
             0.7777777777777778,
             "#fb9f3a"
            ],
            [
             0.8888888888888888,
             "#fdca26"
            ],
            [
             1,
             "#f0f921"
            ]
           ]
          },
          "colorway": [
           "#636efa",
           "#EF553B",
           "#00cc96",
           "#ab63fa",
           "#FFA15A",
           "#19d3f3",
           "#FF6692",
           "#B6E880",
           "#FF97FF",
           "#FECB52"
          ],
          "font": {
           "color": "#2a3f5f"
          },
          "geo": {
           "bgcolor": "white",
           "lakecolor": "white",
           "landcolor": "#E5ECF6",
           "showlakes": true,
           "showland": true,
           "subunitcolor": "white"
          },
          "hoverlabel": {
           "align": "left"
          },
          "hovermode": "closest",
          "mapbox": {
           "style": "light"
          },
          "paper_bgcolor": "white",
          "plot_bgcolor": "#E5ECF6",
          "polar": {
           "angularaxis": {
            "gridcolor": "white",
            "linecolor": "white",
            "ticks": ""
           },
           "bgcolor": "#E5ECF6",
           "radialaxis": {
            "gridcolor": "white",
            "linecolor": "white",
            "ticks": ""
           }
          },
          "scene": {
           "xaxis": {
            "backgroundcolor": "#E5ECF6",
            "gridcolor": "white",
            "gridwidth": 2,
            "linecolor": "white",
            "showbackground": true,
            "ticks": "",
            "zerolinecolor": "white"
           },
           "yaxis": {
            "backgroundcolor": "#E5ECF6",
            "gridcolor": "white",
            "gridwidth": 2,
            "linecolor": "white",
            "showbackground": true,
            "ticks": "",
            "zerolinecolor": "white"
           },
           "zaxis": {
            "backgroundcolor": "#E5ECF6",
            "gridcolor": "white",
            "gridwidth": 2,
            "linecolor": "white",
            "showbackground": true,
            "ticks": "",
            "zerolinecolor": "white"
           }
          },
          "shapedefaults": {
           "line": {
            "color": "#2a3f5f"
           }
          },
          "ternary": {
           "aaxis": {
            "gridcolor": "white",
            "linecolor": "white",
            "ticks": ""
           },
           "baxis": {
            "gridcolor": "white",
            "linecolor": "white",
            "ticks": ""
           },
           "bgcolor": "#E5ECF6",
           "caxis": {
            "gridcolor": "white",
            "linecolor": "white",
            "ticks": ""
           }
          },
          "title": {
           "x": 0.05
          },
          "xaxis": {
           "automargin": true,
           "gridcolor": "white",
           "linecolor": "white",
           "ticks": "",
           "title": {
            "standoff": 15
           },
           "zerolinecolor": "white",
           "zerolinewidth": 2
          },
          "yaxis": {
           "automargin": true,
           "gridcolor": "white",
           "linecolor": "white",
           "ticks": "",
           "title": {
            "standoff": 15
           },
           "zerolinecolor": "white",
           "zerolinewidth": 2
          }
         }
        },
        "title": {
         "text": "Fitness dispersion based on population-size and number of genearation ratio"
        },
        "xaxis": {
         "anchor": "y",
         "domain": [
          0,
          1
         ],
         "title": {
          "text": "popgen"
         }
        },
        "yaxis": {
         "anchor": "x",
         "domain": [
          0,
          1
         ],
         "title": {
          "text": "fitness"
         }
        }
       }
      }
     },
     "metadata": {},
     "output_type": "display_data"
    }
   ],
   "source": [
    "predf = list()\n",
    "\n",
    "for s, fits in zip(popgen, fitness_gen):\n",
    "    \n",
    "    predf += [(s[0], s[1], \"({}, {})\".format(*s), fit) for fit in fits]\n",
    "\n",
    "df = pd.DataFrame(predf, columns=(\"population\", \"generation\", \"popgen\", \"fitness\"))\n",
    "\n",
    "fig = px.box(df, y=\"fitness\", x=\"popgen\", points=\"all\", orientation='v',\n",
    "             title=\"Fitness dispersion based on population-size and number of genearation ratio\".format(label, width[0] if use_depth else depth))\n",
    "fig.show()"
   ]
  },
  {
   "attachments": {},
   "cell_type": "markdown",
   "metadata": {},
   "source": [
    "- Test 2 "
   ]
  },
  {
   "cell_type": "code",
   "execution_count": 23,
   "metadata": {},
   "outputs": [
    {
     "name": "stderr",
     "output_type": "stream",
     "text": [
      "c:\\Users\\havel\\Documents\\skola\\CUNI - AI INF\\predmety\\2 Letny semester\\Evolucna robotika\\evrobot\\lib\\site-packages\\pygad\\pygad.py:1074: UserWarning:\n",
      "\n",
      "Use the 'save_best_solutions' parameter with caution as it may cause memory overflow when either the number of generations or number of genes is large.\n",
      "\n",
      "----------------------------------------------------------------------\n",
      "                           PyGAD Lifecycle                           \n",
      "======================================================================\n",
      "Step                   Handler                            Output Shape\n",
      "======================================================================\n",
      "Fitness Function       _fitness_func()                    (1)        \n",
      "----------------------------------------------------------------------\n",
      "Parent Selection       steady_state_selection()           (4, 126)   \n",
      "Number of Parents: 4\n",
      "----------------------------------------------------------------------\n",
      "Crossover              single_point_crossover()           (4, 126)   \n",
      "----------------------------------------------------------------------\n",
      "Mutation               random_mutation()                  (4, 126)   \n",
      "Mutation Genes: 12\n",
      "Random Mutation Range: (-1.0, 1.0)\n",
      "Mutation by Replacement: False\n",
      "Allow Duplicated Genes: True\n",
      "----------------------------------------------------------------------\n",
      "======================================================================\n",
      "Population Size: (50, 126)\n",
      "Number of Generations: 10\n",
      "Initial Population Range: (-2, 5)\n",
      "Keep Elitism: 1\n",
      "Gene DType: [<class 'float'>, None]\n",
      "Save Best Solutions: True\n",
      "Save Solutions: False\n",
      "======================================================================\n",
      "----------------------------------------------------------------------\n",
      "                           PyGAD Lifecycle                           \n",
      "======================================================================\n",
      "Step                   Handler                            Output Shape\n",
      "======================================================================\n",
      "Fitness Function       _fitness_func()                    (1)        \n",
      "----------------------------------------------------------------------\n",
      "Parent Selection       steady_state_selection()           (4, 126)   \n",
      "Number of Parents: 4\n",
      "----------------------------------------------------------------------\n",
      "Crossover              single_point_crossover()           (4, 126)   \n",
      "----------------------------------------------------------------------\n",
      "Mutation               random_mutation()                  (4, 126)   \n",
      "Mutation Genes: 12\n",
      "Random Mutation Range: (-1.0, 1.0)\n",
      "Mutation by Replacement: False\n",
      "Allow Duplicated Genes: True\n",
      "----------------------------------------------------------------------\n",
      "======================================================================\n",
      "Population Size: (50, 126)\n",
      "Number of Generations: 10\n",
      "Initial Population Range: (-2, 5)\n",
      "Keep Elitism: 1\n",
      "Gene DType: [<class 'float'>, None]\n",
      "Save Best Solutions: True\n",
      "Save Solutions: False\n",
      "======================================================================\n",
      "----------------------------------------------------------------------\n",
      "                           PyGAD Lifecycle                           \n",
      "======================================================================\n",
      "Step                   Handler                            Output Shape\n",
      "======================================================================\n",
      "Fitness Function       _fitness_func()                    (1)        \n",
      "----------------------------------------------------------------------\n",
      "Parent Selection       steady_state_selection()           (4, 126)   \n",
      "Number of Parents: 4\n",
      "----------------------------------------------------------------------\n",
      "Crossover              single_point_crossover()           (4, 126)   \n",
      "----------------------------------------------------------------------\n",
      "Mutation               random_mutation()                  (4, 126)   \n",
      "Mutation Genes: 12\n",
      "Random Mutation Range: (-1.0, 1.0)\n",
      "Mutation by Replacement: False\n",
      "Allow Duplicated Genes: True\n",
      "----------------------------------------------------------------------\n",
      "======================================================================\n",
      "Population Size: (50, 126)\n",
      "Number of Generations: 10\n",
      "Initial Population Range: (-2, 5)\n",
      "Keep Elitism: 1\n",
      "Gene DType: [<class 'float'>, None]\n",
      "Save Best Solutions: True\n",
      "Save Solutions: False\n",
      "======================================================================\n",
      "----------------------------------------------------------------------\n",
      "                           PyGAD Lifecycle                           \n",
      "======================================================================\n",
      "Step                   Handler                            Output Shape\n",
      "======================================================================\n",
      "Fitness Function       _fitness_func()                    (1)        \n",
      "----------------------------------------------------------------------\n",
      "Parent Selection       steady_state_selection()           (4, 126)   \n",
      "Number of Parents: 4\n",
      "----------------------------------------------------------------------\n",
      "Crossover              single_point_crossover()           (4, 126)   \n",
      "----------------------------------------------------------------------\n",
      "Mutation               random_mutation()                  (4, 126)   \n",
      "Mutation Genes: 12\n",
      "Random Mutation Range: (-1.0, 1.0)\n",
      "Mutation by Replacement: False\n",
      "Allow Duplicated Genes: True\n",
      "----------------------------------------------------------------------\n",
      "======================================================================\n",
      "Population Size: (50, 126)\n",
      "Number of Generations: 10\n",
      "Initial Population Range: (-2, 5)\n",
      "Keep Elitism: 1\n",
      "Gene DType: [<class 'float'>, None]\n",
      "Save Best Solutions: True\n",
      "Save Solutions: False\n",
      "======================================================================\n",
      "----------------------------------------------------------------------\n",
      "                           PyGAD Lifecycle                           \n",
      "======================================================================\n",
      "Step                   Handler                            Output Shape\n",
      "======================================================================\n",
      "Fitness Function       _fitness_func()                    (1)        \n",
      "----------------------------------------------------------------------\n",
      "Parent Selection       steady_state_selection()           (4, 126)   \n",
      "Number of Parents: 4\n",
      "----------------------------------------------------------------------\n",
      "Crossover              single_point_crossover()           (4, 126)   \n",
      "----------------------------------------------------------------------\n",
      "Mutation               random_mutation()                  (4, 126)   \n",
      "Mutation Genes: 12\n",
      "Random Mutation Range: (-1.0, 1.0)\n",
      "Mutation by Replacement: False\n",
      "Allow Duplicated Genes: True\n",
      "----------------------------------------------------------------------\n",
      "======================================================================\n",
      "Population Size: (50, 126)\n",
      "Number of Generations: 10\n",
      "Initial Population Range: (-2, 5)\n",
      "Keep Elitism: 1\n",
      "Gene DType: [<class 'float'>, None]\n",
      "Save Best Solutions: True\n",
      "Save Solutions: False\n",
      "======================================================================\n",
      "----------------------------------------------------------------------\n",
      "                           PyGAD Lifecycle                           \n",
      "======================================================================\n",
      "Step                   Handler                            Output Shape\n",
      "======================================================================\n",
      "Fitness Function       _fitness_func()                    (1)        \n",
      "----------------------------------------------------------------------\n",
      "Parent Selection       steady_state_selection()           (4, 126)   \n",
      "Number of Parents: 4\n",
      "----------------------------------------------------------------------\n",
      "Crossover              single_point_crossover()           (4, 126)   \n",
      "----------------------------------------------------------------------\n",
      "Mutation               random_mutation()                  (4, 126)   \n",
      "Mutation Genes: 12\n",
      "Random Mutation Range: (-1.0, 1.0)\n",
      "Mutation by Replacement: False\n",
      "Allow Duplicated Genes: True\n",
      "----------------------------------------------------------------------\n",
      "======================================================================\n",
      "Population Size: (25, 126)\n",
      "Number of Generations: 20\n",
      "Initial Population Range: (-2, 5)\n",
      "Keep Elitism: 1\n",
      "Gene DType: [<class 'float'>, None]\n",
      "Save Best Solutions: True\n",
      "Save Solutions: False\n",
      "======================================================================\n",
      "----------------------------------------------------------------------\n",
      "                           PyGAD Lifecycle                           \n",
      "======================================================================\n",
      "Step                   Handler                            Output Shape\n",
      "======================================================================\n",
      "Fitness Function       _fitness_func()                    (1)        \n",
      "----------------------------------------------------------------------\n",
      "Parent Selection       steady_state_selection()           (4, 126)   \n",
      "Number of Parents: 4\n",
      "----------------------------------------------------------------------\n",
      "Crossover              single_point_crossover()           (4, 126)   \n",
      "----------------------------------------------------------------------\n",
      "Mutation               random_mutation()                  (4, 126)   \n",
      "Mutation Genes: 12\n",
      "Random Mutation Range: (-1.0, 1.0)\n",
      "Mutation by Replacement: False\n",
      "Allow Duplicated Genes: True\n",
      "----------------------------------------------------------------------\n",
      "======================================================================\n",
      "Population Size: (25, 126)\n",
      "Number of Generations: 20\n",
      "Initial Population Range: (-2, 5)\n",
      "Keep Elitism: 1\n",
      "Gene DType: [<class 'float'>, None]\n",
      "Save Best Solutions: True\n",
      "Save Solutions: False\n",
      "======================================================================\n",
      "----------------------------------------------------------------------\n",
      "                           PyGAD Lifecycle                           \n",
      "======================================================================\n",
      "Step                   Handler                            Output Shape\n",
      "======================================================================\n",
      "Fitness Function       _fitness_func()                    (1)        \n",
      "----------------------------------------------------------------------\n",
      "Parent Selection       steady_state_selection()           (4, 126)   \n",
      "Number of Parents: 4\n",
      "----------------------------------------------------------------------\n",
      "Crossover              single_point_crossover()           (4, 126)   \n",
      "----------------------------------------------------------------------\n",
      "Mutation               random_mutation()                  (4, 126)   \n",
      "Mutation Genes: 12\n",
      "Random Mutation Range: (-1.0, 1.0)\n",
      "Mutation by Replacement: False\n",
      "Allow Duplicated Genes: True\n",
      "----------------------------------------------------------------------\n",
      "======================================================================\n",
      "Population Size: (25, 126)\n",
      "Number of Generations: 20\n",
      "Initial Population Range: (-2, 5)\n",
      "Keep Elitism: 1\n",
      "Gene DType: [<class 'float'>, None]\n",
      "Save Best Solutions: True\n",
      "Save Solutions: False\n",
      "======================================================================\n",
      "----------------------------------------------------------------------\n",
      "                           PyGAD Lifecycle                           \n",
      "======================================================================\n",
      "Step                   Handler                            Output Shape\n",
      "======================================================================\n",
      "Fitness Function       _fitness_func()                    (1)        \n",
      "----------------------------------------------------------------------\n",
      "Parent Selection       steady_state_selection()           (4, 126)   \n",
      "Number of Parents: 4\n",
      "----------------------------------------------------------------------\n",
      "Crossover              single_point_crossover()           (4, 126)   \n",
      "----------------------------------------------------------------------\n",
      "Mutation               random_mutation()                  (4, 126)   \n",
      "Mutation Genes: 12\n",
      "Random Mutation Range: (-1.0, 1.0)\n",
      "Mutation by Replacement: False\n",
      "Allow Duplicated Genes: True\n",
      "----------------------------------------------------------------------\n",
      "======================================================================\n",
      "Population Size: (25, 126)\n",
      "Number of Generations: 20\n",
      "Initial Population Range: (-2, 5)\n",
      "Keep Elitism: 1\n",
      "Gene DType: [<class 'float'>, None]\n",
      "Save Best Solutions: True\n",
      "Save Solutions: False\n",
      "======================================================================\n",
      "----------------------------------------------------------------------\n",
      "                           PyGAD Lifecycle                           \n",
      "======================================================================\n",
      "Step                   Handler                            Output Shape\n",
      "======================================================================\n",
      "Fitness Function       _fitness_func()                    (1)        \n",
      "----------------------------------------------------------------------\n",
      "Parent Selection       steady_state_selection()           (4, 126)   \n",
      "Number of Parents: 4\n",
      "----------------------------------------------------------------------\n",
      "Crossover              single_point_crossover()           (4, 126)   \n",
      "----------------------------------------------------------------------\n",
      "Mutation               random_mutation()                  (4, 126)   \n",
      "Mutation Genes: 12\n",
      "Random Mutation Range: (-1.0, 1.0)\n",
      "Mutation by Replacement: False\n",
      "Allow Duplicated Genes: True\n",
      "----------------------------------------------------------------------\n",
      "======================================================================\n",
      "Population Size: (25, 126)\n",
      "Number of Generations: 20\n",
      "Initial Population Range: (-2, 5)\n",
      "Keep Elitism: 1\n",
      "Gene DType: [<class 'float'>, None]\n",
      "Save Best Solutions: True\n",
      "Save Solutions: False\n",
      "======================================================================\n",
      "----------------------------------------------------------------------\n",
      "                           PyGAD Lifecycle                           \n",
      "======================================================================\n",
      "Step                   Handler                            Output Shape\n",
      "======================================================================\n",
      "Fitness Function       _fitness_func()                    (1)        \n",
      "----------------------------------------------------------------------\n",
      "Parent Selection       steady_state_selection()           (4, 126)   \n",
      "Number of Parents: 4\n",
      "----------------------------------------------------------------------\n",
      "Crossover              single_point_crossover()           (4, 126)   \n",
      "----------------------------------------------------------------------\n",
      "Mutation               random_mutation()                  (4, 126)   \n",
      "Mutation Genes: 12\n",
      "Random Mutation Range: (-1.0, 1.0)\n",
      "Mutation by Replacement: False\n",
      "Allow Duplicated Genes: True\n",
      "----------------------------------------------------------------------\n",
      "======================================================================\n",
      "Population Size: (10, 126)\n",
      "Number of Generations: 50\n",
      "Initial Population Range: (-2, 5)\n",
      "Keep Elitism: 1\n",
      "Gene DType: [<class 'float'>, None]\n",
      "Save Best Solutions: True\n",
      "Save Solutions: False\n",
      "======================================================================\n",
      "----------------------------------------------------------------------\n",
      "                           PyGAD Lifecycle                           \n",
      "======================================================================\n",
      "Step                   Handler                            Output Shape\n",
      "======================================================================\n",
      "Fitness Function       _fitness_func()                    (1)        \n",
      "----------------------------------------------------------------------\n",
      "Parent Selection       steady_state_selection()           (4, 126)   \n",
      "Number of Parents: 4\n",
      "----------------------------------------------------------------------\n",
      "Crossover              single_point_crossover()           (4, 126)   \n",
      "----------------------------------------------------------------------\n",
      "Mutation               random_mutation()                  (4, 126)   \n",
      "Mutation Genes: 12\n",
      "Random Mutation Range: (-1.0, 1.0)\n",
      "Mutation by Replacement: False\n",
      "Allow Duplicated Genes: True\n",
      "----------------------------------------------------------------------\n",
      "======================================================================\n",
      "Population Size: (10, 126)\n",
      "Number of Generations: 50\n",
      "Initial Population Range: (-2, 5)\n",
      "Keep Elitism: 1\n",
      "Gene DType: [<class 'float'>, None]\n",
      "Save Best Solutions: True\n",
      "Save Solutions: False\n",
      "======================================================================\n",
      "----------------------------------------------------------------------\n",
      "                           PyGAD Lifecycle                           \n",
      "======================================================================\n",
      "Step                   Handler                            Output Shape\n",
      "======================================================================\n",
      "Fitness Function       _fitness_func()                    (1)        \n",
      "----------------------------------------------------------------------\n",
      "Parent Selection       steady_state_selection()           (4, 126)   \n",
      "Number of Parents: 4\n",
      "----------------------------------------------------------------------\n",
      "Crossover              single_point_crossover()           (4, 126)   \n",
      "----------------------------------------------------------------------\n",
      "Mutation               random_mutation()                  (4, 126)   \n",
      "Mutation Genes: 12\n",
      "Random Mutation Range: (-1.0, 1.0)\n",
      "Mutation by Replacement: False\n",
      "Allow Duplicated Genes: True\n",
      "----------------------------------------------------------------------\n",
      "======================================================================\n",
      "Population Size: (10, 126)\n",
      "Number of Generations: 50\n",
      "Initial Population Range: (-2, 5)\n",
      "Keep Elitism: 1\n",
      "Gene DType: [<class 'float'>, None]\n",
      "Save Best Solutions: True\n",
      "Save Solutions: False\n",
      "======================================================================\n",
      "----------------------------------------------------------------------\n",
      "                           PyGAD Lifecycle                           \n",
      "======================================================================\n",
      "Step                   Handler                            Output Shape\n",
      "======================================================================\n",
      "Fitness Function       _fitness_func()                    (1)        \n",
      "----------------------------------------------------------------------\n",
      "Parent Selection       steady_state_selection()           (4, 126)   \n",
      "Number of Parents: 4\n",
      "----------------------------------------------------------------------\n",
      "Crossover              single_point_crossover()           (4, 126)   \n",
      "----------------------------------------------------------------------\n",
      "Mutation               random_mutation()                  (4, 126)   \n",
      "Mutation Genes: 12\n",
      "Random Mutation Range: (-1.0, 1.0)\n",
      "Mutation by Replacement: False\n",
      "Allow Duplicated Genes: True\n",
      "----------------------------------------------------------------------\n",
      "======================================================================\n",
      "Population Size: (10, 126)\n",
      "Number of Generations: 50\n",
      "Initial Population Range: (-2, 5)\n",
      "Keep Elitism: 1\n",
      "Gene DType: [<class 'float'>, None]\n",
      "Save Best Solutions: True\n",
      "Save Solutions: False\n",
      "======================================================================\n",
      "----------------------------------------------------------------------\n",
      "                           PyGAD Lifecycle                           \n",
      "======================================================================\n",
      "Step                   Handler                            Output Shape\n",
      "======================================================================\n",
      "Fitness Function       _fitness_func()                    (1)        \n",
      "----------------------------------------------------------------------\n",
      "Parent Selection       steady_state_selection()           (4, 126)   \n",
      "Number of Parents: 4\n",
      "----------------------------------------------------------------------\n",
      "Crossover              single_point_crossover()           (4, 126)   \n",
      "----------------------------------------------------------------------\n",
      "Mutation               random_mutation()                  (4, 126)   \n",
      "Mutation Genes: 12\n",
      "Random Mutation Range: (-1.0, 1.0)\n",
      "Mutation by Replacement: False\n",
      "Allow Duplicated Genes: True\n",
      "----------------------------------------------------------------------\n",
      "======================================================================\n",
      "Population Size: (10, 126)\n",
      "Number of Generations: 50\n",
      "Initial Population Range: (-2, 5)\n",
      "Keep Elitism: 1\n",
      "Gene DType: [<class 'float'>, None]\n",
      "Save Best Solutions: True\n",
      "Save Solutions: False\n",
      "======================================================================\n"
     ]
    }
   ],
   "source": [
    "cheetah_lab = ClassicNNCheetahLab([17, 5 6], actv_func[\"relu\"])\n",
    "\n",
    "popgen = [\n",
    "    ( 50,  10),\n",
    "    ( 25,  20),\n",
    "    ( 10, 50),\n",
    "]\n",
    "\n",
    "solutions_gen, fitness_gen = generation_heatmap(popgen, cheetah_lab, steps=200)\n",
    "\n",
    "para_name = \"popgen_NN17-5-6_pg50-10_25-20_10-50_relu_steps200\"\n",
    "with open(para_name+'.pkl','wb') as f:\n",
    "    pickle.dump((solutions_gen, fitness_gen), f)"
   ]
  },
  {
   "cell_type": "code",
   "execution_count": 24,
   "metadata": {},
   "outputs": [
    {
     "data": {
      "application/vnd.plotly.v1+json": {
       "config": {
        "plotlyServerURL": "https://plot.ly"
       },
       "data": [
        {
         "alignmentgroup": "True",
         "boxpoints": "all",
         "hovertemplate": "popgen=%{x}<br>fitness=%{y}<extra></extra>",
         "legendgroup": "",
         "marker": {
          "color": "#636efa"
         },
         "name": "",
         "notched": false,
         "offsetgroup": "",
         "orientation": "v",
         "showlegend": false,
         "type": "box",
         "x": [
          "(50, 10)",
          "(50, 10)",
          "(50, 10)",
          "(50, 10)",
          "(50, 10)",
          "(25, 20)",
          "(25, 20)",
          "(25, 20)",
          "(25, 20)",
          "(25, 20)",
          "(10, 50)",
          "(10, 50)",
          "(10, 50)",
          "(10, 50)",
          "(10, 50)"
         ],
         "x0": " ",
         "xaxis": "x",
         "y": [
          1459.394677483534,
          1553.7612465472585,
          1558.7484463081178,
          1241.7721495582673,
          938.6239946189247,
          1446.5941876193615,
          1686.0145498888135,
          890.9800965331247,
          1016.7677088738927,
          1264.7449192330232,
          847.0366196363705,
          527.2394095646262,
          1817.6935940275791,
          1020.9939223776628,
          1442.436500071648
         ],
         "y0": " ",
         "yaxis": "y"
        }
       ],
       "layout": {
        "boxmode": "group",
        "legend": {
         "tracegroupgap": 0
        },
        "template": {
         "data": {
          "bar": [
           {
            "error_x": {
             "color": "#2a3f5f"
            },
            "error_y": {
             "color": "#2a3f5f"
            },
            "marker": {
             "line": {
              "color": "#E5ECF6",
              "width": 0.5
             },
             "pattern": {
              "fillmode": "overlay",
              "size": 10,
              "solidity": 0.2
             }
            },
            "type": "bar"
           }
          ],
          "barpolar": [
           {
            "marker": {
             "line": {
              "color": "#E5ECF6",
              "width": 0.5
             },
             "pattern": {
              "fillmode": "overlay",
              "size": 10,
              "solidity": 0.2
             }
            },
            "type": "barpolar"
           }
          ],
          "carpet": [
           {
            "aaxis": {
             "endlinecolor": "#2a3f5f",
             "gridcolor": "white",
             "linecolor": "white",
             "minorgridcolor": "white",
             "startlinecolor": "#2a3f5f"
            },
            "baxis": {
             "endlinecolor": "#2a3f5f",
             "gridcolor": "white",
             "linecolor": "white",
             "minorgridcolor": "white",
             "startlinecolor": "#2a3f5f"
            },
            "type": "carpet"
           }
          ],
          "choropleth": [
           {
            "colorbar": {
             "outlinewidth": 0,
             "ticks": ""
            },
            "type": "choropleth"
           }
          ],
          "contour": [
           {
            "colorbar": {
             "outlinewidth": 0,
             "ticks": ""
            },
            "colorscale": [
             [
              0,
              "#0d0887"
             ],
             [
              0.1111111111111111,
              "#46039f"
             ],
             [
              0.2222222222222222,
              "#7201a8"
             ],
             [
              0.3333333333333333,
              "#9c179e"
             ],
             [
              0.4444444444444444,
              "#bd3786"
             ],
             [
              0.5555555555555556,
              "#d8576b"
             ],
             [
              0.6666666666666666,
              "#ed7953"
             ],
             [
              0.7777777777777778,
              "#fb9f3a"
             ],
             [
              0.8888888888888888,
              "#fdca26"
             ],
             [
              1,
              "#f0f921"
             ]
            ],
            "type": "contour"
           }
          ],
          "contourcarpet": [
           {
            "colorbar": {
             "outlinewidth": 0,
             "ticks": ""
            },
            "type": "contourcarpet"
           }
          ],
          "heatmap": [
           {
            "colorbar": {
             "outlinewidth": 0,
             "ticks": ""
            },
            "colorscale": [
             [
              0,
              "#0d0887"
             ],
             [
              0.1111111111111111,
              "#46039f"
             ],
             [
              0.2222222222222222,
              "#7201a8"
             ],
             [
              0.3333333333333333,
              "#9c179e"
             ],
             [
              0.4444444444444444,
              "#bd3786"
             ],
             [
              0.5555555555555556,
              "#d8576b"
             ],
             [
              0.6666666666666666,
              "#ed7953"
             ],
             [
              0.7777777777777778,
              "#fb9f3a"
             ],
             [
              0.8888888888888888,
              "#fdca26"
             ],
             [
              1,
              "#f0f921"
             ]
            ],
            "type": "heatmap"
           }
          ],
          "heatmapgl": [
           {
            "colorbar": {
             "outlinewidth": 0,
             "ticks": ""
            },
            "colorscale": [
             [
              0,
              "#0d0887"
             ],
             [
              0.1111111111111111,
              "#46039f"
             ],
             [
              0.2222222222222222,
              "#7201a8"
             ],
             [
              0.3333333333333333,
              "#9c179e"
             ],
             [
              0.4444444444444444,
              "#bd3786"
             ],
             [
              0.5555555555555556,
              "#d8576b"
             ],
             [
              0.6666666666666666,
              "#ed7953"
             ],
             [
              0.7777777777777778,
              "#fb9f3a"
             ],
             [
              0.8888888888888888,
              "#fdca26"
             ],
             [
              1,
              "#f0f921"
             ]
            ],
            "type": "heatmapgl"
           }
          ],
          "histogram": [
           {
            "marker": {
             "pattern": {
              "fillmode": "overlay",
              "size": 10,
              "solidity": 0.2
             }
            },
            "type": "histogram"
           }
          ],
          "histogram2d": [
           {
            "colorbar": {
             "outlinewidth": 0,
             "ticks": ""
            },
            "colorscale": [
             [
              0,
              "#0d0887"
             ],
             [
              0.1111111111111111,
              "#46039f"
             ],
             [
              0.2222222222222222,
              "#7201a8"
             ],
             [
              0.3333333333333333,
              "#9c179e"
             ],
             [
              0.4444444444444444,
              "#bd3786"
             ],
             [
              0.5555555555555556,
              "#d8576b"
             ],
             [
              0.6666666666666666,
              "#ed7953"
             ],
             [
              0.7777777777777778,
              "#fb9f3a"
             ],
             [
              0.8888888888888888,
              "#fdca26"
             ],
             [
              1,
              "#f0f921"
             ]
            ],
            "type": "histogram2d"
           }
          ],
          "histogram2dcontour": [
           {
            "colorbar": {
             "outlinewidth": 0,
             "ticks": ""
            },
            "colorscale": [
             [
              0,
              "#0d0887"
             ],
             [
              0.1111111111111111,
              "#46039f"
             ],
             [
              0.2222222222222222,
              "#7201a8"
             ],
             [
              0.3333333333333333,
              "#9c179e"
             ],
             [
              0.4444444444444444,
              "#bd3786"
             ],
             [
              0.5555555555555556,
              "#d8576b"
             ],
             [
              0.6666666666666666,
              "#ed7953"
             ],
             [
              0.7777777777777778,
              "#fb9f3a"
             ],
             [
              0.8888888888888888,
              "#fdca26"
             ],
             [
              1,
              "#f0f921"
             ]
            ],
            "type": "histogram2dcontour"
           }
          ],
          "mesh3d": [
           {
            "colorbar": {
             "outlinewidth": 0,
             "ticks": ""
            },
            "type": "mesh3d"
           }
          ],
          "parcoords": [
           {
            "line": {
             "colorbar": {
              "outlinewidth": 0,
              "ticks": ""
             }
            },
            "type": "parcoords"
           }
          ],
          "pie": [
           {
            "automargin": true,
            "type": "pie"
           }
          ],
          "scatter": [
           {
            "fillpattern": {
             "fillmode": "overlay",
             "size": 10,
             "solidity": 0.2
            },
            "type": "scatter"
           }
          ],
          "scatter3d": [
           {
            "line": {
             "colorbar": {
              "outlinewidth": 0,
              "ticks": ""
             }
            },
            "marker": {
             "colorbar": {
              "outlinewidth": 0,
              "ticks": ""
             }
            },
            "type": "scatter3d"
           }
          ],
          "scattercarpet": [
           {
            "marker": {
             "colorbar": {
              "outlinewidth": 0,
              "ticks": ""
             }
            },
            "type": "scattercarpet"
           }
          ],
          "scattergeo": [
           {
            "marker": {
             "colorbar": {
              "outlinewidth": 0,
              "ticks": ""
             }
            },
            "type": "scattergeo"
           }
          ],
          "scattergl": [
           {
            "marker": {
             "colorbar": {
              "outlinewidth": 0,
              "ticks": ""
             }
            },
            "type": "scattergl"
           }
          ],
          "scattermapbox": [
           {
            "marker": {
             "colorbar": {
              "outlinewidth": 0,
              "ticks": ""
             }
            },
            "type": "scattermapbox"
           }
          ],
          "scatterpolar": [
           {
            "marker": {
             "colorbar": {
              "outlinewidth": 0,
              "ticks": ""
             }
            },
            "type": "scatterpolar"
           }
          ],
          "scatterpolargl": [
           {
            "marker": {
             "colorbar": {
              "outlinewidth": 0,
              "ticks": ""
             }
            },
            "type": "scatterpolargl"
           }
          ],
          "scatterternary": [
           {
            "marker": {
             "colorbar": {
              "outlinewidth": 0,
              "ticks": ""
             }
            },
            "type": "scatterternary"
           }
          ],
          "surface": [
           {
            "colorbar": {
             "outlinewidth": 0,
             "ticks": ""
            },
            "colorscale": [
             [
              0,
              "#0d0887"
             ],
             [
              0.1111111111111111,
              "#46039f"
             ],
             [
              0.2222222222222222,
              "#7201a8"
             ],
             [
              0.3333333333333333,
              "#9c179e"
             ],
             [
              0.4444444444444444,
              "#bd3786"
             ],
             [
              0.5555555555555556,
              "#d8576b"
             ],
             [
              0.6666666666666666,
              "#ed7953"
             ],
             [
              0.7777777777777778,
              "#fb9f3a"
             ],
             [
              0.8888888888888888,
              "#fdca26"
             ],
             [
              1,
              "#f0f921"
             ]
            ],
            "type": "surface"
           }
          ],
          "table": [
           {
            "cells": {
             "fill": {
              "color": "#EBF0F8"
             },
             "line": {
              "color": "white"
             }
            },
            "header": {
             "fill": {
              "color": "#C8D4E3"
             },
             "line": {
              "color": "white"
             }
            },
            "type": "table"
           }
          ]
         },
         "layout": {
          "annotationdefaults": {
           "arrowcolor": "#2a3f5f",
           "arrowhead": 0,
           "arrowwidth": 1
          },
          "autotypenumbers": "strict",
          "coloraxis": {
           "colorbar": {
            "outlinewidth": 0,
            "ticks": ""
           }
          },
          "colorscale": {
           "diverging": [
            [
             0,
             "#8e0152"
            ],
            [
             0.1,
             "#c51b7d"
            ],
            [
             0.2,
             "#de77ae"
            ],
            [
             0.3,
             "#f1b6da"
            ],
            [
             0.4,
             "#fde0ef"
            ],
            [
             0.5,
             "#f7f7f7"
            ],
            [
             0.6,
             "#e6f5d0"
            ],
            [
             0.7,
             "#b8e186"
            ],
            [
             0.8,
             "#7fbc41"
            ],
            [
             0.9,
             "#4d9221"
            ],
            [
             1,
             "#276419"
            ]
           ],
           "sequential": [
            [
             0,
             "#0d0887"
            ],
            [
             0.1111111111111111,
             "#46039f"
            ],
            [
             0.2222222222222222,
             "#7201a8"
            ],
            [
             0.3333333333333333,
             "#9c179e"
            ],
            [
             0.4444444444444444,
             "#bd3786"
            ],
            [
             0.5555555555555556,
             "#d8576b"
            ],
            [
             0.6666666666666666,
             "#ed7953"
            ],
            [
             0.7777777777777778,
             "#fb9f3a"
            ],
            [
             0.8888888888888888,
             "#fdca26"
            ],
            [
             1,
             "#f0f921"
            ]
           ],
           "sequentialminus": [
            [
             0,
             "#0d0887"
            ],
            [
             0.1111111111111111,
             "#46039f"
            ],
            [
             0.2222222222222222,
             "#7201a8"
            ],
            [
             0.3333333333333333,
             "#9c179e"
            ],
            [
             0.4444444444444444,
             "#bd3786"
            ],
            [
             0.5555555555555556,
             "#d8576b"
            ],
            [
             0.6666666666666666,
             "#ed7953"
            ],
            [
             0.7777777777777778,
             "#fb9f3a"
            ],
            [
             0.8888888888888888,
             "#fdca26"
            ],
            [
             1,
             "#f0f921"
            ]
           ]
          },
          "colorway": [
           "#636efa",
           "#EF553B",
           "#00cc96",
           "#ab63fa",
           "#FFA15A",
           "#19d3f3",
           "#FF6692",
           "#B6E880",
           "#FF97FF",
           "#FECB52"
          ],
          "font": {
           "color": "#2a3f5f"
          },
          "geo": {
           "bgcolor": "white",
           "lakecolor": "white",
           "landcolor": "#E5ECF6",
           "showlakes": true,
           "showland": true,
           "subunitcolor": "white"
          },
          "hoverlabel": {
           "align": "left"
          },
          "hovermode": "closest",
          "mapbox": {
           "style": "light"
          },
          "paper_bgcolor": "white",
          "plot_bgcolor": "#E5ECF6",
          "polar": {
           "angularaxis": {
            "gridcolor": "white",
            "linecolor": "white",
            "ticks": ""
           },
           "bgcolor": "#E5ECF6",
           "radialaxis": {
            "gridcolor": "white",
            "linecolor": "white",
            "ticks": ""
           }
          },
          "scene": {
           "xaxis": {
            "backgroundcolor": "#E5ECF6",
            "gridcolor": "white",
            "gridwidth": 2,
            "linecolor": "white",
            "showbackground": true,
            "ticks": "",
            "zerolinecolor": "white"
           },
           "yaxis": {
            "backgroundcolor": "#E5ECF6",
            "gridcolor": "white",
            "gridwidth": 2,
            "linecolor": "white",
            "showbackground": true,
            "ticks": "",
            "zerolinecolor": "white"
           },
           "zaxis": {
            "backgroundcolor": "#E5ECF6",
            "gridcolor": "white",
            "gridwidth": 2,
            "linecolor": "white",
            "showbackground": true,
            "ticks": "",
            "zerolinecolor": "white"
           }
          },
          "shapedefaults": {
           "line": {
            "color": "#2a3f5f"
           }
          },
          "ternary": {
           "aaxis": {
            "gridcolor": "white",
            "linecolor": "white",
            "ticks": ""
           },
           "baxis": {
            "gridcolor": "white",
            "linecolor": "white",
            "ticks": ""
           },
           "bgcolor": "#E5ECF6",
           "caxis": {
            "gridcolor": "white",
            "linecolor": "white",
            "ticks": ""
           }
          },
          "title": {
           "x": 0.05
          },
          "xaxis": {
           "automargin": true,
           "gridcolor": "white",
           "linecolor": "white",
           "ticks": "",
           "title": {
            "standoff": 15
           },
           "zerolinecolor": "white",
           "zerolinewidth": 2
          },
          "yaxis": {
           "automargin": true,
           "gridcolor": "white",
           "linecolor": "white",
           "ticks": "",
           "title": {
            "standoff": 15
           },
           "zerolinecolor": "white",
           "zerolinewidth": 2
          }
         }
        },
        "title": {
         "text": "Fitness dispersion based on population-size and number of genearation ratio"
        },
        "xaxis": {
         "anchor": "y",
         "domain": [
          0,
          1
         ],
         "title": {
          "text": "popgen"
         }
        },
        "yaxis": {
         "anchor": "x",
         "domain": [
          0,
          1
         ],
         "title": {
          "text": "fitness"
         }
        }
       }
      }
     },
     "metadata": {},
     "output_type": "display_data"
    }
   ],
   "source": [
    "predf = list()\n",
    "\n",
    "for s, fits in zip(popgen, fitness_gen):\n",
    "    \n",
    "    predf += [(s[0], s[1], \"({}, {})\".format(*s), fit) for fit in fits]\n",
    "\n",
    "df = pd.DataFrame(predf, columns=(\"population\", \"generation\", \"popgen\", \"fitness\"))\n",
    "\n",
    "fig = px.box(df, y=\"fitness\", x=\"popgen\", points=\"all\", orientation='v',\n",
    "             title=\"Fitness dispersion based on population-size and number of genearation ratio\".format(label, width[0] if use_depth else depth))\n",
    "fig.show()"
   ]
  },
  {
   "attachments": {},
   "cell_type": "markdown",
   "metadata": {},
   "source": [
    "- Test 3"
   ]
  },
  {
   "cell_type": "code",
   "execution_count": 26,
   "metadata": {},
   "outputs": [
    {
     "name": "stderr",
     "output_type": "stream",
     "text": [
      "c:\\Users\\havel\\Documents\\skola\\CUNI - AI INF\\predmety\\2 Letny semester\\Evolucna robotika\\evrobot\\lib\\site-packages\\pygad\\pygad.py:1074: UserWarning:\n",
      "\n",
      "Use the 'save_best_solutions' parameter with caution as it may cause memory overflow when either the number of generations or number of genes is large.\n",
      "\n",
      "----------------------------------------------------------------------\n",
      "                           PyGAD Lifecycle                           \n",
      "======================================================================\n",
      "Step                   Handler                            Output Shape\n",
      "======================================================================\n",
      "Fitness Function       _fitness_func()                    (1)        \n",
      "----------------------------------------------------------------------\n",
      "Parent Selection       steady_state_selection()           (4, 126)   \n",
      "Number of Parents: 4\n",
      "----------------------------------------------------------------------\n",
      "Crossover              single_point_crossover()           (4, 126)   \n",
      "----------------------------------------------------------------------\n",
      "Mutation               random_mutation()                  (4, 126)   \n",
      "Mutation Genes: 12\n",
      "Random Mutation Range: (-1.0, 1.0)\n",
      "Mutation by Replacement: False\n",
      "Allow Duplicated Genes: True\n",
      "----------------------------------------------------------------------\n",
      "======================================================================\n",
      "Population Size: (100, 126)\n",
      "Number of Generations: 10\n",
      "Initial Population Range: (-2, 5)\n",
      "Keep Elitism: 1\n",
      "Gene DType: [<class 'float'>, None]\n",
      "Save Best Solutions: True\n",
      "Save Solutions: False\n",
      "======================================================================\n",
      "----------------------------------------------------------------------\n",
      "                           PyGAD Lifecycle                           \n",
      "======================================================================\n",
      "Step                   Handler                            Output Shape\n",
      "======================================================================\n",
      "Fitness Function       _fitness_func()                    (1)        \n",
      "----------------------------------------------------------------------\n",
      "Parent Selection       steady_state_selection()           (4, 126)   \n",
      "Number of Parents: 4\n",
      "----------------------------------------------------------------------\n",
      "Crossover              single_point_crossover()           (4, 126)   \n",
      "----------------------------------------------------------------------\n",
      "Mutation               random_mutation()                  (4, 126)   \n",
      "Mutation Genes: 12\n",
      "Random Mutation Range: (-1.0, 1.0)\n",
      "Mutation by Replacement: False\n",
      "Allow Duplicated Genes: True\n",
      "----------------------------------------------------------------------\n",
      "======================================================================\n",
      "Population Size: (100, 126)\n",
      "Number of Generations: 10\n",
      "Initial Population Range: (-2, 5)\n",
      "Keep Elitism: 1\n",
      "Gene DType: [<class 'float'>, None]\n",
      "Save Best Solutions: True\n",
      "Save Solutions: False\n",
      "======================================================================\n",
      "----------------------------------------------------------------------\n",
      "                           PyGAD Lifecycle                           \n",
      "======================================================================\n",
      "Step                   Handler                            Output Shape\n",
      "======================================================================\n",
      "Fitness Function       _fitness_func()                    (1)        \n",
      "----------------------------------------------------------------------\n",
      "Parent Selection       steady_state_selection()           (4, 126)   \n",
      "Number of Parents: 4\n",
      "----------------------------------------------------------------------\n",
      "Crossover              single_point_crossover()           (4, 126)   \n",
      "----------------------------------------------------------------------\n",
      "Mutation               random_mutation()                  (4, 126)   \n",
      "Mutation Genes: 12\n",
      "Random Mutation Range: (-1.0, 1.0)\n",
      "Mutation by Replacement: False\n",
      "Allow Duplicated Genes: True\n",
      "----------------------------------------------------------------------\n",
      "======================================================================\n",
      "Population Size: (100, 126)\n",
      "Number of Generations: 10\n",
      "Initial Population Range: (-2, 5)\n",
      "Keep Elitism: 1\n",
      "Gene DType: [<class 'float'>, None]\n",
      "Save Best Solutions: True\n",
      "Save Solutions: False\n",
      "======================================================================\n",
      "----------------------------------------------------------------------\n",
      "                           PyGAD Lifecycle                           \n",
      "======================================================================\n",
      "Step                   Handler                            Output Shape\n",
      "======================================================================\n",
      "Fitness Function       _fitness_func()                    (1)        \n",
      "----------------------------------------------------------------------\n",
      "Parent Selection       steady_state_selection()           (4, 126)   \n",
      "Number of Parents: 4\n",
      "----------------------------------------------------------------------\n",
      "Crossover              single_point_crossover()           (4, 126)   \n",
      "----------------------------------------------------------------------\n",
      "Mutation               random_mutation()                  (4, 126)   \n",
      "Mutation Genes: 12\n",
      "Random Mutation Range: (-1.0, 1.0)\n",
      "Mutation by Replacement: False\n",
      "Allow Duplicated Genes: True\n",
      "----------------------------------------------------------------------\n",
      "======================================================================\n",
      "Population Size: (100, 126)\n",
      "Number of Generations: 10\n",
      "Initial Population Range: (-2, 5)\n",
      "Keep Elitism: 1\n",
      "Gene DType: [<class 'float'>, None]\n",
      "Save Best Solutions: True\n",
      "Save Solutions: False\n",
      "======================================================================\n",
      "----------------------------------------------------------------------\n",
      "                           PyGAD Lifecycle                           \n",
      "======================================================================\n",
      "Step                   Handler                            Output Shape\n",
      "======================================================================\n",
      "Fitness Function       _fitness_func()                    (1)        \n",
      "----------------------------------------------------------------------\n",
      "Parent Selection       steady_state_selection()           (4, 126)   \n",
      "Number of Parents: 4\n",
      "----------------------------------------------------------------------\n",
      "Crossover              single_point_crossover()           (4, 126)   \n",
      "----------------------------------------------------------------------\n",
      "Mutation               random_mutation()                  (4, 126)   \n",
      "Mutation Genes: 12\n",
      "Random Mutation Range: (-1.0, 1.0)\n",
      "Mutation by Replacement: False\n",
      "Allow Duplicated Genes: True\n",
      "----------------------------------------------------------------------\n",
      "======================================================================\n",
      "Population Size: (100, 126)\n",
      "Number of Generations: 10\n",
      "Initial Population Range: (-2, 5)\n",
      "Keep Elitism: 1\n",
      "Gene DType: [<class 'float'>, None]\n",
      "Save Best Solutions: True\n",
      "Save Solutions: False\n",
      "======================================================================\n",
      "----------------------------------------------------------------------\n",
      "                           PyGAD Lifecycle                           \n",
      "======================================================================\n",
      "Step                   Handler                            Output Shape\n",
      "======================================================================\n",
      "Fitness Function       _fitness_func()                    (1)        \n",
      "----------------------------------------------------------------------\n",
      "Parent Selection       steady_state_selection()           (4, 126)   \n",
      "Number of Parents: 4\n",
      "----------------------------------------------------------------------\n",
      "Crossover              single_point_crossover()           (4, 126)   \n",
      "----------------------------------------------------------------------\n",
      "Mutation               random_mutation()                  (4, 126)   \n",
      "Mutation Genes: 12\n",
      "Random Mutation Range: (-1.0, 1.0)\n",
      "Mutation by Replacement: False\n",
      "Allow Duplicated Genes: True\n",
      "----------------------------------------------------------------------\n",
      "======================================================================\n",
      "Population Size: (100, 126)\n",
      "Number of Generations: 10\n",
      "Initial Population Range: (-2, 5)\n",
      "Keep Elitism: 1\n",
      "Gene DType: [<class 'float'>, None]\n",
      "Save Best Solutions: True\n",
      "Save Solutions: False\n",
      "======================================================================\n",
      "----------------------------------------------------------------------\n",
      "                           PyGAD Lifecycle                           \n",
      "======================================================================\n",
      "Step                   Handler                            Output Shape\n",
      "======================================================================\n",
      "Fitness Function       _fitness_func()                    (1)        \n",
      "----------------------------------------------------------------------\n",
      "Parent Selection       steady_state_selection()           (4, 126)   \n",
      "Number of Parents: 4\n",
      "----------------------------------------------------------------------\n",
      "Crossover              single_point_crossover()           (4, 126)   \n",
      "----------------------------------------------------------------------\n",
      "Mutation               random_mutation()                  (4, 126)   \n",
      "Mutation Genes: 12\n",
      "Random Mutation Range: (-1.0, 1.0)\n",
      "Mutation by Replacement: False\n",
      "Allow Duplicated Genes: True\n",
      "----------------------------------------------------------------------\n",
      "======================================================================\n",
      "Population Size: (100, 126)\n",
      "Number of Generations: 10\n",
      "Initial Population Range: (-2, 5)\n",
      "Keep Elitism: 1\n",
      "Gene DType: [<class 'float'>, None]\n",
      "Save Best Solutions: True\n",
      "Save Solutions: False\n",
      "======================================================================\n",
      "----------------------------------------------------------------------\n",
      "                           PyGAD Lifecycle                           \n",
      "======================================================================\n",
      "Step                   Handler                            Output Shape\n",
      "======================================================================\n",
      "Fitness Function       _fitness_func()                    (1)        \n",
      "----------------------------------------------------------------------\n",
      "Parent Selection       steady_state_selection()           (4, 126)   \n",
      "Number of Parents: 4\n",
      "----------------------------------------------------------------------\n",
      "Crossover              single_point_crossover()           (4, 126)   \n",
      "----------------------------------------------------------------------\n",
      "Mutation               random_mutation()                  (4, 126)   \n",
      "Mutation Genes: 12\n",
      "Random Mutation Range: (-1.0, 1.0)\n",
      "Mutation by Replacement: False\n",
      "Allow Duplicated Genes: True\n",
      "----------------------------------------------------------------------\n",
      "======================================================================\n",
      "Population Size: (100, 126)\n",
      "Number of Generations: 10\n",
      "Initial Population Range: (-2, 5)\n",
      "Keep Elitism: 1\n",
      "Gene DType: [<class 'float'>, None]\n",
      "Save Best Solutions: True\n",
      "Save Solutions: False\n",
      "======================================================================\n",
      "----------------------------------------------------------------------\n",
      "                           PyGAD Lifecycle                           \n",
      "======================================================================\n",
      "Step                   Handler                            Output Shape\n",
      "======================================================================\n",
      "Fitness Function       _fitness_func()                    (1)        \n",
      "----------------------------------------------------------------------\n",
      "Parent Selection       steady_state_selection()           (4, 126)   \n",
      "Number of Parents: 4\n",
      "----------------------------------------------------------------------\n",
      "Crossover              single_point_crossover()           (4, 126)   \n",
      "----------------------------------------------------------------------\n",
      "Mutation               random_mutation()                  (4, 126)   \n",
      "Mutation Genes: 12\n",
      "Random Mutation Range: (-1.0, 1.0)\n",
      "Mutation by Replacement: False\n",
      "Allow Duplicated Genes: True\n",
      "----------------------------------------------------------------------\n",
      "======================================================================\n",
      "Population Size: (100, 126)\n",
      "Number of Generations: 10\n",
      "Initial Population Range: (-2, 5)\n",
      "Keep Elitism: 1\n",
      "Gene DType: [<class 'float'>, None]\n",
      "Save Best Solutions: True\n",
      "Save Solutions: False\n",
      "======================================================================\n",
      "----------------------------------------------------------------------\n",
      "                           PyGAD Lifecycle                           \n",
      "======================================================================\n",
      "Step                   Handler                            Output Shape\n",
      "======================================================================\n",
      "Fitness Function       _fitness_func()                    (1)        \n",
      "----------------------------------------------------------------------\n",
      "Parent Selection       steady_state_selection()           (4, 126)   \n",
      "Number of Parents: 4\n",
      "----------------------------------------------------------------------\n",
      "Crossover              single_point_crossover()           (4, 126)   \n",
      "----------------------------------------------------------------------\n",
      "Mutation               random_mutation()                  (4, 126)   \n",
      "Mutation Genes: 12\n",
      "Random Mutation Range: (-1.0, 1.0)\n",
      "Mutation by Replacement: False\n",
      "Allow Duplicated Genes: True\n",
      "----------------------------------------------------------------------\n",
      "======================================================================\n",
      "Population Size: (100, 126)\n",
      "Number of Generations: 10\n",
      "Initial Population Range: (-2, 5)\n",
      "Keep Elitism: 1\n",
      "Gene DType: [<class 'float'>, None]\n",
      "Save Best Solutions: True\n",
      "Save Solutions: False\n",
      "======================================================================\n",
      "----------------------------------------------------------------------\n",
      "                           PyGAD Lifecycle                           \n",
      "======================================================================\n",
      "Step                   Handler                            Output Shape\n",
      "======================================================================\n",
      "Fitness Function       _fitness_func()                    (1)        \n",
      "----------------------------------------------------------------------\n",
      "Parent Selection       steady_state_selection()           (4, 126)   \n",
      "Number of Parents: 4\n",
      "----------------------------------------------------------------------\n",
      "Crossover              single_point_crossover()           (4, 126)   \n",
      "----------------------------------------------------------------------\n",
      "Mutation               random_mutation()                  (4, 126)   \n",
      "Mutation Genes: 12\n",
      "Random Mutation Range: (-1.0, 1.0)\n",
      "Mutation by Replacement: False\n",
      "Allow Duplicated Genes: True\n",
      "----------------------------------------------------------------------\n",
      "======================================================================\n",
      "Population Size: (50, 126)\n",
      "Number of Generations: 20\n",
      "Initial Population Range: (-2, 5)\n",
      "Keep Elitism: 1\n",
      "Gene DType: [<class 'float'>, None]\n",
      "Save Best Solutions: True\n",
      "Save Solutions: False\n",
      "======================================================================\n",
      "----------------------------------------------------------------------\n",
      "                           PyGAD Lifecycle                           \n",
      "======================================================================\n",
      "Step                   Handler                            Output Shape\n",
      "======================================================================\n",
      "Fitness Function       _fitness_func()                    (1)        \n",
      "----------------------------------------------------------------------\n",
      "Parent Selection       steady_state_selection()           (4, 126)   \n",
      "Number of Parents: 4\n",
      "----------------------------------------------------------------------\n",
      "Crossover              single_point_crossover()           (4, 126)   \n",
      "----------------------------------------------------------------------\n",
      "Mutation               random_mutation()                  (4, 126)   \n",
      "Mutation Genes: 12\n",
      "Random Mutation Range: (-1.0, 1.0)\n",
      "Mutation by Replacement: False\n",
      "Allow Duplicated Genes: True\n",
      "----------------------------------------------------------------------\n",
      "======================================================================\n",
      "Population Size: (50, 126)\n",
      "Number of Generations: 20\n",
      "Initial Population Range: (-2, 5)\n",
      "Keep Elitism: 1\n",
      "Gene DType: [<class 'float'>, None]\n",
      "Save Best Solutions: True\n",
      "Save Solutions: False\n",
      "======================================================================\n",
      "----------------------------------------------------------------------\n",
      "                           PyGAD Lifecycle                           \n",
      "======================================================================\n",
      "Step                   Handler                            Output Shape\n",
      "======================================================================\n",
      "Fitness Function       _fitness_func()                    (1)        \n",
      "----------------------------------------------------------------------\n",
      "Parent Selection       steady_state_selection()           (4, 126)   \n",
      "Number of Parents: 4\n",
      "----------------------------------------------------------------------\n",
      "Crossover              single_point_crossover()           (4, 126)   \n",
      "----------------------------------------------------------------------\n",
      "Mutation               random_mutation()                  (4, 126)   \n",
      "Mutation Genes: 12\n",
      "Random Mutation Range: (-1.0, 1.0)\n",
      "Mutation by Replacement: False\n",
      "Allow Duplicated Genes: True\n",
      "----------------------------------------------------------------------\n",
      "======================================================================\n",
      "Population Size: (50, 126)\n",
      "Number of Generations: 20\n",
      "Initial Population Range: (-2, 5)\n",
      "Keep Elitism: 1\n",
      "Gene DType: [<class 'float'>, None]\n",
      "Save Best Solutions: True\n",
      "Save Solutions: False\n",
      "======================================================================\n",
      "----------------------------------------------------------------------\n",
      "                           PyGAD Lifecycle                           \n",
      "======================================================================\n",
      "Step                   Handler                            Output Shape\n",
      "======================================================================\n",
      "Fitness Function       _fitness_func()                    (1)        \n",
      "----------------------------------------------------------------------\n",
      "Parent Selection       steady_state_selection()           (4, 126)   \n",
      "Number of Parents: 4\n",
      "----------------------------------------------------------------------\n",
      "Crossover              single_point_crossover()           (4, 126)   \n",
      "----------------------------------------------------------------------\n",
      "Mutation               random_mutation()                  (4, 126)   \n",
      "Mutation Genes: 12\n",
      "Random Mutation Range: (-1.0, 1.0)\n",
      "Mutation by Replacement: False\n",
      "Allow Duplicated Genes: True\n",
      "----------------------------------------------------------------------\n",
      "======================================================================\n",
      "Population Size: (50, 126)\n",
      "Number of Generations: 20\n",
      "Initial Population Range: (-2, 5)\n",
      "Keep Elitism: 1\n",
      "Gene DType: [<class 'float'>, None]\n",
      "Save Best Solutions: True\n",
      "Save Solutions: False\n",
      "======================================================================\n",
      "----------------------------------------------------------------------\n",
      "                           PyGAD Lifecycle                           \n",
      "======================================================================\n",
      "Step                   Handler                            Output Shape\n",
      "======================================================================\n",
      "Fitness Function       _fitness_func()                    (1)        \n",
      "----------------------------------------------------------------------\n",
      "Parent Selection       steady_state_selection()           (4, 126)   \n",
      "Number of Parents: 4\n",
      "----------------------------------------------------------------------\n",
      "Crossover              single_point_crossover()           (4, 126)   \n",
      "----------------------------------------------------------------------\n",
      "Mutation               random_mutation()                  (4, 126)   \n",
      "Mutation Genes: 12\n",
      "Random Mutation Range: (-1.0, 1.0)\n",
      "Mutation by Replacement: False\n",
      "Allow Duplicated Genes: True\n",
      "----------------------------------------------------------------------\n",
      "======================================================================\n",
      "Population Size: (50, 126)\n",
      "Number of Generations: 20\n",
      "Initial Population Range: (-2, 5)\n",
      "Keep Elitism: 1\n",
      "Gene DType: [<class 'float'>, None]\n",
      "Save Best Solutions: True\n",
      "Save Solutions: False\n",
      "======================================================================\n",
      "----------------------------------------------------------------------\n",
      "                           PyGAD Lifecycle                           \n",
      "======================================================================\n",
      "Step                   Handler                            Output Shape\n",
      "======================================================================\n",
      "Fitness Function       _fitness_func()                    (1)        \n",
      "----------------------------------------------------------------------\n",
      "Parent Selection       steady_state_selection()           (4, 126)   \n",
      "Number of Parents: 4\n",
      "----------------------------------------------------------------------\n",
      "Crossover              single_point_crossover()           (4, 126)   \n",
      "----------------------------------------------------------------------\n",
      "Mutation               random_mutation()                  (4, 126)   \n",
      "Mutation Genes: 12\n",
      "Random Mutation Range: (-1.0, 1.0)\n",
      "Mutation by Replacement: False\n",
      "Allow Duplicated Genes: True\n",
      "----------------------------------------------------------------------\n",
      "======================================================================\n",
      "Population Size: (50, 126)\n",
      "Number of Generations: 20\n",
      "Initial Population Range: (-2, 5)\n",
      "Keep Elitism: 1\n",
      "Gene DType: [<class 'float'>, None]\n",
      "Save Best Solutions: True\n",
      "Save Solutions: False\n",
      "======================================================================\n",
      "----------------------------------------------------------------------\n",
      "                           PyGAD Lifecycle                           \n",
      "======================================================================\n",
      "Step                   Handler                            Output Shape\n",
      "======================================================================\n",
      "Fitness Function       _fitness_func()                    (1)        \n",
      "----------------------------------------------------------------------\n",
      "Parent Selection       steady_state_selection()           (4, 126)   \n",
      "Number of Parents: 4\n",
      "----------------------------------------------------------------------\n",
      "Crossover              single_point_crossover()           (4, 126)   \n",
      "----------------------------------------------------------------------\n",
      "Mutation               random_mutation()                  (4, 126)   \n",
      "Mutation Genes: 12\n",
      "Random Mutation Range: (-1.0, 1.0)\n",
      "Mutation by Replacement: False\n",
      "Allow Duplicated Genes: True\n",
      "----------------------------------------------------------------------\n",
      "======================================================================\n",
      "Population Size: (50, 126)\n",
      "Number of Generations: 20\n",
      "Initial Population Range: (-2, 5)\n",
      "Keep Elitism: 1\n",
      "Gene DType: [<class 'float'>, None]\n",
      "Save Best Solutions: True\n",
      "Save Solutions: False\n",
      "======================================================================\n",
      "----------------------------------------------------------------------\n",
      "                           PyGAD Lifecycle                           \n",
      "======================================================================\n",
      "Step                   Handler                            Output Shape\n",
      "======================================================================\n",
      "Fitness Function       _fitness_func()                    (1)        \n",
      "----------------------------------------------------------------------\n",
      "Parent Selection       steady_state_selection()           (4, 126)   \n",
      "Number of Parents: 4\n",
      "----------------------------------------------------------------------\n",
      "Crossover              single_point_crossover()           (4, 126)   \n",
      "----------------------------------------------------------------------\n",
      "Mutation               random_mutation()                  (4, 126)   \n",
      "Mutation Genes: 12\n",
      "Random Mutation Range: (-1.0, 1.0)\n",
      "Mutation by Replacement: False\n",
      "Allow Duplicated Genes: True\n",
      "----------------------------------------------------------------------\n",
      "======================================================================\n",
      "Population Size: (50, 126)\n",
      "Number of Generations: 20\n",
      "Initial Population Range: (-2, 5)\n",
      "Keep Elitism: 1\n",
      "Gene DType: [<class 'float'>, None]\n",
      "Save Best Solutions: True\n",
      "Save Solutions: False\n",
      "======================================================================\n",
      "----------------------------------------------------------------------\n",
      "                           PyGAD Lifecycle                           \n",
      "======================================================================\n",
      "Step                   Handler                            Output Shape\n",
      "======================================================================\n",
      "Fitness Function       _fitness_func()                    (1)        \n",
      "----------------------------------------------------------------------\n",
      "Parent Selection       steady_state_selection()           (4, 126)   \n",
      "Number of Parents: 4\n",
      "----------------------------------------------------------------------\n",
      "Crossover              single_point_crossover()           (4, 126)   \n",
      "----------------------------------------------------------------------\n",
      "Mutation               random_mutation()                  (4, 126)   \n",
      "Mutation Genes: 12\n",
      "Random Mutation Range: (-1.0, 1.0)\n",
      "Mutation by Replacement: False\n",
      "Allow Duplicated Genes: True\n",
      "----------------------------------------------------------------------\n",
      "======================================================================\n",
      "Population Size: (50, 126)\n",
      "Number of Generations: 20\n",
      "Initial Population Range: (-2, 5)\n",
      "Keep Elitism: 1\n",
      "Gene DType: [<class 'float'>, None]\n",
      "Save Best Solutions: True\n",
      "Save Solutions: False\n",
      "======================================================================\n",
      "----------------------------------------------------------------------\n",
      "                           PyGAD Lifecycle                           \n",
      "======================================================================\n",
      "Step                   Handler                            Output Shape\n",
      "======================================================================\n",
      "Fitness Function       _fitness_func()                    (1)        \n",
      "----------------------------------------------------------------------\n",
      "Parent Selection       steady_state_selection()           (4, 126)   \n",
      "Number of Parents: 4\n",
      "----------------------------------------------------------------------\n",
      "Crossover              single_point_crossover()           (4, 126)   \n",
      "----------------------------------------------------------------------\n",
      "Mutation               random_mutation()                  (4, 126)   \n",
      "Mutation Genes: 12\n",
      "Random Mutation Range: (-1.0, 1.0)\n",
      "Mutation by Replacement: False\n",
      "Allow Duplicated Genes: True\n",
      "----------------------------------------------------------------------\n",
      "======================================================================\n",
      "Population Size: (50, 126)\n",
      "Number of Generations: 20\n",
      "Initial Population Range: (-2, 5)\n",
      "Keep Elitism: 1\n",
      "Gene DType: [<class 'float'>, None]\n",
      "Save Best Solutions: True\n",
      "Save Solutions: False\n",
      "======================================================================\n",
      "----------------------------------------------------------------------\n",
      "                           PyGAD Lifecycle                           \n",
      "======================================================================\n",
      "Step                   Handler                            Output Shape\n",
      "======================================================================\n",
      "Fitness Function       _fitness_func()                    (1)        \n",
      "----------------------------------------------------------------------\n",
      "Parent Selection       steady_state_selection()           (4, 126)   \n",
      "Number of Parents: 4\n",
      "----------------------------------------------------------------------\n",
      "Crossover              single_point_crossover()           (4, 126)   \n",
      "----------------------------------------------------------------------\n",
      "Mutation               random_mutation()                  (4, 126)   \n",
      "Mutation Genes: 12\n",
      "Random Mutation Range: (-1.0, 1.0)\n",
      "Mutation by Replacement: False\n",
      "Allow Duplicated Genes: True\n",
      "----------------------------------------------------------------------\n",
      "======================================================================\n",
      "Population Size: (10, 126)\n",
      "Number of Generations: 100\n",
      "Initial Population Range: (-2, 5)\n",
      "Keep Elitism: 1\n",
      "Gene DType: [<class 'float'>, None]\n",
      "Save Best Solutions: True\n",
      "Save Solutions: False\n",
      "======================================================================\n",
      "----------------------------------------------------------------------\n",
      "                           PyGAD Lifecycle                           \n",
      "======================================================================\n",
      "Step                   Handler                            Output Shape\n",
      "======================================================================\n",
      "Fitness Function       _fitness_func()                    (1)        \n",
      "----------------------------------------------------------------------\n",
      "Parent Selection       steady_state_selection()           (4, 126)   \n",
      "Number of Parents: 4\n",
      "----------------------------------------------------------------------\n",
      "Crossover              single_point_crossover()           (4, 126)   \n",
      "----------------------------------------------------------------------\n",
      "Mutation               random_mutation()                  (4, 126)   \n",
      "Mutation Genes: 12\n",
      "Random Mutation Range: (-1.0, 1.0)\n",
      "Mutation by Replacement: False\n",
      "Allow Duplicated Genes: True\n",
      "----------------------------------------------------------------------\n",
      "======================================================================\n",
      "Population Size: (10, 126)\n",
      "Number of Generations: 100\n",
      "Initial Population Range: (-2, 5)\n",
      "Keep Elitism: 1\n",
      "Gene DType: [<class 'float'>, None]\n",
      "Save Best Solutions: True\n",
      "Save Solutions: False\n",
      "======================================================================\n",
      "----------------------------------------------------------------------\n",
      "                           PyGAD Lifecycle                           \n",
      "======================================================================\n",
      "Step                   Handler                            Output Shape\n",
      "======================================================================\n",
      "Fitness Function       _fitness_func()                    (1)        \n",
      "----------------------------------------------------------------------\n",
      "Parent Selection       steady_state_selection()           (4, 126)   \n",
      "Number of Parents: 4\n",
      "----------------------------------------------------------------------\n",
      "Crossover              single_point_crossover()           (4, 126)   \n",
      "----------------------------------------------------------------------\n",
      "Mutation               random_mutation()                  (4, 126)   \n",
      "Mutation Genes: 12\n",
      "Random Mutation Range: (-1.0, 1.0)\n",
      "Mutation by Replacement: False\n",
      "Allow Duplicated Genes: True\n",
      "----------------------------------------------------------------------\n",
      "======================================================================\n",
      "Population Size: (10, 126)\n",
      "Number of Generations: 100\n",
      "Initial Population Range: (-2, 5)\n",
      "Keep Elitism: 1\n",
      "Gene DType: [<class 'float'>, None]\n",
      "Save Best Solutions: True\n",
      "Save Solutions: False\n",
      "======================================================================\n",
      "----------------------------------------------------------------------\n",
      "                           PyGAD Lifecycle                           \n",
      "======================================================================\n",
      "Step                   Handler                            Output Shape\n",
      "======================================================================\n",
      "Fitness Function       _fitness_func()                    (1)        \n",
      "----------------------------------------------------------------------\n",
      "Parent Selection       steady_state_selection()           (4, 126)   \n",
      "Number of Parents: 4\n",
      "----------------------------------------------------------------------\n",
      "Crossover              single_point_crossover()           (4, 126)   \n",
      "----------------------------------------------------------------------\n",
      "Mutation               random_mutation()                  (4, 126)   \n",
      "Mutation Genes: 12\n",
      "Random Mutation Range: (-1.0, 1.0)\n",
      "Mutation by Replacement: False\n",
      "Allow Duplicated Genes: True\n",
      "----------------------------------------------------------------------\n",
      "======================================================================\n",
      "Population Size: (10, 126)\n",
      "Number of Generations: 100\n",
      "Initial Population Range: (-2, 5)\n",
      "Keep Elitism: 1\n",
      "Gene DType: [<class 'float'>, None]\n",
      "Save Best Solutions: True\n",
      "Save Solutions: False\n",
      "======================================================================\n",
      "----------------------------------------------------------------------\n",
      "                           PyGAD Lifecycle                           \n",
      "======================================================================\n",
      "Step                   Handler                            Output Shape\n",
      "======================================================================\n",
      "Fitness Function       _fitness_func()                    (1)        \n",
      "----------------------------------------------------------------------\n",
      "Parent Selection       steady_state_selection()           (4, 126)   \n",
      "Number of Parents: 4\n",
      "----------------------------------------------------------------------\n",
      "Crossover              single_point_crossover()           (4, 126)   \n",
      "----------------------------------------------------------------------\n",
      "Mutation               random_mutation()                  (4, 126)   \n",
      "Mutation Genes: 12\n",
      "Random Mutation Range: (-1.0, 1.0)\n",
      "Mutation by Replacement: False\n",
      "Allow Duplicated Genes: True\n",
      "----------------------------------------------------------------------\n",
      "======================================================================\n",
      "Population Size: (10, 126)\n",
      "Number of Generations: 100\n",
      "Initial Population Range: (-2, 5)\n",
      "Keep Elitism: 1\n",
      "Gene DType: [<class 'float'>, None]\n",
      "Save Best Solutions: True\n",
      "Save Solutions: False\n",
      "======================================================================\n",
      "----------------------------------------------------------------------\n",
      "                           PyGAD Lifecycle                           \n",
      "======================================================================\n",
      "Step                   Handler                            Output Shape\n",
      "======================================================================\n",
      "Fitness Function       _fitness_func()                    (1)        \n",
      "----------------------------------------------------------------------\n",
      "Parent Selection       steady_state_selection()           (4, 126)   \n",
      "Number of Parents: 4\n",
      "----------------------------------------------------------------------\n",
      "Crossover              single_point_crossover()           (4, 126)   \n",
      "----------------------------------------------------------------------\n",
      "Mutation               random_mutation()                  (4, 126)   \n",
      "Mutation Genes: 12\n",
      "Random Mutation Range: (-1.0, 1.0)\n",
      "Mutation by Replacement: False\n",
      "Allow Duplicated Genes: True\n",
      "----------------------------------------------------------------------\n",
      "======================================================================\n",
      "Population Size: (10, 126)\n",
      "Number of Generations: 100\n",
      "Initial Population Range: (-2, 5)\n",
      "Keep Elitism: 1\n",
      "Gene DType: [<class 'float'>, None]\n",
      "Save Best Solutions: True\n",
      "Save Solutions: False\n",
      "======================================================================\n",
      "----------------------------------------------------------------------\n",
      "                           PyGAD Lifecycle                           \n",
      "======================================================================\n",
      "Step                   Handler                            Output Shape\n",
      "======================================================================\n",
      "Fitness Function       _fitness_func()                    (1)        \n",
      "----------------------------------------------------------------------\n",
      "Parent Selection       steady_state_selection()           (4, 126)   \n",
      "Number of Parents: 4\n",
      "----------------------------------------------------------------------\n",
      "Crossover              single_point_crossover()           (4, 126)   \n",
      "----------------------------------------------------------------------\n",
      "Mutation               random_mutation()                  (4, 126)   \n",
      "Mutation Genes: 12\n",
      "Random Mutation Range: (-1.0, 1.0)\n",
      "Mutation by Replacement: False\n",
      "Allow Duplicated Genes: True\n",
      "----------------------------------------------------------------------\n",
      "======================================================================\n",
      "Population Size: (10, 126)\n",
      "Number of Generations: 100\n",
      "Initial Population Range: (-2, 5)\n",
      "Keep Elitism: 1\n",
      "Gene DType: [<class 'float'>, None]\n",
      "Save Best Solutions: True\n",
      "Save Solutions: False\n",
      "======================================================================\n",
      "----------------------------------------------------------------------\n",
      "                           PyGAD Lifecycle                           \n",
      "======================================================================\n",
      "Step                   Handler                            Output Shape\n",
      "======================================================================\n",
      "Fitness Function       _fitness_func()                    (1)        \n",
      "----------------------------------------------------------------------\n",
      "Parent Selection       steady_state_selection()           (4, 126)   \n",
      "Number of Parents: 4\n",
      "----------------------------------------------------------------------\n",
      "Crossover              single_point_crossover()           (4, 126)   \n",
      "----------------------------------------------------------------------\n",
      "Mutation               random_mutation()                  (4, 126)   \n",
      "Mutation Genes: 12\n",
      "Random Mutation Range: (-1.0, 1.0)\n",
      "Mutation by Replacement: False\n",
      "Allow Duplicated Genes: True\n",
      "----------------------------------------------------------------------\n",
      "======================================================================\n",
      "Population Size: (10, 126)\n",
      "Number of Generations: 100\n",
      "Initial Population Range: (-2, 5)\n",
      "Keep Elitism: 1\n",
      "Gene DType: [<class 'float'>, None]\n",
      "Save Best Solutions: True\n",
      "Save Solutions: False\n",
      "======================================================================\n",
      "----------------------------------------------------------------------\n",
      "                           PyGAD Lifecycle                           \n",
      "======================================================================\n",
      "Step                   Handler                            Output Shape\n",
      "======================================================================\n",
      "Fitness Function       _fitness_func()                    (1)        \n",
      "----------------------------------------------------------------------\n",
      "Parent Selection       steady_state_selection()           (4, 126)   \n",
      "Number of Parents: 4\n",
      "----------------------------------------------------------------------\n",
      "Crossover              single_point_crossover()           (4, 126)   \n",
      "----------------------------------------------------------------------\n",
      "Mutation               random_mutation()                  (4, 126)   \n",
      "Mutation Genes: 12\n",
      "Random Mutation Range: (-1.0, 1.0)\n",
      "Mutation by Replacement: False\n",
      "Allow Duplicated Genes: True\n",
      "----------------------------------------------------------------------\n",
      "======================================================================\n",
      "Population Size: (10, 126)\n",
      "Number of Generations: 100\n",
      "Initial Population Range: (-2, 5)\n",
      "Keep Elitism: 1\n",
      "Gene DType: [<class 'float'>, None]\n",
      "Save Best Solutions: True\n",
      "Save Solutions: False\n",
      "======================================================================\n",
      "----------------------------------------------------------------------\n",
      "                           PyGAD Lifecycle                           \n",
      "======================================================================\n",
      "Step                   Handler                            Output Shape\n",
      "======================================================================\n",
      "Fitness Function       _fitness_func()                    (1)        \n",
      "----------------------------------------------------------------------\n",
      "Parent Selection       steady_state_selection()           (4, 126)   \n",
      "Number of Parents: 4\n",
      "----------------------------------------------------------------------\n",
      "Crossover              single_point_crossover()           (4, 126)   \n",
      "----------------------------------------------------------------------\n",
      "Mutation               random_mutation()                  (4, 126)   \n",
      "Mutation Genes: 12\n",
      "Random Mutation Range: (-1.0, 1.0)\n",
      "Mutation by Replacement: False\n",
      "Allow Duplicated Genes: True\n",
      "----------------------------------------------------------------------\n",
      "======================================================================\n",
      "Population Size: (10, 126)\n",
      "Number of Generations: 100\n",
      "Initial Population Range: (-2, 5)\n",
      "Keep Elitism: 1\n",
      "Gene DType: [<class 'float'>, None]\n",
      "Save Best Solutions: True\n",
      "Save Solutions: False\n",
      "======================================================================\n"
     ]
    }
   ],
   "source": [
    "cheetah_lab = ClassicNNCheetahLab([17, 5, 6], actv_func[\"tanh\"])\n",
    "\n",
    "popgen = [\n",
    "    (100,   10),\n",
    "    ( 50,   20),\n",
    "    ( 10,  100),\n",
    "]\n",
    "\n",
    "solutions_gen, fitness_gen = generation_heatmap(popgen, cheetah_lab, steps=250, iterations=10)\n",
    "\n",
    "para_name = \"popgen_NN17-5-6_pg100-10_50-20_10-100_tanh_steps250\"\n",
    "with open(para_name+'.pkl','wb') as f:\n",
    "    pickle.dump((solutions_gen, fitness_gen), f)"
   ]
  },
  {
   "cell_type": "code",
   "execution_count": 27,
   "metadata": {},
   "outputs": [
    {
     "data": {
      "application/vnd.plotly.v1+json": {
       "config": {
        "plotlyServerURL": "https://plot.ly"
       },
       "data": [
        {
         "alignmentgroup": "True",
         "boxpoints": "all",
         "hovertemplate": "popgen=%{x}<br>fitness=%{y}<extra></extra>",
         "legendgroup": "",
         "marker": {
          "color": "#636efa"
         },
         "name": "",
         "notched": false,
         "offsetgroup": "",
         "orientation": "v",
         "showlegend": false,
         "type": "box",
         "x": [
          "(100, 10)",
          "(100, 10)",
          "(100, 10)",
          "(100, 10)",
          "(100, 10)",
          "(100, 10)",
          "(100, 10)",
          "(100, 10)",
          "(100, 10)",
          "(100, 10)",
          "(50, 20)",
          "(50, 20)",
          "(50, 20)",
          "(50, 20)",
          "(50, 20)",
          "(50, 20)",
          "(50, 20)",
          "(50, 20)",
          "(50, 20)",
          "(50, 20)",
          "(10, 100)",
          "(10, 100)",
          "(10, 100)",
          "(10, 100)",
          "(10, 100)",
          "(10, 100)",
          "(10, 100)",
          "(10, 100)",
          "(10, 100)",
          "(10, 100)"
         ],
         "x0": " ",
         "xaxis": "x",
         "y": [
          1809.4941954739927,
          1359.7847650235974,
          1578.725979272867,
          971.4196063377757,
          2249.343109397522,
          822.8569062105107,
          838.8536801365842,
          1518.5450039196744,
          1681.8351076252734,
          2060.0873521091976,
          1444.487450729232,
          1661.8246835209147,
          2371.2451908868834,
          2904.676320431307,
          1144.8009133491807,
          1443.2801393325688,
          2624.0998790195035,
          1588.341397557118,
          1879.8068031461846,
          1343.7416440916375,
          781.1734693594904,
          2052.7535467668276,
          1877.3720854126916,
          1331.862676656782,
          1943.80159749916,
          1411.7969632357258,
          1144.0723990053693,
          1592.315504964628,
          889.8423742085507,
          2225.0637180215267
         ],
         "y0": " ",
         "yaxis": "y"
        }
       ],
       "layout": {
        "boxmode": "group",
        "legend": {
         "tracegroupgap": 0
        },
        "template": {
         "data": {
          "bar": [
           {
            "error_x": {
             "color": "#2a3f5f"
            },
            "error_y": {
             "color": "#2a3f5f"
            },
            "marker": {
             "line": {
              "color": "#E5ECF6",
              "width": 0.5
             },
             "pattern": {
              "fillmode": "overlay",
              "size": 10,
              "solidity": 0.2
             }
            },
            "type": "bar"
           }
          ],
          "barpolar": [
           {
            "marker": {
             "line": {
              "color": "#E5ECF6",
              "width": 0.5
             },
             "pattern": {
              "fillmode": "overlay",
              "size": 10,
              "solidity": 0.2
             }
            },
            "type": "barpolar"
           }
          ],
          "carpet": [
           {
            "aaxis": {
             "endlinecolor": "#2a3f5f",
             "gridcolor": "white",
             "linecolor": "white",
             "minorgridcolor": "white",
             "startlinecolor": "#2a3f5f"
            },
            "baxis": {
             "endlinecolor": "#2a3f5f",
             "gridcolor": "white",
             "linecolor": "white",
             "minorgridcolor": "white",
             "startlinecolor": "#2a3f5f"
            },
            "type": "carpet"
           }
          ],
          "choropleth": [
           {
            "colorbar": {
             "outlinewidth": 0,
             "ticks": ""
            },
            "type": "choropleth"
           }
          ],
          "contour": [
           {
            "colorbar": {
             "outlinewidth": 0,
             "ticks": ""
            },
            "colorscale": [
             [
              0,
              "#0d0887"
             ],
             [
              0.1111111111111111,
              "#46039f"
             ],
             [
              0.2222222222222222,
              "#7201a8"
             ],
             [
              0.3333333333333333,
              "#9c179e"
             ],
             [
              0.4444444444444444,
              "#bd3786"
             ],
             [
              0.5555555555555556,
              "#d8576b"
             ],
             [
              0.6666666666666666,
              "#ed7953"
             ],
             [
              0.7777777777777778,
              "#fb9f3a"
             ],
             [
              0.8888888888888888,
              "#fdca26"
             ],
             [
              1,
              "#f0f921"
             ]
            ],
            "type": "contour"
           }
          ],
          "contourcarpet": [
           {
            "colorbar": {
             "outlinewidth": 0,
             "ticks": ""
            },
            "type": "contourcarpet"
           }
          ],
          "heatmap": [
           {
            "colorbar": {
             "outlinewidth": 0,
             "ticks": ""
            },
            "colorscale": [
             [
              0,
              "#0d0887"
             ],
             [
              0.1111111111111111,
              "#46039f"
             ],
             [
              0.2222222222222222,
              "#7201a8"
             ],
             [
              0.3333333333333333,
              "#9c179e"
             ],
             [
              0.4444444444444444,
              "#bd3786"
             ],
             [
              0.5555555555555556,
              "#d8576b"
             ],
             [
              0.6666666666666666,
              "#ed7953"
             ],
             [
              0.7777777777777778,
              "#fb9f3a"
             ],
             [
              0.8888888888888888,
              "#fdca26"
             ],
             [
              1,
              "#f0f921"
             ]
            ],
            "type": "heatmap"
           }
          ],
          "heatmapgl": [
           {
            "colorbar": {
             "outlinewidth": 0,
             "ticks": ""
            },
            "colorscale": [
             [
              0,
              "#0d0887"
             ],
             [
              0.1111111111111111,
              "#46039f"
             ],
             [
              0.2222222222222222,
              "#7201a8"
             ],
             [
              0.3333333333333333,
              "#9c179e"
             ],
             [
              0.4444444444444444,
              "#bd3786"
             ],
             [
              0.5555555555555556,
              "#d8576b"
             ],
             [
              0.6666666666666666,
              "#ed7953"
             ],
             [
              0.7777777777777778,
              "#fb9f3a"
             ],
             [
              0.8888888888888888,
              "#fdca26"
             ],
             [
              1,
              "#f0f921"
             ]
            ],
            "type": "heatmapgl"
           }
          ],
          "histogram": [
           {
            "marker": {
             "pattern": {
              "fillmode": "overlay",
              "size": 10,
              "solidity": 0.2
             }
            },
            "type": "histogram"
           }
          ],
          "histogram2d": [
           {
            "colorbar": {
             "outlinewidth": 0,
             "ticks": ""
            },
            "colorscale": [
             [
              0,
              "#0d0887"
             ],
             [
              0.1111111111111111,
              "#46039f"
             ],
             [
              0.2222222222222222,
              "#7201a8"
             ],
             [
              0.3333333333333333,
              "#9c179e"
             ],
             [
              0.4444444444444444,
              "#bd3786"
             ],
             [
              0.5555555555555556,
              "#d8576b"
             ],
             [
              0.6666666666666666,
              "#ed7953"
             ],
             [
              0.7777777777777778,
              "#fb9f3a"
             ],
             [
              0.8888888888888888,
              "#fdca26"
             ],
             [
              1,
              "#f0f921"
             ]
            ],
            "type": "histogram2d"
           }
          ],
          "histogram2dcontour": [
           {
            "colorbar": {
             "outlinewidth": 0,
             "ticks": ""
            },
            "colorscale": [
             [
              0,
              "#0d0887"
             ],
             [
              0.1111111111111111,
              "#46039f"
             ],
             [
              0.2222222222222222,
              "#7201a8"
             ],
             [
              0.3333333333333333,
              "#9c179e"
             ],
             [
              0.4444444444444444,
              "#bd3786"
             ],
             [
              0.5555555555555556,
              "#d8576b"
             ],
             [
              0.6666666666666666,
              "#ed7953"
             ],
             [
              0.7777777777777778,
              "#fb9f3a"
             ],
             [
              0.8888888888888888,
              "#fdca26"
             ],
             [
              1,
              "#f0f921"
             ]
            ],
            "type": "histogram2dcontour"
           }
          ],
          "mesh3d": [
           {
            "colorbar": {
             "outlinewidth": 0,
             "ticks": ""
            },
            "type": "mesh3d"
           }
          ],
          "parcoords": [
           {
            "line": {
             "colorbar": {
              "outlinewidth": 0,
              "ticks": ""
             }
            },
            "type": "parcoords"
           }
          ],
          "pie": [
           {
            "automargin": true,
            "type": "pie"
           }
          ],
          "scatter": [
           {
            "fillpattern": {
             "fillmode": "overlay",
             "size": 10,
             "solidity": 0.2
            },
            "type": "scatter"
           }
          ],
          "scatter3d": [
           {
            "line": {
             "colorbar": {
              "outlinewidth": 0,
              "ticks": ""
             }
            },
            "marker": {
             "colorbar": {
              "outlinewidth": 0,
              "ticks": ""
             }
            },
            "type": "scatter3d"
           }
          ],
          "scattercarpet": [
           {
            "marker": {
             "colorbar": {
              "outlinewidth": 0,
              "ticks": ""
             }
            },
            "type": "scattercarpet"
           }
          ],
          "scattergeo": [
           {
            "marker": {
             "colorbar": {
              "outlinewidth": 0,
              "ticks": ""
             }
            },
            "type": "scattergeo"
           }
          ],
          "scattergl": [
           {
            "marker": {
             "colorbar": {
              "outlinewidth": 0,
              "ticks": ""
             }
            },
            "type": "scattergl"
           }
          ],
          "scattermapbox": [
           {
            "marker": {
             "colorbar": {
              "outlinewidth": 0,
              "ticks": ""
             }
            },
            "type": "scattermapbox"
           }
          ],
          "scatterpolar": [
           {
            "marker": {
             "colorbar": {
              "outlinewidth": 0,
              "ticks": ""
             }
            },
            "type": "scatterpolar"
           }
          ],
          "scatterpolargl": [
           {
            "marker": {
             "colorbar": {
              "outlinewidth": 0,
              "ticks": ""
             }
            },
            "type": "scatterpolargl"
           }
          ],
          "scatterternary": [
           {
            "marker": {
             "colorbar": {
              "outlinewidth": 0,
              "ticks": ""
             }
            },
            "type": "scatterternary"
           }
          ],
          "surface": [
           {
            "colorbar": {
             "outlinewidth": 0,
             "ticks": ""
            },
            "colorscale": [
             [
              0,
              "#0d0887"
             ],
             [
              0.1111111111111111,
              "#46039f"
             ],
             [
              0.2222222222222222,
              "#7201a8"
             ],
             [
              0.3333333333333333,
              "#9c179e"
             ],
             [
              0.4444444444444444,
              "#bd3786"
             ],
             [
              0.5555555555555556,
              "#d8576b"
             ],
             [
              0.6666666666666666,
              "#ed7953"
             ],
             [
              0.7777777777777778,
              "#fb9f3a"
             ],
             [
              0.8888888888888888,
              "#fdca26"
             ],
             [
              1,
              "#f0f921"
             ]
            ],
            "type": "surface"
           }
          ],
          "table": [
           {
            "cells": {
             "fill": {
              "color": "#EBF0F8"
             },
             "line": {
              "color": "white"
             }
            },
            "header": {
             "fill": {
              "color": "#C8D4E3"
             },
             "line": {
              "color": "white"
             }
            },
            "type": "table"
           }
          ]
         },
         "layout": {
          "annotationdefaults": {
           "arrowcolor": "#2a3f5f",
           "arrowhead": 0,
           "arrowwidth": 1
          },
          "autotypenumbers": "strict",
          "coloraxis": {
           "colorbar": {
            "outlinewidth": 0,
            "ticks": ""
           }
          },
          "colorscale": {
           "diverging": [
            [
             0,
             "#8e0152"
            ],
            [
             0.1,
             "#c51b7d"
            ],
            [
             0.2,
             "#de77ae"
            ],
            [
             0.3,
             "#f1b6da"
            ],
            [
             0.4,
             "#fde0ef"
            ],
            [
             0.5,
             "#f7f7f7"
            ],
            [
             0.6,
             "#e6f5d0"
            ],
            [
             0.7,
             "#b8e186"
            ],
            [
             0.8,
             "#7fbc41"
            ],
            [
             0.9,
             "#4d9221"
            ],
            [
             1,
             "#276419"
            ]
           ],
           "sequential": [
            [
             0,
             "#0d0887"
            ],
            [
             0.1111111111111111,
             "#46039f"
            ],
            [
             0.2222222222222222,
             "#7201a8"
            ],
            [
             0.3333333333333333,
             "#9c179e"
            ],
            [
             0.4444444444444444,
             "#bd3786"
            ],
            [
             0.5555555555555556,
             "#d8576b"
            ],
            [
             0.6666666666666666,
             "#ed7953"
            ],
            [
             0.7777777777777778,
             "#fb9f3a"
            ],
            [
             0.8888888888888888,
             "#fdca26"
            ],
            [
             1,
             "#f0f921"
            ]
           ],
           "sequentialminus": [
            [
             0,
             "#0d0887"
            ],
            [
             0.1111111111111111,
             "#46039f"
            ],
            [
             0.2222222222222222,
             "#7201a8"
            ],
            [
             0.3333333333333333,
             "#9c179e"
            ],
            [
             0.4444444444444444,
             "#bd3786"
            ],
            [
             0.5555555555555556,
             "#d8576b"
            ],
            [
             0.6666666666666666,
             "#ed7953"
            ],
            [
             0.7777777777777778,
             "#fb9f3a"
            ],
            [
             0.8888888888888888,
             "#fdca26"
            ],
            [
             1,
             "#f0f921"
            ]
           ]
          },
          "colorway": [
           "#636efa",
           "#EF553B",
           "#00cc96",
           "#ab63fa",
           "#FFA15A",
           "#19d3f3",
           "#FF6692",
           "#B6E880",
           "#FF97FF",
           "#FECB52"
          ],
          "font": {
           "color": "#2a3f5f"
          },
          "geo": {
           "bgcolor": "white",
           "lakecolor": "white",
           "landcolor": "#E5ECF6",
           "showlakes": true,
           "showland": true,
           "subunitcolor": "white"
          },
          "hoverlabel": {
           "align": "left"
          },
          "hovermode": "closest",
          "mapbox": {
           "style": "light"
          },
          "paper_bgcolor": "white",
          "plot_bgcolor": "#E5ECF6",
          "polar": {
           "angularaxis": {
            "gridcolor": "white",
            "linecolor": "white",
            "ticks": ""
           },
           "bgcolor": "#E5ECF6",
           "radialaxis": {
            "gridcolor": "white",
            "linecolor": "white",
            "ticks": ""
           }
          },
          "scene": {
           "xaxis": {
            "backgroundcolor": "#E5ECF6",
            "gridcolor": "white",
            "gridwidth": 2,
            "linecolor": "white",
            "showbackground": true,
            "ticks": "",
            "zerolinecolor": "white"
           },
           "yaxis": {
            "backgroundcolor": "#E5ECF6",
            "gridcolor": "white",
            "gridwidth": 2,
            "linecolor": "white",
            "showbackground": true,
            "ticks": "",
            "zerolinecolor": "white"
           },
           "zaxis": {
            "backgroundcolor": "#E5ECF6",
            "gridcolor": "white",
            "gridwidth": 2,
            "linecolor": "white",
            "showbackground": true,
            "ticks": "",
            "zerolinecolor": "white"
           }
          },
          "shapedefaults": {
           "line": {
            "color": "#2a3f5f"
           }
          },
          "ternary": {
           "aaxis": {
            "gridcolor": "white",
            "linecolor": "white",
            "ticks": ""
           },
           "baxis": {
            "gridcolor": "white",
            "linecolor": "white",
            "ticks": ""
           },
           "bgcolor": "#E5ECF6",
           "caxis": {
            "gridcolor": "white",
            "linecolor": "white",
            "ticks": ""
           }
          },
          "title": {
           "x": 0.05
          },
          "xaxis": {
           "automargin": true,
           "gridcolor": "white",
           "linecolor": "white",
           "ticks": "",
           "title": {
            "standoff": 15
           },
           "zerolinecolor": "white",
           "zerolinewidth": 2
          },
          "yaxis": {
           "automargin": true,
           "gridcolor": "white",
           "linecolor": "white",
           "ticks": "",
           "title": {
            "standoff": 15
           },
           "zerolinecolor": "white",
           "zerolinewidth": 2
          }
         }
        },
        "title": {
         "text": "Fitness dispersion based on population-size and number of genearation ratio"
        },
        "xaxis": {
         "anchor": "y",
         "domain": [
          0,
          1
         ],
         "title": {
          "text": "popgen"
         }
        },
        "yaxis": {
         "anchor": "x",
         "domain": [
          0,
          1
         ],
         "title": {
          "text": "fitness"
         }
        }
       }
      }
     },
     "metadata": {},
     "output_type": "display_data"
    }
   ],
   "source": [
    "predf = list()\n",
    "\n",
    "for s, fits in zip(popgen, fitness_gen):\n",
    "    \n",
    "    predf += [(s[0], s[1], \"({}, {})\".format(*s), fit) for fit in fits]\n",
    "\n",
    "df = pd.DataFrame(predf, columns=(\"population\", \"generation\", \"popgen\", \"fitness\"))\n",
    "\n",
    "fig = px.box(df, y=\"fitness\", x=\"popgen\", points=\"all\", orientation='v',\n",
    "             title=\"Fitness dispersion based on population-size and number of genearation ratio\".format(label, width[0] if use_depth else depth))\n",
    "fig.show()"
   ]
  },
  {
   "cell_type": "code",
   "execution_count": null,
   "metadata": {},
   "outputs": [],
   "source": []
  }
 ],
 "metadata": {
  "kernelspec": {
   "display_name": "Python 3",
   "language": "python",
   "name": "python3"
  },
  "language_info": {
   "codemirror_mode": {
    "name": "ipython",
    "version": 3
   },
   "file_extension": ".py",
   "mimetype": "text/x-python",
   "name": "python",
   "nbconvert_exporter": "python",
   "pygments_lexer": "ipython3",
   "version": "3.10.2"
  }
 },
 "nbformat": 4,
 "nbformat_minor": 0
}
